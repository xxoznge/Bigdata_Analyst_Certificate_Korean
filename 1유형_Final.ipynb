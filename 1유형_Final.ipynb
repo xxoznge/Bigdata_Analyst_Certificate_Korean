{
  "nbformat": 4,
  "nbformat_minor": 0,
  "metadata": {
    "colab": {
      "provenance": [],
      "authorship_tag": "ABX9TyOsmfnhWKXIORezcaIlCVHw",
      "include_colab_link": true
    },
    "kernelspec": {
      "name": "python3",
      "display_name": "Python 3"
    },
    "language_info": {
      "name": "python"
    }
  },
  "cells": [
    {
      "cell_type": "markdown",
      "metadata": {
        "id": "view-in-github",
        "colab_type": "text"
      },
      "source": [
        "<a href=\"https://colab.research.google.com/github/xxoznge/Bigdata_Analyst_Certificate_Korean/blob/main/1%EC%9C%A0%ED%98%95_Final.ipynb\" target=\"_parent\"><img src=\"https://colab.research.google.com/assets/colab-badge.svg\" alt=\"Open In Colab\"/></a>"
      ]
    },
    {
      "cell_type": "code",
      "source": [
        "# Min-max 정규화 : (데이터 - min(데이터)) / (max(데이터)-min(데이터))\n",
        "# z-점수 표준화 : (데이터 - 데이터.mean()) / 데이터.std()\n",
        "# 비닝 : pd.cut(데이터, bins=[])\n",
        "# 데이터 분리 : df.iloc[:?]\n",
        "# 누적합 : cumsum()\n",
        "\n",
        "# 시계열 데이터\n",
        "df['year'] = df['Date'].dt.year\n",
        "df['month'] = df['Date'].dt.month\n",
        "df['day'] = df['Date'].dt.day\n",
        "\n",
        "# 데이터 결합(b1을 기준으로 결합)\n",
        "df = pd.merge(left = b1 , right = b3, how = \"left\", on = \"f4\")\n",
        "\n",
        "#1일 차이가 나는 시차 특성 만들기\n",
        "df['previous_PV'] = df['PV'].shift(1)"
      ],
      "metadata": {
        "id": "BvysPJc9zM-D"
      },
      "execution_count": null,
      "outputs": []
    },
    {
      "cell_type": "code",
      "execution_count": 3,
      "metadata": {
        "colab": {
          "base_uri": "https://localhost:8080/"
        },
        "id": "YmB1CosBlLnm",
        "outputId": "9c695989-d401-481a-f7fd-1cd12cef3b7d"
      },
      "outputs": [
        {
          "output_type": "stream",
          "name": "stdout",
          "text": [
            "0.4845\n"
          ]
        }
      ],
      "source": [
        "# 연습문제 1\n",
        "\n",
        "# 데이터셋의 Wheelbase 컬럼에 대해서\n",
        "# 평균 값에서 표준편차의 1.5배, 2배, 2.5배를 더하거나 뺀 값들의\n",
        "# 구간 내의 데이터들의 평균을 각각 구한 후\n",
        "# 원래의 데이터 평균에서 뺐을 때 차이들의 합을 출력하여라.\n",
        "# (단, 소수점 다섯째 자리에서 반올림하여 표현할 것)\n",
        "\n",
        "import pandas as pd\n",
        "df = pd.read_csv('Cars93.csv')\n",
        "\n",
        "Wheelbase = df['Wheelbase']\n",
        "avg = Wheelbase.mean()\n",
        "sd = Wheelbase.std()\n",
        "\n",
        "low1 = avg - 1.5 * sd\n",
        "high1 = avg + 1.5 * sd\n",
        "\n",
        "low2 = avg - 2 * sd\n",
        "high2 = avg + 2 * sd\n",
        "\n",
        "low3 = avg - 2.5 * sd\n",
        "high3 = avg + 2.5 * sd\n",
        "\n",
        "a1 = Wheelbase[(Wheelbase > low1)&(Wheelbase<high1)].mean()\n",
        "a2 = Wheelbase[(Wheelbase > low2)&(Wheelbase<high2)].mean()\n",
        "a3 = Wheelbase[(Wheelbase > low3)&(Wheelbase<high3)].mean()\n",
        "\n",
        "result = (avg-a1) + (avg-a2) + (avg-a3)\n",
        "print(round(result,4))"
      ]
    },
    {
      "cell_type": "code",
      "source": [
        "# 연습문제 2\n",
        "\n",
        "# Length 컬럼에 대해서 순위를 부여한 후\n",
        "# 1위부터 30위까지 값들의 표준 편차를 구하고\n",
        "# 소수점 셋째 자리까지 반올림하여 나타내어라\n",
        "# 단, 동점은 동일한 순위를 부여하되 평균내어 등수를 산정하며 최솟값을 1위로 함\n",
        "\n",
        "import pandas as pd\n",
        "df = pd.read_csv('Cars93.csv')\n",
        "\n",
        "rank = df['Length'].rank(method='average')\n",
        "sd = df['Length'][rank<=30].std()\n",
        "print(round(sd,3))"
      ],
      "metadata": {
        "colab": {
          "base_uri": "https://localhost:8080/"
        },
        "id": "d5u9RgbUtSDk",
        "outputId": "02d0bd9e-9e26-4cfe-d757-fd5697439e59"
      },
      "execution_count": 8,
      "outputs": [
        {
          "output_type": "stream",
          "name": "stdout",
          "text": [
            "8.884\n"
          ]
        }
      ]
    },
    {
      "cell_type": "code",
      "source": [
        "# 연습문제 3\n",
        "\n",
        "# 데이터셋의 Max_Price 컬럼에 대해서 각각 정렬한 후\n",
        "# 정렬된 순서에 따라 레코드별로 Max_Price 와 Min_Price 의 차이를 산출하고 차이값에 대해 표준편차를 구하여라\n",
        "# 단, Max_Price의 정렬은 내림차순, Min_Price의 정렬은 오름차순\n",
        "# 출력시 표준 편차는 소수점 넷째 자리에서 반올림하여 표현할 것\n",
        "\n",
        "import pandas as pd\n",
        "df = pd.read_csv('Cars93.csv')\n",
        "\n",
        "Max_Price = df['Max_Price'].sort_values(ascending=False, ignore_index=True)\n",
        "Min_Price = df['Min_Price'].sort_values(ignore_index=True)\n",
        "\n",
        "diff = Max_Price - Min_Price\n",
        "sd = diff.std()\n",
        "\n",
        "print(round(sd,3))"
      ],
      "metadata": {
        "colab": {
          "base_uri": "https://localhost:8080/"
        },
        "id": "7k_1UGR8tSIT",
        "outputId": "dc460cc7-b289-4bbe-f2d5-1b45ee9b8f66"
      },
      "execution_count": 11,
      "outputs": [
        {
          "output_type": "stream",
          "name": "stdout",
          "text": [
            "18.584\n"
          ]
        }
      ]
    },
    {
      "cell_type": "code",
      "source": [
        "# 연습문제 4\n",
        "\n",
        "# Weight 컬럼을 Min-Max 정규화로 변환한 후,\n",
        "# 0.5보다 작은 값들의 분산과 0.5보다 큰 값들의 분산의 차이를 구하여라\n",
        "# 단, 차이는 큰 값에서 작은 값을 빼서 구하며,\n",
        "# 소수점 넷째 자리에서 반올림하여 표현할 것\n",
        "\n",
        "import pandas as pd\n",
        "df = pd.read_csv('Cars93.csv')\n",
        "\n",
        "Weight = df['Weight']\n",
        "a = (Weight - min(Weight)) / (max(Weight) - min(Weight))\n",
        "\n",
        "var1 = a[a < 0.5].var()\n",
        "var2 = a[a > 0.5].var()\n",
        "\n",
        "result = abs(var1 - var2)\n",
        "print(round(result,3))"
      ],
      "metadata": {
        "colab": {
          "base_uri": "https://localhost:8080/"
        },
        "id": "DkVIJyXUtSK_",
        "outputId": "8ad00e08-9316-4872-eda9-a1ad895f7640"
      },
      "execution_count": 16,
      "outputs": [
        {
          "output_type": "stream",
          "name": "stdout",
          "text": [
            "0.001\n"
          ]
        }
      ]
    },
    {
      "cell_type": "code",
      "source": [
        "# 연습문제 5\n",
        "\n",
        "# Manufacturer, Origin 컬럼의 유일값 조합의 수와\n",
        "# Manufacturer 컬럼의 앞 두글자만 추출한 결과와\n",
        "# Origin 컬럼과의 유일값 조합 수의 차이를 구하여라.\n",
        "# 단, 원래 유일값 조합 수에서 추출 이후 수를 뺄 것\n",
        "\n",
        "import pandas as pd\n",
        "df = pd.read_csv('Cars93.csv')\n",
        "\n",
        "uniq = df[['Manufacturer','Origin']].drop_duplicates()\n",
        "num = uniq.shape[0]\n",
        "\n",
        "df['m'] = df['Manufacturer'].str[:2]\n",
        "\n",
        "uniq2 = df[['m','Origin']].drop_duplicates()\n",
        "num2 = uniq2.shape[0]\n",
        "\n",
        "diff = num - num2\n",
        "print(diff)"
      ],
      "metadata": {
        "colab": {
          "base_uri": "https://localhost:8080/"
        },
        "id": "yUzWxdR5tSNs",
        "outputId": "41792e77-a191-41b6-ae57-971cc09b23bb"
      },
      "execution_count": 20,
      "outputs": [
        {
          "output_type": "stream",
          "name": "stdout",
          "text": [
            "4\n"
          ]
        }
      ]
    },
    {
      "cell_type": "code",
      "source": [
        "# 연습문제 6\n",
        "\n",
        "# Type, Man_trans_avail에 대한 그룹별 RPM 레코드 수와\n",
        "# RPM 합계, 중앙값을 모두 구한 후,\n",
        "# 그룹별 중앙값에서 그룹별 합계에서 레코드 수를 나눈 값들을 빼서\n",
        "# 나온 결과의 총 원소 합을 구하여라\n",
        "# 단, 출력 시 소수점은 첫째 자리에서 반올림하여 표현할 것\n",
        "\n",
        "import pandas as pd\n",
        "df = pd.read_csv('Cars93.csv')\n",
        "\n",
        "num = df.groupby(['Type','Man_trans_avail']).RPM.count()\n",
        "sum = df.groupby(['Type','Man_trans_avail']).RPM.sum()\n",
        "median = df.groupby(['Type','Man_trans_avail']).RPM.median()\n",
        "\n",
        "diff = median - (sum/num)\n",
        "result = diff.sum()\n",
        "print(round(result,0))"
      ],
      "metadata": {
        "colab": {
          "base_uri": "https://localhost:8080/"
        },
        "id": "gA9uCns6tSQ7",
        "outputId": "cc5deeed-98d6-45b6-ec91-985598345139"
      },
      "execution_count": 21,
      "outputs": [
        {
          "output_type": "stream",
          "name": "stdout",
          "text": [
            "442.0\n"
          ]
        }
      ]
    },
    {
      "cell_type": "code",
      "source": [
        "# 연습문제 7\n",
        "\n",
        "# RPM 컬럼의 결측치를 평균으로 대체하고\n",
        "# RPM와 Wheelbase 컬럼을 각각 z-점수 표준화한 후\n",
        "# 표준화된 Wheelbase에 상수 -36을 곱한 값과\n",
        "# 표준화된 RPM 컬럼의 차이값을 구하고 표준편차를 산출하여라\n",
        "# 단, 소수점 셋째 자리까지 반올림하여 표현할 것\n",
        "\n",
        "import pandas as pd\n",
        "df = pd.read_csv('Cars93.csv')\n",
        "\n",
        "avg = df['RPM'].mean()\n",
        "df['RPM'] = df['RPM'].fillna(avg)\n",
        "\n",
        "RPM_z = (df['RPM'] - df['RPM'].mean()) / df['RPM'].std()\n",
        "Wheelbase_z = (df['Wheelbase'] - df['Wheelbase'].mean()) / df['Wheelbase'].std()\n",
        "\n",
        "diff = (Wheelbase_z*(-36)) - (RPM_z)\n",
        "sd = diff.std()\n",
        "\n",
        "print(round(sd,3))"
      ],
      "metadata": {
        "colab": {
          "base_uri": "https://localhost:8080/"
        },
        "id": "G9rhDIIctdwn",
        "outputId": "c5f4bca0-b4d8-4f53-8a8c-0a9e66ad064a"
      },
      "execution_count": 22,
      "outputs": [
        {
          "output_type": "stream",
          "name": "stdout",
          "text": [
            "35.561\n"
          ]
        }
      ]
    },
    {
      "cell_type": "code",
      "source": [
        "# 연습문제 8\n",
        "\n",
        "# Price 컬럼의 결측치를 평균으로 대체하고\n",
        "# Max_Price 변수와 Min_Price의 평균보다 작은 레코드만을 추출해\n",
        "# 산출된 Origin 그룹별 Price의 합계를 구하고\n",
        "# 다음으로 Price 컬럼의 결측치를 중앙값으로 대체하고\n",
        "# Price 컬럼이 Min_Price 컬럼의 제 3사분위수보다 작은 레코드만을 추출해\n",
        "# 산출된 Origin별 Price의 합계를 Origin 그룹별로 합한 후 큰 값을 출력하여라.\n",
        "# 단, 소수점 이하는 모두 절삭하여 정수로 표현할 것\n",
        "\n",
        "import pandas as pd\n",
        "df = pd.read_csv('Cars93.csv')\n",
        "\n",
        "df1 = df.copy()\n",
        "df2 = df.copy()\n",
        "\n",
        "avg = df1['Price'].mean()\n",
        "df1['Price'] = df1['Price'].fillna(avg)\n",
        "\n",
        "MinMax_avg = df1[['Max_Price','Min_Price']].mean(axis=1)\n",
        "under_avg = df1[df1['Price'] < MinMax_avg]\n",
        "\n",
        "s = under_avg.groupby('Origin').Price.sum()\n",
        "\n",
        "medi = df2['Price'].median()\n",
        "df2['Price'] = df2['Price'].fillna(medi)\n",
        "\n",
        "q3 = df2['Min_Price'].quantile(0.75)\n",
        "under_q3 = df2[df2['Price']<q3]\n",
        "\n",
        "s2 = under_q3.groupby('Origin').Price.sum()\n",
        "\n",
        "m = (s + s2).max()\n",
        "\n",
        "import numpy as np\n",
        "\n",
        "result = int(np.floor(m))\n",
        "print(result)"
      ],
      "metadata": {
        "colab": {
          "base_uri": "https://localhost:8080/"
        },
        "id": "hhWJPYWotdyw",
        "outputId": "d36f7ecb-88f7-4638-834f-7c17acdab937"
      },
      "execution_count": 38,
      "outputs": [
        {
          "output_type": "stream",
          "name": "stdout",
          "text": [
            "856\n"
          ]
        }
      ]
    },
    {
      "cell_type": "code",
      "source": [
        "# 연습문제 9\n",
        "\n",
        "# Price 컬럼은 Min_Price와 Max_Price의 평균으로 알려져있다.\n",
        "# 이와 같은 사실을 통해 'Price' 컬럼의 결측치의 원래의 값을 계산한 후\n",
        "# 'Price' 가 14.7보다 작거나 25.5보다 크면서 'Large' 타입인 레코드 수를 계산해라\n",
        "\n",
        "import pandas as pd\n",
        "df = pd.read_csv('Cars93.csv')\n",
        "\n",
        "m = (df['Max_Price'] + df['Min_Price'])/2\n",
        "df['Price'] = df['Price'].fillna(m)\n",
        "\n",
        "result = df[(df['Price'] < 14.7) | ((df['Price'] > 25.5)&(df['Type']=='Large'))]\n",
        "print(result.shape[0])"
      ],
      "metadata": {
        "colab": {
          "base_uri": "https://localhost:8080/"
        },
        "id": "J9k1ePzltd05",
        "outputId": "857d6ab4-df15-48b8-8456-e3a0f78ca435"
      },
      "execution_count": 39,
      "outputs": [
        {
          "output_type": "stream",
          "name": "stdout",
          "text": [
            "35\n"
          ]
        }
      ]
    },
    {
      "cell_type": "code",
      "source": [
        "# 연습문제 10\n",
        "\n",
        "# Make 컬럼을 이용하여\n",
        "# 제조사가 Chevrolet, Pontiac, Hyundai 이면서\n",
        "# AirBags이 Drive에만 있는 경우인 레코드 수를 계산해라\n",
        "\n",
        "import pandas as pd\n",
        "df = pd.read_csv(\"Cars93.csv\")\n",
        "\n",
        "Make = df['Make'].copy()\n",
        "AirBags = df['AirBags'].copy()\n",
        "\n",
        "Make = Make.str.strip()\n",
        "\n",
        "cond = Make.str.startswith(('Chevrolet', 'Pontiac', 'Hyunda'))\n",
        "cond2 = (AirBags == 'Driver only')\n",
        "\n",
        "result = (cond&cond2).sum()\n",
        "print(result)"
      ],
      "metadata": {
        "colab": {
          "base_uri": "https://localhost:8080/"
        },
        "id": "an0XxDfCtd3M",
        "outputId": "b58feac2-7b67-456c-dfbd-84fe4d3ed452"
      },
      "execution_count": 52,
      "outputs": [
        {
          "output_type": "stream",
          "name": "stdout",
          "text": [
            "3\n"
          ]
        }
      ]
    },
    {
      "cell_type": "code",
      "source": [
        "# 연습문제 11\n",
        "\n",
        "# Dose 컬럼의 제 3사분위수와 제 2사분위수를 구하고\n",
        "# 두 값의 차이의 절댓값을 구한 후\n",
        "# 소수점을 버린 값을 출력하여라\n",
        "\n",
        "import pandas as pd\n",
        "df = pd.read_csv('Rabbit.csv')\n",
        "\n",
        "q2 = df['Dose'].quantile()\n",
        "q3 = df['Dose'].quantile(0.75)\n",
        "\n",
        "diff = abs(q3-q2)\n",
        "result = diff.astype('int64')\n",
        "print(result)"
      ],
      "metadata": {
        "colab": {
          "base_uri": "https://localhost:8080/"
        },
        "id": "5KnlYyf9td5o",
        "outputId": "349e6bcb-d8ee-4437-9da8-d26b3ed5aaa1"
      },
      "execution_count": 54,
      "outputs": [
        {
          "output_type": "stream",
          "name": "stdout",
          "text": [
            "62\n"
          ]
        }
      ]
    },
    {
      "cell_type": "code",
      "source": [
        "# 연습문제 12\n",
        "\n",
        "# medv 컬럼에 대해서 동일한 폭으로 binning 한 후\n",
        "# 가장 많은 빈도를 가지는 구간을 산출하고\n",
        "# 해당 구간 내 dis 컬럼의 중앙값을 구하여라\n",
        "# 폭은 10을 기준으로 하고\n",
        "# 소수점은 둘째 자리까지 나타내시오.\n",
        "\n",
        "import pandas as pd\n",
        "df = pd.read_csv('Boston.csv')\n",
        "\n",
        "bin = pd.cut(df['medv'], bins = [10, 20, 30, 40, 50])\n",
        "m = bin.value_counts().idxmax()\n",
        "\n",
        "cond = (bin == m)\n",
        "med = df['dis'][cond].median()\n",
        "print(round(med,2))"
      ],
      "metadata": {
        "colab": {
          "base_uri": "https://localhost:8080/"
        },
        "id": "grq3BVi3tmFo",
        "outputId": "08ab2105-dc7a-4fd5-9d79-b39dd789948a"
      },
      "execution_count": 60,
      "outputs": [
        {
          "output_type": "stream",
          "name": "stdout",
          "text": [
            "3.95\n"
          ]
        }
      ]
    },
    {
      "cell_type": "code",
      "source": [
        "# 연습문제 13\n",
        "\n",
        "# 1번째 ~ 122번째 레코드와 123번째 이후 레코드로 데이터셋을 분리하고\n",
        "# 각 데이터별로 thickness 컬럼을 z-score 정규화로 변환한 후\n",
        "# -1과 1 사이 값들의 중앙값을 각각 산출한 후\n",
        "# 합계를 구해라\n",
        "# 단, z-score 정규화 변환 계산에 사용되는 평균과 표준편차는 분리된 것과 관계없이\n",
        "# 1번째 ~ 123번째 레코드로 이루어진 데이터셋을 기준으로 하고\n",
        "# 출력 시 소수점 넷째 자리까지 반올림하여 나타낼 것\n",
        "# 레코드 번호는 가장 위에 위치한 레코드를 1번으로 가정\n",
        "\n",
        "import pandas as pd\n",
        "df = pd.read_csv('Melanoma.csv')\n",
        "\n",
        "fir = df.iloc[:123]\n",
        "sec = df.iloc[123:]\n",
        "\n",
        "z1 = (fir['thickness'] - fir['thickness'].mean()) / fir['thickness'].std()\n",
        "z2 = (sec['thickness'] - fir['thickness'].mean()) / fir['thickness'].std()\n",
        "\n",
        "s_z1 = z1[(z1 >= -1)&(z1 <= 1)]\n",
        "s_z2 = z2[(z2 >= -1)&(z2 <= 1)]\n",
        "\n",
        "med1 = s_z1.median()\n",
        "med2 = s_z2.median()\n",
        "\n",
        "result = med1 + med2\n",
        "print(round(result,4))"
      ],
      "metadata": {
        "colab": {
          "base_uri": "https://localhost:8080/"
        },
        "id": "W5twPVejtmIN",
        "outputId": "81858e08-1ff9-4d3d-a80a-deeaf1d1eb6d"
      },
      "execution_count": 61,
      "outputs": [
        {
          "output_type": "stream",
          "name": "stdout",
          "text": [
            "-1.0027\n"
          ]
        }
      ]
    },
    {
      "cell_type": "code",
      "source": [
        "# 모의고사 1회-(1)\n",
        "\n",
        "# 제공된 데이터의 Sepal.Width 컬럼에 대해\n",
        "# Sepal.Width의 평균값을 기준으로 3배 표준편차 이상으로 떨어진 값들의 합을 구하여라\n",
        "\n",
        "import pandas as pd\n",
        "df = pd.read_csv('iris.csv')\n",
        "\n",
        "Sepal_Width = df['Sepal.Width'].copy()\n",
        "\n",
        "avg = Sepal_Width.mean()\n",
        "sd = Sepal_Width.std()\n",
        "\n",
        "up = avg + sd * 3\n",
        "down = avg - sd * 3\n",
        "\n",
        "result = Sepal_Width[(Sepal_Width > up) | (Sepal_Width < down)].sum()\n",
        "print(result)"
      ],
      "metadata": {
        "colab": {
          "base_uri": "https://localhost:8080/"
        },
        "id": "UvuZ1IDlDfwz",
        "outputId": "0fe2571d-b5c8-409a-8f2f-f13facec8b54"
      },
      "execution_count": 69,
      "outputs": [
        {
          "output_type": "stream",
          "name": "stdout",
          "text": [
            "4.4\n"
          ]
        }
      ]
    },
    {
      "cell_type": "code",
      "source": [
        "# 모의고사 1회-(2)\n",
        "\n",
        "# 제공된 데이터의 disp 컬럼에 대해서 순위를 부여한 후,\n",
        "# 1위부터 20위까지의 값들의 표준편차를 구하고\n",
        "# 소수점 셋째 자리에서 반올림하여 나타내어라\n",
        "# 단 동점은 동일한 순위를 부여하되 상위 등수를 기준으로 하며 최댓값을 1위로 함\n",
        "\n",
        "import pandas as pd\n",
        "df = pd.read_csv('mtcars1.csv')\n",
        "\n",
        "rank = df['disp'].rank(method='min', ascending=False)\n",
        "\n",
        "sd = df['disp'][rank <= 20].std()\n",
        "\n",
        "print(round(sd, 2))"
      ],
      "metadata": {
        "colab": {
          "base_uri": "https://localhost:8080/"
        },
        "id": "TRG4bA9zDfy_",
        "outputId": "ce4ee1f4-1fc2-4836-9979-26d405510b8d"
      },
      "execution_count": 70,
      "outputs": [
        {
          "output_type": "stream",
          "name": "stdout",
          "text": [
            "97.47\n"
          ]
        }
      ]
    },
    {
      "cell_type": "code",
      "source": [
        "# 모의고사 1회-(3)\n",
        "\n",
        "# 전체 레코드 수, 결측치가 있는 컬럼의 수, 전체 결측치 수,\n",
        "# 결측치가 10개 이상인 컬럼들의 결측치가 있는 레코드만 삭제한 후의 전체 레코드의 수와\n",
        "# 두 개 이상의 컬럼이 동시에 결측인 레코드의\n",
        "# 행 번호들의 합을 구한 후 모두 합하여라\n",
        "\n",
        "import pandas as pd\n",
        "df = pd.read_csv('Cars93.csv')\n",
        "\n",
        "case1 = df.shape[0]\n",
        "case2 = (df.isna().sum() != 0).sum()\n",
        "case3 = (df.isna().sum()).sum()\n",
        "\n",
        "over10 = df.columns[df.isna().sum() >= 10]\n",
        "\n",
        "sub = df[over10].copy()\n",
        "case4 = len(sub.dropna())\n",
        "\n",
        "over2 = df.index[df.isna().sum(axis=1) >= 2]\n",
        "sub2 = list(over2)\n",
        "case5 = sub2.sum(). # 안됨\n",
        "\n",
        "result = case1 + case2 + case3 + case4 + case5\n",
        "print(result)"
      ],
      "metadata": {
        "colab": {
          "base_uri": "https://localhost:8080/",
          "height": 216
        },
        "id": "QPq14F9ADf1u",
        "outputId": "9ec33b62-7251-4da2-a777-30f9cfd73b7e"
      },
      "execution_count": 83,
      "outputs": [
        {
          "output_type": "error",
          "ename": "TypeError",
          "evalue": "'Series' object is not callable",
          "traceback": [
            "\u001b[0;31m---------------------------------------------------------------------------\u001b[0m",
            "\u001b[0;31mTypeError\u001b[0m                                 Traceback (most recent call last)",
            "\u001b[0;32m<ipython-input-83-cea01f4d7537>\u001b[0m in \u001b[0;36m<cell line: 29>\u001b[0;34m()\u001b[0m\n\u001b[1;32m     27\u001b[0m \u001b[0;31m# 두 개 이상의 컬럼이 동시에 결측인 레코드의 행 번호들의 합\u001b[0m\u001b[0;34m\u001b[0m\u001b[0;34m\u001b[0m\u001b[0m\n\u001b[1;32m     28\u001b[0m \u001b[0mover2\u001b[0m \u001b[0;34m=\u001b[0m \u001b[0mdf\u001b[0m\u001b[0;34m.\u001b[0m\u001b[0mindex\u001b[0m\u001b[0;34m[\u001b[0m\u001b[0mdf\u001b[0m\u001b[0;34m.\u001b[0m\u001b[0misna\u001b[0m\u001b[0;34m(\u001b[0m\u001b[0;34m)\u001b[0m\u001b[0;34m.\u001b[0m\u001b[0msum\u001b[0m\u001b[0;34m(\u001b[0m\u001b[0maxis\u001b[0m\u001b[0;34m=\u001b[0m\u001b[0;36m1\u001b[0m\u001b[0;34m)\u001b[0m \u001b[0;34m>=\u001b[0m \u001b[0;36m2\u001b[0m\u001b[0;34m]\u001b[0m\u001b[0;34m\u001b[0m\u001b[0;34m\u001b[0m\u001b[0m\n\u001b[0;32m---> 29\u001b[0;31m \u001b[0mcase5\u001b[0m \u001b[0;34m=\u001b[0m \u001b[0msum\u001b[0m\u001b[0;34m(\u001b[0m\u001b[0mover2\u001b[0m\u001b[0;34m)\u001b[0m\u001b[0;34m\u001b[0m\u001b[0;34m\u001b[0m\u001b[0m\n\u001b[0m\u001b[1;32m     30\u001b[0m \u001b[0;34m\u001b[0m\u001b[0m\n\u001b[1;32m     31\u001b[0m \u001b[0;31m# 결과 계산 및 출력\u001b[0m\u001b[0;34m\u001b[0m\u001b[0;34m\u001b[0m\u001b[0m\n",
            "\u001b[0;31mTypeError\u001b[0m: 'Series' object is not callable"
          ]
        }
      ]
    },
    {
      "cell_type": "code",
      "source": [
        "# 모의고사 2회-(1)\n",
        "\n",
        "# UrbanPop 컬럼이 60이상인 지역 중\n",
        "# Murder 컬럼과 Assault 컬럼의 합 대비\n",
        "# Assault 컬럼의 비율이 0.05 이상인 레코드 수를 구하여라\n",
        "\n",
        "import pandas as pd\n",
        "df = pd.read_csv('USArrests.csv')\n",
        "\n",
        "df['S'] = df['Murder'] + df['Assault']\n",
        "df['ratio'] = df['Assault']/df['S']\n",
        "\n",
        "result = df[(df['UrbanPop'] >= 60) & (df.ratio >= 0.05)]\n",
        "print(result.shape[0])"
      ],
      "metadata": {
        "colab": {
          "base_uri": "https://localhost:8080/"
        },
        "id": "F_L05eIEDf4o",
        "outputId": "83f39465-ba9d-407e-d6a7-6dc753876bbd"
      },
      "execution_count": 87,
      "outputs": [
        {
          "output_type": "stream",
          "name": "stdout",
          "text": [
            "33\n"
          ]
        }
      ]
    },
    {
      "cell_type": "code",
      "source": [
        "# 모의고사 2회-(2)\n",
        "\n",
        "# Fertility 컬럼에 대해서 내림차순으로 정렬한 후\n",
        "# 정렬한 데이터를 기준으로 홀수번째 레코드들의 평균에서\n",
        "# 짝수번째 레코드들의 평균을 뺀 값을 구하여라\n",
        "# 단, 첫번째 행에 있는 데이터를 1번으로 하고 결과는 소수점 넷째 자리에서 반올림하여 표현\n",
        "\n",
        "import pandas as pd\n",
        "df = pd.read_csv('swiss.csv')\n",
        "\n",
        "fer = df['Fertility'].sort_values(ascending=False)\n",
        "\n",
        "import numpy as np\n",
        "idx = np.arange(1,48)\n",
        "\n",
        "odd = idx % 2 == 1\n",
        "even = idx % 2 == 0\n",
        "\n",
        "diff = fer[odd].mean() - fer[even].mean()\n",
        "print(round(diff,3))"
      ],
      "metadata": {
        "colab": {
          "base_uri": "https://localhost:8080/"
        },
        "id": "Sol13iTpDf8I",
        "outputId": "9c92f735-707d-4569-9d1a-81f881f00ba7"
      },
      "execution_count": 93,
      "outputs": [
        {
          "output_type": "stream",
          "name": "stdout",
          "text": [
            "-0.453\n"
          ]
        }
      ]
    },
    {
      "cell_type": "code",
      "source": [
        "# 모의고사 2회-(3)\n",
        "\n",
        "# Type 컬럼이 Mississippi 이면서\n",
        "# conc 컬럼에서 백의 자리 또는 일의 자리가 5인 경우 레코드들의 수를 구하여라\n",
        "\n",
        "import pandas as pd\n",
        "df = pd.read_csv('CO2.csv')\n",
        "\n",
        "df['Type'] = df['Type'].str.replace('/','')\n",
        "\n",
        "case1 = df['Type']=='Mississippi'\n",
        "cond = df['conc'] // 100 == 5\n",
        "cond2 = df['conc'] // 10 == 5\n",
        "\n",
        "case2 = cond|cond2\n",
        "\n",
        "result = df[case1&case2].shape[0]\n",
        "print(result)\n"
      ],
      "metadata": {
        "colab": {
          "base_uri": "https://localhost:8080/"
        },
        "id": "OyE47h6aFGxV",
        "outputId": "f9e77828-a027-4b18-f3e0-1b2e70cce3ff"
      },
      "execution_count": 102,
      "outputs": [
        {
          "output_type": "stream",
          "name": "stdout",
          "text": [
            "6\n"
          ]
        }
      ]
    },
    {
      "cell_type": "code",
      "source": [
        "# 모의고사 3회-(1)\n",
        "\n",
        "# 미국의 경제와 관련된 데이터의 일부이다.\n",
        "# 데이터 수집 연도별 실업자 수의 월평균이 가장 큰 연도의 실업자 수의 분산을 계산하여라\n",
        "# 단, 출력시 단위를 만명 단위로 변환하고 반올림하여 둘째 자리까지 출력할 것\n",
        "\n",
        "import pandas as pd\n",
        "df = pd.read_csv('economics.csv', encoding = 'cp949')\n",
        "\n",
        "df['데이터수집월'] = df['데이터수집월'].str.replace(' ','')\n",
        "df['연도'] = df['데이터수집월'].str[:4]\n",
        "\n",
        "월평균 = df.groupby('연도').실업자수_천명.mean()\n",
        "\n",
        "result = df[df['연도'] == 월평균.idxmax()]['실업자수_천명'].var()\n",
        "\n",
        "print(round(result/1000, 2))"
      ],
      "metadata": {
        "colab": {
          "base_uri": "https://localhost:8080/"
        },
        "id": "--uc1yWEFSWv",
        "outputId": "377212d9-fea3-4698-c633-592bb76f10ea"
      },
      "execution_count": 127,
      "outputs": [
        {
          "output_type": "stream",
          "name": "stdout",
          "text": [
            "111.13\n"
          ]
        }
      ]
    },
    {
      "cell_type": "code",
      "source": [
        "# 모의고사 3회-(2)\n",
        "\n",
        "# US 항공사 승객 만족도 조사 데이터의 일부이다.\n",
        "# 연령대(Ages)별로 출발 시 지연된 시간(Departure_Delay_in_Minutes)의 평균을 구하고\n",
        "# 평균 시간이 가장 긴 연령대의 로얄 등급(Customer_Type가 L인 경우)의 인원 수를 계산해라\n",
        "# 단, 결과 출력시 정수로 출력할 것\n",
        "\n",
        "import pandas as pd\n",
        "df = pd.read_csv('Airline.csv', encoding='cp949')\n",
        "\n",
        "Ages = df['Ages'].copy()\n",
        "Ages[df['Ages'] == '[10, 20]'] = '10_29'\n",
        "Ages[df['Ages'] == '[20, 30]'] = '20_39'\n",
        "Ages[df['Ages'] == '[40, 50]'] = '40_49'\n",
        "Ages[df['Ages'] == '[50, 60]'] = '50_59'\n",
        "df['Ages'] = Ages\n",
        "\n",
        "avg = df.groupby('Ages').Departure_Delay_in_Minutes.mean()\n",
        "m = avg.idxmax()\n",
        "df_m = df[df['Ages'] == m].copy()\n",
        "\n",
        "result = df_m[df_m.Customer_Type == 'L'].shape[0]\n",
        "print(result)"
      ],
      "metadata": {
        "colab": {
          "base_uri": "https://localhost:8080/"
        },
        "id": "DWTMIh0MFSZL",
        "outputId": "2bca1d2c-6b49-4596-a8a2-732dc041deb2"
      },
      "execution_count": 133,
      "outputs": [
        {
          "output_type": "stream",
          "name": "stdout",
          "text": [
            "397\n"
          ]
        }
      ]
    },
    {
      "cell_type": "code",
      "source": [
        "# 기출 2회-(1)\n",
        "\n",
        "# mpg 컬럼의 상위 10번째 값으로 상위 10개 값을 변환한 뒤\n",
        "# drat가 4 이상인 값에 대해 mpg의 평균을 구하여라\n",
        "# 반올림하여 소숫점 셋째 자리까지 표현\n",
        "\n",
        "import pandas as pd\n",
        "df = pd.read_csv('mtcars2.csv')\n",
        "\n",
        "mpg = df['mpg'].copy()\n",
        "drat = df['drat'].copy()\n",
        "\n",
        "up10 = mpg.sort_values(ascending=False).iloc[9]\n",
        "tenth = mpg.sort_values(ascending=False)[:10].index\n",
        "mpg[tenth] = up10\n",
        "\n",
        "result = mpg[drat >=4].mean()\n",
        "print(round(result,3))"
      ],
      "metadata": {
        "colab": {
          "base_uri": "https://localhost:8080/"
        },
        "id": "g8md_B4TZLuY",
        "outputId": "1092b351-6914-4e20-bdc3-10fee0596229"
      },
      "execution_count": 158,
      "outputs": [
        {
          "output_type": "stream",
          "name": "stdout",
          "text": [
            "20.671\n"
          ]
        }
      ]
    },
    {
      "cell_type": "code",
      "source": [
        "# 기출 2회-(2)\n",
        "\n",
        "# 첫 번째 행부터 순서대로 80% 까지의 데이터를 훈련 데이터로 추출한 후\n",
        "# disp 컬럼의 결측값을 disp 컬럼의 중앙값으로 대체하고\n",
        "# 대체 전 후의 disp 변수의 표준편차 값의 차이를 구하여라\n",
        "# 반올림하여 소수점 셋째자리까지 표현\n",
        "# 차이는 빼는 순서와 관계없이 절댓값 취하기\n",
        "\n",
        "import pandas as pd\n",
        "df = pd.read_csv('mtcars2.csv')\n",
        "\n",
        "import numpy as np\n",
        "\n",
        "idx = np.floor(df.shape[0]*0.8).astype('int64')\n",
        "train = df[:idx]\n",
        "\n",
        "before = train['disp'].copy()\n",
        "after = train['disp'].copy()\n",
        "\n",
        "med = before.median()\n",
        "sd1 = before.std()\n",
        "\n",
        "sd2 = after.fillna(med).std()\n",
        "\n",
        "result = abs(sd1-sd2)\n",
        "print(round(result,3))"
      ],
      "metadata": {
        "colab": {
          "base_uri": "https://localhost:8080/"
        },
        "id": "Szp6XcmzZNM0",
        "outputId": "56f7692c-ab53-4100-e7df-7d0058b33117"
      },
      "execution_count": 167,
      "outputs": [
        {
          "output_type": "stream",
          "name": "stdout",
          "text": [
            "7.966\n"
          ]
        }
      ]
    },
    {
      "cell_type": "code",
      "source": [
        "# 기출 2회-(3)\n",
        "\n",
        "# time 컬럼에서 이상값의 합을 구하여라\n",
        "# 정수로 표현\n",
        "# 이상값은 평균에서 1.5 표준편차 이상으로 벗어난 값으로 정의\n",
        "\n",
        "import pandas as pd\n",
        "df= pd.read_csv('gehan.csv')\n",
        "\n",
        "sd = df['time'].std()\n",
        "up = df['time'].mean() + 1.5 * sd\n",
        "down = df['time'].mean() - 1.5 * sd\n",
        "\n",
        "result = df[(df['time']>up)|(df['time']<down)]\n",
        "result = result.sum()\n",
        "print(result)"
      ],
      "metadata": {
        "colab": {
          "base_uri": "https://localhost:8080/"
        },
        "id": "SHhfOyh-ZS1X",
        "outputId": "0efd355d-7607-4fdc-d4f0-2db2c62c61c1"
      },
      "execution_count": 175,
      "outputs": [
        {
          "output_type": "stream",
          "name": "stdout",
          "text": [
            "pair                   36\n",
            "time                  133\n",
            "cens                    0\n",
            "treat    6-MP6-MP6-MP6-MP\n",
            "dtype: object\n"
          ]
        }
      ]
    },
    {
      "cell_type": "code",
      "source": [
        "# 기출 3회-(1)\n",
        "\n",
        "# 첫 번째 행부터 순서대로 70% 까지의 데이터를 훈련 데이터로 추출한 후\n",
        "# pce 컬럼의 제 1사분위수를 구하라\n",
        "# 정수로 표현\n",
        "\n",
        "import pandas as pd\n",
        "df = pd.read_csv('economics.csv', encoding='cp949')\n",
        "\n",
        "import numpy as np\n",
        "\n",
        "idx = np.floor(df.shape[0]*0.7).astype('int64')\n",
        "train = df[:idx]\n",
        "\n",
        "result = train['개인소비지출_십억달러'].quantile(0.25).astype('int64')\n",
        "print(result)"
      ],
      "metadata": {
        "colab": {
          "base_uri": "https://localhost:8080/"
        },
        "id": "_A8tAnaOjjwG",
        "outputId": "15360d6c-ea0b-44fc-f56e-cd542e3d9b58"
      },
      "execution_count": 182,
      "outputs": [
        {
          "output_type": "stream",
          "name": "stdout",
          "text": [
            "7391\n"
          ]
        }
      ]
    },
    {
      "cell_type": "code",
      "source": [
        "# 기출 3회-(2)\n",
        "\n",
        "# Years 컬럼이 10인 데이터만 추출하여\n",
        "# HmRun 컬럼이 평균보다 큰 선수가 몇 명인지 계산하라\n",
        "# 정수로 표현\n",
        "\n",
        "import pandas as pd\n",
        "df = pd.read_csv('Hitters.csv', encoding='cp949')\n",
        "\n",
        "cond =df[df['Years']==10]\n",
        "result = cond[cond['HmRun'] > cond['HmRun'].mean()].shape[0]\n",
        "print(result)"
      ],
      "metadata": {
        "colab": {
          "base_uri": "https://localhost:8080/"
        },
        "id": "e3g72dLNk9-7",
        "outputId": "3e592950-415b-4dc1-94aa-280a8a289336"
      },
      "execution_count": 186,
      "outputs": [
        {
          "output_type": "stream",
          "name": "stdout",
          "text": [
            "6\n"
          ]
        }
      ]
    },
    {
      "cell_type": "code",
      "source": [
        "# 기출 3회-(3)\n",
        "\n",
        "# 가장 결측치가 많은 컬럼의 이름을 출력하라\n",
        "\n",
        "import pandas as pd\n",
        "df = pd.read_csv('msleep.csv')\n",
        "\n",
        "result = df.isna().sum().idxmax()\n",
        "print(result)"
      ],
      "metadata": {
        "colab": {
          "base_uri": "https://localhost:8080/"
        },
        "id": "GyoylOxKlFM4",
        "outputId": "6be954d1-3426-4af0-b6a8-fdf7c4aa2fe7"
      },
      "execution_count": 188,
      "outputs": [
        {
          "output_type": "stream",
          "name": "stdout",
          "text": [
            "sleep_cycle\n"
          ]
        }
      ]
    },
    {
      "cell_type": "code",
      "source": [
        "# 기출 4회-(1)\n",
        "\n",
        "# Turn_circle 컬럼에 대하여 아래의 과정을 수행하고 (다) 단계의 결과값을 출력하여라\n",
        "# (가) 제 1사분위수와 제 2사분위수를 구하기\n",
        "# (나) 두 개의 차이의 절댓값을 구하기\n",
        "# (다) 그 값의 소수점을 버리기\n",
        "\n",
        "import pandas as pd\n",
        "df = pd.read_csv('Cars93.csv')\n",
        "\n",
        "q1 = df['Turn_circle'].quantile(0.25)\n",
        "q2 = df['Turn_circle'].quantile(0.5)\n",
        "\n",
        "diff = abs(q1 - q2)\n",
        "\n",
        "print(diff.astype('int64'))"
      ],
      "metadata": {
        "colab": {
          "base_uri": "https://localhost:8080/"
        },
        "id": "TalHu2VooPlN",
        "outputId": "4b963730-21ce-4036-f23f-239fc8195d89"
      },
      "execution_count": 194,
      "outputs": [
        {
          "output_type": "stream",
          "name": "stdout",
          "text": [
            "2\n"
          ]
        }
      ]
    },
    {
      "cell_type": "code",
      "source": [
        "# 기출 4회-(2)\n",
        "\n",
        "# '좋아요'를 받은 전체 수 중 모바일에서 '좋아요'를 받은 비율을 구하고\n",
        "# 그 비율이 0.6보다 크고 0.7보다 작으면서 성별이 남자인 경우의 레코드 수를 구하여라\n",
        "# 정수로 표현\n",
        "# mobile_like_recived와 www_like_recived는 각각 모바일과 웹에서 '좋아요' 받은 횟수\n",
        "# 두 컬럼의 합은 '좋아요'를 받은 전체 수임\n",
        "\n",
        "import pandas as pd\n",
        "df = pd.read_csv('facebook_subset.csv')\n",
        "\n",
        "ratio = df['mobile_likes_received']/(df['mobile_likes_received']+df['www_likes_received'])\n",
        "\n",
        "target = (ratio>0.6) & (ratio<0.7)\n",
        "num = df[(df['gender']=='male')&target].shape[0]\n",
        "\n",
        "print(num)"
      ],
      "metadata": {
        "colab": {
          "base_uri": "https://localhost:8080/"
        },
        "id": "WJ9npqNnoPn8",
        "outputId": "dc5f4b91-3d1d-4527-ad32-73750b6df6a3"
      },
      "execution_count": 210,
      "outputs": [
        {
          "output_type": "stream",
          "name": "stdout",
          "text": [
            "208\n"
          ]
        }
      ]
    },
    {
      "cell_type": "code",
      "source": [
        "# 기출 4회-(3)\n",
        "\n",
        "# 2021년 1월에 등록되었으면서 listed_in이 오직 Drama인 경우의 레코드 수를 구하여라\n",
        "# 정수로 표현\n",
        "\n",
        "import pandas as pd\n",
        "df = pd.read_csv('netflix_subset.csv', encoding='cp949')\n",
        "df.head()\n",
        "\n",
        "df['date_added'] = pd.to_datetime(df['date_added'])\n",
        "\n",
        "year = df['date_added'].dt.year\n",
        "month = df['date_added'].dt.month\n",
        "\n",
        "cond1 = (year == 2021) & (month == 1)\n",
        "cond2 = (df['listed_in'] == 'Dramas')\n",
        "\n",
        "result = df[cond1 & cond2].shape[0]\n",
        "print(result)"
      ],
      "metadata": {
        "colab": {
          "base_uri": "https://localhost:8080/"
        },
        "id": "igaCGX2doPqw",
        "outputId": "cdea7ea8-0eb3-4e26-b3f3-fea709610968"
      },
      "execution_count": 217,
      "outputs": [
        {
          "output_type": "stream",
          "name": "stdout",
          "text": [
            "4\n"
          ]
        },
        {
          "output_type": "stream",
          "name": "stderr",
          "text": [
            "<ipython-input-217-8ba9b68abd0f>:10: UserWarning: Could not infer format, so each element will be parsed individually, falling back to `dateutil`. To ensure parsing is consistent and as-expected, please specify a format.\n",
            "  df['date_added'] = pd.to_datetime(df['date_added'])\n"
          ]
        }
      ]
    },
    {
      "cell_type": "code",
      "source": [
        "# 기출 5회-(1)\n",
        "\n",
        "# 전국의 2L 음식물쓰레기 규격 봉투의 평균 가격을 입력해라\n",
        "# 정수로 입력\n",
        "# 평균 계산 시 가격이 0원인 경우는 제외\n",
        "\n",
        "import pandas as pd\n",
        "df = pd.read_csv('전국_종량제봉투_가격표준.csv', encoding='cp949')\n",
        "\n",
        "cond = (df['종량제봉투종류']=='규격봉투')&(df['종량제봉투용도']=='음식물쓰레기')\n",
        "\n",
        "price = df.loc[cond, '2L가격'].copy()\n",
        "avg = price[price>0].mean()\n",
        "print(avg.astype('int'))\n"
      ],
      "metadata": {
        "colab": {
          "base_uri": "https://localhost:8080/"
        },
        "id": "_1o4n2ZFt0UK",
        "outputId": "a8b08ec4-4806-4491-eaf2-1e63af92ef0b"
      },
      "execution_count": 227,
      "outputs": [
        {
          "output_type": "stream",
          "name": "stdout",
          "text": [
            "119\n"
          ]
        }
      ]
    },
    {
      "cell_type": "code",
      "source": [
        "# 기출 5회-(2)\n",
        "\n",
        "# BMI를 계산한 후 정상체중에 속하는 인원과 과체중에 속하는 인원의 차이에 대한 절대값을 입력해라\n",
        "# bmi가 18.5 미만이면 저체중, 18.5이상이고 23.0미만이면 정상,\n",
        "# 23.0이상이고 25.0미만이면 과체중, 25.0 이상이면 비만\n",
        "# 정수로 입력\n",
        "# 몸무게/키의 제곱\n",
        "\n",
        "import pandas as pd\n",
        "df = pd.read_csv('bmi.csv', encoding='cp949')\n",
        "df.head()\n",
        "\n",
        "bmi = df['Weight']/(df['Height']/100)**2\n",
        "\n",
        "a = ((bmi >=18.5)&(bmi<23.0)).sum()\n",
        "b = ((bmi >=23.0)&(bmi<25.0)).sum()\n",
        "\n",
        "result = abs(a-b)\n",
        "print(result)"
      ],
      "metadata": {
        "colab": {
          "base_uri": "https://localhost:8080/"
        },
        "id": "d7TGIcTht0Wx",
        "outputId": "71d697b8-63b1-4e79-a30e-b7c4902cc2f4"
      },
      "execution_count": 231,
      "outputs": [
        {
          "output_type": "stream",
          "name": "stdout",
          "text": [
            "130\n"
          ]
        }
      ]
    },
    {
      "cell_type": "code",
      "source": [
        "# 기출 5회-(3)\n",
        "\n",
        "# 순전입학생의 수가 가장 많은 순전입학교의 전체학생수를 입력해라\n",
        "# 순전입학생 수 : 총 전입학생 수 - 총 전출학생 수\n",
        "# 순전입학교 : 총 전입학생 수 > 총 전출학생 수\n",
        "# 정수 입력\n",
        "\n",
        "import pandas as pd\n",
        "df = pd.read_csv('2022_부산초등학교_전출입학생현황.csv', encoding='cp949')\n",
        "df.head()\n",
        "\n",
        "df['순전입학생수'] = df['전입학생수합계'] - df['전출학생수합계']\n",
        "max = df['순전입학생수'].idxmax()\n",
        "result = df['전체학생수합계'][max]\n",
        "print(result)"
      ],
      "metadata": {
        "colab": {
          "base_uri": "https://localhost:8080/"
        },
        "id": "PJX6w0vet0Zu",
        "outputId": "3fc52bd7-d5f9-4a11-cf8c-7cf01a044d6a"
      },
      "execution_count": 236,
      "outputs": [
        {
          "output_type": "stream",
          "name": "stdout",
          "text": [
            "577\n"
          ]
        }
      ]
    },
    {
      "cell_type": "code",
      "source": [
        "# 기출 6회-(1)\n",
        "\n",
        "# 접수시간으로부터 상황종료시간까지 소요되는 시간을 화재진압시간이라고 정의\n",
        "# 10년 중 화재진압시간이 가장 오래 걸린 서센터의 10년 간의 평균 화재진압시간\n",
        "\n",
        "import pandas as pd\n",
        "df = pd.read_csv('sejong_fire.csv', encoding='cp949')\n",
        "print(df.head())\n",
        "\n",
        "df['접수일시'] = pd.to_datetime(df['접수일시'])\n",
        "df['상황종료일시'] = pd.to_datetime(df['상황종료일시'])\n",
        "\n",
        "df['화재진압시간'] = (df['상황종료일시'] - df['접수일시']).dt.total_seconds() / 60\n",
        "\n",
        "center = df.loc[df['화재진압시간'].idxmax(), '서센터명']\n",
        "\n",
        "df = df[df['서센터명'] == center].copy()\n",
        "result = df['화재진압시간'].mean()\n",
        "\n",
        "print(result.astype('int64'))"
      ],
      "metadata": {
        "colab": {
          "base_uri": "https://localhost:8080/"
        },
        "id": "DGHkfJq3y70S",
        "outputId": "3f58e5ec-54f2-4512-8aae-9b758ccb098f"
      },
      "execution_count": 85,
      "outputs": [
        {
          "output_type": "stream",
          "name": "stdout",
          "text": [
            "     관할서명        서센터명      화재구분              접수일시            상황종료일시\n",
            "0  조치원소방서   전의119안전센터      기타화재  2012-08-28 16:36  2012-08-28 17:09\n",
            "1  조치원소방서  조치원119안전센터      기타화재  2012-07-14 23:41   2012-07-15 0:10\n",
            "2  조치원소방서  조치원119안전센터  일반화재(주택)  2012-07-15 14:26  2012-07-15 14:50\n",
            "3  조치원소방서  조치원119안전센터      대형화재   2012-07-16 1:36   2012-07-16 2:58\n",
            "4  조치원소방서  조치원119안전센터  일반화재(주택)  2012-07-29 12:50  2012-07-29 13:44\n",
            "1573\n"
          ]
        }
      ]
    },
    {
      "cell_type": "code",
      "source": [
        "# 기출 6회-(2)\n",
        "\n",
        "# 전체 학생 수 대비 교사의 비율(교사 1인당 학생 수)이\n",
        "# 가장 높은 학교의 교사 수를 입력\n",
        "\n",
        "import pandas as pd\n",
        "df = pd.read_csv('busan_school_Info.csv', encoding='cp949')\n",
        "print(df.head())\n",
        "\n",
        "df['ratio'] = df.iloc[:,1:7].sum(axis=1)/df.teacher\n",
        "\n",
        "result = df.loc[df.ratio.idxmax(),'teacher']\n",
        "print(result)"
      ],
      "metadata": {
        "colab": {
          "base_uri": "https://localhost:8080/"
        },
        "id": "1i-AhJSXy723",
        "outputId": "304823a5-31f1-433d-a017-fcb4abd3652c"
      },
      "execution_count": 90,
      "outputs": [
        {
          "output_type": "stream",
          "name": "stdout",
          "text": [
            "  school_name  student_1  student_2  student_3  student_4  student_5  \\\n",
            "0      광일초등학교         43         36         35         51         65   \n",
            "1      남성초등학교         86        100         99         71         78   \n",
            "2      대남초등학교         46         70         49         40         62   \n",
            "3      대연초등학교        132        135        151        156        179   \n",
            "4      대천초등학교         90        106         84        106        126   \n",
            "\n",
            "   student_6  teacher  \n",
            "0         60       16  \n",
            "1         49       22  \n",
            "2         56       20  \n",
            "3        171       45  \n",
            "4        118       34  \n",
            "24\n"
          ]
        }
      ]
    },
    {
      "cell_type": "code",
      "source": [
        "# 기출 6회-(3)\n",
        "\n",
        "# 연도별 범죄 총 발생건수의\n",
        "# 월평균이 가장 큰 연도의\n",
        "# 월평균 폭력검거건수 입력\n",
        "\n",
        "import pandas as pd\n",
        "df = pd.read_csv('five_crime.csv', encoding='cp949')\n",
        "print(df.head())\n",
        "\n",
        "df['연월'] = df['연월'].str.replace(' ','')\n",
        "df['연월'] = df['연월'].str.replace('월','')\n",
        "df['연'] = df['연월'].str[:4].copy()\n",
        "df['월'] = df['연월'].str[-2:].copy()\n",
        "\n",
        "df['총발생건수'] = df.iloc[:,range(1, 11, 2)].sum(axis = 1)\n",
        "avg = df.groupby('연').총발생건수.mean()\n",
        "\n",
        "max_year = avg.argmax()\n",
        "result = df.groupby('연').폭력_검거건수.mean()[max_year]\n",
        "print(result.astype('int64'))"
      ],
      "metadata": {
        "colab": {
          "base_uri": "https://localhost:8080/"
        },
        "id": "o-WgSXq4y75w",
        "outputId": "4c7154a3-f574-42cf-c036-003dfaaa710a"
      },
      "execution_count": 94,
      "outputs": [
        {
          "output_type": "stream",
          "name": "stdout",
          "text": [
            "           연월  살인_발생건수  살인_검거건수  강도_발생건수  강도_검거건수  강간_강제추행_발생건수  강간_강제추행_검거건수  \\\n",
            "0  2008. 01 월       19       18       49       49           191           186   \n",
            "1  2008. 02 월        9        9       43       36           184           182   \n",
            "2  2008. 03 월       14       10       78       75           262           255   \n",
            "3  2008. 04 월       19       20      102       88           276           262   \n",
            "4  2008. 05 월       23       23       79       71           297           290   \n",
            "\n",
            "   절도_발생건수  절도_검거건수  폭력_발생건수  폭력_검거건수  \n",
            "0     1870     1166     5534     5342  \n",
            "1     1733      996     4534     4341  \n",
            "2     2374     1687     5690     5464  \n",
            "3     2513     1744     6080     5843  \n",
            "4     2406     1375     6427     6135  \n",
            "4884\n"
          ]
        }
      ]
    },
    {
      "cell_type": "code",
      "source": [
        "# 기출 7회-(1)\n",
        "\n",
        "# 응시자가 가장 많은 연령대의\n",
        "# 기본간호학 과목 점수를 표준화하여\n",
        "# 가장 높은 값을 입력\n",
        "\n",
        "# 결측치가 존재하는 레코드는 제외\n",
        "# 총점이 아닌 과목별 점수를 표준화\n",
        "# 소수점 넷째 자리까지\n",
        "\n",
        "import pandas as pd\n",
        "df = pd.read_csv('test_score.csv', encoding='cp949')\n",
        "print(df.head())\n",
        "\n",
        "df = df.dropna().copy()\n",
        "\n",
        "age = df['연령대'].value_counts().idxmax()\n",
        "\n",
        "cond = (df['연령대'] == age)&(df['과목명']=='기본간호학')\n",
        "target = df[cond]['과목별점수']\n",
        "sd = (target - target.mean()) / target.std()\n",
        "\n",
        "result = sd.max()\n",
        "print(round(result,4))"
      ],
      "metadata": {
        "colab": {
          "base_uri": "https://localhost:8080/"
        },
        "id": "oCuX0EmKy78P",
        "outputId": "d4ef9b92-df28-4cec-f550-d6b265390de2"
      },
      "execution_count": 102,
      "outputs": [
        {
          "output_type": "stream",
          "name": "stdout",
          "text": [
            "     연도                                     직종    회차  일련번호        과목명  과목별점수  \\\n",
            "0  2023  간호사                                    63.0     1    지역사회간호학    0.0   \n",
            "1  2023  간호사                                    63.0     1      아동간호학    0.0   \n",
            "2  2023  간호사                                    63.0     1      성인간호학    0.0   \n",
            "3  2023  간호사                                    63.0     1  보건의약관계 법규    0.0   \n",
            "4  2023  간호사                                    63.0     1      기본간호학    0.0   \n",
            "\n",
            "    총점 합격여부 성별  연령대  \n",
            "0  0.0   결시  여   50  \n",
            "1  0.0   결시  여   50  \n",
            "2  0.0   결시  여   50  \n",
            "3  0.0   결시  여   50  \n",
            "4  0.0   결시  여   50  \n",
            "0.5963\n"
          ]
        }
      ]
    },
    {
      "cell_type": "code",
      "source": [
        "# 기출 7회-(2)\n",
        "\n",
        "# progression 컬럼과 다른 컬럼들 간의 모든 상관관계 중\n",
        "# 가장 상관관계가 큰 컬럼의 최댓값을 입력\n",
        "# 소숫점 둘째 자리까지\n",
        "\n",
        "import pandas as pd\n",
        "df = pd.read_csv('diabetes.csv', encoding='cp949')\n",
        "print(df.head())\n",
        "\n",
        "co = df.corr()['progression'].abs().sort_values(ascending=False)\n",
        "target = co.index[1]\n",
        "\n",
        "result = df[target].max()\n",
        "print(round(result,2))"
      ],
      "metadata": {
        "colab": {
          "base_uri": "https://localhost:8080/"
        },
        "id": "pq38oofFy8Ea",
        "outputId": "9dfca58d-efe0-435d-eca9-bb3d900ed713"
      },
      "execution_count": 109,
      "outputs": [
        {
          "output_type": "stream",
          "name": "stdout",
          "text": [
            "        age       sex       bmi        bp        s1        s2        s3  \\\n",
            "0  0.038076  0.050680  0.061696  0.021872 -0.044223 -0.034821 -0.043401   \n",
            "1 -0.001882 -0.044642 -0.051474 -0.026328 -0.008449 -0.019163  0.074412   \n",
            "2  0.085299  0.050680  0.044451 -0.005670 -0.045599 -0.034194 -0.032356   \n",
            "3 -0.089063 -0.044642 -0.011595 -0.036656  0.012191  0.024991 -0.036038   \n",
            "4  0.005383 -0.044642 -0.036385  0.021872  0.003935  0.015596  0.008142   \n",
            "\n",
            "         s4        s5        s6  progression  \n",
            "0 -0.002592  0.019907 -0.017646        151.0  \n",
            "1 -0.039493 -0.068332 -0.092204         75.0  \n",
            "2 -0.002592  0.002861 -0.025930        141.0  \n",
            "3  0.034309  0.022688 -0.009362        206.0  \n",
            "4 -0.002592 -0.031988 -0.046641        135.0  \n",
            "0.17\n"
          ]
        }
      ]
    },
    {
      "cell_type": "code",
      "source": [
        "# 기출 7회-(3)\n",
        "\n",
        "# sepal_length)컬럼의 이상치 갯수를 입력\n",
        "# 결측치는 중앙값으로 대체\n",
        "# 구간 q1-1.5*iqr, q3+1.5*iqr 벗어나면 이상치\n",
        "# 정수 입력\n",
        "\n",
        "import pandas as pd\n",
        "df = pd.read_csv('iris.csv', encoding='cp949')\n",
        "print(df.head())\n",
        "\n",
        "med = df['sepal_length'].median()\n",
        "df['sepal_length'] = df['sepal_length'].fillna(med)\n",
        "\n",
        "q1 = df['sepal_length'].quantile(0.25)\n",
        "q3 = df['sepal_length'].quantile(0.75)\n",
        "iqr = q3-q1\n",
        "\n",
        "cond = df[(df['sepal_length'] < (q1-1.5*iqr)) | (df['sepal_length'] > (q3 + 1.5*iqr))]\n",
        "result = len(cond['sepal_length'])\n",
        "\n",
        "print(result)"
      ],
      "metadata": {
        "colab": {
          "base_uri": "https://localhost:8080/"
        },
        "id": "LkZeLYr9y8PW",
        "outputId": "34490ebf-a1e7-4f2c-d22a-2f0ca276342e"
      },
      "execution_count": 114,
      "outputs": [
        {
          "output_type": "stream",
          "name": "stdout",
          "text": [
            "   sepal_length  sepal_width  petal_length  petal_width species\n",
            "0           5.1          3.5           1.4          0.2  setosa\n",
            "1           4.9          3.0           1.4          0.2  setosa\n",
            "2           4.7          3.2           1.3          0.2  setosa\n",
            "3           4.6          3.1           1.5          0.2  setosa\n",
            "4           5.0          3.6           1.4          0.2  setosa\n",
            "5\n"
          ]
        }
      ]
    },
    {
      "cell_type": "code",
      "source": [
        "# 컬럼의 왜도와 첨도를 구한 값과,\n",
        "# 스케일링(log1p)로 변환한 이후\n",
        "# 왜도와 첨도를 구해 모두 더한 다음 소수점 2째자리까지 출력하시오\n",
        "\n",
        "import numpy as np\n",
        "\n",
        "s1 = df['sepal_length'].skew()\n",
        "k1 = df['sepal_length'].kurt()\n",
        "print(\"왜도:\" ,s1)\n",
        "print(\"첨도:\" ,k1)\n",
        "\n",
        "# 컬럼 로그변환\n",
        "df['sepal_length'] = np.log1p(df['sepal_length'])\n",
        "\n",
        "s2 = df['sepal_length'].skew()\n",
        "k2 = df['sepal_length'].kurt()\n",
        "print(\"왜도:\" ,s2)\n",
        "print(\"첨도:\" ,k2)\n",
        "\n",
        "print(round(s1+s2+k1+k2,2))"
      ],
      "metadata": {
        "colab": {
          "base_uri": "https://localhost:8080/"
        },
        "id": "Ac_tOuLpO-D0",
        "outputId": "f642cdfa-66eb-4cd2-bdb1-a523162e583d"
      },
      "execution_count": 119,
      "outputs": [
        {
          "output_type": "stream",
          "name": "stdout",
          "text": [
            "왜도: 0.9336029664357085\n",
            "첨도: 4.485468781901192\n",
            "왜도: -0.14873436853941224\n",
            "첨도: 3.126299171678144\n",
            "8.4\n"
          ]
        }
      ]
    }
  ]
}