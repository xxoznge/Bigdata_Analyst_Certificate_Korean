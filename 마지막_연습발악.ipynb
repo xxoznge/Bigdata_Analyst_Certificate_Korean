{
  "nbformat": 4,
  "nbformat_minor": 0,
  "metadata": {
    "colab": {
      "provenance": [],
      "authorship_tag": "ABX9TyNUeV1YEwM5kHRyFkmmL821",
      "include_colab_link": true
    },
    "kernelspec": {
      "name": "python3",
      "display_name": "Python 3"
    },
    "language_info": {
      "name": "python"
    }
  },
  "cells": [
    {
      "cell_type": "markdown",
      "metadata": {
        "id": "view-in-github",
        "colab_type": "text"
      },
      "source": [
        "<a href=\"https://colab.research.google.com/github/xxoznge/Bigdata_Analyst_Certificate_Korean/blob/main/%EB%A7%88%EC%A7%80%EB%A7%89_%EC%97%B0%EC%8A%B5%EB%B0%9C%EC%95%85.ipynb\" target=\"_parent\"><img src=\"https://colab.research.google.com/assets/colab-badge.svg\" alt=\"Open In Colab\"/></a>"
      ]
    },
    {
      "cell_type": "code",
      "execution_count": 24,
      "metadata": {
        "colab": {
          "base_uri": "https://localhost:8080/"
        },
        "id": "PqYx53esRJF0",
        "outputId": "3eb29e33-a045-4ffe-d425-03bfcce87e19"
      },
      "outputs": [
        {
          "output_type": "stream",
          "name": "stdout",
          "text": [
            "20.671\n"
          ]
        },
        {
          "output_type": "stream",
          "name": "stderr",
          "text": [
            "<ipython-input-24-27102af3778a>:13: SettingWithCopyWarning: \n",
            "A value is trying to be set on a copy of a slice from a DataFrame\n",
            "\n",
            "See the caveats in the documentation: https://pandas.pydata.org/pandas-docs/stable/user_guide/indexing.html#returning-a-view-versus-a-copy\n",
            "  mpg[idx] = top10\n"
          ]
        }
      ],
      "source": [
        "# 기출 2회\n",
        "\n",
        "import pandas as pd\n",
        "df = pd.read_csv('mtcars2.csv')\n",
        "\n",
        "# mpg컬럼의 상위 10번째 값으로 상위 10개 값을 변환한 후\n",
        "# drat가 4이상인 값에 대해 mpg의 평균을 구하여라\n",
        "# 셋째 자리까지\n",
        "\n",
        "mpg = df['mpg']\n",
        "top10 = mpg.sort_values(ascending=False).values[9]\n",
        "idx = mpg.sort_values(ascending = False)[:10].index\n",
        "mpg[idx] = top10\n",
        "\n",
        "drat = df['drat']\n",
        "result = df[drat >= 4].mpg.mean()\n",
        "print(round(result, 3))"
      ]
    },
    {
      "cell_type": "code",
      "source": [
        "import pandas as pd\n",
        "df = pd.read_csv('mtcars2.csv')\n",
        "\n",
        "# 첫 번째 행부터 순서대로 80% 까지의 데이터를 훈련데이터로 추출한 후\n",
        "# disp 컬럼의 결측값을 disp 컬럼의 중앙값으로 대체하고\n",
        "# 대체 전 후의 disp 변수의 표준편차 값의 차이를 구하여라\n",
        "# 셋째자리까지\n",
        "# 절댓값\n",
        "\n",
        "df = df.iloc[:int(len(df)*0.8)].copy()\n",
        "\n",
        "before = df.disp.std()\n",
        "\n",
        "med = df.disp.median()\n",
        "df['disp'] = df['disp'].fillna(med)\n",
        "after = df.disp.std()\n",
        "\n",
        "diff = abs(before - after)\n",
        "print(round(diff,3))"
      ],
      "metadata": {
        "colab": {
          "base_uri": "https://localhost:8080/"
        },
        "id": "bmijJUVRUIPb",
        "outputId": "b87cbd66-047a-4052-b38f-59ffcdc25718"
      },
      "execution_count": 37,
      "outputs": [
        {
          "output_type": "stream",
          "name": "stdout",
          "text": [
            "7.966\n"
          ]
        }
      ]
    },
    {
      "cell_type": "code",
      "source": [
        "import pandas as pd\n",
        "df = pd.read_csv('gehan.csv')\n",
        "print(df.head())\n",
        "\n",
        "# time 컬럼에서 이상값의 합을 구하여라\n",
        "# 정수\n",
        "# 이상값은 평균에서 1.5 표준편차 이상으로 벗어난 값\n",
        "\n",
        "avg = df.time.mean()\n",
        "sd = df.time.std()\n",
        "cond = avg + 1.5*sd\n",
        "cond2 = avg - 1.5*sd\n",
        "\n",
        "cond3 = df.loc[(df['time'] > cond)| (df['time'] < cond2)].time.sum()\n",
        "\n",
        "print(cond3.astype('int64'))"
      ],
      "metadata": {
        "colab": {
          "base_uri": "https://localhost:8080/"
        },
        "id": "y8GidECXWc3f",
        "outputId": "d591532d-6a08-43ff-eb8b-3ec6ac9562ea"
      },
      "execution_count": 46,
      "outputs": [
        {
          "output_type": "stream",
          "name": "stdout",
          "text": [
            "   pair  time  cens    treat\n",
            "0     1     1     1  control\n",
            "1     1    10     1     6-MP\n",
            "2     2    22     1  control\n",
            "3     2     7     1     6-MP\n",
            "4     3     3     1  control\n",
            "133\n"
          ]
        }
      ]
    },
    {
      "cell_type": "code",
      "source": [
        "# 기출 3회\n",
        "\n",
        "import pandas as pd\n",
        "df = pd.read_csv('economics.csv')\n",
        "print(df.head())\n",
        "\n",
        "train = df.iloc[:int(len(df)*0.7)].copy()\n",
        "result = train['pce'].quantile(0.25)\n",
        "print(result.astype('int64'))"
      ],
      "metadata": {
        "colab": {
          "base_uri": "https://localhost:8080/"
        },
        "id": "eiYG1qTnXv_C",
        "outputId": "b09ba632-1a56-4445-ec38-5cb868ec3fb1"
      },
      "execution_count": 54,
      "outputs": [
        {
          "output_type": "stream",
          "name": "stdout",
          "text": [
            "         date    pce       pop  psavert  uempmed  unemploy\n",
            "0  1967-07-01  506.7  198712.0     12.6      4.5      2944\n",
            "1  1967-08-01  509.8  198911.0     12.6      4.7      2945\n",
            "2  1967-09-01  515.6  199113.0     11.9      4.6      2958\n",
            "3  1967-10-01  512.2  199311.0     12.9      4.9      3143\n",
            "4  1967-11-01  517.4  199498.0     12.8      4.7      3066\n",
            "1075\n"
          ]
        }
      ]
    },
    {
      "cell_type": "code",
      "source": [
        "import pandas as pd\n",
        "df = pd.read_csv('Hitters.csv')\n",
        "\n",
        "# Years 컬럼이 10인 데이터 추출\n",
        "# HmRun 컬럼이 평균보다 큰 선수가 몇 명인지 계산\n",
        "\n",
        "cond = df[df['Years']==10]\n",
        "avg = cond.HmRun.mean()\n",
        "cond2 = cond['HmRun']>avg\n",
        "result = cond2.value_counts()\n",
        "print(result)"
      ],
      "metadata": {
        "colab": {
          "base_uri": "https://localhost:8080/"
        },
        "id": "RgnH5QKKYgit",
        "outputId": "3900e1ba-f78f-42b0-fc20-7e917ceb6dbe"
      },
      "execution_count": 72,
      "outputs": [
        {
          "output_type": "stream",
          "name": "stdout",
          "text": [
            "HmRun\n",
            "False    8\n",
            "True     6\n",
            "Name: count, dtype: int64\n"
          ]
        }
      ]
    },
    {
      "cell_type": "code",
      "source": [
        "import pandas as pd\n",
        "df = pd.read_csv('msleep.csv')\n",
        "\n",
        "# 가장 결측치가 많은 컬럼 이름\n",
        "\n",
        "print(df.isna().sum())"
      ],
      "metadata": {
        "colab": {
          "base_uri": "https://localhost:8080/"
        },
        "id": "TFX0z_pGadUC",
        "outputId": "24c1bebf-02bf-409c-b2cd-dcf4a4da64a9"
      },
      "execution_count": 73,
      "outputs": [
        {
          "output_type": "stream",
          "name": "stdout",
          "text": [
            "name             0\n",
            "genus            0\n",
            "vore             7\n",
            "order            0\n",
            "conservation    29\n",
            "sleep_total      0\n",
            "sleep_rem       22\n",
            "sleep_cycle     51\n",
            "awake            0\n",
            "brainwt         27\n",
            "bodywt           0\n",
            "dtype: int64\n"
          ]
        }
      ]
    },
    {
      "cell_type": "code",
      "source": [
        "# 기출 4회\n",
        "\n",
        "import pandas as pd\n",
        "df = pd.read_csv('Cars93.csv')\n",
        "\n",
        "# Turn_circle 컬럼에 대하여 수행\n",
        "# 제 1사분위수, 2사분위수\n",
        "# 두 개의 차이 절댓값\n",
        "# 소수 버리기\n",
        "\n",
        "q1 = df['Turn_circle'].quantile(0.25)\n",
        "q2 = df['Turn_circle'].quantile(0.5)\n",
        "diff = abs(q1-q2)\n",
        "print(diff)"
      ],
      "metadata": {
        "colab": {
          "base_uri": "https://localhost:8080/"
        },
        "id": "k1pn_YcNane2",
        "outputId": "b9930cbe-1928-4701-d8d6-1a0ddde31055"
      },
      "execution_count": 78,
      "outputs": [
        {
          "output_type": "stream",
          "name": "stdout",
          "text": [
            "2.0\n"
          ]
        }
      ]
    },
    {
      "cell_type": "code",
      "source": [
        "import pandas as pd\n",
        "df = pd.read_csv('facebook_subset.csv')\n",
        "print(df.head())\n",
        "\n",
        "# 좋아요 받은 전체 수 중\n",
        "# 모바일에서 좋아요 받은 비율\n",
        "# 그 비율이 0.6보다 크고 0.7보다 작으면서\n",
        "# 성별이 남자인 경우의 레코드 수 / 정수\n",
        "\n",
        "df['ratio'] = df['mobile_likes_received'] / (df['mobile_likes_received']+df['www_likes_received'])\n",
        "cond = df['gender'] == 'male'\n",
        "cond2 = ((df['ratio'] > 0.6) & (df['ratio'] < 0.7))\n",
        "result = df[cond & cond2].shape[0]\n",
        "print(result)"
      ],
      "metadata": {
        "colab": {
          "base_uri": "https://localhost:8080/"
        },
        "id": "FsdcgFWRbfc6",
        "outputId": "d7a22980-9531-46c9-a41e-1d16049ba5e3"
      },
      "execution_count": 83,
      "outputs": [
        {
          "output_type": "stream",
          "name": "stdout",
          "text": [
            "    userid  age  dob_day  dob_year  dob_month  gender  tenure  friend_count  \\\n",
            "0  1988963   18       23      1995          9    male     608           502   \n",
            "1  1721951   22       23      1991          4    male     501           501   \n",
            "2  1215753   19       12      1994          8    male     392           512   \n",
            "3  1862120   41       17      1972          6    male     413           509   \n",
            "4  1772104   16       20      1997         12  female     581           511   \n",
            "\n",
            "   friendships_initiated  likes  likes_received  mobile_likes  \\\n",
            "0                    326    101               5            13   \n",
            "1                    411    104             134            14   \n",
            "2                    402    102              82           102   \n",
            "3                    412    111              59             0   \n",
            "4                    363    111              93             0   \n",
            "\n",
            "   mobile_likes_received  www_likes  www_likes_received  \n",
            "0                      0         88                   5  \n",
            "1                     88         90                  46  \n",
            "2                     68          0                  14  \n",
            "3                      7        111                  52  \n",
            "4                     19        111                  74  \n",
            "208\n"
          ]
        }
      ]
    },
    {
      "cell_type": "code",
      "source": [
        "import pandas as pd\n",
        "df = pd.read_csv('netflix_subset.csv', encoding='cp949')\n",
        "print(df.head())\n",
        "\n",
        "# 2021년 1월에 등록되었으면서\n",
        "# listed_in이 오직 Drama인 경우의 레코드 수를 구하여라\n",
        "\n",
        "df['date_added'] = pd.to_datetime(df['date_added'])\n",
        "year = df['date_added'].dt.year\n",
        "month = df['date_added'].dt.month\n",
        "cond = (year == 2021) & (month == 1)\n",
        "cond2 = df['listed_in'] == 'Dramas'\n",
        "result = df[cond&cond2].shape[0]\n",
        "print(result)"
      ],
      "metadata": {
        "colab": {
          "base_uri": "https://localhost:8080/"
        },
        "id": "dSBVEYlBdSK1",
        "outputId": "bbd03585-d956-4526-abcf-43a3888767f8"
      },
      "execution_count": 113,
      "outputs": [
        {
          "output_type": "stream",
          "name": "stdout",
          "text": [
            "  show_id     type                          title  \\\n",
            "0      s1    Movie           Dick Johnson Is Dead   \n",
            "1      s8    Movie                        Sankofa   \n",
            "2      s9  TV Show  The Great British Baking Show   \n",
            "3     s10    Movie                   The Starling   \n",
            "4     s16  TV Show              Dear White People   \n",
            "\n",
            "                                                cast  \\\n",
            "0                                                NaN   \n",
            "1  Kofi Ghanaba, Oyafunmike Ogunlano, Alexandra D...   \n",
            "2  Mel Giedroyc, Sue Perkins, Mary Berry, Paul Ho...   \n",
            "3  Melissa McCarthy, Chris O'Dowd, Kevin Kline, T...   \n",
            "4  Logan Browning, Brandon P. Bell, DeRon Horton,...   \n",
            "\n",
            "                                             country date_added  release_year  \\\n",
            "0                                      United States  25-Sep-21          2020   \n",
            "1  United States, Ghana, Burkina Faso, United Kin...  24-Sep-21          1993   \n",
            "2                                     United Kingdom  24-Sep-21          2021   \n",
            "3                                      United States  24-Sep-21          2021   \n",
            "4                                      United States  22-Sep-21          2021   \n",
            "\n",
            "  rating   duration                                         listed_in  \n",
            "0  PG-13     90 min                                     Documentaries  \n",
            "1  TV-MA    125 min  Dramas, Independent Movies, International Movies  \n",
            "2  TV-14  9 Seasons                      British TV Shows, Reality TV  \n",
            "3  PG-13    104 min                                  Comedies, Dramas  \n",
            "4  TV-MA  4 Seasons                            TV Comedies, TV Dramas  \n",
            "4\n"
          ]
        },
        {
          "output_type": "stream",
          "name": "stderr",
          "text": [
            "<ipython-input-113-1c7c10da944a>:8: UserWarning: Could not infer format, so each element will be parsed individually, falling back to `dateutil`. To ensure parsing is consistent and as-expected, please specify a format.\n",
            "  df['date_added'] = pd.to_datetime(df['date_added'])\n"
          ]
        }
      ]
    },
    {
      "cell_type": "code",
      "source": [
        "# 기출 5회\n",
        "\n",
        "import pandas as pd\n",
        "df = pd.read_csv('전국_종량제봉투_가격표준.csv', encoding='cp949')\n",
        "print(df.head())\n",
        "\n",
        "# 전국의 2L 음식물쓰레기 규격봉투의 평균 가격\n",
        "# 정수 소수 버리기\n",
        "# 가격이 0원인 경우 평균계산 제외\n",
        "\n",
        "cond = ((df['종량제봉투종류'] == '규격봉투')&(df['종량제봉투용도'] == '음식물쓰레기'))\n",
        "cond2 = df['2L가격'] != 0\n",
        "result = df[cond&cond2]['2L가격'].mean()\n",
        "print(result)"
      ],
      "metadata": {
        "colab": {
          "base_uri": "https://localhost:8080/"
        },
        "id": "Up_qqBNthJEc",
        "outputId": "10de8f65-349b-421d-cd88-1eb8eee073d3"
      },
      "execution_count": 123,
      "outputs": [
        {
          "output_type": "stream",
          "name": "stdout",
          "text": [
            "   시도명 시군구명 종량제봉투종류 종량제봉투처리방식 종량제봉투용도 종량제봉투사용대상  1L가격  1.5L가격  2L가격  2.5L가격  \\\n",
            "0  경기도  안양시    규격봉투       매립용   생활쓰레기      사업장용     0       0     0       0   \n",
            "1  경기도  안양시    규격봉투       매립용   생활쓰레기        기타     0       0     0       0   \n",
            "2  경기도  안양시    규격봉투       소각용  음식물쓰레기       가정용     0      50     0      80   \n",
            "3  경기도  안양시    규격봉투       소각용  음식물쓰레기      사업장용     0      50     0      80   \n",
            "4  경기도  안양시    규격봉투       소각용  음식물쓰레기        기타     0      50     0      80   \n",
            "\n",
            "   ...  5L가격  10L가격  20L가격  30L가격  50L가격  60L가격  75L가격  100L가격  120L가격  125L가격  \n",
            "0  ...   150    300    550      0   1400      0   2100       0       0       0  \n",
            "1  ...   150    300    550      0   1400      0   2100       0       0       0  \n",
            "2  ...   150    300    550      0      0      0      0       0       0       0  \n",
            "3  ...   150    300    550      0      0      0      0       0       0       0  \n",
            "4  ...   150    300    550      0      0      0      0       0       0       0  \n",
            "\n",
            "[5 rows x 21 columns]\n",
            "119.32692307692308\n"
          ]
        }
      ]
    },
    {
      "cell_type": "code",
      "source": [
        "import pandas as pd\n",
        "df = pd.read_csv('bmi.csv', encoding='cp949')\n",
        "print(df.info())\n",
        "\n",
        "# bmi 계산\n",
        "# 정상체중에 속하는 인원과 과체중에 속하는 인원의 차이 절댓값\n",
        "# 몸무게 / 키의 제곱\n",
        "# 정수로만 소수 버림\n",
        "\n",
        "df['bmi'] = df['Weight'] / ((df['Height']/100)**2)\n",
        "cond = df[(df['bmi'] >= 18.5) & (df['bmi'] < 23.0)].shape[0]\n",
        "cond2 = df[(df['bmi'] >= 23.0) & (df['bmi'] < 25.0)].shape[0]\n",
        "diff = abs(cond - cond2)\n",
        "print(diff)"
      ],
      "metadata": {
        "colab": {
          "base_uri": "https://localhost:8080/"
        },
        "id": "ixsz5nqWieCq",
        "outputId": "f8508b4e-4510-486e-e131-3d1f200b8fe1"
      },
      "execution_count": 146,
      "outputs": [
        {
          "output_type": "stream",
          "name": "stdout",
          "text": [
            "<class 'pandas.core.frame.DataFrame'>\n",
            "RangeIndex: 500 entries, 0 to 499\n",
            "Data columns (total 3 columns):\n",
            " #   Column  Non-Null Count  Dtype  \n",
            "---  ------  --------------  -----  \n",
            " 0   Gender  500 non-null    object \n",
            " 1   Height  500 non-null    float64\n",
            " 2   Weight  500 non-null    float64\n",
            "dtypes: float64(2), object(1)\n",
            "memory usage: 11.8+ KB\n",
            "None\n",
            "130\n"
          ]
        }
      ]
    },
    {
      "cell_type": "code",
      "source": [
        "import pandas as pd\n",
        "df = pd.read_csv('2022_부산초등학교_전출입학생현황.csv', encoding='cp949')\n",
        "\n",
        "# 순전입학생의 수가 가장 많은 순전입학교의 전체학생수를 입력\n",
        "# 순전입학생 = 총 전입학생 수 - 총 전출학생 수\n",
        "# 순전입학교 = 총 전출학생 수 < 총 전입학생 수\n",
        "\n",
        "df = df[df.전출학생수합계 < df.전입학생수합계]\n",
        "df['cond2'] = (df.전입학생수합계 - df.전출학생수합계)\n",
        "cond2 = df.loc[df['cond2'].idxmax()]\n",
        "print(cond2)"
      ],
      "metadata": {
        "colab": {
          "base_uri": "https://localhost:8080/"
        },
        "id": "W7Ky7CD-kuDz",
        "outputId": "2b53aeab-7c0c-488b-bcd8-1a1585b6bfc5"
      },
      "execution_count": 173,
      "outputs": [
        {
          "output_type": "stream",
          "name": "stdout",
          "text": [
            "학교명         해빛초등학교\n",
            "설립구분            공립\n",
            "1학년전입학생수         7\n",
            "1학년전출학생수         3\n",
            "1학년전체학생수       163\n",
            "2학년전입학생수       104\n",
            "2학년전출학생수         4\n",
            "2학년전체학생수        98\n",
            "3학년전입학생수       108\n",
            "3학년전출학생수         1\n",
            "3학년전체학생수       105\n",
            "4학년전입학생수        91\n",
            "4학년전출학생수         2\n",
            "4학년전체학생수        84\n",
            "5학년전입학생수        81\n",
            "5학년전출학생수         1\n",
            "5학년전체학생수        76\n",
            "6학년전입학생수        56\n",
            "6학년전출학생수         1\n",
            "6학년전체학생수        51\n",
            "전입학생수합계        447\n",
            "전출학생수합계         12\n",
            "전체학생수합계        577\n",
            "cond2          435\n",
            "Name: 303, dtype: object\n"
          ]
        }
      ]
    },
    {
      "cell_type": "code",
      "source": [
        "# 기출 6회\n",
        "\n",
        "import pandas as pd\n",
        "df = pd.read_csv('sejong_fire.csv', encoding='cp949')\n",
        "print(df.head())\n",
        "\n",
        "# 접수시간으로부터 상황종료시간까지 소요되는 시간을 화재진압시간\n",
        "# 10년 중 화재진압시간이 가장 오래 걸린 서센터의 10년 간의 평균 화재 진압시간 입력\n",
        "\n",
        "df['상황종료일시'] = pd.to_datetime(df['상황종료일시'])\n",
        "df['접수일시'] = pd.to_datetime(df['접수일시'])\n",
        "df['화재진압시간'] = (df['상황종료일시'] - df['접수일시']).dt.total_seconds()/ 60\n",
        "\n",
        "cond = df['화재진압시간'].idxmax()\n",
        "print(df['서센터명'][cond])\n",
        "result = df[df['서센터명'] == '조치원119구조대'].화재진압시간.mean()\n",
        "print(result)"
      ],
      "metadata": {
        "colab": {
          "base_uri": "https://localhost:8080/"
        },
        "id": "uyqb8xRDqF-x",
        "outputId": "4f29b01a-9b27-407b-cb3b-a6e4f51c5506"
      },
      "execution_count": 185,
      "outputs": [
        {
          "output_type": "stream",
          "name": "stdout",
          "text": [
            "     관할서명        서센터명      화재구분              접수일시            상황종료일시\n",
            "0  조치원소방서   전의119안전센터      기타화재  2012-08-28 16:36  2012-08-28 17:09\n",
            "1  조치원소방서  조치원119안전센터      기타화재  2012-07-14 23:41   2012-07-15 0:10\n",
            "2  조치원소방서  조치원119안전센터  일반화재(주택)  2012-07-15 14:26  2012-07-15 14:50\n",
            "3  조치원소방서  조치원119안전센터      대형화재   2012-07-16 1:36   2012-07-16 2:58\n",
            "4  조치원소방서  조치원119안전센터  일반화재(주택)  2012-07-29 12:50  2012-07-29 13:44\n",
            "조치원119구조대\n",
            "1573.1029411764705\n"
          ]
        }
      ]
    },
    {
      "cell_type": "code",
      "source": [
        "import pandas as pd\n",
        "df = pd.read_csv('busan_school_Info.csv', encoding='cp949')\n",
        "print(df.head())\n",
        "\n",
        "# 전체 학생 수 대비 교사의 비율이 가장 높은 학교의 교사 수\n",
        "\n",
        "ratio = df.iloc[:,1:7].sum(axis = 1) / df['teacher']\n",
        "cond = df['teacher'][ratio.argmax()]\n",
        "print(cond)"
      ],
      "metadata": {
        "colab": {
          "base_uri": "https://localhost:8080/"
        },
        "id": "vb7FjcGuvjiT",
        "outputId": "1735335e-034d-4d18-87bd-df3352608a27"
      },
      "execution_count": 212,
      "outputs": [
        {
          "output_type": "stream",
          "name": "stdout",
          "text": [
            "  school_name  student_1  student_2  student_3  student_4  student_5  \\\n",
            "0      광일초등학교         43         36         35         51         65   \n",
            "1      남성초등학교         86        100         99         71         78   \n",
            "2      대남초등학교         46         70         49         40         62   \n",
            "3      대연초등학교        132        135        151        156        179   \n",
            "4      대천초등학교         90        106         84        106        126   \n",
            "\n",
            "   student_6  teacher  \n",
            "0         60       16  \n",
            "1         49       22  \n",
            "2         56       20  \n",
            "3        171       45  \n",
            "4        118       34  \n",
            "24\n"
          ]
        }
      ]
    },
    {
      "cell_type": "code",
      "source": [
        "import pandas as pd\n",
        "df = pd.read_csv('five_crime.csv', encoding='cp949')\n",
        "print(df.head())\n",
        "\n",
        "# 연도별 범죄 총 발생건수의 월평균이\n",
        "# 가장 큰 연도의 월평균 폭력검거 건수\n",
        "\n",
        "df['연월'] = df['연월'].str.replace(' ','')\n",
        "df['연월'] = df['연월'].str.replace('월','')\n",
        "df['year'] = df['연월'].str[:4]\n",
        "df['month'] = df['연월'].str[5:7]\n",
        "\n",
        "df['총발생건수'] = df.iloc[:,range(1,11,2)].sum(axis=1)\n",
        "avg = df.groupby('year').총발생건수.mean()\n",
        "cond = avg.idxmax()\n",
        "result = df[df['year'] == cond]['폭력_검거건수'].mean()\n",
        "print(result)"
      ],
      "metadata": {
        "colab": {
          "base_uri": "https://localhost:8080/"
        },
        "id": "ZbPRYN7UyM5g",
        "outputId": "ff101c7e-de57-46dc-ca51-03c3666d7233"
      },
      "execution_count": 233,
      "outputs": [
        {
          "output_type": "stream",
          "name": "stdout",
          "text": [
            "           연월  살인_발생건수  살인_검거건수  강도_발생건수  강도_검거건수  강간_강제추행_발생건수  강간_강제추행_검거건수  \\\n",
            "0  2008. 01 월       19       18       49       49           191           186   \n",
            "1  2008. 02 월        9        9       43       36           184           182   \n",
            "2  2008. 03 월       14       10       78       75           262           255   \n",
            "3  2008. 04 월       19       20      102       88           276           262   \n",
            "4  2008. 05 월       23       23       79       71           297           290   \n",
            "\n",
            "   절도_발생건수  절도_검거건수  폭력_발생건수  폭력_검거건수  \n",
            "0     1870     1166     5534     5342  \n",
            "1     1733      996     4534     4341  \n",
            "2     2374     1687     5690     5464  \n",
            "3     2513     1744     6080     5843  \n",
            "4     2406     1375     6427     6135  \n",
            "4884.166666666667\n"
          ]
        }
      ]
    },
    {
      "cell_type": "code",
      "source": [
        "# 기출 7회\n",
        "\n",
        "import pandas as pd\n",
        "df = pd.read_csv('test_score.csv', encoding='cp949')\n",
        "print(df.head())\n",
        "\n",
        "# 응시자가 가장 많은 연령대의\n",
        "# 기본 간호학 과목 점수를 표준화하여 가장 높은 값\n",
        "\n",
        "max_age = df['연령대'].value_counts().idxmax()\n",
        "cond = (df['연령대'] == max_age)&(df['과목명'] == '기본간호학')\n",
        "result = (df[cond]['과목별점수'] - df[cond]['과목별점수'].mean()) / df[cond]['과목별점수'].std()\n",
        "result = result.max()\n",
        "print(result)"
      ],
      "metadata": {
        "colab": {
          "base_uri": "https://localhost:8080/"
        },
        "id": "_3qc83Za1K7e",
        "outputId": "cd547450-eedb-41ce-96ad-f3ba14b9586a"
      },
      "execution_count": 258,
      "outputs": [
        {
          "output_type": "stream",
          "name": "stdout",
          "text": [
            "     연도                                     직종    회차  일련번호        과목명  과목별점수  \\\n",
            "0  2023  간호사                                    63.0     1    지역사회간호학    0.0   \n",
            "1  2023  간호사                                    63.0     1      아동간호학    0.0   \n",
            "2  2023  간호사                                    63.0     1      성인간호학    0.0   \n",
            "3  2023  간호사                                    63.0     1  보건의약관계 법규    0.0   \n",
            "4  2023  간호사                                    63.0     1      기본간호학    0.0   \n",
            "\n",
            "    총점 합격여부 성별  연령대  \n",
            "0  0.0   결시  여   50  \n",
            "1  0.0   결시  여   50  \n",
            "2  0.0   결시  여   50  \n",
            "3  0.0   결시  여   50  \n",
            "4  0.0   결시  여   50  \n",
            "0.5979741854838708\n"
          ]
        }
      ]
    },
    {
      "cell_type": "code",
      "source": [
        "import pandas as pd\n",
        "df = pd.read_csv('diabetes.csv', encoding='cp949')\n",
        "print(df.head())\n",
        "\n",
        "# progression 컬럼과 다른 컬럼들 간의 모든 상관관계 중\n",
        "# 가장 상관관계가 큰 컬럼의 최댓값\n",
        "\n",
        "co = df.corr()['progression'].abs().sort_values(ascending=False)\n",
        "print(df[co.index[1]].max())"
      ],
      "metadata": {
        "colab": {
          "base_uri": "https://localhost:8080/"
        },
        "id": "eGYPbhYG42cw",
        "outputId": "c2c91b61-a099-4f96-fe73-aa631f3e4af5"
      },
      "execution_count": 267,
      "outputs": [
        {
          "output_type": "stream",
          "name": "stdout",
          "text": [
            "        age       sex       bmi        bp        s1        s2        s3  \\\n",
            "0  0.038076  0.050680  0.061696  0.021872 -0.044223 -0.034821 -0.043401   \n",
            "1 -0.001882 -0.044642 -0.051474 -0.026328 -0.008449 -0.019163  0.074412   \n",
            "2  0.085299  0.050680  0.044451 -0.005670 -0.045599 -0.034194 -0.032356   \n",
            "3 -0.089063 -0.044642 -0.011595 -0.036656  0.012191  0.024991 -0.036038   \n",
            "4  0.005383 -0.044642 -0.036385  0.021872  0.003935  0.015596  0.008142   \n",
            "\n",
            "         s4        s5        s6  progression  \n",
            "0 -0.002592  0.019907 -0.017646        151.0  \n",
            "1 -0.039493 -0.068332 -0.092204         75.0  \n",
            "2 -0.002592  0.002861 -0.025930        141.0  \n",
            "3  0.034309  0.022688 -0.009362        206.0  \n",
            "4 -0.002592 -0.031988 -0.046641        135.0  \n",
            "0.170555225980644\n"
          ]
        }
      ]
    },
    {
      "cell_type": "code",
      "source": [
        "import pandas as pd\n",
        "df = pd.read_csv('iris.csv', encoding='cp949')\n",
        "print(df.head())\n",
        "\n",
        "# sepla_length 컬럼의 이상치 갯수를\n",
        "# 결측치는 중앙값으로\n",
        "# 구간 벗어나기\n",
        "\n",
        "med = df['sepal_length'].median()\n",
        "df['sepal_length'] = df['sepal_length'].fillna(med)\n",
        "\n",
        "q1 = df['sepal_length'].quantile(0.25)\n",
        "q3 = df['sepal_length'].quantile(0.75)\n",
        "iqr = q3 - q1\n",
        "\n",
        "result = df[(df['sepal_length'] > q3+1.5*iqr)|(df['sepal_length'] < q1-1.5*iqr)]\n",
        "print(result.shape[0])"
      ],
      "metadata": {
        "colab": {
          "base_uri": "https://localhost:8080/"
        },
        "id": "FgmLGBrQ569o",
        "outputId": "63cd5d73-b63f-431f-d258-e1f9865bf94a"
      },
      "execution_count": 276,
      "outputs": [
        {
          "output_type": "stream",
          "name": "stdout",
          "text": [
            "   sepal_length  sepal_width  petal_length  petal_width species\n",
            "0           5.1          3.5           1.4          0.2  setosa\n",
            "1           4.9          3.0           1.4          0.2  setosa\n",
            "2           4.7          3.2           1.3          0.2  setosa\n",
            "3           4.6          3.1           1.5          0.2  setosa\n",
            "4           5.0          3.6           1.4          0.2  setosa\n",
            "5\n"
          ]
        }
      ]
    },
    {
      "cell_type": "code",
      "source": [],
      "metadata": {
        "id": "8t5HGgU28Kw5"
      },
      "execution_count": null,
      "outputs": []
    }
  ]
}