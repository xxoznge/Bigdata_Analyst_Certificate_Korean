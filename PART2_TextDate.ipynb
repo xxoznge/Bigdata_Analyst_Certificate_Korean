{
  "nbformat": 4,
  "nbformat_minor": 0,
  "metadata": {
    "colab": {
      "provenance": [],
      "toc_visible": true,
      "authorship_tag": "ABX9TyPCnGHWAHk4nUDD3P9QXNhK",
      "include_colab_link": true
    },
    "kernelspec": {
      "name": "python3",
      "display_name": "Python 3"
    },
    "language_info": {
      "name": "python"
    }
  },
  "cells": [
    {
      "cell_type": "markdown",
      "metadata": {
        "id": "view-in-github",
        "colab_type": "text"
      },
      "source": [
        "<a href=\"https://colab.research.google.com/github/xxoznge/Bigdata_Analyst_Certificate_Korean/blob/main/PART2_TextDate.ipynb\" target=\"_parent\"><img src=\"https://colab.research.google.com/assets/colab-badge.svg\" alt=\"Open In Colab\"/></a>"
      ]
    },
    {
      "cell_type": "code",
      "execution_count": null,
      "metadata": {
        "id": "YcL41Lrjn0LA"
      },
      "outputs": [],
      "source": [
        "# 6-1. 텍스트 데이터 다루기"
      ]
    },
    {
      "cell_type": "code",
      "source": [
        "# 1. 문자열 데이터 전처리\n",
        "# startswith, endswith, contains, contains, split, find, rfind, findall, eplace, strip, lstrip, rstrip, lower, upper, swapcase\n",
        "import pandas as pd\n",
        "\n",
        "df = pd.read_csv(\"University_text_after.csv\", encoding = 'CP949')"
      ],
      "metadata": {
        "id": "c8SAFmvroU6U"
      },
      "execution_count": null,
      "outputs": []
    },
    {
      "cell_type": "code",
      "source": [
        "df['주소'].str[0:5]"
      ],
      "metadata": {
        "colab": {
          "base_uri": "https://localhost:8080/"
        },
        "id": "qz1k2GMmpYK-",
        "outputId": "cce07093-5f9e-4226-fd21-ed20e7c279aa"
      },
      "execution_count": null,
      "outputs": [
        {
          "output_type": "execute_result",
          "data": {
            "text/plain": [
              "0     서울특별시\n",
              "1     대전광역시\n",
              "2     서울특별시\n",
              "3     서울특별시\n",
              "4     울산광역시\n",
              "5     경상북도 \n",
              "6     서울특별시\n",
              "7     서울특별시\n",
              "8     서울특별시\n",
              "9     서울특별시\n",
              "10    광주광역시\n",
              "11    경기도 수\n",
              "12    서울특별시\n",
              "13    서울특별시\n",
              "14    서울특별시\n",
              "15    대구광역시\n",
              "16    울산광역시\n",
              "17    부산광역시\n",
              "18    경상북도 \n",
              "19    서울특별시\n",
              "Name: 주소, dtype: object"
            ]
          },
          "metadata": {},
          "execution_count": 2
        }
      ]
    },
    {
      "cell_type": "code",
      "source": [
        "df['주소'].str.startswith(\"서울\")"
      ],
      "metadata": {
        "colab": {
          "base_uri": "https://localhost:8080/"
        },
        "id": "baU-w-dJqW1v",
        "outputId": "a9ee561c-45c3-4699-c4c7-10160b2c0ffc"
      },
      "execution_count": null,
      "outputs": [
        {
          "output_type": "execute_result",
          "data": {
            "text/plain": [
              "0      True\n",
              "1     False\n",
              "2      True\n",
              "3      True\n",
              "4     False\n",
              "5     False\n",
              "6      True\n",
              "7      True\n",
              "8      True\n",
              "9      True\n",
              "10    False\n",
              "11    False\n",
              "12     True\n",
              "13     True\n",
              "14     True\n",
              "15    False\n",
              "16    False\n",
              "17    False\n",
              "18    False\n",
              "19     True\n",
              "Name: 주소, dtype: bool"
            ]
          },
          "metadata": {},
          "execution_count": 6
        }
      ]
    },
    {
      "cell_type": "code",
      "source": [
        "df[df['주소'].str.startswith(\"서울\")]"
      ],
      "metadata": {
        "colab": {
          "base_uri": "https://localhost:8080/",
          "height": 394
        },
        "id": "gRRV379TqW5t",
        "outputId": "341c19e2-329b-40bb-a024-b022625f5b5e"
      },
      "execution_count": null,
      "outputs": [
        {
          "output_type": "execute_result",
          "data": {
            "text/plain": [
              "       대학이름                     주소\n",
              "0     서울대학교        서울특별시 관악구 관악로 1\n",
              "2    성균관대학교    서울특별시 종로구 성균관로 25-2\n",
              "3     연세대학교      서울특별시 서대문구 연세로 50\n",
              "6     고려대학교      서울특별시 성북구 안암로 145\n",
              "7     경희대학교     서울특별시 동대문구 경희대로 26\n",
              "8     세종대학교      서울특별시 광진구 능동로 209\n",
              "9     한양대학교     서울특별시 성동구 왕십리로 222\n",
              "12    중앙대학교       서울특별시 동작구 흑석로 84\n",
              "13  이화여자대학교    서울특별시 서대문구 이화여대길 52\n",
              "14    건국대학교      서울특별시 광진구 능동로 120\n",
              "19   가톨릭대학교  서울특별시 종로구 창경궁로 296-12"
            ],
            "text/html": [
              "\n",
              "  <div id=\"df-80a1a2f1-a9fe-4224-b5b9-d718991921cc\" class=\"colab-df-container\">\n",
              "    <div>\n",
              "<style scoped>\n",
              "    .dataframe tbody tr th:only-of-type {\n",
              "        vertical-align: middle;\n",
              "    }\n",
              "\n",
              "    .dataframe tbody tr th {\n",
              "        vertical-align: top;\n",
              "    }\n",
              "\n",
              "    .dataframe thead th {\n",
              "        text-align: right;\n",
              "    }\n",
              "</style>\n",
              "<table border=\"1\" class=\"dataframe\">\n",
              "  <thead>\n",
              "    <tr style=\"text-align: right;\">\n",
              "      <th></th>\n",
              "      <th>대학이름</th>\n",
              "      <th>주소</th>\n",
              "    </tr>\n",
              "  </thead>\n",
              "  <tbody>\n",
              "    <tr>\n",
              "      <th>0</th>\n",
              "      <td>서울대학교</td>\n",
              "      <td>서울특별시 관악구 관악로 1</td>\n",
              "    </tr>\n",
              "    <tr>\n",
              "      <th>2</th>\n",
              "      <td>성균관대학교</td>\n",
              "      <td>서울특별시 종로구 성균관로 25-2</td>\n",
              "    </tr>\n",
              "    <tr>\n",
              "      <th>3</th>\n",
              "      <td>연세대학교</td>\n",
              "      <td>서울특별시 서대문구 연세로 50</td>\n",
              "    </tr>\n",
              "    <tr>\n",
              "      <th>6</th>\n",
              "      <td>고려대학교</td>\n",
              "      <td>서울특별시 성북구 안암로 145</td>\n",
              "    </tr>\n",
              "    <tr>\n",
              "      <th>7</th>\n",
              "      <td>경희대학교</td>\n",
              "      <td>서울특별시 동대문구 경희대로 26</td>\n",
              "    </tr>\n",
              "    <tr>\n",
              "      <th>8</th>\n",
              "      <td>세종대학교</td>\n",
              "      <td>서울특별시 광진구 능동로 209</td>\n",
              "    </tr>\n",
              "    <tr>\n",
              "      <th>9</th>\n",
              "      <td>한양대학교</td>\n",
              "      <td>서울특별시 성동구 왕십리로 222</td>\n",
              "    </tr>\n",
              "    <tr>\n",
              "      <th>12</th>\n",
              "      <td>중앙대학교</td>\n",
              "      <td>서울특별시 동작구 흑석로 84</td>\n",
              "    </tr>\n",
              "    <tr>\n",
              "      <th>13</th>\n",
              "      <td>이화여자대학교</td>\n",
              "      <td>서울특별시 서대문구 이화여대길 52</td>\n",
              "    </tr>\n",
              "    <tr>\n",
              "      <th>14</th>\n",
              "      <td>건국대학교</td>\n",
              "      <td>서울특별시 광진구 능동로 120</td>\n",
              "    </tr>\n",
              "    <tr>\n",
              "      <th>19</th>\n",
              "      <td>가톨릭대학교</td>\n",
              "      <td>서울특별시 종로구 창경궁로 296-12</td>\n",
              "    </tr>\n",
              "  </tbody>\n",
              "</table>\n",
              "</div>\n",
              "    <div class=\"colab-df-buttons\">\n",
              "\n",
              "  <div class=\"colab-df-container\">\n",
              "    <button class=\"colab-df-convert\" onclick=\"convertToInteractive('df-80a1a2f1-a9fe-4224-b5b9-d718991921cc')\"\n",
              "            title=\"Convert this dataframe to an interactive table.\"\n",
              "            style=\"display:none;\">\n",
              "\n",
              "  <svg xmlns=\"http://www.w3.org/2000/svg\" height=\"24px\" viewBox=\"0 -960 960 960\">\n",
              "    <path d=\"M120-120v-720h720v720H120Zm60-500h600v-160H180v160Zm220 220h160v-160H400v160Zm0 220h160v-160H400v160ZM180-400h160v-160H180v160Zm440 0h160v-160H620v160ZM180-180h160v-160H180v160Zm440 0h160v-160H620v160Z\"/>\n",
              "  </svg>\n",
              "    </button>\n",
              "\n",
              "  <style>\n",
              "    .colab-df-container {\n",
              "      display:flex;\n",
              "      gap: 12px;\n",
              "    }\n",
              "\n",
              "    .colab-df-convert {\n",
              "      background-color: #E8F0FE;\n",
              "      border: none;\n",
              "      border-radius: 50%;\n",
              "      cursor: pointer;\n",
              "      display: none;\n",
              "      fill: #1967D2;\n",
              "      height: 32px;\n",
              "      padding: 0 0 0 0;\n",
              "      width: 32px;\n",
              "    }\n",
              "\n",
              "    .colab-df-convert:hover {\n",
              "      background-color: #E2EBFA;\n",
              "      box-shadow: 0px 1px 2px rgba(60, 64, 67, 0.3), 0px 1px 3px 1px rgba(60, 64, 67, 0.15);\n",
              "      fill: #174EA6;\n",
              "    }\n",
              "\n",
              "    .colab-df-buttons div {\n",
              "      margin-bottom: 4px;\n",
              "    }\n",
              "\n",
              "    [theme=dark] .colab-df-convert {\n",
              "      background-color: #3B4455;\n",
              "      fill: #D2E3FC;\n",
              "    }\n",
              "\n",
              "    [theme=dark] .colab-df-convert:hover {\n",
              "      background-color: #434B5C;\n",
              "      box-shadow: 0px 1px 3px 1px rgba(0, 0, 0, 0.15);\n",
              "      filter: drop-shadow(0px 1px 2px rgba(0, 0, 0, 0.3));\n",
              "      fill: #FFFFFF;\n",
              "    }\n",
              "  </style>\n",
              "\n",
              "    <script>\n",
              "      const buttonEl =\n",
              "        document.querySelector('#df-80a1a2f1-a9fe-4224-b5b9-d718991921cc button.colab-df-convert');\n",
              "      buttonEl.style.display =\n",
              "        google.colab.kernel.accessAllowed ? 'block' : 'none';\n",
              "\n",
              "      async function convertToInteractive(key) {\n",
              "        const element = document.querySelector('#df-80a1a2f1-a9fe-4224-b5b9-d718991921cc');\n",
              "        const dataTable =\n",
              "          await google.colab.kernel.invokeFunction('convertToInteractive',\n",
              "                                                    [key], {});\n",
              "        if (!dataTable) return;\n",
              "\n",
              "        const docLinkHtml = 'Like what you see? Visit the ' +\n",
              "          '<a target=\"_blank\" href=https://colab.research.google.com/notebooks/data_table.ipynb>data table notebook</a>'\n",
              "          + ' to learn more about interactive tables.';\n",
              "        element.innerHTML = '';\n",
              "        dataTable['output_type'] = 'display_data';\n",
              "        await google.colab.output.renderOutput(dataTable, element);\n",
              "        const docLink = document.createElement('div');\n",
              "        docLink.innerHTML = docLinkHtml;\n",
              "        element.appendChild(docLink);\n",
              "      }\n",
              "    </script>\n",
              "  </div>\n",
              "\n",
              "\n",
              "<div id=\"df-a0e4fc4c-6918-4fc7-9492-e46a36b17beb\">\n",
              "  <button class=\"colab-df-quickchart\" onclick=\"quickchart('df-a0e4fc4c-6918-4fc7-9492-e46a36b17beb')\"\n",
              "            title=\"Suggest charts\"\n",
              "            style=\"display:none;\">\n",
              "\n",
              "<svg xmlns=\"http://www.w3.org/2000/svg\" height=\"24px\"viewBox=\"0 0 24 24\"\n",
              "     width=\"24px\">\n",
              "    <g>\n",
              "        <path d=\"M19 3H5c-1.1 0-2 .9-2 2v14c0 1.1.9 2 2 2h14c1.1 0 2-.9 2-2V5c0-1.1-.9-2-2-2zM9 17H7v-7h2v7zm4 0h-2V7h2v10zm4 0h-2v-4h2v4z\"/>\n",
              "    </g>\n",
              "</svg>\n",
              "  </button>\n",
              "\n",
              "<style>\n",
              "  .colab-df-quickchart {\n",
              "      --bg-color: #E8F0FE;\n",
              "      --fill-color: #1967D2;\n",
              "      --hover-bg-color: #E2EBFA;\n",
              "      --hover-fill-color: #174EA6;\n",
              "      --disabled-fill-color: #AAA;\n",
              "      --disabled-bg-color: #DDD;\n",
              "  }\n",
              "\n",
              "  [theme=dark] .colab-df-quickchart {\n",
              "      --bg-color: #3B4455;\n",
              "      --fill-color: #D2E3FC;\n",
              "      --hover-bg-color: #434B5C;\n",
              "      --hover-fill-color: #FFFFFF;\n",
              "      --disabled-bg-color: #3B4455;\n",
              "      --disabled-fill-color: #666;\n",
              "  }\n",
              "\n",
              "  .colab-df-quickchart {\n",
              "    background-color: var(--bg-color);\n",
              "    border: none;\n",
              "    border-radius: 50%;\n",
              "    cursor: pointer;\n",
              "    display: none;\n",
              "    fill: var(--fill-color);\n",
              "    height: 32px;\n",
              "    padding: 0;\n",
              "    width: 32px;\n",
              "  }\n",
              "\n",
              "  .colab-df-quickchart:hover {\n",
              "    background-color: var(--hover-bg-color);\n",
              "    box-shadow: 0 1px 2px rgba(60, 64, 67, 0.3), 0 1px 3px 1px rgba(60, 64, 67, 0.15);\n",
              "    fill: var(--button-hover-fill-color);\n",
              "  }\n",
              "\n",
              "  .colab-df-quickchart-complete:disabled,\n",
              "  .colab-df-quickchart-complete:disabled:hover {\n",
              "    background-color: var(--disabled-bg-color);\n",
              "    fill: var(--disabled-fill-color);\n",
              "    box-shadow: none;\n",
              "  }\n",
              "\n",
              "  .colab-df-spinner {\n",
              "    border: 2px solid var(--fill-color);\n",
              "    border-color: transparent;\n",
              "    border-bottom-color: var(--fill-color);\n",
              "    animation:\n",
              "      spin 1s steps(1) infinite;\n",
              "  }\n",
              "\n",
              "  @keyframes spin {\n",
              "    0% {\n",
              "      border-color: transparent;\n",
              "      border-bottom-color: var(--fill-color);\n",
              "      border-left-color: var(--fill-color);\n",
              "    }\n",
              "    20% {\n",
              "      border-color: transparent;\n",
              "      border-left-color: var(--fill-color);\n",
              "      border-top-color: var(--fill-color);\n",
              "    }\n",
              "    30% {\n",
              "      border-color: transparent;\n",
              "      border-left-color: var(--fill-color);\n",
              "      border-top-color: var(--fill-color);\n",
              "      border-right-color: var(--fill-color);\n",
              "    }\n",
              "    40% {\n",
              "      border-color: transparent;\n",
              "      border-right-color: var(--fill-color);\n",
              "      border-top-color: var(--fill-color);\n",
              "    }\n",
              "    60% {\n",
              "      border-color: transparent;\n",
              "      border-right-color: var(--fill-color);\n",
              "    }\n",
              "    80% {\n",
              "      border-color: transparent;\n",
              "      border-right-color: var(--fill-color);\n",
              "      border-bottom-color: var(--fill-color);\n",
              "    }\n",
              "    90% {\n",
              "      border-color: transparent;\n",
              "      border-bottom-color: var(--fill-color);\n",
              "    }\n",
              "  }\n",
              "</style>\n",
              "\n",
              "  <script>\n",
              "    async function quickchart(key) {\n",
              "      const quickchartButtonEl =\n",
              "        document.querySelector('#' + key + ' button');\n",
              "      quickchartButtonEl.disabled = true;  // To prevent multiple clicks.\n",
              "      quickchartButtonEl.classList.add('colab-df-spinner');\n",
              "      try {\n",
              "        const charts = await google.colab.kernel.invokeFunction(\n",
              "            'suggestCharts', [key], {});\n",
              "      } catch (error) {\n",
              "        console.error('Error during call to suggestCharts:', error);\n",
              "      }\n",
              "      quickchartButtonEl.classList.remove('colab-df-spinner');\n",
              "      quickchartButtonEl.classList.add('colab-df-quickchart-complete');\n",
              "    }\n",
              "    (() => {\n",
              "      let quickchartButtonEl =\n",
              "        document.querySelector('#df-a0e4fc4c-6918-4fc7-9492-e46a36b17beb button');\n",
              "      quickchartButtonEl.style.display =\n",
              "        google.colab.kernel.accessAllowed ? 'block' : 'none';\n",
              "    })();\n",
              "  </script>\n",
              "</div>\n",
              "    </div>\n",
              "  </div>\n"
            ],
            "application/vnd.google.colaboratory.intrinsic+json": {
              "type": "dataframe",
              "summary": "{\n  \"name\": \"df[df['\\uc8fc\\uc18c']\",\n  \"rows\": 11,\n  \"fields\": [\n    {\n      \"column\": \"\\ub300\\ud559\\uc774\\ub984\",\n      \"properties\": {\n        \"dtype\": \"string\",\n        \"num_unique_values\": 11,\n        \"samples\": [\n          \"\\uc138\\uc885\\ub300\\ud559\\uad50\",\n          \"\\uc11c\\uc6b8\\ub300\\ud559\\uad50\",\n          \"\\uac74\\uad6d\\ub300\\ud559\\uad50\"\n        ],\n        \"semantic_type\": \"\",\n        \"description\": \"\"\n      }\n    },\n    {\n      \"column\": \"\\uc8fc\\uc18c\",\n      \"properties\": {\n        \"dtype\": \"string\",\n        \"num_unique_values\": 11,\n        \"samples\": [\n          \"\\uc11c\\uc6b8\\ud2b9\\ubcc4\\uc2dc \\uad11\\uc9c4\\uad6c \\ub2a5\\ub3d9\\ub85c 209\",\n          \"\\uc11c\\uc6b8\\ud2b9\\ubcc4\\uc2dc \\uad00\\uc545\\uad6c \\uad00\\uc545\\ub85c 1\",\n          \"\\uc11c\\uc6b8\\ud2b9\\ubcc4\\uc2dc \\uad11\\uc9c4\\uad6c \\ub2a5\\ub3d9\\ub85c 120\"\n        ],\n        \"semantic_type\": \"\",\n        \"description\": \"\"\n      }\n    }\n  ]\n}"
            }
          },
          "metadata": {},
          "execution_count": 7
        }
      ]
    },
    {
      "cell_type": "code",
      "source": [
        "df[~df['주소'].str.startswith(\"서울\")]"
      ],
      "metadata": {
        "colab": {
          "base_uri": "https://localhost:8080/",
          "height": 332
        },
        "id": "Dfq5Ey7vqW8Y",
        "outputId": "e0e320a0-14be-4902-ad41-89b7505289c0"
      },
      "execution_count": null,
      "outputs": [
        {
          "output_type": "execute_result",
          "data": {
            "text/plain": [
              "       대학이름                      주소\n",
              "1     KAIST       대전광역시 유성구 대학로 291\n",
              "4     UNIST  울산광역시 울주군 언양읍 유니스트길 50\n",
              "5   포항공과대학교      경상북도 포항시 남구 청암로 77\n",
              "10     GIST      광주광역시 북구 첨단과기로 123\n",
              "11    아주대학교    경기도 수원시 영통구 월드컵로 206\n",
              "15    경북대학교         대구광역시 북구 대학로 80\n",
              "16    울산대학교         울산광역시 남구 대학로 93\n",
              "17    부산대학교   부산광역시 금정구 부산대학로63번길 2\n",
              "18    영남대학교        경상북도 경산시 대학로 280"
            ],
            "text/html": [
              "\n",
              "  <div id=\"df-d9a35895-b96c-48c9-8a4a-7f79c6abb1a6\" class=\"colab-df-container\">\n",
              "    <div>\n",
              "<style scoped>\n",
              "    .dataframe tbody tr th:only-of-type {\n",
              "        vertical-align: middle;\n",
              "    }\n",
              "\n",
              "    .dataframe tbody tr th {\n",
              "        vertical-align: top;\n",
              "    }\n",
              "\n",
              "    .dataframe thead th {\n",
              "        text-align: right;\n",
              "    }\n",
              "</style>\n",
              "<table border=\"1\" class=\"dataframe\">\n",
              "  <thead>\n",
              "    <tr style=\"text-align: right;\">\n",
              "      <th></th>\n",
              "      <th>대학이름</th>\n",
              "      <th>주소</th>\n",
              "    </tr>\n",
              "  </thead>\n",
              "  <tbody>\n",
              "    <tr>\n",
              "      <th>1</th>\n",
              "      <td>KAIST</td>\n",
              "      <td>대전광역시 유성구 대학로 291</td>\n",
              "    </tr>\n",
              "    <tr>\n",
              "      <th>4</th>\n",
              "      <td>UNIST</td>\n",
              "      <td>울산광역시 울주군 언양읍 유니스트길 50</td>\n",
              "    </tr>\n",
              "    <tr>\n",
              "      <th>5</th>\n",
              "      <td>포항공과대학교</td>\n",
              "      <td>경상북도 포항시 남구 청암로 77</td>\n",
              "    </tr>\n",
              "    <tr>\n",
              "      <th>10</th>\n",
              "      <td>GIST</td>\n",
              "      <td>광주광역시 북구 첨단과기로 123</td>\n",
              "    </tr>\n",
              "    <tr>\n",
              "      <th>11</th>\n",
              "      <td>아주대학교</td>\n",
              "      <td>경기도 수원시 영통구 월드컵로 206</td>\n",
              "    </tr>\n",
              "    <tr>\n",
              "      <th>15</th>\n",
              "      <td>경북대학교</td>\n",
              "      <td>대구광역시 북구 대학로 80</td>\n",
              "    </tr>\n",
              "    <tr>\n",
              "      <th>16</th>\n",
              "      <td>울산대학교</td>\n",
              "      <td>울산광역시 남구 대학로 93</td>\n",
              "    </tr>\n",
              "    <tr>\n",
              "      <th>17</th>\n",
              "      <td>부산대학교</td>\n",
              "      <td>부산광역시 금정구 부산대학로63번길 2</td>\n",
              "    </tr>\n",
              "    <tr>\n",
              "      <th>18</th>\n",
              "      <td>영남대학교</td>\n",
              "      <td>경상북도 경산시 대학로 280</td>\n",
              "    </tr>\n",
              "  </tbody>\n",
              "</table>\n",
              "</div>\n",
              "    <div class=\"colab-df-buttons\">\n",
              "\n",
              "  <div class=\"colab-df-container\">\n",
              "    <button class=\"colab-df-convert\" onclick=\"convertToInteractive('df-d9a35895-b96c-48c9-8a4a-7f79c6abb1a6')\"\n",
              "            title=\"Convert this dataframe to an interactive table.\"\n",
              "            style=\"display:none;\">\n",
              "\n",
              "  <svg xmlns=\"http://www.w3.org/2000/svg\" height=\"24px\" viewBox=\"0 -960 960 960\">\n",
              "    <path d=\"M120-120v-720h720v720H120Zm60-500h600v-160H180v160Zm220 220h160v-160H400v160Zm0 220h160v-160H400v160ZM180-400h160v-160H180v160Zm440 0h160v-160H620v160ZM180-180h160v-160H180v160Zm440 0h160v-160H620v160Z\"/>\n",
              "  </svg>\n",
              "    </button>\n",
              "\n",
              "  <style>\n",
              "    .colab-df-container {\n",
              "      display:flex;\n",
              "      gap: 12px;\n",
              "    }\n",
              "\n",
              "    .colab-df-convert {\n",
              "      background-color: #E8F0FE;\n",
              "      border: none;\n",
              "      border-radius: 50%;\n",
              "      cursor: pointer;\n",
              "      display: none;\n",
              "      fill: #1967D2;\n",
              "      height: 32px;\n",
              "      padding: 0 0 0 0;\n",
              "      width: 32px;\n",
              "    }\n",
              "\n",
              "    .colab-df-convert:hover {\n",
              "      background-color: #E2EBFA;\n",
              "      box-shadow: 0px 1px 2px rgba(60, 64, 67, 0.3), 0px 1px 3px 1px rgba(60, 64, 67, 0.15);\n",
              "      fill: #174EA6;\n",
              "    }\n",
              "\n",
              "    .colab-df-buttons div {\n",
              "      margin-bottom: 4px;\n",
              "    }\n",
              "\n",
              "    [theme=dark] .colab-df-convert {\n",
              "      background-color: #3B4455;\n",
              "      fill: #D2E3FC;\n",
              "    }\n",
              "\n",
              "    [theme=dark] .colab-df-convert:hover {\n",
              "      background-color: #434B5C;\n",
              "      box-shadow: 0px 1px 3px 1px rgba(0, 0, 0, 0.15);\n",
              "      filter: drop-shadow(0px 1px 2px rgba(0, 0, 0, 0.3));\n",
              "      fill: #FFFFFF;\n",
              "    }\n",
              "  </style>\n",
              "\n",
              "    <script>\n",
              "      const buttonEl =\n",
              "        document.querySelector('#df-d9a35895-b96c-48c9-8a4a-7f79c6abb1a6 button.colab-df-convert');\n",
              "      buttonEl.style.display =\n",
              "        google.colab.kernel.accessAllowed ? 'block' : 'none';\n",
              "\n",
              "      async function convertToInteractive(key) {\n",
              "        const element = document.querySelector('#df-d9a35895-b96c-48c9-8a4a-7f79c6abb1a6');\n",
              "        const dataTable =\n",
              "          await google.colab.kernel.invokeFunction('convertToInteractive',\n",
              "                                                    [key], {});\n",
              "        if (!dataTable) return;\n",
              "\n",
              "        const docLinkHtml = 'Like what you see? Visit the ' +\n",
              "          '<a target=\"_blank\" href=https://colab.research.google.com/notebooks/data_table.ipynb>data table notebook</a>'\n",
              "          + ' to learn more about interactive tables.';\n",
              "        element.innerHTML = '';\n",
              "        dataTable['output_type'] = 'display_data';\n",
              "        await google.colab.output.renderOutput(dataTable, element);\n",
              "        const docLink = document.createElement('div');\n",
              "        docLink.innerHTML = docLinkHtml;\n",
              "        element.appendChild(docLink);\n",
              "      }\n",
              "    </script>\n",
              "  </div>\n",
              "\n",
              "\n",
              "<div id=\"df-61244881-312a-4776-a3c3-02cac8bd809d\">\n",
              "  <button class=\"colab-df-quickchart\" onclick=\"quickchart('df-61244881-312a-4776-a3c3-02cac8bd809d')\"\n",
              "            title=\"Suggest charts\"\n",
              "            style=\"display:none;\">\n",
              "\n",
              "<svg xmlns=\"http://www.w3.org/2000/svg\" height=\"24px\"viewBox=\"0 0 24 24\"\n",
              "     width=\"24px\">\n",
              "    <g>\n",
              "        <path d=\"M19 3H5c-1.1 0-2 .9-2 2v14c0 1.1.9 2 2 2h14c1.1 0 2-.9 2-2V5c0-1.1-.9-2-2-2zM9 17H7v-7h2v7zm4 0h-2V7h2v10zm4 0h-2v-4h2v4z\"/>\n",
              "    </g>\n",
              "</svg>\n",
              "  </button>\n",
              "\n",
              "<style>\n",
              "  .colab-df-quickchart {\n",
              "      --bg-color: #E8F0FE;\n",
              "      --fill-color: #1967D2;\n",
              "      --hover-bg-color: #E2EBFA;\n",
              "      --hover-fill-color: #174EA6;\n",
              "      --disabled-fill-color: #AAA;\n",
              "      --disabled-bg-color: #DDD;\n",
              "  }\n",
              "\n",
              "  [theme=dark] .colab-df-quickchart {\n",
              "      --bg-color: #3B4455;\n",
              "      --fill-color: #D2E3FC;\n",
              "      --hover-bg-color: #434B5C;\n",
              "      --hover-fill-color: #FFFFFF;\n",
              "      --disabled-bg-color: #3B4455;\n",
              "      --disabled-fill-color: #666;\n",
              "  }\n",
              "\n",
              "  .colab-df-quickchart {\n",
              "    background-color: var(--bg-color);\n",
              "    border: none;\n",
              "    border-radius: 50%;\n",
              "    cursor: pointer;\n",
              "    display: none;\n",
              "    fill: var(--fill-color);\n",
              "    height: 32px;\n",
              "    padding: 0;\n",
              "    width: 32px;\n",
              "  }\n",
              "\n",
              "  .colab-df-quickchart:hover {\n",
              "    background-color: var(--hover-bg-color);\n",
              "    box-shadow: 0 1px 2px rgba(60, 64, 67, 0.3), 0 1px 3px 1px rgba(60, 64, 67, 0.15);\n",
              "    fill: var(--button-hover-fill-color);\n",
              "  }\n",
              "\n",
              "  .colab-df-quickchart-complete:disabled,\n",
              "  .colab-df-quickchart-complete:disabled:hover {\n",
              "    background-color: var(--disabled-bg-color);\n",
              "    fill: var(--disabled-fill-color);\n",
              "    box-shadow: none;\n",
              "  }\n",
              "\n",
              "  .colab-df-spinner {\n",
              "    border: 2px solid var(--fill-color);\n",
              "    border-color: transparent;\n",
              "    border-bottom-color: var(--fill-color);\n",
              "    animation:\n",
              "      spin 1s steps(1) infinite;\n",
              "  }\n",
              "\n",
              "  @keyframes spin {\n",
              "    0% {\n",
              "      border-color: transparent;\n",
              "      border-bottom-color: var(--fill-color);\n",
              "      border-left-color: var(--fill-color);\n",
              "    }\n",
              "    20% {\n",
              "      border-color: transparent;\n",
              "      border-left-color: var(--fill-color);\n",
              "      border-top-color: var(--fill-color);\n",
              "    }\n",
              "    30% {\n",
              "      border-color: transparent;\n",
              "      border-left-color: var(--fill-color);\n",
              "      border-top-color: var(--fill-color);\n",
              "      border-right-color: var(--fill-color);\n",
              "    }\n",
              "    40% {\n",
              "      border-color: transparent;\n",
              "      border-right-color: var(--fill-color);\n",
              "      border-top-color: var(--fill-color);\n",
              "    }\n",
              "    60% {\n",
              "      border-color: transparent;\n",
              "      border-right-color: var(--fill-color);\n",
              "    }\n",
              "    80% {\n",
              "      border-color: transparent;\n",
              "      border-right-color: var(--fill-color);\n",
              "      border-bottom-color: var(--fill-color);\n",
              "    }\n",
              "    90% {\n",
              "      border-color: transparent;\n",
              "      border-bottom-color: var(--fill-color);\n",
              "    }\n",
              "  }\n",
              "</style>\n",
              "\n",
              "  <script>\n",
              "    async function quickchart(key) {\n",
              "      const quickchartButtonEl =\n",
              "        document.querySelector('#' + key + ' button');\n",
              "      quickchartButtonEl.disabled = true;  // To prevent multiple clicks.\n",
              "      quickchartButtonEl.classList.add('colab-df-spinner');\n",
              "      try {\n",
              "        const charts = await google.colab.kernel.invokeFunction(\n",
              "            'suggestCharts', [key], {});\n",
              "      } catch (error) {\n",
              "        console.error('Error during call to suggestCharts:', error);\n",
              "      }\n",
              "      quickchartButtonEl.classList.remove('colab-df-spinner');\n",
              "      quickchartButtonEl.classList.add('colab-df-quickchart-complete');\n",
              "    }\n",
              "    (() => {\n",
              "      let quickchartButtonEl =\n",
              "        document.querySelector('#df-61244881-312a-4776-a3c3-02cac8bd809d button');\n",
              "      quickchartButtonEl.style.display =\n",
              "        google.colab.kernel.accessAllowed ? 'block' : 'none';\n",
              "    })();\n",
              "  </script>\n",
              "</div>\n",
              "    </div>\n",
              "  </div>\n"
            ],
            "application/vnd.google.colaboratory.intrinsic+json": {
              "type": "dataframe",
              "summary": "{\n  \"name\": \"df[~df['\\uc8fc\\uc18c']\",\n  \"rows\": 9,\n  \"fields\": [\n    {\n      \"column\": \"\\ub300\\ud559\\uc774\\ub984\",\n      \"properties\": {\n        \"dtype\": \"string\",\n        \"num_unique_values\": 9,\n        \"samples\": [\n          \"\\ubd80\\uc0b0\\ub300\\ud559\\uad50\",\n          \"UNIST\",\n          \"\\uacbd\\ubd81\\ub300\\ud559\\uad50\"\n        ],\n        \"semantic_type\": \"\",\n        \"description\": \"\"\n      }\n    },\n    {\n      \"column\": \"\\uc8fc\\uc18c\",\n      \"properties\": {\n        \"dtype\": \"string\",\n        \"num_unique_values\": 9,\n        \"samples\": [\n          \"\\ubd80\\uc0b0\\uad11\\uc5ed\\uc2dc \\uae08\\uc815\\uad6c \\ubd80\\uc0b0\\ub300\\ud559\\ub85c63\\ubc88\\uae38 2\",\n          \"\\uc6b8\\uc0b0\\uad11\\uc5ed\\uc2dc \\uc6b8\\uc8fc\\uad70 \\uc5b8\\uc591\\uc74d \\uc720\\ub2c8\\uc2a4\\ud2b8\\uae38 50\",\n          \"\\ub300\\uad6c\\uad11\\uc5ed\\uc2dc \\ubd81\\uad6c \\ub300\\ud559\\ub85c 80\"\n        ],\n        \"semantic_type\": \"\",\n        \"description\": \"\"\n      }\n    }\n  ]\n}"
            }
          },
          "metadata": {},
          "execution_count": 8
        }
      ]
    },
    {
      "cell_type": "code",
      "source": [
        "df['대학이름'].str.endswith(\"대학교\")"
      ],
      "metadata": {
        "colab": {
          "base_uri": "https://localhost:8080/"
        },
        "id": "KtUrk_xvqW-_",
        "outputId": "ec5efa76-56e0-44d2-f148-31c4f22d0289"
      },
      "execution_count": null,
      "outputs": [
        {
          "output_type": "execute_result",
          "data": {
            "text/plain": [
              "0      True\n",
              "1     False\n",
              "2      True\n",
              "3      True\n",
              "4     False\n",
              "5      True\n",
              "6      True\n",
              "7      True\n",
              "8      True\n",
              "9      True\n",
              "10    False\n",
              "11     True\n",
              "12     True\n",
              "13     True\n",
              "14     True\n",
              "15     True\n",
              "16     True\n",
              "17     True\n",
              "18     True\n",
              "19     True\n",
              "Name: 대학이름, dtype: bool"
            ]
          },
          "metadata": {},
          "execution_count": 11
        }
      ]
    },
    {
      "cell_type": "code",
      "source": [
        "df['주소'].str.contains(\"광역시\")"
      ],
      "metadata": {
        "colab": {
          "base_uri": "https://localhost:8080/"
        },
        "id": "T3KuTcowqXB4",
        "outputId": "ae3a40f4-3837-46d2-e2fb-658e1c35796c"
      },
      "execution_count": null,
      "outputs": [
        {
          "output_type": "execute_result",
          "data": {
            "text/plain": [
              "0     False\n",
              "1      True\n",
              "2     False\n",
              "3     False\n",
              "4      True\n",
              "5     False\n",
              "6     False\n",
              "7     False\n",
              "8     False\n",
              "9     False\n",
              "10     True\n",
              "11    False\n",
              "12    False\n",
              "13    False\n",
              "14    False\n",
              "15     True\n",
              "16     True\n",
              "17     True\n",
              "18    False\n",
              "19    False\n",
              "Name: 주소, dtype: bool"
            ]
          },
          "metadata": {},
          "execution_count": 12
        }
      ]
    },
    {
      "cell_type": "code",
      "source": [
        "df['주소'].str.split()"
      ],
      "metadata": {
        "colab": {
          "base_uri": "https://localhost:8080/"
        },
        "id": "n0z9Jq7LrC2s",
        "outputId": "d8a468dc-1981-4920-a1e2-a2cfc87ddc79"
      },
      "execution_count": null,
      "outputs": [
        {
          "output_type": "execute_result",
          "data": {
            "text/plain": [
              "0             [서울특별시, 관악구, 관악로, 1]\n",
              "1           [대전광역시, 유성구, 대학로, 291]\n",
              "2         [서울특별시, 종로구, 성균관로, 25-2]\n",
              "3           [서울특별시, 서대문구, 연세로, 50]\n",
              "4     [울산광역시, 울주군, 언양읍, 유니스트길, 50]\n",
              "5         [경상북도, 포항시, 남구, 청암로, 77]\n",
              "6           [서울특별시, 성북구, 안암로, 145]\n",
              "7          [서울특별시, 동대문구, 경희대로, 26]\n",
              "8           [서울특별시, 광진구, 능동로, 209]\n",
              "9          [서울특별시, 성동구, 왕십리로, 222]\n",
              "10         [광주광역시, 북구, 첨단과기로, 123]\n",
              "11      [경기도, 수원시, 영통구, 월드컵로, 206]\n",
              "12           [서울특별시, 동작구, 흑석로, 84]\n",
              "13        [서울특별시, 서대문구, 이화여대길, 52]\n",
              "14          [서울특별시, 광진구, 능동로, 120]\n",
              "15            [대구광역시, 북구, 대학로, 80]\n",
              "16            [울산광역시, 남구, 대학로, 93]\n",
              "17      [부산광역시, 금정구, 부산대학로63번길, 2]\n",
              "18           [경상북도, 경산시, 대학로, 280]\n",
              "19      [서울특별시, 종로구, 창경궁로, 296-12]\n",
              "Name: 주소, dtype: object"
            ]
          },
          "metadata": {},
          "execution_count": 15
        }
      ]
    },
    {
      "cell_type": "code",
      "source": [
        "df['주소'].str.find(\"구\") # 위치값 반환"
      ],
      "metadata": {
        "colab": {
          "base_uri": "https://localhost:8080/"
        },
        "id": "-qXfYwPQrC8X",
        "outputId": "35880e22-93b5-4823-e94f-58c06894cadb"
      },
      "execution_count": null,
      "outputs": [
        {
          "output_type": "execute_result",
          "data": {
            "text/plain": [
              "0      8\n",
              "1      8\n",
              "2      8\n",
              "3      9\n",
              "4     -1\n",
              "5     10\n",
              "6      8\n",
              "7      9\n",
              "8      8\n",
              "9      8\n",
              "10     7\n",
              "11    10\n",
              "12     8\n",
              "13     9\n",
              "14     8\n",
              "15     1\n",
              "16     7\n",
              "17     8\n",
              "18    -1\n",
              "19     8\n",
              "Name: 주소, dtype: int64"
            ]
          },
          "metadata": {},
          "execution_count": 16
        }
      ]
    },
    {
      "cell_type": "code",
      "source": [
        "df['주소'].str.rfind(sub = ' ') # 가장 뒤에서부터 (가장 높은 위치값)"
      ],
      "metadata": {
        "colab": {
          "base_uri": "https://localhost:8080/"
        },
        "id": "PCDaHNKWrDAg",
        "outputId": "7d59fe5d-c564-445f-c583-31d238befbdd"
      },
      "execution_count": null,
      "outputs": [
        {
          "output_type": "execute_result",
          "data": {
            "text/plain": [
              "0     13\n",
              "1     13\n",
              "2     14\n",
              "3     14\n",
              "4     19\n",
              "5     15\n",
              "6     13\n",
              "7     15\n",
              "8     13\n",
              "9     14\n",
              "10    14\n",
              "11    16\n",
              "12    13\n",
              "13    16\n",
              "14    13\n",
              "15    12\n",
              "16    12\n",
              "17    19\n",
              "18    12\n",
              "19    14\n",
              "Name: 주소, dtype: int64"
            ]
          },
          "metadata": {},
          "execution_count": 17
        }
      ]
    },
    {
      "cell_type": "code",
      "source": [
        "df['주소'].str.findall(\"\\w+구\")"
      ],
      "metadata": {
        "colab": {
          "base_uri": "https://localhost:8080/"
        },
        "id": "vbL1L6mHrDGC",
        "outputId": "eda34d1a-3680-47ee-bd45-049ee4737cd6"
      },
      "execution_count": null,
      "outputs": [
        {
          "output_type": "execute_result",
          "data": {
            "text/plain": [
              "0        [관악구]\n",
              "1        [유성구]\n",
              "2        [종로구]\n",
              "3       [서대문구]\n",
              "4           []\n",
              "5         [남구]\n",
              "6        [성북구]\n",
              "7       [동대문구]\n",
              "8        [광진구]\n",
              "9        [성동구]\n",
              "10        [북구]\n",
              "11       [영통구]\n",
              "12       [동작구]\n",
              "13      [서대문구]\n",
              "14       [광진구]\n",
              "15    [대구, 북구]\n",
              "16        [남구]\n",
              "17       [금정구]\n",
              "18          []\n",
              "19       [종로구]\n",
              "Name: 주소, dtype: object"
            ]
          },
          "metadata": {},
          "execution_count": 18
        }
      ]
    },
    {
      "cell_type": "code",
      "source": [
        "df['주소'].str.replace(\" \", \"_\")"
      ],
      "metadata": {
        "colab": {
          "base_uri": "https://localhost:8080/"
        },
        "id": "Takls62urkda",
        "outputId": "5e5a2e54-83fd-4f47-d515-5ee79667bd51"
      },
      "execution_count": null,
      "outputs": [
        {
          "output_type": "execute_result",
          "data": {
            "text/plain": [
              "0            서울특별시_관악구_관악로_1\n",
              "1          대전광역시_유성구_대학로_291\n",
              "2        서울특별시_종로구_성균관로_25-2\n",
              "3          서울특별시_서대문구_연세로_50\n",
              "4     울산광역시_울주군_언양읍_유니스트길_50\n",
              "5         경상북도_포항시_남구_청암로_77\n",
              "6          서울특별시_성북구_안암로_145\n",
              "7         서울특별시_동대문구_경희대로_26\n",
              "8          서울특별시_광진구_능동로_209\n",
              "9         서울특별시_성동구_왕십리로_222\n",
              "10        광주광역시_북구_첨단과기로_123\n",
              "11      경기도_수원시_영통구_월드컵로_206\n",
              "12          서울특별시_동작구_흑석로_84\n",
              "13       서울특별시_서대문구_이화여대길_52\n",
              "14         서울특별시_광진구_능동로_120\n",
              "15           대구광역시_북구_대학로_80\n",
              "16           울산광역시_남구_대학로_93\n",
              "17     부산광역시_금정구_부산대학로63번길_2\n",
              "18          경상북도_경산시_대학로_280\n",
              "19     서울특별시_종로구_창경궁로_296-12\n",
              "Name: 주소, dtype: object"
            ]
          },
          "metadata": {},
          "execution_count": 19
        }
      ]
    },
    {
      "cell_type": "code",
      "source": [
        "df = pd.read_csv(\"University_text_before.csv\", encoding = 'CP949')\n",
        "\n",
        "df['주소'].str.strip(to_strip='_^!#? /%') # 선행, 후행 문자 제거"
      ],
      "metadata": {
        "colab": {
          "base_uri": "https://localhost:8080/"
        },
        "id": "CWDqNRAUrkhR",
        "outputId": "f7fe686b-8387-4494-99bc-a1772cdd25d2"
      },
      "execution_count": null,
      "outputs": [
        {
          "output_type": "execute_result",
          "data": {
            "text/plain": [
              "0            서울특별시 관악구 관악로 1\n",
              "1          대전광역시 유성구 대학로 291\n",
              "2        서울특별시 종로구 성균관로 25-2\n",
              "3          서울특별시 서대문구 연세로 50\n",
              "4     울산광역시 울주군 언양읍 유니스트길 50\n",
              "5         경상북도 포항시 남구 청암로 77\n",
              "6          서울특별시 성북구 안암로 145\n",
              "7         서울특별시 동대문구 경희대로 26\n",
              "8          서울특별시 광진구 능동로 209\n",
              "9         서울특별시 성동구 왕십리로 222\n",
              "10        광주광역시 북구 첨단과기로 123\n",
              "11      경기도 수원시 영통구 월드컵로 206\n",
              "12          서울특별시 동작구 흑석로 84\n",
              "13       서울특별시 서대문구 이화여대길 52\n",
              "14         서울특별시 광진구 능동로 120\n",
              "15           대구광역시 북구 대학로 80\n",
              "16           울산광역시 남구 대학로 93\n",
              "17     부산광역시 금정구 부산대학로63번길 2\n",
              "18          경상북도 경산시 대학로 280\n",
              "19     서울특별시 종로구 창경궁로 296-12\n",
              "Name: 주소, dtype: object"
            ]
          },
          "metadata": {},
          "execution_count": 23
        }
      ]
    },
    {
      "cell_type": "code",
      "source": [
        "df['주소'].str.lstrip(to_strip='_^!#? /%') # 선행만 제거"
      ],
      "metadata": {
        "colab": {
          "base_uri": "https://localhost:8080/"
        },
        "id": "KZoxrT40rkkM",
        "outputId": "48041197-f791-4f89-9ac0-9a2f4e330627"
      },
      "execution_count": null,
      "outputs": [
        {
          "output_type": "execute_result",
          "data": {
            "text/plain": [
              "0                    서울특별시 관악구 관악로 1\n",
              "1               대전광역시 유성구 대학로 291 ##\n",
              "2                서울특별시 종로구 성균관로 25-2\n",
              "3                  서울특별시 서대문구 연세로 50\n",
              "4           울산광역시 울주군 언양읍 유니스트길 50 %\n",
              "5                 경상북도 포항시 남구 청암로 77\n",
              "6                  서울특별시 성북구 안암로 145\n",
              "7                 서울특별시 동대문구 경희대로 26\n",
              "8                  서울특별시 광진구 능동로 209\n",
              "9                 서울특별시 성동구 왕십리로 222\n",
              "10                광주광역시 북구 첨단과기로 123\n",
              "11              경기도 수원시 영통구 월드컵로 206\n",
              "12    서울특별시 동작구 흑석로 84              \n",
              "13               서울특별시 서대문구 이화여대길 52\n",
              "14                 서울특별시 광진구 능동로 120\n",
              "15        대구광역시 북구 대학로 80           \n",
              "16                울산광역시 남구 대학로 93___\n",
              "17             부산광역시 금정구 부산대학로63번길 2\n",
              "18                  경상북도 경산시 대학로 280\n",
              "19             서울특별시 종로구 창경궁로 296-12\n",
              "Name: 주소, dtype: object"
            ]
          },
          "metadata": {},
          "execution_count": 25
        }
      ]
    },
    {
      "cell_type": "code",
      "source": [
        "df['주소'].str.rstrip(to_strip='_^!#? /%')"
      ],
      "metadata": {
        "colab": {
          "base_uri": "https://localhost:8080/"
        },
        "id": "m5mivl3nsTqF",
        "outputId": "45113d43-0c24-4ac0-b75b-26fd14630270"
      },
      "execution_count": null,
      "outputs": [
        {
          "output_type": "execute_result",
          "data": {
            "text/plain": [
              "0                      /!서울특별시 관악구 관악로 1\n",
              "1                      대전광역시 유성구 대학로 291\n",
              "2                    서울특별시 종로구 성균관로 25-2\n",
              "3                      서울특별시 서대문구 연세로 50\n",
              "4              ## 울산광역시 울주군 언양읍 유니스트길 50\n",
              "5                     경상북도 포항시 남구 청암로 77\n",
              "6                      서울특별시 성북구 안암로 145\n",
              "7                     서울특별시 동대문구 경희대로 26\n",
              "8                    ^!서울특별시 광진구 능동로 209\n",
              "9                     서울특별시 성동구 왕십리로 222\n",
              "10                    광주광역시 북구 첨단과기로 123\n",
              "11                  경기도 수원시 영통구 월드컵로 206\n",
              "12                      서울특별시 동작구 흑석로 84\n",
              "13         __________서울특별시 서대문구 이화여대길 52\n",
              "14                     서울특별시 광진구 능동로 120\n",
              "15                       대구광역시 북구 대학로 80\n",
              "16                       울산광역시 남구 대학로 93\n",
              "17                 부산광역시 금정구 부산대학로63번길 2\n",
              "18                      경상북도 경산시 대학로 280\n",
              "19                 서울특별시 종로구 창경궁로 296-12\n",
              "Name: 주소, dtype: object"
            ]
          },
          "metadata": {},
          "execution_count": 26
        }
      ]
    },
    {
      "cell_type": "code",
      "source": [
        "# 6-2. 날짜 시간 데이터 다루기"
      ],
      "metadata": {
        "id": "sYqzhWQ-sV_o"
      },
      "execution_count": null,
      "outputs": []
    },
    {
      "cell_type": "code",
      "source": [
        "# 1. 데이터 타입\n",
        "# pandas.to_datetime(arg, formal=None, ...)\n",
        "\n",
        "df = pd.read_csv(\"University_date.csv\", encoding = 'CP949')"
      ],
      "metadata": {
        "id": "VTk5NufjsaIE"
      },
      "execution_count": null,
      "outputs": []
    },
    {
      "cell_type": "code",
      "source": [
        "df['창립일']"
      ],
      "metadata": {
        "colab": {
          "base_uri": "https://localhost:8080/"
        },
        "id": "XotwsuCAsxZo",
        "outputId": "172c105e-c23d-4930-832e-816992c74337"
      },
      "execution_count": null,
      "outputs": [
        {
          "output_type": "execute_result",
          "data": {
            "text/plain": [
              "0    1946-10-15\n",
              "1    1971-02-16\n",
              "2    2007-09-03\n",
              "3    1986-12-03\n",
              "4    1905-05-05\n",
              "5    1993-11-17\n",
              "6    1946-05-15\n",
              "7    1969-12-24\n",
              "8    1946-05-15\n",
              "Name: 창립일, dtype: object"
            ]
          },
          "metadata": {},
          "execution_count": 28
        }
      ]
    },
    {
      "cell_type": "code",
      "source": [
        "pd.to_datetime(df['창립일'])"
      ],
      "metadata": {
        "colab": {
          "base_uri": "https://localhost:8080/"
        },
        "id": "gPKWA46VszTx",
        "outputId": "64bb5ca1-d3ab-4813-dd6d-bc878804f1d6"
      },
      "execution_count": null,
      "outputs": [
        {
          "output_type": "execute_result",
          "data": {
            "text/plain": [
              "0   1946-10-15\n",
              "1   1971-02-16\n",
              "2   2007-09-03\n",
              "3   1986-12-03\n",
              "4   1905-05-05\n",
              "5   1993-11-17\n",
              "6   1946-05-15\n",
              "7   1969-12-24\n",
              "8   1946-05-15\n",
              "Name: 창립일, dtype: datetime64[ns]"
            ]
          },
          "metadata": {},
          "execution_count": 30
        }
      ]
    },
    {
      "cell_type": "code",
      "source": [
        "pd.to_datetime(df['창립일'], format = \"%Y-%m-%d\")"
      ],
      "metadata": {
        "colab": {
          "base_uri": "https://localhost:8080/"
        },
        "id": "dG-SSFnEs8_v",
        "outputId": "e743d3ec-3c2d-46d0-9fba-c1d9bc788c3d"
      },
      "execution_count": null,
      "outputs": [
        {
          "output_type": "execute_result",
          "data": {
            "text/plain": [
              "0   1946-10-15\n",
              "1   1971-02-16\n",
              "2   2007-09-03\n",
              "3   1986-12-03\n",
              "4   1905-05-05\n",
              "5   1993-11-17\n",
              "6   1946-05-15\n",
              "7   1969-12-24\n",
              "8   1946-05-15\n",
              "Name: 창립일, dtype: datetime64[ns]"
            ]
          },
          "metadata": {},
          "execution_count": 31
        }
      ]
    },
    {
      "cell_type": "code",
      "source": [
        "df['창립일'] = pd.to_datetime(df['창립일'])"
      ],
      "metadata": {
        "id": "HWisfOGctDCK"
      },
      "execution_count": null,
      "outputs": []
    },
    {
      "cell_type": "code",
      "source": [
        "# pandas.date_range(start, end=None, periods=None, freq='D', ...)"
      ],
      "metadata": {
        "id": "AZRhy0KatMTE"
      },
      "execution_count": null,
      "outputs": []
    },
    {
      "cell_type": "code",
      "source": [
        "pd.date_range(\"2000-01-01\", \"2000-01-10\")"
      ],
      "metadata": {
        "colab": {
          "base_uri": "https://localhost:8080/"
        },
        "id": "8uZlRZcutZa7",
        "outputId": "2bc56d12-c2d3-41a4-9065-2c09d45aed76"
      },
      "execution_count": null,
      "outputs": [
        {
          "output_type": "execute_result",
          "data": {
            "text/plain": [
              "DatetimeIndex(['2000-01-01', '2000-01-02', '2000-01-03', '2000-01-04',\n",
              "               '2000-01-05', '2000-01-06', '2000-01-07', '2000-01-08',\n",
              "               '2000-01-09', '2000-01-10'],\n",
              "              dtype='datetime64[ns]', freq='D')"
            ]
          },
          "metadata": {},
          "execution_count": 33
        }
      ]
    },
    {
      "cell_type": "code",
      "source": [
        "pd.date_range(\"2000-01-01\", periods = 3)"
      ],
      "metadata": {
        "colab": {
          "base_uri": "https://localhost:8080/"
        },
        "id": "nL-8U_83thpL",
        "outputId": "9aa870e7-ae59-40c7-d4db-969542ad68c5"
      },
      "execution_count": null,
      "outputs": [
        {
          "output_type": "execute_result",
          "data": {
            "text/plain": [
              "DatetimeIndex(['2000-01-01', '2000-01-02', '2000-01-03'], dtype='datetime64[ns]', freq='D')"
            ]
          },
          "metadata": {},
          "execution_count": 34
        }
      ]
    },
    {
      "cell_type": "code",
      "source": [
        "pd.date_range(\"2000-01-01\", periods = 5, freq=\"m\")"
      ],
      "metadata": {
        "colab": {
          "base_uri": "https://localhost:8080/"
        },
        "id": "ppDCbPdJth5N",
        "outputId": "007bdd7f-a6f9-4336-a4b7-86f9ea2b0ed2"
      },
      "execution_count": null,
      "outputs": [
        {
          "output_type": "execute_result",
          "data": {
            "text/plain": [
              "DatetimeIndex(['2000-01-31', '2000-02-29', '2000-03-31', '2000-04-30',\n",
              "               '2000-05-31'],\n",
              "              dtype='datetime64[ns]', freq='M')"
            ]
          },
          "metadata": {},
          "execution_count": 35
        }
      ]
    },
    {
      "cell_type": "code",
      "source": [
        "# Y M W D h m s ms us/us ns ps fs as"
      ],
      "metadata": {
        "id": "lZ9q8dHPth7K"
      },
      "execution_count": null,
      "outputs": []
    },
    {
      "cell_type": "code",
      "source": [
        "# 2. 데이터 전처리\n",
        "# date, year, month, month_name(), day, weekday, day_name(), quarter, weekofyear, dayofyear, time, hour, minute, second"
      ],
      "metadata": {
        "id": "MBsprc_2th9r"
      },
      "execution_count": null,
      "outputs": []
    },
    {
      "cell_type": "code",
      "source": [
        "df['창립일'] = pd.to_datetime(df['창립일'])\n",
        "df['창립일'].dt.date"
      ],
      "metadata": {
        "colab": {
          "base_uri": "https://localhost:8080/"
        },
        "id": "OPlpRTzpuLfg",
        "outputId": "ca6bde70-8834-4154-d27b-d5674186ab59"
      },
      "execution_count": null,
      "outputs": [
        {
          "output_type": "execute_result",
          "data": {
            "text/plain": [
              "0    1946-10-15\n",
              "1    1971-02-16\n",
              "2    2007-09-03\n",
              "3    1986-12-03\n",
              "4    1905-05-05\n",
              "5    1993-11-17\n",
              "6    1946-05-15\n",
              "7    1969-12-24\n",
              "8    1946-05-15\n",
              "Name: 창립일, dtype: object"
            ]
          },
          "metadata": {},
          "execution_count": 37
        }
      ]
    },
    {
      "cell_type": "code",
      "source": [
        "df['창립일'].dt.year"
      ],
      "metadata": {
        "colab": {
          "base_uri": "https://localhost:8080/"
        },
        "id": "iOBdZTjTuZnk",
        "outputId": "d730520f-d0da-4fb6-ef93-c5272a0dcb24"
      },
      "execution_count": null,
      "outputs": [
        {
          "output_type": "execute_result",
          "data": {
            "text/plain": [
              "0    1946\n",
              "1    1971\n",
              "2    2007\n",
              "3    1986\n",
              "4    1905\n",
              "5    1993\n",
              "6    1946\n",
              "7    1969\n",
              "8    1946\n",
              "Name: 창립일, dtype: int32"
            ]
          },
          "metadata": {},
          "execution_count": 38
        }
      ]
    },
    {
      "cell_type": "code",
      "source": [
        "df['창립일'].dt.month"
      ],
      "metadata": {
        "colab": {
          "base_uri": "https://localhost:8080/"
        },
        "id": "mj-AvX6XuZwD",
        "outputId": "5f7e1b58-6cbb-4643-b448-d8073490ee64"
      },
      "execution_count": null,
      "outputs": [
        {
          "output_type": "execute_result",
          "data": {
            "text/plain": [
              "0    10\n",
              "1     2\n",
              "2     9\n",
              "3    12\n",
              "4     5\n",
              "5    11\n",
              "6     5\n",
              "7    12\n",
              "8     5\n",
              "Name: 창립일, dtype: int32"
            ]
          },
          "metadata": {},
          "execution_count": 39
        }
      ]
    },
    {
      "cell_type": "code",
      "source": [
        "df['창립일'].dt.month_name()"
      ],
      "metadata": {
        "colab": {
          "base_uri": "https://localhost:8080/"
        },
        "id": "8k3oQob0uZ5H",
        "outputId": "11b72f0a-4cd5-4cee-9abb-18a18306673c"
      },
      "execution_count": null,
      "outputs": [
        {
          "output_type": "execute_result",
          "data": {
            "text/plain": [
              "0      October\n",
              "1     February\n",
              "2    September\n",
              "3     December\n",
              "4          May\n",
              "5     November\n",
              "6          May\n",
              "7     December\n",
              "8          May\n",
              "Name: 창립일, dtype: object"
            ]
          },
          "metadata": {},
          "execution_count": 40
        }
      ]
    },
    {
      "cell_type": "code",
      "source": [
        "df['창립일'].dt.day"
      ],
      "metadata": {
        "colab": {
          "base_uri": "https://localhost:8080/"
        },
        "id": "uWvCLBP5ujTV",
        "outputId": "cd38ea8f-441e-48cf-8f9f-a1ca5cc9b828"
      },
      "execution_count": null,
      "outputs": [
        {
          "output_type": "execute_result",
          "data": {
            "text/plain": [
              "0    15\n",
              "1    16\n",
              "2     3\n",
              "3     3\n",
              "4     5\n",
              "5    17\n",
              "6    15\n",
              "7    24\n",
              "8    15\n",
              "Name: 창립일, dtype: int32"
            ]
          },
          "metadata": {},
          "execution_count": 41
        }
      ]
    },
    {
      "cell_type": "code",
      "source": [
        "df['창립일'].dt.weekday # 요일번호"
      ],
      "metadata": {
        "colab": {
          "base_uri": "https://localhost:8080/"
        },
        "id": "JTtkAZ8aujVd",
        "outputId": "e5c12f28-17fd-41ca-8084-e0d6adcc2751"
      },
      "execution_count": null,
      "outputs": [
        {
          "output_type": "execute_result",
          "data": {
            "text/plain": [
              "0    1\n",
              "1    1\n",
              "2    0\n",
              "3    2\n",
              "4    4\n",
              "5    2\n",
              "6    2\n",
              "7    2\n",
              "8    2\n",
              "Name: 창립일, dtype: int32"
            ]
          },
          "metadata": {},
          "execution_count": 42
        }
      ]
    },
    {
      "cell_type": "code",
      "source": [
        "df['창립일'].dt.day_name()"
      ],
      "metadata": {
        "colab": {
          "base_uri": "https://localhost:8080/"
        },
        "id": "Om3TPQ6yujYO",
        "outputId": "ac84eec6-b26f-4e1c-8360-1c3358ddf342"
      },
      "execution_count": null,
      "outputs": [
        {
          "output_type": "execute_result",
          "data": {
            "text/plain": [
              "0      Tuesday\n",
              "1      Tuesday\n",
              "2       Monday\n",
              "3    Wednesday\n",
              "4       Friday\n",
              "5    Wednesday\n",
              "6    Wednesday\n",
              "7    Wednesday\n",
              "8    Wednesday\n",
              "Name: 창립일, dtype: object"
            ]
          },
          "metadata": {},
          "execution_count": 43
        }
      ]
    },
    {
      "cell_type": "code",
      "source": [
        "df['창립일'].dt.quarter  # 분기"
      ],
      "metadata": {
        "colab": {
          "base_uri": "https://localhost:8080/"
        },
        "id": "sygLwkGZusS9",
        "outputId": "0d0708d0-d4a1-4f3e-f12c-e4a7e5f5fc1c"
      },
      "execution_count": null,
      "outputs": [
        {
          "output_type": "execute_result",
          "data": {
            "text/plain": [
              "0    4\n",
              "1    1\n",
              "2    3\n",
              "3    4\n",
              "4    2\n",
              "5    4\n",
              "6    2\n",
              "7    4\n",
              "8    2\n",
              "Name: 창립일, dtype: int32"
            ]
          },
          "metadata": {},
          "execution_count": 44
        }
      ]
    },
    {
      "cell_type": "code",
      "source": [
        "# df['창립일'].dt.weekofyear"
      ],
      "metadata": {
        "colab": {
          "base_uri": "https://localhost:8080/",
          "height": 144
        },
        "id": "Y4u5uybrusVH",
        "outputId": "bb94d706-e344-48c0-af8e-49a449505273"
      },
      "execution_count": null,
      "outputs": [
        {
          "output_type": "error",
          "ename": "AttributeError",
          "evalue": "'DatetimeProperties' object has no attribute 'weekofyear'",
          "traceback": [
            "\u001b[0;31m---------------------------------------------------------------------------\u001b[0m",
            "\u001b[0;31mAttributeError\u001b[0m                            Traceback (most recent call last)",
            "\u001b[0;32m<ipython-input-47-3294e8f4b816>\u001b[0m in \u001b[0;36m<cell line: 1>\u001b[0;34m()\u001b[0m\n\u001b[0;32m----> 1\u001b[0;31m \u001b[0mdf\u001b[0m\u001b[0;34m[\u001b[0m\u001b[0;34m'창립일'\u001b[0m\u001b[0;34m]\u001b[0m\u001b[0;34m.\u001b[0m\u001b[0mdt\u001b[0m\u001b[0;34m.\u001b[0m\u001b[0mweekofyear\u001b[0m\u001b[0;34m\u001b[0m\u001b[0;34m\u001b[0m\u001b[0m\n\u001b[0m",
            "\u001b[0;31mAttributeError\u001b[0m: 'DatetimeProperties' object has no attribute 'weekofyear'"
          ]
        }
      ]
    },
    {
      "cell_type": "code",
      "source": [
        "df['창립일'].dt.dayofyear # 연도기준 일"
      ],
      "metadata": {
        "colab": {
          "base_uri": "https://localhost:8080/"
        },
        "id": "PwEZWICGusXW",
        "outputId": "fd0c409b-4555-4945-c416-1aafdabe5fdd"
      },
      "execution_count": null,
      "outputs": [
        {
          "output_type": "execute_result",
          "data": {
            "text/plain": [
              "0    288\n",
              "1     47\n",
              "2    246\n",
              "3    337\n",
              "4    125\n",
              "5    321\n",
              "6    135\n",
              "7    358\n",
              "8    135\n",
              "Name: 창립일, dtype: int32"
            ]
          },
          "metadata": {},
          "execution_count": 48
        }
      ]
    },
    {
      "cell_type": "code",
      "source": [
        "df['창립일'].dt.daysinmonth"
      ],
      "metadata": {
        "colab": {
          "base_uri": "https://localhost:8080/"
        },
        "id": "ntTDbrBLvWgg",
        "outputId": "c4ec3a60-0492-4193-d5d0-2e09d229bac0"
      },
      "execution_count": null,
      "outputs": [
        {
          "output_type": "execute_result",
          "data": {
            "text/plain": [
              "0    31\n",
              "1    28\n",
              "2    30\n",
              "3    31\n",
              "4    31\n",
              "5    30\n",
              "6    31\n",
              "7    31\n",
              "8    31\n",
              "Name: 창립일, dtype: int32"
            ]
          },
          "metadata": {},
          "execution_count": 49
        }
      ]
    },
    {
      "cell_type": "code",
      "source": [
        "sr = pd.Series(pd.date_range(\"2022-06-01 16:30:05\", periods = 5, freq = 's'))\n",
        "sr"
      ],
      "metadata": {
        "colab": {
          "base_uri": "https://localhost:8080/"
        },
        "id": "lM69QyGsvWkI",
        "outputId": "039220cf-0d84-47a8-95c2-7a56e2797a7c"
      },
      "execution_count": null,
      "outputs": [
        {
          "output_type": "execute_result",
          "data": {
            "text/plain": [
              "0   2022-06-01 16:30:05\n",
              "1   2022-06-01 16:30:06\n",
              "2   2022-06-01 16:30:07\n",
              "3   2022-06-01 16:30:08\n",
              "4   2022-06-01 16:30:09\n",
              "dtype: datetime64[ns]"
            ]
          },
          "metadata": {},
          "execution_count": 51
        }
      ]
    },
    {
      "cell_type": "code",
      "source": [
        "sr.dt.time"
      ],
      "metadata": {
        "colab": {
          "base_uri": "https://localhost:8080/"
        },
        "id": "j9K2u4v0vqDL",
        "outputId": "fff675b6-c9fe-46c3-99a3-97adfeea8c2d"
      },
      "execution_count": null,
      "outputs": [
        {
          "output_type": "execute_result",
          "data": {
            "text/plain": [
              "0    16:30:05\n",
              "1    16:30:06\n",
              "2    16:30:07\n",
              "3    16:30:08\n",
              "4    16:30:09\n",
              "dtype: object"
            ]
          },
          "metadata": {},
          "execution_count": 52
        }
      ]
    },
    {
      "cell_type": "code",
      "source": [
        "sr.dt.hour"
      ],
      "metadata": {
        "id": "HQehG3o8vv90",
        "outputId": "453531f1-ded0-4135-d8bb-efc09b93ad9e",
        "colab": {
          "base_uri": "https://localhost:8080/"
        }
      },
      "execution_count": null,
      "outputs": [
        {
          "output_type": "execute_result",
          "data": {
            "text/plain": [
              "0    16\n",
              "1    16\n",
              "2    16\n",
              "3    16\n",
              "4    16\n",
              "dtype: int32"
            ]
          },
          "metadata": {},
          "execution_count": 53
        }
      ]
    },
    {
      "cell_type": "code",
      "source": [
        "sr.dt.minute"
      ],
      "metadata": {
        "id": "yck-b3mfvwAN",
        "outputId": "fef96c29-2794-4a92-b837-6238016bb478",
        "colab": {
          "base_uri": "https://localhost:8080/"
        }
      },
      "execution_count": null,
      "outputs": [
        {
          "output_type": "execute_result",
          "data": {
            "text/plain": [
              "0    30\n",
              "1    30\n",
              "2    30\n",
              "3    30\n",
              "4    30\n",
              "dtype: int32"
            ]
          },
          "metadata": {},
          "execution_count": 54
        }
      ]
    },
    {
      "cell_type": "code",
      "source": [
        "sr.dt.second"
      ],
      "metadata": {
        "id": "gal8GisAv0WT",
        "outputId": "08c69c28-e718-4944-b24d-2c6b8faa2efc",
        "colab": {
          "base_uri": "https://localhost:8080/"
        }
      },
      "execution_count": 56,
      "outputs": [
        {
          "output_type": "execute_result",
          "data": {
            "text/plain": [
              "0    5\n",
              "1    6\n",
              "2    7\n",
              "3    8\n",
              "4    9\n",
              "dtype: int32"
            ]
          },
          "metadata": {},
          "execution_count": 56
        }
      ]
    }
  ]
}