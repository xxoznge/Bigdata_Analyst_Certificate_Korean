{
  "nbformat": 4,
  "nbformat_minor": 0,
  "metadata": {
    "colab": {
      "provenance": [],
      "authorship_tag": "ABX9TyNcsRFozn/HGwfV+8mnk7cC",
      "include_colab_link": true
    },
    "kernelspec": {
      "name": "python3",
      "display_name": "Python 3"
    },
    "language_info": {
      "name": "python"
    }
  },
  "cells": [
    {
      "cell_type": "markdown",
      "metadata": {
        "id": "view-in-github",
        "colab_type": "text"
      },
      "source": [
        "<a href=\"https://colab.research.google.com/github/xxoznge/Bigdata_Analyst_Certificate_Korean/blob/main/PART2_Practice.ipynb\" target=\"_parent\"><img src=\"https://colab.research.google.com/assets/colab-badge.svg\" alt=\"Open In Colab\"/></a>"
      ]
    },
    {
      "cell_type": "code",
      "source": [
        "# 데이터셋의 Wheelbase 컬럼에 대해서\n",
        "# 평균 값에서 표준편차의 1.5배, 2배, 2.5배를 더하거나 뺀 값들의\n",
        "# 구간 내의 데이터들의 평균을 각각 구한 후\n",
        "# 원래의 데이터 평균에서 뺐을 때 차이들의 합을 출력하여라.\n",
        "# (단, 소수점 다섯째 자리에서 반올림하여 표현할 것)"
      ],
      "metadata": {
        "id": "Q99dyvJ3ARX8"
      },
      "execution_count": null,
      "outputs": []
    },
    {
      "cell_type": "code",
      "source": [
        "import pandas as pd\n",
        "data = pd.read_csv(\"Cars93.csv\")\n",
        "\n",
        "# Wheelbase 컬럼 추출\n",
        "Wheelbase = data['Wheelbase']\n",
        "\n",
        "# 평균, 표준편차 계산\n",
        "W_avg = Wheelbase.mean()\n",
        "W_sd = Wheelbase.std()\n",
        "\n",
        "# CASE 1\n",
        "\n",
        "# 평균값에서 표준편차의 1.5배 더하거나 빼는 경우\n",
        "L1 = W_avg - 1.5 * W_sd\n",
        "U1 = W_avg + 1.5 * W_sd\n",
        "\n",
        "# 구간 내의 데이터들의 평균을 각각 구함\n",
        "A1 = Wheelbase[(Wheelbase > L1) & (Wheelbase < U1)].mean()\n",
        "\n",
        "# 원래의 데이터 평균에서 빼기\n",
        "C1 = W_avg - A1\n",
        "\n",
        "# CASE 2\n",
        "\n",
        "L2 = W_avg - 2 * W_sd\n",
        "U2 = W_avg + 2 * W_sd\n",
        "A2 = Wheelbase[(Wheelbase > L2) & (Wheelbase < U2)].mean()\n",
        "C2 = W_avg - A2\n",
        "\n",
        "# CASE 3\n",
        "\n",
        "L3 = W_avg - 2.5 * W_sd\n",
        "U3 = W_avg + 2.5 * W_sd\n",
        "A3 = Wheelbase[(Wheelbase > L3) & (Wheelbase < U3)].mean()\n",
        "C3 = W_avg - A3\n",
        "\n",
        "# 결과\n",
        "\n",
        "result = round(C1 + C2 + C2, 4)\n",
        "print(result)"
      ],
      "metadata": {
        "colab": {
          "base_uri": "https://localhost:8080/"
        },
        "id": "3bNYEGsCAyhc",
        "outputId": "671b6498-f6bf-47cb-9eb9-73eb9445f956"
      },
      "execution_count": 4,
      "outputs": [
        {
          "output_type": "stream",
          "name": "stdout",
          "text": [
            "0.6514\n"
          ]
        }
      ]
    },
    {
      "cell_type": "code",
      "source": [
        "# Length 컬럼에 대해서 순위를 부여한 후\n",
        "# 1위부터 30위까지 값들의 표준 편차를 구하고\n",
        "# 소수점 셋째 자리까지 반올림하여 나타내어라\n",
        "# 단, 동점은 동일한 순위를 부여하되 평균내어 등수를 산정하며 최솟값을 1위로 함"
      ],
      "metadata": {
        "id": "wD_pySgLC_Sy"
      },
      "execution_count": null,
      "outputs": []
    },
    {
      "cell_type": "code",
      "source": [
        "import pandas as pd\n",
        "data = pd.read_csv(\"Cars93.csv\")\n",
        "\n",
        "# 순위 부여 : 동점은 동일한 순위, 평균내어 최솟값을 1위로\n",
        "rank = data['Length'].rank(method = 'average')\n",
        "\n",
        "sub = data['Length'][rank <= 30]\n",
        "\n",
        "sub_sd = sub.std()\n",
        "\n",
        "result = round(sub_sd, 3)\n",
        "print(result)"
      ],
      "metadata": {
        "colab": {
          "base_uri": "https://localhost:8080/"
        },
        "id": "4wPvCVwUDor0",
        "outputId": "42a9a59d-714d-4c61-c1ff-fae0e214d8f8"
      },
      "execution_count": 5,
      "outputs": [
        {
          "output_type": "stream",
          "name": "stdout",
          "text": [
            "8.884\n"
          ]
        }
      ]
    },
    {
      "cell_type": "code",
      "source": [
        "# 데이터셋의 Max_Price 컬럼에 대해서 각각 정렬한 후\n",
        "# 정렬된 순서에 따라 레코드별로 Max_Price 와 Min_Price 의 차이를 산출하고 차이값에 대해 표준편차를 구하여라\n",
        "# 단, Max_Price의 정렬은 내림차순, Min_Price의 정렬은 오름차순\n",
        "# 출력시 표준 편차는 소수점 넷째 자리에서 반올림하여 표현할 것"
      ],
      "metadata": {
        "id": "QgDtb77rFP6D"
      },
      "execution_count": null,
      "outputs": []
    },
    {
      "cell_type": "code",
      "source": [
        "import pandas as pd\n",
        "data = pd.read_csv(\"Cars93.csv\")\n",
        "\n",
        "# 내림차순 정렬, 인덱스 무시 새로 설정\n",
        "Max_Price = data['Max_Price'].sort_values(ascending=False, ignore_index=True)\n",
        "\n",
        "# 오름차순 정렬\n",
        "Min_Price = data['Min_Price'].sort_values(ignore_index=True)\n",
        "\n",
        "# 차이 계산, 표준편차 계산\n",
        "diff = Max_Price - Min_Price\n",
        "diff_sd = diff.std()\n",
        "\n",
        "result = round(diff_sd, 3)\n",
        "print(result)"
      ],
      "metadata": {
        "colab": {
          "base_uri": "https://localhost:8080/"
        },
        "id": "Wa8SHgnhFnec",
        "outputId": "3e03e3d8-d33e-41aa-97da-8f63f3df92af"
      },
      "execution_count": 6,
      "outputs": [
        {
          "output_type": "stream",
          "name": "stdout",
          "text": [
            "18.584\n"
          ]
        }
      ]
    },
    {
      "cell_type": "code",
      "source": [
        "# Weight 컬럼을 Min-Max 정규화로 변환한 후,\n",
        "# 0.5보다 작은 값들의 분산과 0.5보다 큰 값들의 분산의 차이를 구하여라\n",
        "# 단, 차이는 큰 값에서 작은 값을 빼서 구하며,\n",
        "# 소수점 넷째 자리에서 반올림하여 표현할 것"
      ],
      "metadata": {
        "id": "IwuUMbSLHKL-"
      },
      "execution_count": null,
      "outputs": []
    },
    {
      "cell_type": "code",
      "source": [
        "import pandas as pd\n",
        "data = pd.read_csv(\"Cars93.csv\")\n",
        "\n",
        "Weight = data['Weight']\n",
        "\n",
        "# 정규화\n",
        "Weight_std = (Weight - min(Weight))/(max(Weight) - min(Weight))\n",
        "\n",
        "# 0.5보다 작은 분산\n",
        "var_under = Weight_std[Weight_std < 0.5].var()\n",
        "\n",
        "# 0.5보다 큰 분산\n",
        "var_over = Weight_std[Weight_std > 0.5].var()\n",
        "\n",
        "# 차이 계산\n",
        "diff = abs(var_over - var_under)\n",
        "\n",
        "result = round(diff, 3)\n",
        "print(result)"
      ],
      "metadata": {
        "colab": {
          "base_uri": "https://localhost:8080/"
        },
        "id": "pPuURAEYHcem",
        "outputId": "7d0c9130-af31-4d08-b19e-f24431ab94b2"
      },
      "execution_count": 9,
      "outputs": [
        {
          "output_type": "stream",
          "name": "stdout",
          "text": [
            "0.001\n"
          ]
        }
      ]
    },
    {
      "cell_type": "code",
      "source": [
        "# Manufacturer, Origin 컬럼의 유일값 조합의 수와\n",
        "# Manufacturer 컬럼의 앞 두글자만 추출한 결과와\n",
        "# Origin 컬럼과의 유일값 조합 수의 차이를 구하여라.\n",
        "# 단, 원래 유일값 조합 수에서 출룰 이후 수를 뺄 것"
      ],
      "metadata": {
        "id": "XqoW18hNI1vD"
      },
      "execution_count": null,
      "outputs": []
    },
    {
      "cell_type": "code",
      "source": [
        "import pandas as pd\n",
        "data = pd.read_csv(\"Cars93.csv\")\n",
        "\n",
        "# 유일값 수 구하기\n",
        "uniq = data[['Manufacturer', 'Origin']].drop_duplicates()\n",
        "num_uniq = uniq.shape[0]\n",
        "\n",
        "# Manufacturer 앞 두 글자 추출\n",
        "data['sub_str'] = data['Manufacturer'].str[:2]\n",
        "\n",
        "# 두 글자 추출과 Origin으로 유일 값 수 구하기\n",
        "uniq2 = data[['sub_str', 'Origin']].drop_duplicates()\n",
        "num_uniq2 = uniq2.shape[0]\n",
        "\n",
        "# 차이 계산\n",
        "result = num_uniq - num_uniq2\n",
        "print(result)"
      ],
      "metadata": {
        "colab": {
          "base_uri": "https://localhost:8080/"
        },
        "id": "PmlDt0-KJG0u",
        "outputId": "da3324e5-d455-4cd4-9303-2e62afcfea09"
      },
      "execution_count": 11,
      "outputs": [
        {
          "output_type": "stream",
          "name": "stdout",
          "text": [
            "4\n"
          ]
        }
      ]
    },
    {
      "cell_type": "code",
      "source": [
        "# Type, Man_trans_avail에 대한 그룹별 RPM 레코드 수와\n",
        "# RPM 합계, 중앙값을 모두 구한 후,\n",
        "# 그룹별 중앙값에서 그룹별 합계에서 레코드 수를 나눈 값들을 빼서\n",
        "# 나온 결과의 총 원소 합을 구하여라\n",
        "# 단, 출력 시 소수점은 첫째 자리에서 반올림하여 표현할 것"
      ],
      "metadata": {
        "id": "zuuI11CJKfIa"
      },
      "execution_count": null,
      "outputs": []
    },
    {
      "cell_type": "code",
      "source": [
        "import pandas as pd\n",
        "data = pd.read_csv(\"Cars93.csv\")\n",
        "\n",
        "# RPM 레코드 수, 합계 중앙값\n",
        "num_RPM = data.groupby(['Type', 'Man_trans_avail'])['RPM'].count()\n",
        "sum_RPM = data.groupby(['Type', 'Man_trans_avail'])['RPM'].sum()\n",
        "m_RPM = data.groupby(['Type', 'Man_trans_avail'])['RPM'].median()\n",
        "\n",
        "# 차이 값들 합계\n",
        "diff = m_RPM - (sum_RPM / num_RPM)\n",
        "result = round(diff.sum(),0)\n",
        "\n",
        "print(result)"
      ],
      "metadata": {
        "colab": {
          "base_uri": "https://localhost:8080/"
        },
        "id": "cUK-sRizKzxW",
        "outputId": "c171312d-d21d-47ad-e0e7-288384c2d41f"
      },
      "execution_count": 13,
      "outputs": [
        {
          "output_type": "stream",
          "name": "stdout",
          "text": [
            "442.0\n"
          ]
        }
      ]
    },
    {
      "cell_type": "code",
      "source": [
        "# RPM 컬럼의 결측치를 평균으로 대체하고\n",
        "# RPM와 Wheelbase 컬럼을 각각 z-점수 표준화한 후\n",
        "# 표준화된 Wheelbase에 상수 -36을 곱한 값과\n",
        "# 표준화된 RPM 컬럼의 차이값을 구하고 표준편차를 산출하여라\n",
        "# 단, 소수점 셋째 자리까지 반올림하여 표현할 것"
      ],
      "metadata": {
        "id": "EXkS_WDmMnsJ"
      },
      "execution_count": null,
      "outputs": []
    },
    {
      "cell_type": "code",
      "source": [
        "import pandas as pd\n",
        "data = pd.read_csv(\"Cars93.csv\")\n",
        "\n",
        "# 결측치 -> 평균으로 대체\n",
        "avg = data['RPM'].mean()\n",
        "data['RPM'] = data['RPM'].fillna(avg)\n",
        "\n",
        "# z-점수 표준화\n",
        "RPM_std = (data['RPM'] - data['RPM'].mean())/data['RPM'].std()\n",
        "Wheelbase_std = (data['Wheelbase'] - data['Wheelbase'].mean())/data['Wheelbase'].std()\n",
        "\n",
        "# 계산\n",
        "diff = (Wheelbase_std * (-36) - RPM_std).std()\n",
        "\n",
        "result = round(diff, 3)\n",
        "print(result)"
      ],
      "metadata": {
        "colab": {
          "base_uri": "https://localhost:8080/"
        },
        "id": "qlCtRw5zNGb0",
        "outputId": "25a68ddc-d5df-4eed-bcb1-4744f6981d14"
      },
      "execution_count": 14,
      "outputs": [
        {
          "output_type": "stream",
          "name": "stdout",
          "text": [
            "35.561\n"
          ]
        }
      ]
    },
    {
      "cell_type": "code",
      "source": [
        "# Price 컬럼의 결측치를 평균으로 대체하고\n",
        "# Max_Price 변수와 Min_Price의 평균보다 작은 레코드만을 추출해\n",
        "# 산출된 Origin 그룹별 Price의 합계를 구하고\n",
        "# 다음으로 Price 컬럼의 결측치를 중앙값으로 대체하고\n",
        "# Price 컬럼이 Min_Price 컬럼의 제 3사분위수보다 작은 레코드만을 추출해\n",
        "# 산출된 Origin별 Price의 합계를 Origin 그룹별로 합한 후 큰 값을 출력하여라.\n",
        "# 단, 소수점 이하는 모두 절삭하여 정수로 표현할 것"
      ],
      "metadata": {
        "id": "g2jEm6mHRmMX"
      },
      "execution_count": null,
      "outputs": []
    },
    {
      "cell_type": "code",
      "source": [
        "import pandas as pd\n",
        "data = pd.read_csv(\"Cars93.csv\")\n",
        "\n",
        "# 결측치 대체를 두 번 해야하므로 복사해두기\n",
        "df1 = data.copy()\n",
        "df2 = data.copy()\n",
        "\n",
        "# df1 평균으로 결측치 대체\n",
        "avg = df1['Price'].mean()\n",
        "df1['Price'] = df1['Price'].fillna(avg)\n",
        "\n",
        "# Max, Min 평균\n",
        "avg_M = df1[['Max_Price', 'Min_Price']].mean(axis = 1)\n",
        "\n",
        "# 위 값보다 작은 레코드만 추출\n",
        "sub_df1 = df1[df1['Price'] < avg_M]\n",
        "\n",
        "# 산출된 Origin 그룹별 Price 합계\n",
        "sum_df1 = sub_df1.groupby('Origin')['Price'].sum()\n",
        "\n",
        "# df2 중앙값으로 대체\n",
        "med = df2['Price'].median()\n",
        "df2['Price'] = df2['Price'].fillna(med)\n",
        "\n",
        "# Min의 제 3사분위수\n",
        "q3 = df2['Min_Price'].quantile(0.75)\n",
        "\n",
        "# 위의 값보다 작은 Price만\n",
        "sub_df2 = df2[df2['Price'] < q3]\n",
        "\n",
        "# Origin 그룹별 Price 합계\n",
        "sum_df2 = sub_df2.groupby('Origin')['Price'].sum()\n",
        "\n",
        "# 두 개 합한 값의 최고\n",
        "max = max(sum_df1 + sum_df2)\n",
        "\n",
        "# 소수점 절삭 + 정수로만\n",
        "import numpy as np\n",
        "\n",
        "result = int(np.floor(max))\n",
        "print(result)"
      ],
      "metadata": {
        "colab": {
          "base_uri": "https://localhost:8080/"
        },
        "id": "_3HeHqNrTEjM",
        "outputId": "f91a0cee-8524-4076-f2eb-a300082f09b2"
      },
      "execution_count": 18,
      "outputs": [
        {
          "output_type": "stream",
          "name": "stdout",
          "text": [
            "856\n"
          ]
        }
      ]
    },
    {
      "cell_type": "code",
      "source": [
        "# Price 컬럼은 Min_Price와 Max_Price의 평균으로 알려져있다.\n",
        "# 이와 같은 사실을 통해 'Price' 컬럼의 결측치의 원래의 값을 계산한 후\n",
        "# 'Price' 가 14.7보다 작거나 25.5보다 크면서 'Large' 타입인 레코드 수를 계산해라"
      ],
      "metadata": {
        "id": "xteIMl-2hY2z"
      },
      "execution_count": null,
      "outputs": []
    },
    {
      "cell_type": "code",
      "source": [
        "import pandas as pd\n",
        "data = pd.read_csv(\"Cars93.csv\")\n",
        "\n",
        "# 별도 저장\n",
        "Price = data['Price'].copy()\n",
        "Min_Price = data['Min_Price'].copy()\n",
        "Max_Price = data['Max_Price'].copy()\n",
        "Type = data['Type'].copy()\n",
        "\n",
        "# Price 컬럼이 결측인 조건\n",
        "cond_na = Price.isna()\n",
        "\n",
        "# Price가 결측인 경우에만 Min, Max의 평균으로 할당\n",
        "Price[cond_na] = (Min_Price[cond_na] + Min_Price[cond_na])/2\n",
        "\n",
        "# Price 조건\n",
        "cond1 = Price < 14.7\n",
        "cond2 = (Price > 25.5) $ (Type == 'Large')\n",
        "cond = cond1 | con2\n",
        "\n",
        "# 레코드 수 계산\n",
        "result = data[cond].shape[0]\n",
        "print(result)"
      ],
      "metadata": {
        "id": "FtOGQI_xhwDZ"
      },
      "execution_count": null,
      "outputs": []
    },
    {
      "cell_type": "code",
      "source": [
        "# Make 컬럼을 이용하여\n",
        "# 제조사가 Chevrolet, Pontiac, Hyundai 이면서\n",
        "# AirBags이 Drive에만 있는 경우인 레코드 수를 계산해라"
      ],
      "metadata": {
        "id": "a-KZyVv1kNEZ"
      },
      "execution_count": null,
      "outputs": []
    },
    {
      "cell_type": "code",
      "source": [
        "import pandas as pd\n",
        "data = pd.read_csv(\"Cars93.csv\")\n",
        "\n",
        "# 복사 해두기\n",
        "Make = data['Make'].copy()\n",
        "AirBags = data['AirBags'].copy()\n",
        "\n",
        "# 공백 제거\n",
        "Make = Make.str.strip()\n",
        "\n",
        "# 조건\n",
        "cond = (Make.str.startswith(('Chevrolet', 'Pontiac', 'Hyundai')))\n",
        "cond2 = (AirBags == 'Drive only')\n",
        "\n",
        "result = sum(cond&cond2)\n",
        "print(result)"
      ],
      "metadata": {
        "colab": {
          "base_uri": "https://localhost:8080/"
        },
        "id": "RJE2HmKwkf8Z",
        "outputId": "4dd22dc7-09b2-4256-e28a-c10393ac3681"
      },
      "execution_count": 33,
      "outputs": [
        {
          "output_type": "stream",
          "name": "stdout",
          "text": [
            "0\n"
          ]
        }
      ]
    },
    {
      "cell_type": "code",
      "source": [
        "# Dose 컬럼의 제 3사분위수와 제 2사분위수를 구하고\n",
        "# 두 값의 차이의 절댓값을 구한 후\n",
        "# 소수점을 버린 값을 출력하여라"
      ],
      "metadata": {
        "id": "WfffSRPHmKDy"
      },
      "execution_count": null,
      "outputs": []
    },
    {
      "cell_type": "code",
      "source": [
        "import pandas as pd\n",
        "data = pd.read_csv(\"Rabbit.csv\")\n",
        "\n",
        "q3 = data['Dose'].quantile(.75)\n",
        "q1 = data['Dose'].quantile()\n",
        "\n",
        "diff = abs(q3 - q1)\n",
        "result = diff.astype('int64')\n",
        "print(result)"
      ],
      "metadata": {
        "colab": {
          "base_uri": "https://localhost:8080/"
        },
        "id": "Z3kS17QtmbSv",
        "outputId": "92bb58c5-1647-4aef-b1a8-3ab53e29d8a3"
      },
      "execution_count": 34,
      "outputs": [
        {
          "output_type": "stream",
          "name": "stdout",
          "text": [
            "62\n"
          ]
        }
      ]
    },
    {
      "cell_type": "code",
      "source": [
        "# medv 컬럼에 대해서 동일한 폭으로 binning 한 후\n",
        "# 가장 많은 빈도를 가지는 구간을 산출하고\n",
        "# 해당 구간 내 dis 컬럼의 중앙값을 구하여라\n",
        "# 폭은 10을 기준으로 하고\n",
        "# 소수점은 둘째 자리까지 나타내시오."
      ],
      "metadata": {
        "id": "amE6QuyNm5au"
      },
      "execution_count": null,
      "outputs": []
    },
    {
      "cell_type": "code",
      "source": [
        "import pandas as pd\n",
        "data = pd.read_csv(\"Boston.csv\")\n",
        "\n",
        "# medv 컬럼 10 폭으로 binning\n",
        "medv_cut = pd.cut(data['medv'], bins = [0, 10, 20, 30, 40, 50])\n",
        "\n",
        "# 가장 많은 빈도 가지는 구간\n",
        "mode = medv_cut.value_counts().idxmax()\n",
        "\n",
        "# 해당 구간 내 dis의 중앙값\n",
        "cond = (medv_cut == mode)\n",
        "median = data['dis'][cond].median()\n",
        "\n",
        "result = round(median, 2)\n",
        "print(result)"
      ],
      "metadata": {
        "colab": {
          "base_uri": "https://localhost:8080/"
        },
        "id": "oouLkHU6nG-n",
        "outputId": "93c0fb8e-4a14-4063-f5d9-681393757129"
      },
      "execution_count": 37,
      "outputs": [
        {
          "output_type": "stream",
          "name": "stdout",
          "text": [
            "3.95\n"
          ]
        }
      ]
    },
    {
      "cell_type": "code",
      "source": [
        "# 1번째 ~ 122번째 레코드와 123번째 이후 레코드로 데이터셋을 분리하고\n",
        "# 각 데이터별로 thickness 컬럼을 z-score 정규화로 변환한 후\n",
        "# -1과 1 사이 값들의 중앙값을 각각 산출한 후\n",
        "# 합계를 구해라\n",
        "# 단, z-score 정규화 변환 계산에 사용되는 평균과 표준편차는 분리된 것과 관계없이\n",
        "# 1번째 ~ 123번째 레코드로 이루어진 데이터셋을 기준으로 하고\n",
        "# 출력 시 소수점 넷째 자리까지 반올림하여 나타낼 것\n",
        "# 레코드 번호는 가장 위에 위치한 레코드를 1번으로 가정"
      ],
      "metadata": {
        "id": "gT6_56NMoNCx"
      },
      "execution_count": null,
      "outputs": []
    },
    {
      "cell_type": "code",
      "source": [
        "import pandas as pd\n",
        "data = pd.read_csv(\"Melanoma.csv\")\n",
        "\n",
        "# 데이터 분리\n",
        "df1 = data.iloc[:123]\n",
        "df2 = data.iloc[123:]\n",
        "\n",
        "# df1 기준으로 평균구하기\n",
        "avg = df1['thickness'].mean()\n",
        "\n",
        "# df1 기준으로 표준편차 구하기\n",
        "sd = df1['thickness'].std()\n",
        "\n",
        "# 각 z-score 정규화 변환\n",
        "std1 = (df1['thickness'] - avg)/sd\n",
        "std2 = (df2['thickness'] - avg)/sd\n",
        "\n",
        "# -1과 1사이 값\n",
        "sub_std1 = std1[(std1 >= -1) & (std1 <= 1)]\n",
        "sub_std2 = std2[(std2 >= -1) & (std2 <= 1)]\n",
        "\n",
        "# 중앙값 합계\n",
        "med1 = sub_std1.median()\n",
        "med2 = sub_std2.median()\n",
        "result = round(med1 + med2,4)\n",
        "\n",
        "print(result)"
      ],
      "metadata": {
        "colab": {
          "base_uri": "https://localhost:8080/"
        },
        "id": "BvbGO9nGowC-",
        "outputId": "1c587a21-c9d3-40a7-8bd4-26315e8f88d9"
      },
      "execution_count": 39,
      "outputs": [
        {
          "output_type": "stream",
          "name": "stdout",
          "text": [
            "-1.0027\n"
          ]
        }
      ]
    }
  ]
}