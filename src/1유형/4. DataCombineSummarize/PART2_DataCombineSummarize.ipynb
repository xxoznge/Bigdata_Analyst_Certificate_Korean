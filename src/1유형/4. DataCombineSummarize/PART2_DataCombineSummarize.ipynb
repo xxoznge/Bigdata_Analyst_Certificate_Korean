{
  "nbformat": 4,
  "nbformat_minor": 0,
  "metadata": {
    "colab": {
      "provenance": [],
      "authorship_tag": "ABX9TyN+lNDUCZlcQa8eFHj1LPx5",
      "include_colab_link": true
    },
    "kernelspec": {
      "name": "python3",
      "display_name": "Python 3"
    },
    "language_info": {
      "name": "python"
    }
  },
  "cells": [
    {
      "cell_type": "markdown",
      "metadata": {
        "id": "view-in-github",
        "colab_type": "text"
      },
      "source": [
        "<a href=\"https://colab.research.google.com/github/xxoznge/Bigdata_Analyst_Certificate_Korean/blob/main/PART2_DataCombineSummarize.ipynb\" target=\"_parent\"><img src=\"https://colab.research.google.com/assets/colab-badge.svg\" alt=\"Open In Colab\"/></a>"
      ]
    },
    {
      "cell_type": "code",
      "execution_count": null,
      "metadata": {
        "id": "Z4LFQVFib9mu"
      },
      "outputs": [],
      "source": [
        "# 4-1. 데이터 결합"
      ]
    },
    {
      "cell_type": "code",
      "source": [
        "# 1. 데이터 결합\n",
        "# pandas.concat(objs, axis=0,...)\n",
        "import pandas as pd\n",
        "\n",
        "obj = {'student_id' : ['s1', 's2', 's3', 's4', 's5', 's6'],\n",
        "       'score' : [55, 90, 85, 71, 63, 99]}\n",
        "df = pd.DataFrame(obj)\n",
        "\n",
        "obj2 = {'student_id' : ['t1', 't2', 't3', 't4', 't5', 't6'],\n",
        "       'score' : [55, 90, 85, 71, 63, 99]}\n",
        "df2 = pd.DataFrame(obj2)\n",
        "\n",
        "print(pd.concat([df, df2]))\n",
        "print(pd.concat([df, df2], axis=1))"
      ],
      "metadata": {
        "colab": {
          "base_uri": "https://localhost:8080/"
        },
        "id": "Qo84Nq4zc-MD",
        "outputId": "f45aa92f-fd6c-4ef6-9ce7-bfd7413c7658"
      },
      "execution_count": 8,
      "outputs": [
        {
          "output_type": "stream",
          "name": "stdout",
          "text": [
            "  student_id  score\n",
            "0         s1     55\n",
            "1         s2     90\n",
            "2         s3     85\n",
            "3         s4     71\n",
            "4         s5     63\n",
            "5         s6     99\n",
            "0         t1     55\n",
            "1         t2     90\n",
            "2         t3     85\n",
            "3         t4     71\n",
            "4         t5     63\n",
            "5         t6     99\n",
            "  student_id  score student_id  score\n",
            "0         s1     55         t1     55\n",
            "1         s2     90         t2     90\n",
            "2         s3     85         t3     85\n",
            "3         s4     71         t4     71\n",
            "4         s5     63         t5     63\n",
            "5         s6     99         t6     99\n"
          ]
        }
      ]
    },
    {
      "cell_type": "code",
      "source": [
        "# 2. 데이터 병합\n",
        "# 데이터프레임객체.merge(right, how = 'inner', on = None, ...)\n",
        "\n",
        "print(df.merge(df2, on = 'student_id'))                # 공통 학생들의 점수만 합쳐짐 / inner가 기본\n",
        "print(df.merge(df2, how = 'outer', on = 'student_id')) # 모든 학생들의 점수가 합쳐짐\n",
        "print(df.merge(df2, how = 'left', on = 'student_id'))  # df에 있는 학생들의 점수들만 반환\n",
        "print(df.merge(df2, how = 'right', on = 'student_id')) # df2에 있는 학생들의 점수들만 반환"
      ],
      "metadata": {
        "colab": {
          "base_uri": "https://localhost:8080/"
        },
        "id": "UmQMXGZzdnpH",
        "outputId": "9385507b-4cc0-4b74-f2bd-00df9e063e57"
      },
      "execution_count": 9,
      "outputs": [
        {
          "output_type": "stream",
          "name": "stdout",
          "text": [
            "Empty DataFrame\n",
            "Columns: [student_id, score_x, score_y]\n",
            "Index: []\n",
            "   student_id  score_x  score_y\n",
            "0          s1     55.0      NaN\n",
            "1          s2     90.0      NaN\n",
            "2          s3     85.0      NaN\n",
            "3          s4     71.0      NaN\n",
            "4          s5     63.0      NaN\n",
            "5          s6     99.0      NaN\n",
            "6          t1      NaN     55.0\n",
            "7          t2      NaN     90.0\n",
            "8          t3      NaN     85.0\n",
            "9          t4      NaN     71.0\n",
            "10         t5      NaN     63.0\n",
            "11         t6      NaN     99.0\n",
            "  student_id  score_x  score_y\n",
            "0         s1       55      NaN\n",
            "1         s2       90      NaN\n",
            "2         s3       85      NaN\n",
            "3         s4       71      NaN\n",
            "4         s5       63      NaN\n",
            "5         s6       99      NaN\n",
            "  student_id  score_x  score_y\n",
            "0         t1      NaN       55\n",
            "1         t2      NaN       90\n",
            "2         t3      NaN       85\n",
            "3         t4      NaN       71\n",
            "4         t5      NaN       63\n",
            "5         t6      NaN       99\n"
          ]
        }
      ]
    },
    {
      "cell_type": "code",
      "source": [
        "# 4-2. 데이터 요약"
      ],
      "metadata": {
        "id": "AEHMMgBqeskT"
      },
      "execution_count": null,
      "outputs": []
    },
    {
      "cell_type": "code",
      "source": [
        "# 1. 그룹별 통계 요약\n",
        "# 데이터프레임객체.groupby(by,as_index=True, ...)\n",
        "\n",
        "obj = {'student_id' : ['s1', 's2', 's3', 's4', 's5', 's6'],\n",
        "       'score' : [55, 90, 85, 71, 63, 99],\n",
        "       'math_score' : [55, 90, 85, 71, 63, 99],\n",
        "       'sex' : ['f', 'f', 'f', 'm', 'm', 'm'],\n",
        "       'pre_level' : ['B', 'A', 'B', 'B', 'C', 'A']\n",
        "       }\n",
        "df = pd.DataFrame(obj)\n",
        "print(df)\n",
        "\n",
        "n = ['score', 'math_score']\n",
        "\n",
        "print(df.groupby('sex')[n].mean())\n",
        "print(df.groupby('sex', as_index=False)[n].mean())\n",
        "print(df.groupby(['sex','pre_level'], as_index=False)[n].mean())\n",
        "print(df.groupby('sex', as_index=False)[n].describe())"
      ],
      "metadata": {
        "colab": {
          "base_uri": "https://localhost:8080/"
        },
        "id": "EuWu2xPBevqt",
        "outputId": "baace62a-9bf5-43fc-fa3d-aa390230f610"
      },
      "execution_count": 21,
      "outputs": [
        {
          "output_type": "stream",
          "name": "stdout",
          "text": [
            "  student_id  score  math_score sex pre_level\n",
            "0         s1     55          55   f         B\n",
            "1         s2     90          90   f         A\n",
            "2         s3     85          85   f         B\n",
            "3         s4     71          71   m         B\n",
            "4         s5     63          63   m         C\n",
            "5         s6     99          99   m         A\n",
            "         score  math_score\n",
            "sex                       \n",
            "f    76.666667   76.666667\n",
            "m    77.666667   77.666667\n",
            "  sex      score  math_score\n",
            "0   f  76.666667   76.666667\n",
            "1   m  77.666667   77.666667\n",
            "  sex pre_level  score  math_score\n",
            "0   f         A   90.0        90.0\n",
            "1   f         B   70.0        70.0\n",
            "2   m         A   99.0        99.0\n",
            "3   m         B   71.0        71.0\n",
            "4   m         C   63.0        63.0\n",
            "  sex score                                                     math_score  \\\n",
            "      count       mean        std   min   25%   50%   75%   max      count   \n",
            "0   f   3.0  76.666667  18.929694  55.0  70.0  85.0  87.5  90.0        3.0   \n",
            "1   m   3.0  77.666667  18.903263  63.0  67.0  71.0  85.0  99.0        3.0   \n",
            "\n",
            "                                                       \n",
            "        mean        std   min   25%   50%   75%   max  \n",
            "0  76.666667  18.929694  55.0  70.0  85.0  87.5  90.0  \n",
            "1  77.666667  18.903263  63.0  67.0  71.0  85.0  99.0  \n"
          ]
        }
      ]
    },
    {
      "cell_type": "code",
      "source": [
        "# 데이터프레임객체.agg(func)\n",
        "\n",
        "import numpy as np\n",
        "\n",
        "n = ['score', 'math_score']\n",
        "\n",
        "print(df.groupby('sex')[n].agg([np.mean, sum]))\n",
        "\n",
        "print(df.groupby('sex', as_index=False).agg({'score':np.mean, 'math_score':sum}))\n",
        "\n",
        "print(df.groupby('sex', as_index=False).agg({'score':[np.mean,np.median],\n",
        "                                      'math_score': [sum,max]}))"
      ],
      "metadata": {
        "colab": {
          "base_uri": "https://localhost:8080/"
        },
        "id": "tlYUInmqmJ4Y",
        "outputId": "7c5c49d6-a921-4b7d-b86e-54184e493a1a"
      },
      "execution_count": 24,
      "outputs": [
        {
          "output_type": "stream",
          "name": "stdout",
          "text": [
            "         score      math_score     \n",
            "          mean  sum       mean  sum\n",
            "sex                                \n",
            "f    76.666667  230  76.666667  230\n",
            "m    77.666667  233  77.666667  233\n",
            "  sex      score  math_score\n",
            "0   f  76.666667         230\n",
            "1   m  77.666667         233\n",
            "  sex      score        math_score    \n",
            "            mean median        sum max\n",
            "0   f  76.666667   85.0        230  90\n",
            "1   m  77.666667   71.0        233  99\n"
          ]
        }
      ]
    },
    {
      "cell_type": "code",
      "source": [
        "# 2. 데이터에 함수 적용하기\n",
        "\n",
        "print(df['pre_level'].map({'A':0, 'B':1, 'C':2}))\n",
        "print(df['sex'].map({'f':'여자', 'm':'남자'}))"
      ],
      "metadata": {
        "colab": {
          "base_uri": "https://localhost:8080/"
        },
        "id": "ZtmoqdADm3Ks",
        "outputId": "a066c392-7140-4383-c34b-9536ca57e2fc"
      },
      "execution_count": 25,
      "outputs": [
        {
          "output_type": "stream",
          "name": "stdout",
          "text": [
            "0    1\n",
            "1    0\n",
            "2    1\n",
            "3    1\n",
            "4    2\n",
            "5    0\n",
            "Name: pre_level, dtype: int64\n",
            "0    여자\n",
            "1    여자\n",
            "2    여자\n",
            "3    남자\n",
            "4    남자\n",
            "5    남자\n",
            "Name: sex, dtype: object\n"
          ]
        }
      ]
    },
    {
      "cell_type": "code",
      "source": [
        "def f(x):\n",
        "  return x ** 2 + 2*x - 5000\n",
        "\n",
        "df['score'].map(f)"
      ],
      "metadata": {
        "colab": {
          "base_uri": "https://localhost:8080/"
        },
        "id": "Jyz3CPyRuqmK",
        "outputId": "0f8685d2-65e9-46a7-d8ec-50164d6accb2"
      },
      "execution_count": 27,
      "outputs": [
        {
          "output_type": "execute_result",
          "data": {
            "text/plain": [
              "0   -1865\n",
              "1    3280\n",
              "2    2395\n",
              "3     183\n",
              "4    -905\n",
              "5    4999\n",
              "Name: score, dtype: int64"
            ]
          },
          "metadata": {},
          "execution_count": 27
        }
      ]
    },
    {
      "cell_type": "code",
      "source": [
        "# 데이터프레임객체.apply(func.axis=0,)\n",
        "\n",
        "print(df[['score','math_score']].apply(np.sum))\n",
        "\n",
        "print(df[['score','math_score']].apply(np.sum, axis=1))\n",
        "\n",
        "print(df[['score','math_score']].sum())\n",
        "\n",
        "print(df[['score','math_score']].sum(axis=1))"
      ],
      "metadata": {
        "colab": {
          "base_uri": "https://localhost:8080/"
        },
        "id": "VHoZ9WyFu3Fo",
        "outputId": "f981a26e-296f-4f4b-c901-1475a53f0df0"
      },
      "execution_count": 32,
      "outputs": [
        {
          "output_type": "stream",
          "name": "stdout",
          "text": [
            "score         463\n",
            "math_score    463\n",
            "dtype: int64\n",
            "0    110\n",
            "1    180\n",
            "2    170\n",
            "3    142\n",
            "4    126\n",
            "5    198\n",
            "dtype: int64\n",
            "score         463\n",
            "math_score    463\n",
            "dtype: int64\n",
            "0    110\n",
            "1    180\n",
            "2    170\n",
            "3    142\n",
            "4    126\n",
            "5    198\n",
            "dtype: int64\n"
          ]
        }
      ]
    }
  ]
}