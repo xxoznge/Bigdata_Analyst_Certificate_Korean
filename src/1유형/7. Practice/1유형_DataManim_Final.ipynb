{
  "nbformat": 4,
  "nbformat_minor": 0,
  "metadata": {
    "colab": {
      "provenance": [],
      "authorship_tag": "ABX9TyOlyQKoYPgbJh591Thl/cYo",
      "include_colab_link": true
    },
    "kernelspec": {
      "name": "python3",
      "display_name": "Python 3"
    },
    "language_info": {
      "name": "python"
    }
  },
  "cells": [
    {
      "cell_type": "markdown",
      "metadata": {
        "id": "view-in-github",
        "colab_type": "text"
      },
      "source": [
        "<a href=\"https://colab.research.google.com/github/xxoznge/Bigdata_Analyst_Certificate_Korean/blob/main/2%EC%9C%A0%ED%98%95_DataManim_Final.ipynb\" target=\"_parent\"><img src=\"https://colab.research.google.com/assets/colab-badge.svg\" alt=\"Open In Colab\"/></a>"
      ]
    },
    {
      "cell_type": "code",
      "execution_count": 20,
      "metadata": {
        "id": "fN_JDZLH5UtK"
      },
      "outputs": [],
      "source": [
        "import pandas as pd\n",
        "df = pd.read_csv(\"https://raw.githubusercontent.com/Datamanim/datarepo/main/youtube/youtube.csv\",index_col=0)"
      ]
    },
    {
      "cell_type": "code",
      "source": [
        "# 인기동영상 제작 횟수가 많은 채널 상위 10개명을 출력하라 (날짜기준, 중복포함)\n",
        "\n",
        "result = list(df.loc[df.channelId.isin(df.channelId.value_counts().head(10).index)].channelTitle.unique())\n",
        "print(result)"
      ],
      "metadata": {
        "colab": {
          "base_uri": "https://localhost:8080/"
        },
        "id": "6qbRhtSuuR3_",
        "outputId": "ca157b30-4573-4e71-f5e2-068bb68bbc3b"
      },
      "execution_count": 21,
      "outputs": [
        {
          "output_type": "stream",
          "name": "stdout",
          "text": [
            "['장삐쭈', '총몇명', '파뿌리', '짤툰', '런닝맨 - 스브스 공식 채널', '엠뚜루마뚜루 : MBC 공식 종합 채널', 'SPOTV', '채널 십오야', '이과장', 'BANGTANTV']\n"
          ]
        }
      ]
    },
    {
      "cell_type": "code",
      "source": [
        "# 논란으로 인기동영상이 된 케이스를 확인하고 싶다.\n",
        "# dislikes수가 like 수보다 높은 동영상을 제작한 채널을 모두 출력하라\n",
        "\n",
        "result = list(df.loc[df.dislikes > df.likes].channelTitle.unique())\n",
        "print(result)"
      ],
      "metadata": {
        "colab": {
          "base_uri": "https://localhost:8080/"
        },
        "id": "xr5FFOGFuUda",
        "outputId": "309b93f8-df96-45b1-bea7-6a404672ad03"
      },
      "execution_count": 22,
      "outputs": [
        {
          "output_type": "stream",
          "name": "stdout",
          "text": [
            "['핫도그TV', 'ASMR 애정TV', '하얀트리HayanTree', '양팡 YangPang', '철구형 (CHULTUBE)', '왜냐맨하우스', '(MUTUBE)와꾸대장봉준', '오메킴TV', '육지담', 'MapleStory_KR', 'ROAD FIGHTING CHAMPIONSHIP', '사나이 김기훈', '나혼자산다 STUDIO', 'Gen.G esports']\n"
          ]
        }
      ]
    },
    {
      "cell_type": "code",
      "source": [
        "# 채널명을 바꾼 케이스가 있는지 확인하고 싶다.\n",
        "# channelId의 경우 고유값이므로 이를 통해 채널명을 한번이라도 바꾼 채널의 갯수를 구하여라\n",
        "\n",
        "change = df[['channelTitle','channelId']].drop_duplicates().channelId.value_counts()\n",
        "result = change[change>=1]\n",
        "print(result)"
      ],
      "metadata": {
        "colab": {
          "base_uri": "https://localhost:8080/"
        },
        "id": "A4-UhsrouVq6",
        "outputId": "70e37854-0cea-488c-ebd3-23138c8572e7"
      },
      "execution_count": 23,
      "outputs": [
        {
          "output_type": "stream",
          "name": "stdout",
          "text": [
            "channelId\n",
            "UCtQYhzJWFai1y30UIA3uwYQ    3\n",
            "UC98TOxKQk4aLcx0EjIK0LkQ    3\n",
            "UC4nEQI74rZkFKlUSwi0ur4A    2\n",
            "UCn64fSqF2l4rkkjtQUpku2A    2\n",
            "UCjO3ji06DxmTM1RrzLVwmkA    2\n",
            "                           ..\n",
            "UCuZu8NrpBG4WPXRi-hPBl-A    1\n",
            "UCDrAR1OWC2MD4s0JLetN0MA    1\n",
            "UCx2MVBsdTJ_sv0LiUpSQU2Q    1\n",
            "UCu2R3TCLSxYV8pRyBGNOh2g    1\n",
            "UCRCK5FCJtomQT3b88jXI_DA    1\n",
            "Name: count, Length: 1770, dtype: int64\n"
          ]
        }
      ]
    },
    {
      "cell_type": "code",
      "source": [
        "# 일요일에 인기있었던 영상들중 가장많은 영상 종류(categoryId)는 무엇인가?\n",
        "\n",
        "df['trending_date2'] = pd.to_datetime(df['trending_date2'])\n",
        "result = df.loc[df['trending_date2'].dt.day_name() == 'Sunday'].categoryId.value_counts().index[0]\n",
        "print(result)"
      ],
      "metadata": {
        "colab": {
          "base_uri": "https://localhost:8080/"
        },
        "id": "WhxTWREKuW9U",
        "outputId": "7562e9a6-c5fd-4bf7-81bd-ceb5e9e20a77"
      },
      "execution_count": 25,
      "outputs": [
        {
          "output_type": "stream",
          "name": "stdout",
          "text": [
            "24\n"
          ]
        }
      ]
    },
    {
      "cell_type": "code",
      "source": [
        "# 각 요일별 인기 영상들의 categoryId는 각각 몇개 씩인지 하나의 데이터 프레임으로 표현하라\n",
        "\n",
        "group = df.groupby([df['trending_date2'].dt.day_name(),'categoryId'], as_index=False).size()\n",
        "result = group.pivot(index='categoryId', columns='trending_date2')\n",
        "display(result)"
      ],
      "metadata": {
        "colab": {
          "base_uri": "https://localhost:8080/",
          "height": 602
        },
        "id": "tTIbe6DkuYOf",
        "outputId": "aaf6d03d-304c-4878-80e9-c4350cd69869"
      },
      "execution_count": 28,
      "outputs": [
        {
          "output_type": "display_data",
          "data": {
            "text/plain": [
              "                 size                                                  \n",
              "trending_date2 Friday Monday Saturday Sunday Thursday Tuesday Wednesday\n",
              "categoryId                                                             \n",
              "1                 243    263      255    274      246     257       234\n",
              "2                 120    105      119     99      128     119       129\n",
              "10                833    837      776    830      890     894       917\n",
              "15                187    215      198    217      207     208       207\n",
              "17                633    668      592    636      682     708       706\n",
              "19                 90     92       87     91       92      89        85\n",
              "20                283    298      296    289      282     285       291\n",
              "22               1288   1373     1289   1337     1341    1375      1333\n",
              "23                568    594      570    556      560     569       566\n",
              "24               2976   3148     3066   3096     2954    3084      3090\n",
              "25                444    453      422    437      470     452       468\n",
              "26                369    378      364    363      375     394       385\n",
              "27                183    205      183    199      194     194       212\n",
              "28                171    160      173    167      166     161       165\n",
              "29                 12     10       10      9       13      11        12"
            ],
            "text/html": [
              "\n",
              "  <div id=\"df-5b2474de-c3af-4f88-9bf0-723d63c73bc0\" class=\"colab-df-container\">\n",
              "    <div>\n",
              "<style scoped>\n",
              "    .dataframe tbody tr th:only-of-type {\n",
              "        vertical-align: middle;\n",
              "    }\n",
              "\n",
              "    .dataframe tbody tr th {\n",
              "        vertical-align: top;\n",
              "    }\n",
              "\n",
              "    .dataframe thead tr th {\n",
              "        text-align: left;\n",
              "    }\n",
              "\n",
              "    .dataframe thead tr:last-of-type th {\n",
              "        text-align: right;\n",
              "    }\n",
              "</style>\n",
              "<table border=\"1\" class=\"dataframe\">\n",
              "  <thead>\n",
              "    <tr>\n",
              "      <th></th>\n",
              "      <th colspan=\"7\" halign=\"left\">size</th>\n",
              "    </tr>\n",
              "    <tr>\n",
              "      <th>trending_date2</th>\n",
              "      <th>Friday</th>\n",
              "      <th>Monday</th>\n",
              "      <th>Saturday</th>\n",
              "      <th>Sunday</th>\n",
              "      <th>Thursday</th>\n",
              "      <th>Tuesday</th>\n",
              "      <th>Wednesday</th>\n",
              "    </tr>\n",
              "    <tr>\n",
              "      <th>categoryId</th>\n",
              "      <th></th>\n",
              "      <th></th>\n",
              "      <th></th>\n",
              "      <th></th>\n",
              "      <th></th>\n",
              "      <th></th>\n",
              "      <th></th>\n",
              "    </tr>\n",
              "  </thead>\n",
              "  <tbody>\n",
              "    <tr>\n",
              "      <th>1</th>\n",
              "      <td>243</td>\n",
              "      <td>263</td>\n",
              "      <td>255</td>\n",
              "      <td>274</td>\n",
              "      <td>246</td>\n",
              "      <td>257</td>\n",
              "      <td>234</td>\n",
              "    </tr>\n",
              "    <tr>\n",
              "      <th>2</th>\n",
              "      <td>120</td>\n",
              "      <td>105</td>\n",
              "      <td>119</td>\n",
              "      <td>99</td>\n",
              "      <td>128</td>\n",
              "      <td>119</td>\n",
              "      <td>129</td>\n",
              "    </tr>\n",
              "    <tr>\n",
              "      <th>10</th>\n",
              "      <td>833</td>\n",
              "      <td>837</td>\n",
              "      <td>776</td>\n",
              "      <td>830</td>\n",
              "      <td>890</td>\n",
              "      <td>894</td>\n",
              "      <td>917</td>\n",
              "    </tr>\n",
              "    <tr>\n",
              "      <th>15</th>\n",
              "      <td>187</td>\n",
              "      <td>215</td>\n",
              "      <td>198</td>\n",
              "      <td>217</td>\n",
              "      <td>207</td>\n",
              "      <td>208</td>\n",
              "      <td>207</td>\n",
              "    </tr>\n",
              "    <tr>\n",
              "      <th>17</th>\n",
              "      <td>633</td>\n",
              "      <td>668</td>\n",
              "      <td>592</td>\n",
              "      <td>636</td>\n",
              "      <td>682</td>\n",
              "      <td>708</td>\n",
              "      <td>706</td>\n",
              "    </tr>\n",
              "    <tr>\n",
              "      <th>19</th>\n",
              "      <td>90</td>\n",
              "      <td>92</td>\n",
              "      <td>87</td>\n",
              "      <td>91</td>\n",
              "      <td>92</td>\n",
              "      <td>89</td>\n",
              "      <td>85</td>\n",
              "    </tr>\n",
              "    <tr>\n",
              "      <th>20</th>\n",
              "      <td>283</td>\n",
              "      <td>298</td>\n",
              "      <td>296</td>\n",
              "      <td>289</td>\n",
              "      <td>282</td>\n",
              "      <td>285</td>\n",
              "      <td>291</td>\n",
              "    </tr>\n",
              "    <tr>\n",
              "      <th>22</th>\n",
              "      <td>1288</td>\n",
              "      <td>1373</td>\n",
              "      <td>1289</td>\n",
              "      <td>1337</td>\n",
              "      <td>1341</td>\n",
              "      <td>1375</td>\n",
              "      <td>1333</td>\n",
              "    </tr>\n",
              "    <tr>\n",
              "      <th>23</th>\n",
              "      <td>568</td>\n",
              "      <td>594</td>\n",
              "      <td>570</td>\n",
              "      <td>556</td>\n",
              "      <td>560</td>\n",
              "      <td>569</td>\n",
              "      <td>566</td>\n",
              "    </tr>\n",
              "    <tr>\n",
              "      <th>24</th>\n",
              "      <td>2976</td>\n",
              "      <td>3148</td>\n",
              "      <td>3066</td>\n",
              "      <td>3096</td>\n",
              "      <td>2954</td>\n",
              "      <td>3084</td>\n",
              "      <td>3090</td>\n",
              "    </tr>\n",
              "    <tr>\n",
              "      <th>25</th>\n",
              "      <td>444</td>\n",
              "      <td>453</td>\n",
              "      <td>422</td>\n",
              "      <td>437</td>\n",
              "      <td>470</td>\n",
              "      <td>452</td>\n",
              "      <td>468</td>\n",
              "    </tr>\n",
              "    <tr>\n",
              "      <th>26</th>\n",
              "      <td>369</td>\n",
              "      <td>378</td>\n",
              "      <td>364</td>\n",
              "      <td>363</td>\n",
              "      <td>375</td>\n",
              "      <td>394</td>\n",
              "      <td>385</td>\n",
              "    </tr>\n",
              "    <tr>\n",
              "      <th>27</th>\n",
              "      <td>183</td>\n",
              "      <td>205</td>\n",
              "      <td>183</td>\n",
              "      <td>199</td>\n",
              "      <td>194</td>\n",
              "      <td>194</td>\n",
              "      <td>212</td>\n",
              "    </tr>\n",
              "    <tr>\n",
              "      <th>28</th>\n",
              "      <td>171</td>\n",
              "      <td>160</td>\n",
              "      <td>173</td>\n",
              "      <td>167</td>\n",
              "      <td>166</td>\n",
              "      <td>161</td>\n",
              "      <td>165</td>\n",
              "    </tr>\n",
              "    <tr>\n",
              "      <th>29</th>\n",
              "      <td>12</td>\n",
              "      <td>10</td>\n",
              "      <td>10</td>\n",
              "      <td>9</td>\n",
              "      <td>13</td>\n",
              "      <td>11</td>\n",
              "      <td>12</td>\n",
              "    </tr>\n",
              "  </tbody>\n",
              "</table>\n",
              "</div>\n",
              "    <div class=\"colab-df-buttons\">\n",
              "\n",
              "  <div class=\"colab-df-container\">\n",
              "    <button class=\"colab-df-convert\" onclick=\"convertToInteractive('df-5b2474de-c3af-4f88-9bf0-723d63c73bc0')\"\n",
              "            title=\"Convert this dataframe to an interactive table.\"\n",
              "            style=\"display:none;\">\n",
              "\n",
              "  <svg xmlns=\"http://www.w3.org/2000/svg\" height=\"24px\" viewBox=\"0 -960 960 960\">\n",
              "    <path d=\"M120-120v-720h720v720H120Zm60-500h600v-160H180v160Zm220 220h160v-160H400v160Zm0 220h160v-160H400v160ZM180-400h160v-160H180v160Zm440 0h160v-160H620v160ZM180-180h160v-160H180v160Zm440 0h160v-160H620v160Z\"/>\n",
              "  </svg>\n",
              "    </button>\n",
              "\n",
              "  <style>\n",
              "    .colab-df-container {\n",
              "      display:flex;\n",
              "      gap: 12px;\n",
              "    }\n",
              "\n",
              "    .colab-df-convert {\n",
              "      background-color: #E8F0FE;\n",
              "      border: none;\n",
              "      border-radius: 50%;\n",
              "      cursor: pointer;\n",
              "      display: none;\n",
              "      fill: #1967D2;\n",
              "      height: 32px;\n",
              "      padding: 0 0 0 0;\n",
              "      width: 32px;\n",
              "    }\n",
              "\n",
              "    .colab-df-convert:hover {\n",
              "      background-color: #E2EBFA;\n",
              "      box-shadow: 0px 1px 2px rgba(60, 64, 67, 0.3), 0px 1px 3px 1px rgba(60, 64, 67, 0.15);\n",
              "      fill: #174EA6;\n",
              "    }\n",
              "\n",
              "    .colab-df-buttons div {\n",
              "      margin-bottom: 4px;\n",
              "    }\n",
              "\n",
              "    [theme=dark] .colab-df-convert {\n",
              "      background-color: #3B4455;\n",
              "      fill: #D2E3FC;\n",
              "    }\n",
              "\n",
              "    [theme=dark] .colab-df-convert:hover {\n",
              "      background-color: #434B5C;\n",
              "      box-shadow: 0px 1px 3px 1px rgba(0, 0, 0, 0.15);\n",
              "      filter: drop-shadow(0px 1px 2px rgba(0, 0, 0, 0.3));\n",
              "      fill: #FFFFFF;\n",
              "    }\n",
              "  </style>\n",
              "\n",
              "    <script>\n",
              "      const buttonEl =\n",
              "        document.querySelector('#df-5b2474de-c3af-4f88-9bf0-723d63c73bc0 button.colab-df-convert');\n",
              "      buttonEl.style.display =\n",
              "        google.colab.kernel.accessAllowed ? 'block' : 'none';\n",
              "\n",
              "      async function convertToInteractive(key) {\n",
              "        const element = document.querySelector('#df-5b2474de-c3af-4f88-9bf0-723d63c73bc0');\n",
              "        const dataTable =\n",
              "          await google.colab.kernel.invokeFunction('convertToInteractive',\n",
              "                                                    [key], {});\n",
              "        if (!dataTable) return;\n",
              "\n",
              "        const docLinkHtml = 'Like what you see? Visit the ' +\n",
              "          '<a target=\"_blank\" href=https://colab.research.google.com/notebooks/data_table.ipynb>data table notebook</a>'\n",
              "          + ' to learn more about interactive tables.';\n",
              "        element.innerHTML = '';\n",
              "        dataTable['output_type'] = 'display_data';\n",
              "        await google.colab.output.renderOutput(dataTable, element);\n",
              "        const docLink = document.createElement('div');\n",
              "        docLink.innerHTML = docLinkHtml;\n",
              "        element.appendChild(docLink);\n",
              "      }\n",
              "    </script>\n",
              "  </div>\n",
              "\n",
              "\n",
              "<div id=\"df-0579b682-884f-4d82-8099-0bea29a3a660\">\n",
              "  <button class=\"colab-df-quickchart\" onclick=\"quickchart('df-0579b682-884f-4d82-8099-0bea29a3a660')\"\n",
              "            title=\"Suggest charts\"\n",
              "            style=\"display:none;\">\n",
              "\n",
              "<svg xmlns=\"http://www.w3.org/2000/svg\" height=\"24px\"viewBox=\"0 0 24 24\"\n",
              "     width=\"24px\">\n",
              "    <g>\n",
              "        <path d=\"M19 3H5c-1.1 0-2 .9-2 2v14c0 1.1.9 2 2 2h14c1.1 0 2-.9 2-2V5c0-1.1-.9-2-2-2zM9 17H7v-7h2v7zm4 0h-2V7h2v10zm4 0h-2v-4h2v4z\"/>\n",
              "    </g>\n",
              "</svg>\n",
              "  </button>\n",
              "\n",
              "<style>\n",
              "  .colab-df-quickchart {\n",
              "      --bg-color: #E8F0FE;\n",
              "      --fill-color: #1967D2;\n",
              "      --hover-bg-color: #E2EBFA;\n",
              "      --hover-fill-color: #174EA6;\n",
              "      --disabled-fill-color: #AAA;\n",
              "      --disabled-bg-color: #DDD;\n",
              "  }\n",
              "\n",
              "  [theme=dark] .colab-df-quickchart {\n",
              "      --bg-color: #3B4455;\n",
              "      --fill-color: #D2E3FC;\n",
              "      --hover-bg-color: #434B5C;\n",
              "      --hover-fill-color: #FFFFFF;\n",
              "      --disabled-bg-color: #3B4455;\n",
              "      --disabled-fill-color: #666;\n",
              "  }\n",
              "\n",
              "  .colab-df-quickchart {\n",
              "    background-color: var(--bg-color);\n",
              "    border: none;\n",
              "    border-radius: 50%;\n",
              "    cursor: pointer;\n",
              "    display: none;\n",
              "    fill: var(--fill-color);\n",
              "    height: 32px;\n",
              "    padding: 0;\n",
              "    width: 32px;\n",
              "  }\n",
              "\n",
              "  .colab-df-quickchart:hover {\n",
              "    background-color: var(--hover-bg-color);\n",
              "    box-shadow: 0 1px 2px rgba(60, 64, 67, 0.3), 0 1px 3px 1px rgba(60, 64, 67, 0.15);\n",
              "    fill: var(--button-hover-fill-color);\n",
              "  }\n",
              "\n",
              "  .colab-df-quickchart-complete:disabled,\n",
              "  .colab-df-quickchart-complete:disabled:hover {\n",
              "    background-color: var(--disabled-bg-color);\n",
              "    fill: var(--disabled-fill-color);\n",
              "    box-shadow: none;\n",
              "  }\n",
              "\n",
              "  .colab-df-spinner {\n",
              "    border: 2px solid var(--fill-color);\n",
              "    border-color: transparent;\n",
              "    border-bottom-color: var(--fill-color);\n",
              "    animation:\n",
              "      spin 1s steps(1) infinite;\n",
              "  }\n",
              "\n",
              "  @keyframes spin {\n",
              "    0% {\n",
              "      border-color: transparent;\n",
              "      border-bottom-color: var(--fill-color);\n",
              "      border-left-color: var(--fill-color);\n",
              "    }\n",
              "    20% {\n",
              "      border-color: transparent;\n",
              "      border-left-color: var(--fill-color);\n",
              "      border-top-color: var(--fill-color);\n",
              "    }\n",
              "    30% {\n",
              "      border-color: transparent;\n",
              "      border-left-color: var(--fill-color);\n",
              "      border-top-color: var(--fill-color);\n",
              "      border-right-color: var(--fill-color);\n",
              "    }\n",
              "    40% {\n",
              "      border-color: transparent;\n",
              "      border-right-color: var(--fill-color);\n",
              "      border-top-color: var(--fill-color);\n",
              "    }\n",
              "    60% {\n",
              "      border-color: transparent;\n",
              "      border-right-color: var(--fill-color);\n",
              "    }\n",
              "    80% {\n",
              "      border-color: transparent;\n",
              "      border-right-color: var(--fill-color);\n",
              "      border-bottom-color: var(--fill-color);\n",
              "    }\n",
              "    90% {\n",
              "      border-color: transparent;\n",
              "      border-bottom-color: var(--fill-color);\n",
              "    }\n",
              "  }\n",
              "</style>\n",
              "\n",
              "  <script>\n",
              "    async function quickchart(key) {\n",
              "      const quickchartButtonEl =\n",
              "        document.querySelector('#' + key + ' button');\n",
              "      quickchartButtonEl.disabled = true;  // To prevent multiple clicks.\n",
              "      quickchartButtonEl.classList.add('colab-df-spinner');\n",
              "      try {\n",
              "        const charts = await google.colab.kernel.invokeFunction(\n",
              "            'suggestCharts', [key], {});\n",
              "      } catch (error) {\n",
              "        console.error('Error during call to suggestCharts:', error);\n",
              "      }\n",
              "      quickchartButtonEl.classList.remove('colab-df-spinner');\n",
              "      quickchartButtonEl.classList.add('colab-df-quickchart-complete');\n",
              "    }\n",
              "    (() => {\n",
              "      let quickchartButtonEl =\n",
              "        document.querySelector('#df-0579b682-884f-4d82-8099-0bea29a3a660 button');\n",
              "      quickchartButtonEl.style.display =\n",
              "        google.colab.kernel.accessAllowed ? 'block' : 'none';\n",
              "    })();\n",
              "  </script>\n",
              "</div>\n",
              "\n",
              "  <div id=\"id_df4b22aa-85e8-42f9-95e5-4921cde1ab17\">\n",
              "    <style>\n",
              "      .colab-df-generate {\n",
              "        background-color: #E8F0FE;\n",
              "        border: none;\n",
              "        border-radius: 50%;\n",
              "        cursor: pointer;\n",
              "        display: none;\n",
              "        fill: #1967D2;\n",
              "        height: 32px;\n",
              "        padding: 0 0 0 0;\n",
              "        width: 32px;\n",
              "      }\n",
              "\n",
              "      .colab-df-generate:hover {\n",
              "        background-color: #E2EBFA;\n",
              "        box-shadow: 0px 1px 2px rgba(60, 64, 67, 0.3), 0px 1px 3px 1px rgba(60, 64, 67, 0.15);\n",
              "        fill: #174EA6;\n",
              "      }\n",
              "\n",
              "      [theme=dark] .colab-df-generate {\n",
              "        background-color: #3B4455;\n",
              "        fill: #D2E3FC;\n",
              "      }\n",
              "\n",
              "      [theme=dark] .colab-df-generate:hover {\n",
              "        background-color: #434B5C;\n",
              "        box-shadow: 0px 1px 3px 1px rgba(0, 0, 0, 0.15);\n",
              "        filter: drop-shadow(0px 1px 2px rgba(0, 0, 0, 0.3));\n",
              "        fill: #FFFFFF;\n",
              "      }\n",
              "    </style>\n",
              "    <button class=\"colab-df-generate\" onclick=\"generateWithVariable('result')\"\n",
              "            title=\"Generate code using this dataframe.\"\n",
              "            style=\"display:none;\">\n",
              "\n",
              "  <svg xmlns=\"http://www.w3.org/2000/svg\" height=\"24px\"viewBox=\"0 0 24 24\"\n",
              "       width=\"24px\">\n",
              "    <path d=\"M7,19H8.4L18.45,9,17,7.55,7,17.6ZM5,21V16.75L18.45,3.32a2,2,0,0,1,2.83,0l1.4,1.43a1.91,1.91,0,0,1,.58,1.4,1.91,1.91,0,0,1-.58,1.4L9.25,21ZM18.45,9,17,7.55Zm-12,3A5.31,5.31,0,0,0,4.9,8.1,5.31,5.31,0,0,0,1,6.5,5.31,5.31,0,0,0,4.9,4.9,5.31,5.31,0,0,0,6.5,1,5.31,5.31,0,0,0,8.1,4.9,5.31,5.31,0,0,0,12,6.5,5.46,5.46,0,0,0,6.5,12Z\"/>\n",
              "  </svg>\n",
              "    </button>\n",
              "    <script>\n",
              "      (() => {\n",
              "      const buttonEl =\n",
              "        document.querySelector('#id_df4b22aa-85e8-42f9-95e5-4921cde1ab17 button.colab-df-generate');\n",
              "      buttonEl.style.display =\n",
              "        google.colab.kernel.accessAllowed ? 'block' : 'none';\n",
              "\n",
              "      buttonEl.onclick = () => {\n",
              "        google.colab.notebook.generateWithVariable('result');\n",
              "      }\n",
              "      })();\n",
              "    </script>\n",
              "  </div>\n",
              "\n",
              "    </div>\n",
              "  </div>\n"
            ],
            "application/vnd.google.colaboratory.intrinsic+json": {
              "type": "dataframe",
              "variable_name": "result",
              "summary": "{\n  \"name\": \"result\",\n  \"rows\": 15,\n  \"fields\": [\n    {\n      \"column\": [\n        \"categoryId\",\n        \"\"\n      ],\n      \"properties\": {\n        \"dtype\": \"number\",\n        \"std\": 8,\n        \"min\": 1,\n        \"max\": 29,\n        \"num_unique_values\": 15,\n        \"samples\": [\n          24,\n          26,\n          1\n        ],\n        \"semantic_type\": \"\",\n        \"description\": \"\"\n      }\n    },\n    {\n      \"column\": [\n        \"size\",\n        \"Friday\"\n      ],\n      \"properties\": {\n        \"dtype\": \"number\",\n        \"std\": 747,\n        \"min\": 12,\n        \"max\": 2976,\n        \"num_unique_values\": 15,\n        \"samples\": [\n          2976,\n          369,\n          243\n        ],\n        \"semantic_type\": \"\",\n        \"description\": \"\"\n      }\n    },\n    {\n      \"column\": [\n        \"size\",\n        \"Monday\"\n      ],\n      \"properties\": {\n        \"dtype\": \"number\",\n        \"std\": 791,\n        \"min\": 10,\n        \"max\": 3148,\n        \"num_unique_values\": 15,\n        \"samples\": [\n          3148,\n          378,\n          263\n        ],\n        \"semantic_type\": \"\",\n        \"description\": \"\"\n      }\n    },\n    {\n      \"column\": [\n        \"size\",\n        \"Saturday\"\n      ],\n      \"properties\": {\n        \"dtype\": \"number\",\n        \"std\": 766,\n        \"min\": 10,\n        \"max\": 3066,\n        \"num_unique_values\": 15,\n        \"samples\": [\n          3066,\n          364,\n          255\n        ],\n        \"semantic_type\": \"\",\n        \"description\": \"\"\n      }\n    },\n    {\n      \"column\": [\n        \"size\",\n        \"Sunday\"\n      ],\n      \"properties\": {\n        \"dtype\": \"number\",\n        \"std\": 777,\n        \"min\": 9,\n        \"max\": 3096,\n        \"num_unique_values\": 15,\n        \"samples\": [\n          3096,\n          363,\n          274\n        ],\n        \"semantic_type\": \"\",\n        \"description\": \"\"\n      }\n    },\n    {\n      \"column\": [\n        \"size\",\n        \"Thursday\"\n      ],\n      \"properties\": {\n        \"dtype\": \"number\",\n        \"std\": 746,\n        \"min\": 13,\n        \"max\": 2954,\n        \"num_unique_values\": 15,\n        \"samples\": [\n          2954,\n          375,\n          246\n        ],\n        \"semantic_type\": \"\",\n        \"description\": \"\"\n      }\n    },\n    {\n      \"column\": [\n        \"size\",\n        \"Tuesday\"\n      ],\n      \"properties\": {\n        \"dtype\": \"number\",\n        \"std\": 779,\n        \"min\": 11,\n        \"max\": 3084,\n        \"num_unique_values\": 15,\n        \"samples\": [\n          3084,\n          394,\n          257\n        ],\n        \"semantic_type\": \"\",\n        \"description\": \"\"\n      }\n    },\n    {\n      \"column\": [\n        \"size\",\n        \"Wednesday\"\n      ],\n      \"properties\": {\n        \"dtype\": \"number\",\n        \"std\": 777,\n        \"min\": 12,\n        \"max\": 3090,\n        \"num_unique_values\": 15,\n        \"samples\": [\n          3090,\n          385,\n          234\n        ],\n        \"semantic_type\": \"\",\n        \"description\": \"\"\n      }\n    }\n  ]\n}"
            }
          },
          "metadata": {}
        }
      ]
    },
    {
      "cell_type": "code",
      "source": [
        "# 댓글의 수로 (comment_count) 영상 반응에 대한 판단을 할 수 있다.\n",
        "# viewcount대비 댓글수가 가장 높은 영상을 확인하라 (view_count값이 0인 경우는 제외한다)\n",
        "\n",
        "target = df.loc[df.view_count != 0]\n",
        "t = target.copy()\n",
        "t['ratio'] = (target['comment_count']/target['view_count']).dropna()\n",
        "result = t.sort_values(by='ratio', ascending=False).iloc[0].title\n",
        "print(result)"
      ],
      "metadata": {
        "colab": {
          "base_uri": "https://localhost:8080/"
        },
        "id": "0jUkE2QuuZio",
        "outputId": "97318281-2f28-4a81-cfaa-94eb919c96fd"
      },
      "execution_count": 30,
      "outputs": [
        {
          "output_type": "stream",
          "name": "stdout",
          "text": [
            "60분 동안 댓글이 달리지 않으면, 영상이 삭제됩니다. (챌린지)\n"
          ]
        }
      ]
    },
    {
      "cell_type": "code",
      "source": [
        "# 댓글의 수로 (comment_count) 영상 반응에 대한 판단을 할 수 있다.\n",
        "# viewcount대비 댓글수가 가장 낮은 영상을 확인하라 (view_counts, ratio값이 0인경우는 제외한다.)\n",
        "\n",
        "ratio = (df['comment_count']/df['view_count']).dropna().sort_values()\n",
        "result = df.iloc[ratio[ratio!=0].index[0]].title\n",
        "print(result)"
      ],
      "metadata": {
        "colab": {
          "base_uri": "https://localhost:8080/",
          "height": 161
        },
        "id": "958eHej0ucmz",
        "outputId": "eee5e3e4-7b92-4153-99b4-22c69b4da5e2"
      },
      "execution_count": 36,
      "outputs": [
        {
          "output_type": "stream",
          "name": "stdout",
          "text": [
            "Join the BTS #PermissiontoDance Challenge only on YouTube #Shorts\n"
          ]
        },
        {
          "output_type": "display_data",
          "data": {
            "text/plain": [
              "<Figure size 400x100 with 1 Axes>"
            ],
            "image/png": "[encoded data removed]"
          },
          "metadata": {}
        }
      ]
    },
    {
      "cell_type": "code",
      "source": [
        "# like 대비 dislike의 수가 가장 적은 영상은 무엇인가? (like, dislike 값이 0인경우는 제외한다)\n",
        "\n",
        "target = df.loc[(df.dislikes!=0)&(df.likes!=0)]\n",
        "num = (target['dislikes']/target['likes']).sort_values().index[0]\n",
        "result = df.iloc[num].title\n",
        "print(result)"
      ],
      "metadata": {
        "colab": {
          "base_uri": "https://localhost:8080/"
        },
        "id": "t36GoaFEueMC",
        "outputId": "308048f4-2f03-4601-9d8d-8c3829adb2ab"
      },
      "execution_count": 39,
      "outputs": [
        {
          "output_type": "stream",
          "name": "stdout",
          "text": [
            "[줌터뷰] *최초공개* 사부작즈🐰🐶의 비공식 이름은 아이라인즈? 꿀조합 티키타카 가득한 NCT 127 도영&정우의 줌터뷰\n"
          ]
        }
      ]
    },
    {
      "cell_type": "code",
      "source": [
        "# 가장많은 트렌드 영상을 제작한 채널의 이름은 무엇인가? (날짜기준, 중복포함)\n",
        "\n",
        "result = df.loc[df['channelId'] == df['channelId'].value_counts().index[0]].channelTitle.unique()\n",
        "print(result)"
      ],
      "metadata": {
        "colab": {
          "base_uri": "https://localhost:8080/"
        },
        "id": "Wqqjn7cqug2C",
        "outputId": "fc6582a4-658b-47e2-aea8-3587fa0df2a2"
      },
      "execution_count": 42,
      "outputs": [
        {
          "output_type": "stream",
          "name": "stdout",
          "text": [
            "['짤툰']\n"
          ]
        }
      ]
    },
    {
      "cell_type": "code",
      "source": [
        "# 20회(20일)이상 인기동영상 리스트에 포함된 동영상의 숫자는?\n",
        "\n",
        "result = (df[['title','channelId']].value_counts() >= 20).sum()\n",
        "print(result)"
      ],
      "metadata": {
        "colab": {
          "base_uri": "https://localhost:8080/"
        },
        "id": "WfzShoTmug4u",
        "outputId": "cfd4bce0-5824-4c27-c63c-bbec80c6bd55"
      },
      "execution_count": 47,
      "outputs": [
        {
          "output_type": "stream",
          "name": "stdout",
          "text": [
            "40\n"
          ]
        }
      ]
    },
    {
      "cell_type": "code",
      "source": [
        "import pandas as pd\n",
        "\n",
        "channel =pd.read_csv('https://raw.githubusercontent.com/Datamanim/datarepo/main/youtube/channelInfo.csv')\n",
        "video =pd.read_csv('https://raw.githubusercontent.com/Datamanim/datarepo/main/youtube/videoInfo.csv')"
      ],
      "metadata": {
        "id": "UPwtBbg35qLR"
      },
      "execution_count": 72,
      "outputs": []
    },
    {
      "cell_type": "code",
      "source": [
        "# 각 데이터의 ‘ct’컬럼을 시간으로 인식할수 있게 datatype을 변경하고\n",
        "# video 데이터의 videoname의 각 value 마다 몇개의 데이터씩 가지고 있는지 확인하라\n",
        "\n",
        "video['ct'] = pd.to_datetime(video['ct'])\n",
        "result = video.videoname.value_counts()\n",
        "print(result)"
      ],
      "metadata": {
        "colab": {
          "base_uri": "https://localhost:8080/"
        },
        "id": "1gNJLMuo5wbR",
        "outputId": "28c4400c-a27e-4370-dab7-7b5a4d5d16a8"
      },
      "execution_count": 75,
      "outputs": [
        {
          "output_type": "stream",
          "name": "stdout",
          "text": [
            "videoname\n",
            " 공범 EP1    3492\n",
            " 공범 EP2    3204\n",
            " 공범 EP3    2568\n",
            " 공범 EP4    2280\n",
            " 공범 EP5    1562\n",
            " 공범 EP6    1274\n",
            " 공범 EP7     555\n",
            " 공범 EP8     266\n",
            "Name: count, dtype: int64\n"
          ]
        }
      ]
    },
    {
      "cell_type": "code",
      "source": [
        "# 수집된 각 video의 가장 최신화 된 날짜의 viewcount값을 출력하라\n",
        "\n",
        "result = video.sort_values(['videoname', 'ct']).drop_duplicates('videoname',keep='last')[['viewcnt','videoname','ct']].reset_index(drop=True)\n",
        "print(result)"
      ],
      "metadata": {
        "colab": {
          "base_uri": "https://localhost:8080/"
        },
        "id": "sDNfVznP5wdt",
        "outputId": "a80bdaab-b351-43f8-fd67-0a830ff05298"
      },
      "execution_count": 76,
      "outputs": [
        {
          "output_type": "stream",
          "name": "stdout",
          "text": [
            "   viewcnt videoname                  ct\n",
            "0  3180532    공범 EP1 2021-11-01 15:30:03\n",
            "1  2199328    공범 EP2 2021-11-01 15:30:03\n",
            "2  1671294    공범 EP3 2021-11-01 15:30:03\n",
            "3  1818493    공범 EP4 2021-11-01 15:30:03\n",
            "4  1503435    공범 EP5 2021-11-01 15:30:04\n",
            "5  1750222    공범 EP6 2021-11-01 15:30:04\n",
            "6  1630200    공범 EP7 2021-11-01 15:30:05\n",
            "7  1289088    공범 EP8 2021-11-01 15:30:05\n"
          ]
        }
      ]
    },
    {
      "cell_type": "code",
      "source": [
        "# Channel 데이터중 2021-10-03일 이후 각 채널의 처음 기록 됐던 구독자 수(subcnt)를 출력하라\n",
        "\n",
        "channel.ct = pd.to_datetime(channel.ct)\n",
        "target = channel[channel.ct >= pd.to_datetime('2021-10-03')].sort_values(['channelname','ct']).drop_duplicates('channelname')\n",
        "result = target[['channelname','subcnt']]\n",
        "print(result)"
      ],
      "metadata": {
        "colab": {
          "base_uri": "https://localhost:8080/"
        },
        "id": "S9DA06cj5wgU",
        "outputId": "b4a67e9a-0d9e-432b-b90a-bcd5530cc03e"
      },
      "execution_count": 77,
      "outputs": [
        {
          "output_type": "stream",
          "name": "stdout",
          "text": [
            "          channelname   subcnt\n",
            "1276    Balming Tiger    54300\n",
            "1155    곽토리 kwak tori   471000\n",
            "901        김농밀의 농밀한 삶     7520\n",
            "12                꽈뚜룹  1330000\n",
            "393            논리왕 전기   922000\n",
            "1028      릴펄 Lilpearl    10100\n",
            "139             야전삽짱재   257000\n",
            "520   와글와글 WagleWagle    55000\n",
            "647               조나단   215000\n",
            "266        츄정ChuJeong   322000\n",
            "774           형사!탐정되다    14900\n"
          ]
        }
      ]
    },
    {
      "cell_type": "code",
      "source": [
        "# 각 채널의 2021-10-03 03:00:00 ~ 2021-11-01 15:00:00 까지\n",
        "# 구독자수 (subcnt) 의 증가량을 구하여라\n",
        "\n",
        "start = channel.loc[channel.ct.dt.strftime('%Y-%m-%d %H') == '2021-10-03 03']\n",
        "end = channel.loc[channel.ct.dt.strftime('%Y-%m-%d %H') == '2021-11-01 15']\n",
        "\n",
        "start_df = start[['channelname', 'subcnt']].reset_index(drop=True)\n",
        "end_df = end[['channelname','subcnt']].reset_index(drop=True)\n",
        "\n",
        "start_df.columns = ['channelname','start_sub']\n",
        "end_df.columns = ['channelname', 'end_sub']\n",
        "\n",
        "tt = pd.merge(start_df, end_df)\n",
        "tt['del'] = tt['end_sub'] - tt['start_sub']\n",
        "result = tt[['channelname', 'del']]\n",
        "print(result)"
      ],
      "metadata": {
        "colab": {
          "base_uri": "https://localhost:8080/"
        },
        "id": "H4PqvUy25wi4",
        "outputId": "24c47167-91bb-446d-9d70-a75572b44d47"
      },
      "execution_count": 78,
      "outputs": [
        {
          "output_type": "stream",
          "name": "stdout",
          "text": [
            "        channelname    del\n",
            "0               꽈뚜룹  70000\n",
            "1             야전삽짱재  11000\n",
            "2        츄정ChuJeong   1000\n",
            "3            논리왕 전기 -11000\n",
            "4   와글와글 WagleWagle      0\n",
            "5               조나단  12000\n",
            "6           형사!탐정되다  10300\n",
            "7        김농밀의 농밀한 삶   1540\n",
            "8       릴펄 Lilpearl  11000\n",
            "9     곽토리 kwak tori  -2000\n",
            "10    Balming Tiger   2500\n"
          ]
        }
      ]
    },
    {
      "cell_type": "code",
      "source": [
        "# 각 에피소드의 시작날짜(년-월-일)를 에피소드 이름과 묶어 데이터 프레임으로 만들고 출력하라\n",
        "\n",
        "start_date = video.sort_values(['videoname','ct']).drop_duplicates('videoname')[['videoname','ct']]\n",
        "start_date['date'] = start_date.ct.dt.date\n",
        "result = start_date[['date','videoname']]\n",
        "display(result)"
      ],
      "metadata": {
        "colab": {
          "base_uri": "https://localhost:8080/",
          "height": 300
        },
        "id": "EpH6Yo0y5wlP",
        "outputId": "62f9ecbb-f301-49c9-8b74-ea1af0088fca"
      },
      "execution_count": 79,
      "outputs": [
        {
          "output_type": "display_data",
          "data": {
            "text/plain": [
              "             date videoname\n",
              "10     2021-10-07    공범 EP1\n",
              "3496   2021-10-09    공범 EP2\n",
              "6696   2021-10-14    공범 EP3\n",
              "9264   2021-10-16    공범 EP4\n",
              "11544  2021-10-21    공범 EP5\n",
              "13661  2021-10-23    공범 EP6\n",
              "13106  2021-10-28    공범 EP7\n",
              "14935  2021-10-30    공범 EP8"
            ],
            "text/html": [
              "\n",
              "  <div id=\"df-3fe1cacf-c88a-4fa8-bebf-e6c7ac0edac2\" class=\"colab-df-container\">\n",
              "    <div>\n",
              "<style scoped>\n",
              "    .dataframe tbody tr th:only-of-type {\n",
              "        vertical-align: middle;\n",
              "    }\n",
              "\n",
              "    .dataframe tbody tr th {\n",
              "        vertical-align: top;\n",
              "    }\n",
              "\n",
              "    .dataframe thead th {\n",
              "        text-align: right;\n",
              "    }\n",
              "</style>\n",
              "<table border=\"1\" class=\"dataframe\">\n",
              "  <thead>\n",
              "    <tr style=\"text-align: right;\">\n",
              "      <th></th>\n",
              "      <th>date</th>\n",
              "      <th>videoname</th>\n",
              "    </tr>\n",
              "  </thead>\n",
              "  <tbody>\n",
              "    <tr>\n",
              "      <th>10</th>\n",
              "      <td>2021-10-07</td>\n",
              "      <td>공범 EP1</td>\n",
              "    </tr>\n",
              "    <tr>\n",
              "      <th>3496</th>\n",
              "      <td>2021-10-09</td>\n",
              "      <td>공범 EP2</td>\n",
              "    </tr>\n",
              "    <tr>\n",
              "      <th>6696</th>\n",
              "      <td>2021-10-14</td>\n",
              "      <td>공범 EP3</td>\n",
              "    </tr>\n",
              "    <tr>\n",
              "      <th>9264</th>\n",
              "      <td>2021-10-16</td>\n",
              "      <td>공범 EP4</td>\n",
              "    </tr>\n",
              "    <tr>\n",
              "      <th>11544</th>\n",
              "      <td>2021-10-21</td>\n",
              "      <td>공범 EP5</td>\n",
              "    </tr>\n",
              "    <tr>\n",
              "      <th>13661</th>\n",
              "      <td>2021-10-23</td>\n",
              "      <td>공범 EP6</td>\n",
              "    </tr>\n",
              "    <tr>\n",
              "      <th>13106</th>\n",
              "      <td>2021-10-28</td>\n",
              "      <td>공범 EP7</td>\n",
              "    </tr>\n",
              "    <tr>\n",
              "      <th>14935</th>\n",
              "      <td>2021-10-30</td>\n",
              "      <td>공범 EP8</td>\n",
              "    </tr>\n",
              "  </tbody>\n",
              "</table>\n",
              "</div>\n",
              "    <div class=\"colab-df-buttons\">\n",
              "\n",
              "  <div class=\"colab-df-container\">\n",
              "    <button class=\"colab-df-convert\" onclick=\"convertToInteractive('df-3fe1cacf-c88a-4fa8-bebf-e6c7ac0edac2')\"\n",
              "            title=\"Convert this dataframe to an interactive table.\"\n",
              "            style=\"display:none;\">\n",
              "\n",
              "  <svg xmlns=\"http://www.w3.org/2000/svg\" height=\"24px\" viewBox=\"0 -960 960 960\">\n",
              "    <path d=\"M120-120v-720h720v720H120Zm60-500h600v-160H180v160Zm220 220h160v-160H400v160Zm0 220h160v-160H400v160ZM180-400h160v-160H180v160Zm440 0h160v-160H620v160ZM180-180h160v-160H180v160Zm440 0h160v-160H620v160Z\"/>\n",
              "  </svg>\n",
              "    </button>\n",
              "\n",
              "  <style>\n",
              "    .colab-df-container {\n",
              "      display:flex;\n",
              "      gap: 12px;\n",
              "    }\n",
              "\n",
              "    .colab-df-convert {\n",
              "      background-color: #E8F0FE;\n",
              "      border: none;\n",
              "      border-radius: 50%;\n",
              "      cursor: pointer;\n",
              "      display: none;\n",
              "      fill: #1967D2;\n",
              "      height: 32px;\n",
              "      padding: 0 0 0 0;\n",
              "      width: 32px;\n",
              "    }\n",
              "\n",
              "    .colab-df-convert:hover {\n",
              "      background-color: #E2EBFA;\n",
              "      box-shadow: 0px 1px 2px rgba(60, 64, 67, 0.3), 0px 1px 3px 1px rgba(60, 64, 67, 0.15);\n",
              "      fill: #174EA6;\n",
              "    }\n",
              "\n",
              "    .colab-df-buttons div {\n",
              "      margin-bottom: 4px;\n",
              "    }\n",
              "\n",
              "    [theme=dark] .colab-df-convert {\n",
              "      background-color: #3B4455;\n",
              "      fill: #D2E3FC;\n",
              "    }\n",
              "\n",
              "    [theme=dark] .colab-df-convert:hover {\n",
              "      background-color: #434B5C;\n",
              "      box-shadow: 0px 1px 3px 1px rgba(0, 0, 0, 0.15);\n",
              "      filter: drop-shadow(0px 1px 2px rgba(0, 0, 0, 0.3));\n",
              "      fill: #FFFFFF;\n",
              "    }\n",
              "  </style>\n",
              "\n",
              "    <script>\n",
              "      const buttonEl =\n",
              "        document.querySelector('#df-3fe1cacf-c88a-4fa8-bebf-e6c7ac0edac2 button.colab-df-convert');\n",
              "      buttonEl.style.display =\n",
              "        google.colab.kernel.accessAllowed ? 'block' : 'none';\n",
              "\n",
              "      async function convertToInteractive(key) {\n",
              "        const element = document.querySelector('#df-3fe1cacf-c88a-4fa8-bebf-e6c7ac0edac2');\n",
              "        const dataTable =\n",
              "          await google.colab.kernel.invokeFunction('convertToInteractive',\n",
              "                                                    [key], {});\n",
              "        if (!dataTable) return;\n",
              "\n",
              "        const docLinkHtml = 'Like what you see? Visit the ' +\n",
              "          '<a target=\"_blank\" href=https://colab.research.google.com/notebooks/data_table.ipynb>data table notebook</a>'\n",
              "          + ' to learn more about interactive tables.';\n",
              "        element.innerHTML = '';\n",
              "        dataTable['output_type'] = 'display_data';\n",
              "        await google.colab.output.renderOutput(dataTable, element);\n",
              "        const docLink = document.createElement('div');\n",
              "        docLink.innerHTML = docLinkHtml;\n",
              "        element.appendChild(docLink);\n",
              "      }\n",
              "    </script>\n",
              "  </div>\n",
              "\n",
              "\n",
              "<div id=\"df-83863784-199f-417e-817e-876177780802\">\n",
              "  <button class=\"colab-df-quickchart\" onclick=\"quickchart('df-83863784-199f-417e-817e-876177780802')\"\n",
              "            title=\"Suggest charts\"\n",
              "            style=\"display:none;\">\n",
              "\n",
              "<svg xmlns=\"http://www.w3.org/2000/svg\" height=\"24px\"viewBox=\"0 0 24 24\"\n",
              "     width=\"24px\">\n",
              "    <g>\n",
              "        <path d=\"M19 3H5c-1.1 0-2 .9-2 2v14c0 1.1.9 2 2 2h14c1.1 0 2-.9 2-2V5c0-1.1-.9-2-2-2zM9 17H7v-7h2v7zm4 0h-2V7h2v10zm4 0h-2v-4h2v4z\"/>\n",
              "    </g>\n",
              "</svg>\n",
              "  </button>\n",
              "\n",
              "<style>\n",
              "  .colab-df-quickchart {\n",
              "      --bg-color: #E8F0FE;\n",
              "      --fill-color: #1967D2;\n",
              "      --hover-bg-color: #E2EBFA;\n",
              "      --hover-fill-color: #174EA6;\n",
              "      --disabled-fill-color: #AAA;\n",
              "      --disabled-bg-color: #DDD;\n",
              "  }\n",
              "\n",
              "  [theme=dark] .colab-df-quickchart {\n",
              "      --bg-color: #3B4455;\n",
              "      --fill-color: #D2E3FC;\n",
              "      --hover-bg-color: #434B5C;\n",
              "      --hover-fill-color: #FFFFFF;\n",
              "      --disabled-bg-color: #3B4455;\n",
              "      --disabled-fill-color: #666;\n",
              "  }\n",
              "\n",
              "  .colab-df-quickchart {\n",
              "    background-color: var(--bg-color);\n",
              "    border: none;\n",
              "    border-radius: 50%;\n",
              "    cursor: pointer;\n",
              "    display: none;\n",
              "    fill: var(--fill-color);\n",
              "    height: 32px;\n",
              "    padding: 0;\n",
              "    width: 32px;\n",
              "  }\n",
              "\n",
              "  .colab-df-quickchart:hover {\n",
              "    background-color: var(--hover-bg-color);\n",
              "    box-shadow: 0 1px 2px rgba(60, 64, 67, 0.3), 0 1px 3px 1px rgba(60, 64, 67, 0.15);\n",
              "    fill: var(--button-hover-fill-color);\n",
              "  }\n",
              "\n",
              "  .colab-df-quickchart-complete:disabled,\n",
              "  .colab-df-quickchart-complete:disabled:hover {\n",
              "    background-color: var(--disabled-bg-color);\n",
              "    fill: var(--disabled-fill-color);\n",
              "    box-shadow: none;\n",
              "  }\n",
              "\n",
              "  .colab-df-spinner {\n",
              "    border: 2px solid var(--fill-color);\n",
              "    border-color: transparent;\n",
              "    border-bottom-color: var(--fill-color);\n",
              "    animation:\n",
              "      spin 1s steps(1) infinite;\n",
              "  }\n",
              "\n",
              "  @keyframes spin {\n",
              "    0% {\n",
              "      border-color: transparent;\n",
              "      border-bottom-color: var(--fill-color);\n",
              "      border-left-color: var(--fill-color);\n",
              "    }\n",
              "    20% {\n",
              "      border-color: transparent;\n",
              "      border-left-color: var(--fill-color);\n",
              "      border-top-color: var(--fill-color);\n",
              "    }\n",
              "    30% {\n",
              "      border-color: transparent;\n",
              "      border-left-color: var(--fill-color);\n",
              "      border-top-color: var(--fill-color);\n",
              "      border-right-color: var(--fill-color);\n",
              "    }\n",
              "    40% {\n",
              "      border-color: transparent;\n",
              "      border-right-color: var(--fill-color);\n",
              "      border-top-color: var(--fill-color);\n",
              "    }\n",
              "    60% {\n",
              "      border-color: transparent;\n",
              "      border-right-color: var(--fill-color);\n",
              "    }\n",
              "    80% {\n",
              "      border-color: transparent;\n",
              "      border-right-color: var(--fill-color);\n",
              "      border-bottom-color: var(--fill-color);\n",
              "    }\n",
              "    90% {\n",
              "      border-color: transparent;\n",
              "      border-bottom-color: var(--fill-color);\n",
              "    }\n",
              "  }\n",
              "</style>\n",
              "\n",
              "  <script>\n",
              "    async function quickchart(key) {\n",
              "      const quickchartButtonEl =\n",
              "        document.querySelector('#' + key + ' button');\n",
              "      quickchartButtonEl.disabled = true;  // To prevent multiple clicks.\n",
              "      quickchartButtonEl.classList.add('colab-df-spinner');\n",
              "      try {\n",
              "        const charts = await google.colab.kernel.invokeFunction(\n",
              "            'suggestCharts', [key], {});\n",
              "      } catch (error) {\n",
              "        console.error('Error during call to suggestCharts:', error);\n",
              "      }\n",
              "      quickchartButtonEl.classList.remove('colab-df-spinner');\n",
              "      quickchartButtonEl.classList.add('colab-df-quickchart-complete');\n",
              "    }\n",
              "    (() => {\n",
              "      let quickchartButtonEl =\n",
              "        document.querySelector('#df-83863784-199f-417e-817e-876177780802 button');\n",
              "      quickchartButtonEl.style.display =\n",
              "        google.colab.kernel.accessAllowed ? 'block' : 'none';\n",
              "    })();\n",
              "  </script>\n",
              "</div>\n",
              "\n",
              "  <div id=\"id_1fc3c59e-2a05-4904-b43e-8e5404d29200\">\n",
              "    <style>\n",
              "      .colab-df-generate {\n",
              "        background-color: #E8F0FE;\n",
              "        border: none;\n",
              "        border-radius: 50%;\n",
              "        cursor: pointer;\n",
              "        display: none;\n",
              "        fill: #1967D2;\n",
              "        height: 32px;\n",
              "        padding: 0 0 0 0;\n",
              "        width: 32px;\n",
              "      }\n",
              "\n",
              "      .colab-df-generate:hover {\n",
              "        background-color: #E2EBFA;\n",
              "        box-shadow: 0px 1px 2px rgba(60, 64, 67, 0.3), 0px 1px 3px 1px rgba(60, 64, 67, 0.15);\n",
              "        fill: #174EA6;\n",
              "      }\n",
              "\n",
              "      [theme=dark] .colab-df-generate {\n",
              "        background-color: #3B4455;\n",
              "        fill: #D2E3FC;\n",
              "      }\n",
              "\n",
              "      [theme=dark] .colab-df-generate:hover {\n",
              "        background-color: #434B5C;\n",
              "        box-shadow: 0px 1px 3px 1px rgba(0, 0, 0, 0.15);\n",
              "        filter: drop-shadow(0px 1px 2px rgba(0, 0, 0, 0.3));\n",
              "        fill: #FFFFFF;\n",
              "      }\n",
              "    </style>\n",
              "    <button class=\"colab-df-generate\" onclick=\"generateWithVariable('result')\"\n",
              "            title=\"Generate code using this dataframe.\"\n",
              "            style=\"display:none;\">\n",
              "\n",
              "  <svg xmlns=\"http://www.w3.org/2000/svg\" height=\"24px\"viewBox=\"0 0 24 24\"\n",
              "       width=\"24px\">\n",
              "    <path d=\"M7,19H8.4L18.45,9,17,7.55,7,17.6ZM5,21V16.75L18.45,3.32a2,2,0,0,1,2.83,0l1.4,1.43a1.91,1.91,0,0,1,.58,1.4,1.91,1.91,0,0,1-.58,1.4L9.25,21ZM18.45,9,17,7.55Zm-12,3A5.31,5.31,0,0,0,4.9,8.1,5.31,5.31,0,0,0,1,6.5,5.31,5.31,0,0,0,4.9,4.9,5.31,5.31,0,0,0,6.5,1,5.31,5.31,0,0,0,8.1,4.9,5.31,5.31,0,0,0,12,6.5,5.46,5.46,0,0,0,6.5,12Z\"/>\n",
              "  </svg>\n",
              "    </button>\n",
              "    <script>\n",
              "      (() => {\n",
              "      const buttonEl =\n",
              "        document.querySelector('#id_1fc3c59e-2a05-4904-b43e-8e5404d29200 button.colab-df-generate');\n",
              "      buttonEl.style.display =\n",
              "        google.colab.kernel.accessAllowed ? 'block' : 'none';\n",
              "\n",
              "      buttonEl.onclick = () => {\n",
              "        google.colab.notebook.generateWithVariable('result');\n",
              "      }\n",
              "      })();\n",
              "    </script>\n",
              "  </div>\n",
              "\n",
              "    </div>\n",
              "  </div>\n"
            ],
            "application/vnd.google.colaboratory.intrinsic+json": {
              "type": "dataframe",
              "variable_name": "result",
              "repr_error": "0"
            }
          },
          "metadata": {}
        }
      ]
    },
    {
      "cell_type": "code",
      "source": [
        "# “공범” 컨텐츠의 경우 19:00시에 공개 되는것으로 알려져있다.\n",
        "# 공개된 날의 21시의 viewcnt, ct, videoname 으로 구성된 데이터 프레임을\n",
        "# viewcnt를 내림차순으로 정렬하여 출력하라\n",
        "\n",
        "video['time'] = video.ct.dt.hour\n",
        "result = video.loc[video['time'] == 21]\\\n",
        "                   .sort_values(['videoname','ct'])\\\n",
        "                   .drop_duplicates('videoname')\\\n",
        "                   .sort_values('viewcnt', ascending=False)[['videoname','ct','viewcnt']]\\\n",
        "                   .reset_index(drop=True)\n",
        "display(result)"
      ],
      "metadata": {
        "colab": {
          "base_uri": "https://localhost:8080/",
          "height": 300
        },
        "id": "FEZCfX5d5wns",
        "outputId": "286b6cb1-e5a7-42c9-d00b-c6a01fbd768a"
      },
      "execution_count": 80,
      "outputs": [
        {
          "output_type": "display_data",
          "data": {
            "text/plain": [
              "  videoname                  ct  viewcnt\n",
              "0    공범 EP8 2021-10-30 21:00:08   264029\n",
              "1    공범 EP7 2021-10-28 21:00:04   252032\n",
              "2    공범 EP4 2021-10-16 21:00:04   217674\n",
              "3    공범 EP6 2021-10-23 21:00:06   213899\n",
              "4    공범 EP5 2021-10-21 21:00:04   201179\n",
              "5    공범 EP2 2021-10-09 21:00:03   148144\n",
              "6    공범 EP3 2021-10-14 21:00:04   147183\n",
              "7    공범 EP1 2021-10-07 21:00:03   117340"
            ],
            "text/html": [
              "\n",
              "  <div id=\"df-694093bd-b260-4596-8729-5af5b6101b9e\" class=\"colab-df-container\">\n",
              "    <div>\n",
              "<style scoped>\n",
              "    .dataframe tbody tr th:only-of-type {\n",
              "        vertical-align: middle;\n",
              "    }\n",
              "\n",
              "    .dataframe tbody tr th {\n",
              "        vertical-align: top;\n",
              "    }\n",
              "\n",
              "    .dataframe thead th {\n",
              "        text-align: right;\n",
              "    }\n",
              "</style>\n",
              "<table border=\"1\" class=\"dataframe\">\n",
              "  <thead>\n",
              "    <tr style=\"text-align: right;\">\n",
              "      <th></th>\n",
              "      <th>videoname</th>\n",
              "      <th>ct</th>\n",
              "      <th>viewcnt</th>\n",
              "    </tr>\n",
              "  </thead>\n",
              "  <tbody>\n",
              "    <tr>\n",
              "      <th>0</th>\n",
              "      <td>공범 EP8</td>\n",
              "      <td>2021-10-30 21:00:08</td>\n",
              "      <td>264029</td>\n",
              "    </tr>\n",
              "    <tr>\n",
              "      <th>1</th>\n",
              "      <td>공범 EP7</td>\n",
              "      <td>2021-10-28 21:00:04</td>\n",
              "      <td>252032</td>\n",
              "    </tr>\n",
              "    <tr>\n",
              "      <th>2</th>\n",
              "      <td>공범 EP4</td>\n",
              "      <td>2021-10-16 21:00:04</td>\n",
              "      <td>217674</td>\n",
              "    </tr>\n",
              "    <tr>\n",
              "      <th>3</th>\n",
              "      <td>공범 EP6</td>\n",
              "      <td>2021-10-23 21:00:06</td>\n",
              "      <td>213899</td>\n",
              "    </tr>\n",
              "    <tr>\n",
              "      <th>4</th>\n",
              "      <td>공범 EP5</td>\n",
              "      <td>2021-10-21 21:00:04</td>\n",
              "      <td>201179</td>\n",
              "    </tr>\n",
              "    <tr>\n",
              "      <th>5</th>\n",
              "      <td>공범 EP2</td>\n",
              "      <td>2021-10-09 21:00:03</td>\n",
              "      <td>148144</td>\n",
              "    </tr>\n",
              "    <tr>\n",
              "      <th>6</th>\n",
              "      <td>공범 EP3</td>\n",
              "      <td>2021-10-14 21:00:04</td>\n",
              "      <td>147183</td>\n",
              "    </tr>\n",
              "    <tr>\n",
              "      <th>7</th>\n",
              "      <td>공범 EP1</td>\n",
              "      <td>2021-10-07 21:00:03</td>\n",
              "      <td>117340</td>\n",
              "    </tr>\n",
              "  </tbody>\n",
              "</table>\n",
              "</div>\n",
              "    <div class=\"colab-df-buttons\">\n",
              "\n",
              "  <div class=\"colab-df-container\">\n",
              "    <button class=\"colab-df-convert\" onclick=\"convertToInteractive('df-694093bd-b260-4596-8729-5af5b6101b9e')\"\n",
              "            title=\"Convert this dataframe to an interactive table.\"\n",
              "            style=\"display:none;\">\n",
              "\n",
              "  <svg xmlns=\"http://www.w3.org/2000/svg\" height=\"24px\" viewBox=\"0 -960 960 960\">\n",
              "    <path d=\"M120-120v-720h720v720H120Zm60-500h600v-160H180v160Zm220 220h160v-160H400v160Zm0 220h160v-160H400v160ZM180-400h160v-160H180v160Zm440 0h160v-160H620v160ZM180-180h160v-160H180v160Zm440 0h160v-160H620v160Z\"/>\n",
              "  </svg>\n",
              "    </button>\n",
              "\n",
              "  <style>\n",
              "    .colab-df-container {\n",
              "      display:flex;\n",
              "      gap: 12px;\n",
              "    }\n",
              "\n",
              "    .colab-df-convert {\n",
              "      background-color: #E8F0FE;\n",
              "      border: none;\n",
              "      border-radius: 50%;\n",
              "      cursor: pointer;\n",
              "      display: none;\n",
              "      fill: #1967D2;\n",
              "      height: 32px;\n",
              "      padding: 0 0 0 0;\n",
              "      width: 32px;\n",
              "    }\n",
              "\n",
              "    .colab-df-convert:hover {\n",
              "      background-color: #E2EBFA;\n",
              "      box-shadow: 0px 1px 2px rgba(60, 64, 67, 0.3), 0px 1px 3px 1px rgba(60, 64, 67, 0.15);\n",
              "      fill: #174EA6;\n",
              "    }\n",
              "\n",
              "    .colab-df-buttons div {\n",
              "      margin-bottom: 4px;\n",
              "    }\n",
              "\n",
              "    [theme=dark] .colab-df-convert {\n",
              "      background-color: #3B4455;\n",
              "      fill: #D2E3FC;\n",
              "    }\n",
              "\n",
              "    [theme=dark] .colab-df-convert:hover {\n",
              "      background-color: #434B5C;\n",
              "      box-shadow: 0px 1px 3px 1px rgba(0, 0, 0, 0.15);\n",
              "      filter: drop-shadow(0px 1px 2px rgba(0, 0, 0, 0.3));\n",
              "      fill: #FFFFFF;\n",
              "    }\n",
              "  </style>\n",
              "\n",
              "    <script>\n",
              "      const buttonEl =\n",
              "        document.querySelector('#df-694093bd-b260-4596-8729-5af5b6101b9e button.colab-df-convert');\n",
              "      buttonEl.style.display =\n",
              "        google.colab.kernel.accessAllowed ? 'block' : 'none';\n",
              "\n",
              "      async function convertToInteractive(key) {\n",
              "        const element = document.querySelector('#df-694093bd-b260-4596-8729-5af5b6101b9e');\n",
              "        const dataTable =\n",
              "          await google.colab.kernel.invokeFunction('convertToInteractive',\n",
              "                                                    [key], {});\n",
              "        if (!dataTable) return;\n",
              "\n",
              "        const docLinkHtml = 'Like what you see? Visit the ' +\n",
              "          '<a target=\"_blank\" href=https://colab.research.google.com/notebooks/data_table.ipynb>data table notebook</a>'\n",
              "          + ' to learn more about interactive tables.';\n",
              "        element.innerHTML = '';\n",
              "        dataTable['output_type'] = 'display_data';\n",
              "        await google.colab.output.renderOutput(dataTable, element);\n",
              "        const docLink = document.createElement('div');\n",
              "        docLink.innerHTML = docLinkHtml;\n",
              "        element.appendChild(docLink);\n",
              "      }\n",
              "    </script>\n",
              "  </div>\n",
              "\n",
              "\n",
              "<div id=\"df-b64ad533-e793-4974-b4b7-16f7596f3bfc\">\n",
              "  <button class=\"colab-df-quickchart\" onclick=\"quickchart('df-b64ad533-e793-4974-b4b7-16f7596f3bfc')\"\n",
              "            title=\"Suggest charts\"\n",
              "            style=\"display:none;\">\n",
              "\n",
              "<svg xmlns=\"http://www.w3.org/2000/svg\" height=\"24px\"viewBox=\"0 0 24 24\"\n",
              "     width=\"24px\">\n",
              "    <g>\n",
              "        <path d=\"M19 3H5c-1.1 0-2 .9-2 2v14c0 1.1.9 2 2 2h14c1.1 0 2-.9 2-2V5c0-1.1-.9-2-2-2zM9 17H7v-7h2v7zm4 0h-2V7h2v10zm4 0h-2v-4h2v4z\"/>\n",
              "    </g>\n",
              "</svg>\n",
              "  </button>\n",
              "\n",
              "<style>\n",
              "  .colab-df-quickchart {\n",
              "      --bg-color: #E8F0FE;\n",
              "      --fill-color: #1967D2;\n",
              "      --hover-bg-color: #E2EBFA;\n",
              "      --hover-fill-color: #174EA6;\n",
              "      --disabled-fill-color: #AAA;\n",
              "      --disabled-bg-color: #DDD;\n",
              "  }\n",
              "\n",
              "  [theme=dark] .colab-df-quickchart {\n",
              "      --bg-color: #3B4455;\n",
              "      --fill-color: #D2E3FC;\n",
              "      --hover-bg-color: #434B5C;\n",
              "      --hover-fill-color: #FFFFFF;\n",
              "      --disabled-bg-color: #3B4455;\n",
              "      --disabled-fill-color: #666;\n",
              "  }\n",
              "\n",
              "  .colab-df-quickchart {\n",
              "    background-color: var(--bg-color);\n",
              "    border: none;\n",
              "    border-radius: 50%;\n",
              "    cursor: pointer;\n",
              "    display: none;\n",
              "    fill: var(--fill-color);\n",
              "    height: 32px;\n",
              "    padding: 0;\n",
              "    width: 32px;\n",
              "  }\n",
              "\n",
              "  .colab-df-quickchart:hover {\n",
              "    background-color: var(--hover-bg-color);\n",
              "    box-shadow: 0 1px 2px rgba(60, 64, 67, 0.3), 0 1px 3px 1px rgba(60, 64, 67, 0.15);\n",
              "    fill: var(--button-hover-fill-color);\n",
              "  }\n",
              "\n",
              "  .colab-df-quickchart-complete:disabled,\n",
              "  .colab-df-quickchart-complete:disabled:hover {\n",
              "    background-color: var(--disabled-bg-color);\n",
              "    fill: var(--disabled-fill-color);\n",
              "    box-shadow: none;\n",
              "  }\n",
              "\n",
              "  .colab-df-spinner {\n",
              "    border: 2px solid var(--fill-color);\n",
              "    border-color: transparent;\n",
              "    border-bottom-color: var(--fill-color);\n",
              "    animation:\n",
              "      spin 1s steps(1) infinite;\n",
              "  }\n",
              "\n",
              "  @keyframes spin {\n",
              "    0% {\n",
              "      border-color: transparent;\n",
              "      border-bottom-color: var(--fill-color);\n",
              "      border-left-color: var(--fill-color);\n",
              "    }\n",
              "    20% {\n",
              "      border-color: transparent;\n",
              "      border-left-color: var(--fill-color);\n",
              "      border-top-color: var(--fill-color);\n",
              "    }\n",
              "    30% {\n",
              "      border-color: transparent;\n",
              "      border-left-color: var(--fill-color);\n",
              "      border-top-color: var(--fill-color);\n",
              "      border-right-color: var(--fill-color);\n",
              "    }\n",
              "    40% {\n",
              "      border-color: transparent;\n",
              "      border-right-color: var(--fill-color);\n",
              "      border-top-color: var(--fill-color);\n",
              "    }\n",
              "    60% {\n",
              "      border-color: transparent;\n",
              "      border-right-color: var(--fill-color);\n",
              "    }\n",
              "    80% {\n",
              "      border-color: transparent;\n",
              "      border-right-color: var(--fill-color);\n",
              "      border-bottom-color: var(--fill-color);\n",
              "    }\n",
              "    90% {\n",
              "      border-color: transparent;\n",
              "      border-bottom-color: var(--fill-color);\n",
              "    }\n",
              "  }\n",
              "</style>\n",
              "\n",
              "  <script>\n",
              "    async function quickchart(key) {\n",
              "      const quickchartButtonEl =\n",
              "        document.querySelector('#' + key + ' button');\n",
              "      quickchartButtonEl.disabled = true;  // To prevent multiple clicks.\n",
              "      quickchartButtonEl.classList.add('colab-df-spinner');\n",
              "      try {\n",
              "        const charts = await google.colab.kernel.invokeFunction(\n",
              "            'suggestCharts', [key], {});\n",
              "      } catch (error) {\n",
              "        console.error('Error during call to suggestCharts:', error);\n",
              "      }\n",
              "      quickchartButtonEl.classList.remove('colab-df-spinner');\n",
              "      quickchartButtonEl.classList.add('colab-df-quickchart-complete');\n",
              "    }\n",
              "    (() => {\n",
              "      let quickchartButtonEl =\n",
              "        document.querySelector('#df-b64ad533-e793-4974-b4b7-16f7596f3bfc button');\n",
              "      quickchartButtonEl.style.display =\n",
              "        google.colab.kernel.accessAllowed ? 'block' : 'none';\n",
              "    })();\n",
              "  </script>\n",
              "</div>\n",
              "\n",
              "  <div id=\"id_ebb085e9-15cc-45c5-93e0-41857b84686d\">\n",
              "    <style>\n",
              "      .colab-df-generate {\n",
              "        background-color: #E8F0FE;\n",
              "        border: none;\n",
              "        border-radius: 50%;\n",
              "        cursor: pointer;\n",
              "        display: none;\n",
              "        fill: #1967D2;\n",
              "        height: 32px;\n",
              "        padding: 0 0 0 0;\n",
              "        width: 32px;\n",
              "      }\n",
              "\n",
              "      .colab-df-generate:hover {\n",
              "        background-color: #E2EBFA;\n",
              "        box-shadow: 0px 1px 2px rgba(60, 64, 67, 0.3), 0px 1px 3px 1px rgba(60, 64, 67, 0.15);\n",
              "        fill: #174EA6;\n",
              "      }\n",
              "\n",
              "      [theme=dark] .colab-df-generate {\n",
              "        background-color: #3B4455;\n",
              "        fill: #D2E3FC;\n",
              "      }\n",
              "\n",
              "      [theme=dark] .colab-df-generate:hover {\n",
              "        background-color: #434B5C;\n",
              "        box-shadow: 0px 1px 3px 1px rgba(0, 0, 0, 0.15);\n",
              "        filter: drop-shadow(0px 1px 2px rgba(0, 0, 0, 0.3));\n",
              "        fill: #FFFFFF;\n",
              "      }\n",
              "    </style>\n",
              "    <button class=\"colab-df-generate\" onclick=\"generateWithVariable('result')\"\n",
              "            title=\"Generate code using this dataframe.\"\n",
              "            style=\"display:none;\">\n",
              "\n",
              "  <svg xmlns=\"http://www.w3.org/2000/svg\" height=\"24px\"viewBox=\"0 0 24 24\"\n",
              "       width=\"24px\">\n",
              "    <path d=\"M7,19H8.4L18.45,9,17,7.55,7,17.6ZM5,21V16.75L18.45,3.32a2,2,0,0,1,2.83,0l1.4,1.43a1.91,1.91,0,0,1,.58,1.4,1.91,1.91,0,0,1-.58,1.4L9.25,21ZM18.45,9,17,7.55Zm-12,3A5.31,5.31,0,0,0,4.9,8.1,5.31,5.31,0,0,0,1,6.5,5.31,5.31,0,0,0,4.9,4.9,5.31,5.31,0,0,0,6.5,1,5.31,5.31,0,0,0,8.1,4.9,5.31,5.31,0,0,0,12,6.5,5.46,5.46,0,0,0,6.5,12Z\"/>\n",
              "  </svg>\n",
              "    </button>\n",
              "    <script>\n",
              "      (() => {\n",
              "      const buttonEl =\n",
              "        document.querySelector('#id_ebb085e9-15cc-45c5-93e0-41857b84686d button.colab-df-generate');\n",
              "      buttonEl.style.display =\n",
              "        google.colab.kernel.accessAllowed ? 'block' : 'none';\n",
              "\n",
              "      buttonEl.onclick = () => {\n",
              "        google.colab.notebook.generateWithVariable('result');\n",
              "      }\n",
              "      })();\n",
              "    </script>\n",
              "  </div>\n",
              "\n",
              "    </div>\n",
              "  </div>\n"
            ],
            "application/vnd.google.colaboratory.intrinsic+json": {
              "type": "dataframe",
              "variable_name": "result",
              "summary": "{\n  \"name\": \"result\",\n  \"rows\": 8,\n  \"fields\": [\n    {\n      \"column\": \"videoname\",\n      \"properties\": {\n        \"dtype\": \"string\",\n        \"num_unique_values\": 8,\n        \"samples\": [\n          \" \\uacf5\\ubc94 EP7\",\n          \" \\uacf5\\ubc94 EP2\",\n          \" \\uacf5\\ubc94 EP8\"\n        ],\n        \"semantic_type\": \"\",\n        \"description\": \"\"\n      }\n    },\n    {\n      \"column\": \"ct\",\n      \"properties\": {\n        \"dtype\": \"date\",\n        \"min\": \"2021-10-07 21:00:03\",\n        \"max\": \"2021-10-30 21:00:08\",\n        \"num_unique_values\": 8,\n        \"samples\": [\n          \"2021-10-28 21:00:04\",\n          \"2021-10-09 21:00:03\",\n          \"2021-10-30 21:00:08\"\n        ],\n        \"semantic_type\": \"\",\n        \"description\": \"\"\n      }\n    },\n    {\n      \"column\": \"viewcnt\",\n      \"properties\": {\n        \"dtype\": \"number\",\n        \"std\": 52698,\n        \"min\": 117340,\n        \"max\": 264029,\n        \"num_unique_values\": 8,\n        \"samples\": [\n          252032,\n          148144,\n          264029\n        ],\n        \"semantic_type\": \"\",\n        \"description\": \"\"\n      }\n    }\n  ]\n}"
            }
          },
          "metadata": {}
        }
      ]
    },
    {
      "cell_type": "code",
      "source": [
        "# video 정보의 가장 최근 데이터들에서 각 에피소드의 싫어요/좋아요 비율을 ratio 컬럼으로 만들고\n",
        "# videoname, ratio로 구성된 데이터 프레임을 ratio를 오름차순으로 정렬하라\n",
        "\n",
        "target = video.sort_values(['ct']).drop_duplicates('videoname',keep='last')\n",
        "video['ratio'] = target['dislikecnt']/target['likecnt']\n",
        "result = video.sort_values('ratio')[['videoname','ratio']].reset_index(drop=True)\n",
        "print(result)"
      ],
      "metadata": {
        "colab": {
          "base_uri": "https://localhost:8080/"
        },
        "id": "DF97yjCI5wra",
        "outputId": "3ef3d8c2-da65-4a82-e6f6-cc444616b4c6"
      },
      "execution_count": 81,
      "outputs": [
        {
          "output_type": "stream",
          "name": "stdout",
          "text": [
            "      videoname     ratio\n",
            "0        공범 EP7  0.013636\n",
            "1        공범 EP6  0.015881\n",
            "2        공범 EP4  0.017971\n",
            "3        공범 EP5  0.021128\n",
            "4        공범 EP3  0.022360\n",
            "...         ...       ...\n",
            "15196    공범 EP8       NaN\n",
            "15197    공범 EP8       NaN\n",
            "15198    공범 EP8       NaN\n",
            "15199    공범 EP8       NaN\n",
            "15200    공범 EP8       NaN\n",
            "\n",
            "[15201 rows x 2 columns]\n"
          ]
        }
      ]
    },
    {
      "cell_type": "code",
      "source": [
        "# 2021-11-01 00:00:00 ~ 15:00:00까지\n",
        "# 각 에피소드별 viewcnt의 증가량을 데이터 프레임으로 만드시오\n",
        "\n",
        "start = pd.to_datetime(\"2021-11-01 00:00:00\")\n",
        "end = pd.to_datetime(\"2021-11-01 15:00:00\")\n",
        "\n",
        "target = video.loc[(video['ct'] >= start)&(video['ct']<=end)].reset_index(drop=True)\n",
        "\n",
        "def check(x):\n",
        "  result = max(x) - min(x)\n",
        "  return result\n",
        "\n",
        "result = target[['videoname', 'viewcnt']].groupby(\"videoname\").agg(check)\n",
        "print(result)"
      ],
      "metadata": {
        "colab": {
          "base_uri": "https://localhost:8080/"
        },
        "id": "XAQseCXn5wtH",
        "outputId": "cf4c0359-82af-4a50-b7c9-a874895d54b4"
      },
      "execution_count": 82,
      "outputs": [
        {
          "output_type": "stream",
          "name": "stdout",
          "text": [
            "           viewcnt\n",
            "videoname         \n",
            " 공범 EP1      13298\n",
            " 공범 EP2      10300\n",
            " 공범 EP3       9927\n",
            " 공범 EP4       9824\n",
            " 공범 EP5      10824\n",
            " 공범 EP6      14141\n",
            " 공범 EP7      26949\n",
            " 공범 EP8      89147\n"
          ]
        }
      ]
    },
    {
      "cell_type": "code",
      "source": [
        "# video 데이터 중에서 중복되는 데이터가 존재한다.\n",
        "# 중복되는 각 데이터의 시간대와 videoname 을 구하여라\n",
        "\n",
        "result = video[video.index.isin(set(video.index)-set(video.drop_duplicates().index))]\n",
        "result = result[['videoname','ct']]\n",
        "display(result)"
      ],
      "metadata": {
        "colab": {
          "base_uri": "https://localhost:8080/",
          "height": 125
        },
        "id": "ZaeXmEhy5wwC",
        "outputId": "6fa4f2ba-6b74-499c-b191-f77570d9deef"
      },
      "execution_count": 83,
      "outputs": [
        {
          "output_type": "display_data",
          "data": {
            "text/plain": [
              "     videoname                  ct\n",
              "722     공범 EP1 2021-10-13 09:41:37\n",
              "3927    공범 EP2 2021-10-13 09:41:37"
            ],
            "text/html": [
              "\n",
              "  <div id=\"df-0862136b-1e7b-4f8d-8314-55ef4d5bcee1\" class=\"colab-df-container\">\n",
              "    <div>\n",
              "<style scoped>\n",
              "    .dataframe tbody tr th:only-of-type {\n",
              "        vertical-align: middle;\n",
              "    }\n",
              "\n",
              "    .dataframe tbody tr th {\n",
              "        vertical-align: top;\n",
              "    }\n",
              "\n",
              "    .dataframe thead th {\n",
              "        text-align: right;\n",
              "    }\n",
              "</style>\n",
              "<table border=\"1\" class=\"dataframe\">\n",
              "  <thead>\n",
              "    <tr style=\"text-align: right;\">\n",
              "      <th></th>\n",
              "      <th>videoname</th>\n",
              "      <th>ct</th>\n",
              "    </tr>\n",
              "  </thead>\n",
              "  <tbody>\n",
              "    <tr>\n",
              "      <th>722</th>\n",
              "      <td>공범 EP1</td>\n",
              "      <td>2021-10-13 09:41:37</td>\n",
              "    </tr>\n",
              "    <tr>\n",
              "      <th>3927</th>\n",
              "      <td>공범 EP2</td>\n",
              "      <td>2021-10-13 09:41:37</td>\n",
              "    </tr>\n",
              "  </tbody>\n",
              "</table>\n",
              "</div>\n",
              "    <div class=\"colab-df-buttons\">\n",
              "\n",
              "  <div class=\"colab-df-container\">\n",
              "    <button class=\"colab-df-convert\" onclick=\"convertToInteractive('df-0862136b-1e7b-4f8d-8314-55ef4d5bcee1')\"\n",
              "            title=\"Convert this dataframe to an interactive table.\"\n",
              "            style=\"display:none;\">\n",
              "\n",
              "  <svg xmlns=\"http://www.w3.org/2000/svg\" height=\"24px\" viewBox=\"0 -960 960 960\">\n",
              "    <path d=\"M120-120v-720h720v720H120Zm60-500h600v-160H180v160Zm220 220h160v-160H400v160Zm0 220h160v-160H400v160ZM180-400h160v-160H180v160Zm440 0h160v-160H620v160ZM180-180h160v-160H180v160Zm440 0h160v-160H620v160Z\"/>\n",
              "  </svg>\n",
              "    </button>\n",
              "\n",
              "  <style>\n",
              "    .colab-df-container {\n",
              "      display:flex;\n",
              "      gap: 12px;\n",
              "    }\n",
              "\n",
              "    .colab-df-convert {\n",
              "      background-color: #E8F0FE;\n",
              "      border: none;\n",
              "      border-radius: 50%;\n",
              "      cursor: pointer;\n",
              "      display: none;\n",
              "      fill: #1967D2;\n",
              "      height: 32px;\n",
              "      padding: 0 0 0 0;\n",
              "      width: 32px;\n",
              "    }\n",
              "\n",
              "    .colab-df-convert:hover {\n",
              "      background-color: #E2EBFA;\n",
              "      box-shadow: 0px 1px 2px rgba(60, 64, 67, 0.3), 0px 1px 3px 1px rgba(60, 64, 67, 0.15);\n",
              "      fill: #174EA6;\n",
              "    }\n",
              "\n",
              "    .colab-df-buttons div {\n",
              "      margin-bottom: 4px;\n",
              "    }\n",
              "\n",
              "    [theme=dark] .colab-df-convert {\n",
              "      background-color: #3B4455;\n",
              "      fill: #D2E3FC;\n",
              "    }\n",
              "\n",
              "    [theme=dark] .colab-df-convert:hover {\n",
              "      background-color: #434B5C;\n",
              "      box-shadow: 0px 1px 3px 1px rgba(0, 0, 0, 0.15);\n",
              "      filter: drop-shadow(0px 1px 2px rgba(0, 0, 0, 0.3));\n",
              "      fill: #FFFFFF;\n",
              "    }\n",
              "  </style>\n",
              "\n",
              "    <script>\n",
              "      const buttonEl =\n",
              "        document.querySelector('#df-0862136b-1e7b-4f8d-8314-55ef4d5bcee1 button.colab-df-convert');\n",
              "      buttonEl.style.display =\n",
              "        google.colab.kernel.accessAllowed ? 'block' : 'none';\n",
              "\n",
              "      async function convertToInteractive(key) {\n",
              "        const element = document.querySelector('#df-0862136b-1e7b-4f8d-8314-55ef4d5bcee1');\n",
              "        const dataTable =\n",
              "          await google.colab.kernel.invokeFunction('convertToInteractive',\n",
              "                                                    [key], {});\n",
              "        if (!dataTable) return;\n",
              "\n",
              "        const docLinkHtml = 'Like what you see? Visit the ' +\n",
              "          '<a target=\"_blank\" href=https://colab.research.google.com/notebooks/data_table.ipynb>data table notebook</a>'\n",
              "          + ' to learn more about interactive tables.';\n",
              "        element.innerHTML = '';\n",
              "        dataTable['output_type'] = 'display_data';\n",
              "        await google.colab.output.renderOutput(dataTable, element);\n",
              "        const docLink = document.createElement('div');\n",
              "        docLink.innerHTML = docLinkHtml;\n",
              "        element.appendChild(docLink);\n",
              "      }\n",
              "    </script>\n",
              "  </div>\n",
              "\n",
              "\n",
              "<div id=\"df-d6d2586d-70ea-4359-a308-649861760f50\">\n",
              "  <button class=\"colab-df-quickchart\" onclick=\"quickchart('df-d6d2586d-70ea-4359-a308-649861760f50')\"\n",
              "            title=\"Suggest charts\"\n",
              "            style=\"display:none;\">\n",
              "\n",
              "<svg xmlns=\"http://www.w3.org/2000/svg\" height=\"24px\"viewBox=\"0 0 24 24\"\n",
              "     width=\"24px\">\n",
              "    <g>\n",
              "        <path d=\"M19 3H5c-1.1 0-2 .9-2 2v14c0 1.1.9 2 2 2h14c1.1 0 2-.9 2-2V5c0-1.1-.9-2-2-2zM9 17H7v-7h2v7zm4 0h-2V7h2v10zm4 0h-2v-4h2v4z\"/>\n",
              "    </g>\n",
              "</svg>\n",
              "  </button>\n",
              "\n",
              "<style>\n",
              "  .colab-df-quickchart {\n",
              "      --bg-color: #E8F0FE;\n",
              "      --fill-color: #1967D2;\n",
              "      --hover-bg-color: #E2EBFA;\n",
              "      --hover-fill-color: #174EA6;\n",
              "      --disabled-fill-color: #AAA;\n",
              "      --disabled-bg-color: #DDD;\n",
              "  }\n",
              "\n",
              "  [theme=dark] .colab-df-quickchart {\n",
              "      --bg-color: #3B4455;\n",
              "      --fill-color: #D2E3FC;\n",
              "      --hover-bg-color: #434B5C;\n",
              "      --hover-fill-color: #FFFFFF;\n",
              "      --disabled-bg-color: #3B4455;\n",
              "      --disabled-fill-color: #666;\n",
              "  }\n",
              "\n",
              "  .colab-df-quickchart {\n",
              "    background-color: var(--bg-color);\n",
              "    border: none;\n",
              "    border-radius: 50%;\n",
              "    cursor: pointer;\n",
              "    display: none;\n",
              "    fill: var(--fill-color);\n",
              "    height: 32px;\n",
              "    padding: 0;\n",
              "    width: 32px;\n",
              "  }\n",
              "\n",
              "  .colab-df-quickchart:hover {\n",
              "    background-color: var(--hover-bg-color);\n",
              "    box-shadow: 0 1px 2px rgba(60, 64, 67, 0.3), 0 1px 3px 1px rgba(60, 64, 67, 0.15);\n",
              "    fill: var(--button-hover-fill-color);\n",
              "  }\n",
              "\n",
              "  .colab-df-quickchart-complete:disabled,\n",
              "  .colab-df-quickchart-complete:disabled:hover {\n",
              "    background-color: var(--disabled-bg-color);\n",
              "    fill: var(--disabled-fill-color);\n",
              "    box-shadow: none;\n",
              "  }\n",
              "\n",
              "  .colab-df-spinner {\n",
              "    border: 2px solid var(--fill-color);\n",
              "    border-color: transparent;\n",
              "    border-bottom-color: var(--fill-color);\n",
              "    animation:\n",
              "      spin 1s steps(1) infinite;\n",
              "  }\n",
              "\n",
              "  @keyframes spin {\n",
              "    0% {\n",
              "      border-color: transparent;\n",
              "      border-bottom-color: var(--fill-color);\n",
              "      border-left-color: var(--fill-color);\n",
              "    }\n",
              "    20% {\n",
              "      border-color: transparent;\n",
              "      border-left-color: var(--fill-color);\n",
              "      border-top-color: var(--fill-color);\n",
              "    }\n",
              "    30% {\n",
              "      border-color: transparent;\n",
              "      border-left-color: var(--fill-color);\n",
              "      border-top-color: var(--fill-color);\n",
              "      border-right-color: var(--fill-color);\n",
              "    }\n",
              "    40% {\n",
              "      border-color: transparent;\n",
              "      border-right-color: var(--fill-color);\n",
              "      border-top-color: var(--fill-color);\n",
              "    }\n",
              "    60% {\n",
              "      border-color: transparent;\n",
              "      border-right-color: var(--fill-color);\n",
              "    }\n",
              "    80% {\n",
              "      border-color: transparent;\n",
              "      border-right-color: var(--fill-color);\n",
              "      border-bottom-color: var(--fill-color);\n",
              "    }\n",
              "    90% {\n",
              "      border-color: transparent;\n",
              "      border-bottom-color: var(--fill-color);\n",
              "    }\n",
              "  }\n",
              "</style>\n",
              "\n",
              "  <script>\n",
              "    async function quickchart(key) {\n",
              "      const quickchartButtonEl =\n",
              "        document.querySelector('#' + key + ' button');\n",
              "      quickchartButtonEl.disabled = true;  // To prevent multiple clicks.\n",
              "      quickchartButtonEl.classList.add('colab-df-spinner');\n",
              "      try {\n",
              "        const charts = await google.colab.kernel.invokeFunction(\n",
              "            'suggestCharts', [key], {});\n",
              "      } catch (error) {\n",
              "        console.error('Error during call to suggestCharts:', error);\n",
              "      }\n",
              "      quickchartButtonEl.classList.remove('colab-df-spinner');\n",
              "      quickchartButtonEl.classList.add('colab-df-quickchart-complete');\n",
              "    }\n",
              "    (() => {\n",
              "      let quickchartButtonEl =\n",
              "        document.querySelector('#df-d6d2586d-70ea-4359-a308-649861760f50 button');\n",
              "      quickchartButtonEl.style.display =\n",
              "        google.colab.kernel.accessAllowed ? 'block' : 'none';\n",
              "    })();\n",
              "  </script>\n",
              "</div>\n",
              "\n",
              "  <div id=\"id_bf94958e-355d-4762-a091-dde024b15837\">\n",
              "    <style>\n",
              "      .colab-df-generate {\n",
              "        background-color: #E8F0FE;\n",
              "        border: none;\n",
              "        border-radius: 50%;\n",
              "        cursor: pointer;\n",
              "        display: none;\n",
              "        fill: #1967D2;\n",
              "        height: 32px;\n",
              "        padding: 0 0 0 0;\n",
              "        width: 32px;\n",
              "      }\n",
              "\n",
              "      .colab-df-generate:hover {\n",
              "        background-color: #E2EBFA;\n",
              "        box-shadow: 0px 1px 2px rgba(60, 64, 67, 0.3), 0px 1px 3px 1px rgba(60, 64, 67, 0.15);\n",
              "        fill: #174EA6;\n",
              "      }\n",
              "\n",
              "      [theme=dark] .colab-df-generate {\n",
              "        background-color: #3B4455;\n",
              "        fill: #D2E3FC;\n",
              "      }\n",
              "\n",
              "      [theme=dark] .colab-df-generate:hover {\n",
              "        background-color: #434B5C;\n",
              "        box-shadow: 0px 1px 3px 1px rgba(0, 0, 0, 0.15);\n",
              "        filter: drop-shadow(0px 1px 2px rgba(0, 0, 0, 0.3));\n",
              "        fill: #FFFFFF;\n",
              "      }\n",
              "    </style>\n",
              "    <button class=\"colab-df-generate\" onclick=\"generateWithVariable('result')\"\n",
              "            title=\"Generate code using this dataframe.\"\n",
              "            style=\"display:none;\">\n",
              "\n",
              "  <svg xmlns=\"http://www.w3.org/2000/svg\" height=\"24px\"viewBox=\"0 0 24 24\"\n",
              "       width=\"24px\">\n",
              "    <path d=\"M7,19H8.4L18.45,9,17,7.55,7,17.6ZM5,21V16.75L18.45,3.32a2,2,0,0,1,2.83,0l1.4,1.43a1.91,1.91,0,0,1,.58,1.4,1.91,1.91,0,0,1-.58,1.4L9.25,21ZM18.45,9,17,7.55Zm-12,3A5.31,5.31,0,0,0,4.9,8.1,5.31,5.31,0,0,0,1,6.5,5.31,5.31,0,0,0,4.9,4.9,5.31,5.31,0,0,0,6.5,1,5.31,5.31,0,0,0,8.1,4.9,5.31,5.31,0,0,0,12,6.5,5.46,5.46,0,0,0,6.5,12Z\"/>\n",
              "  </svg>\n",
              "    </button>\n",
              "    <script>\n",
              "      (() => {\n",
              "      const buttonEl =\n",
              "        document.querySelector('#id_bf94958e-355d-4762-a091-dde024b15837 button.colab-df-generate');\n",
              "      buttonEl.style.display =\n",
              "        google.colab.kernel.accessAllowed ? 'block' : 'none';\n",
              "\n",
              "      buttonEl.onclick = () => {\n",
              "        google.colab.notebook.generateWithVariable('result');\n",
              "      }\n",
              "      })();\n",
              "    </script>\n",
              "  </div>\n",
              "\n",
              "    </div>\n",
              "  </div>\n"
            ],
            "application/vnd.google.colaboratory.intrinsic+json": {
              "type": "dataframe",
              "variable_name": "result",
              "summary": "{\n  \"name\": \"result\",\n  \"rows\": 2,\n  \"fields\": [\n    {\n      \"column\": \"videoname\",\n      \"properties\": {\n        \"dtype\": \"string\",\n        \"num_unique_values\": 2,\n        \"samples\": [\n          \" \\uacf5\\ubc94 EP2\",\n          \" \\uacf5\\ubc94 EP1\"\n        ],\n        \"semantic_type\": \"\",\n        \"description\": \"\"\n      }\n    },\n    {\n      \"column\": \"ct\",\n      \"properties\": {\n        \"dtype\": \"date\",\n        \"min\": \"2021-10-13 09:41:37\",\n        \"max\": \"2021-10-13 09:41:37\",\n        \"num_unique_values\": 1,\n        \"samples\": [\n          \"2021-10-13 09:41:37\"\n        ],\n        \"semantic_type\": \"\",\n        \"description\": \"\"\n      }\n    }\n  ]\n}"
            }
          },
          "metadata": {}
        }
      ]
    },
    {
      "cell_type": "code",
      "source": [
        "import pandas as pd\n",
        "\n",
        "df= pd.read_csv('https://raw.githubusercontent.com/Datamanim/datarepo/main/worldcup/worldcupgoals.csv')"
      ],
      "metadata": {
        "id": "ERq1joL35wy5"
      },
      "execution_count": 85,
      "outputs": []
    },
    {
      "cell_type": "code",
      "source": [
        "# 주어진 전체 기간의 각 나라별 골득점수 상위 5개 국가와 그 득점수를 데이터프레임형태로  출력하라\n",
        "\n",
        "result = df.groupby('Country').sum().sort_values('Goals', ascending=False).head(5)\n",
        "display(result)"
      ],
      "metadata": {
        "colab": {
          "base_uri": "https://localhost:8080/",
          "height": 411
        },
        "id": "U7FqTcH2JS_6",
        "outputId": "6cb5cecd-69da-4ac7-ae10-230ab69ce4ac"
      },
      "execution_count": 88,
      "outputs": [
        {
          "output_type": "display_data",
          "data": {
            "text/plain": [
              "                                                      Player  Goals  \\\n",
              "Country                                                               \n",
              "Brazil     RonaldoPeleAdemirJairzinhoVavaLeonidasRivaldoC...    228   \n",
              "Germany    Miroslav KloseGerd MullerJurgen KlinsmannThoma...    226   \n",
              "Argentina  Gabriel BatistutaDiego MaradonaGuillermo Stabi...    135   \n",
              "Italy      Roberto BaggioPaolo RossiChristian VieriSalvat...    123   \n",
              "France     Just FontaineThierry HenryMichel PlatiniZinedi...    115   \n",
              "\n",
              "                                                       Years  \n",
              "Country                                                       \n",
              "Brazil     1998-2002-20061958-1962-1966-197019501966-1970...  \n",
              "Germany    2002-2006-2010-20141970-19741990-1994-19982010...  \n",
              "Argentina  1994-1998-20021982-1986-1990-199419301974-1978...  \n",
              "Italy      1990-1994-19981978-19821998-2002199019381982-1...  \n",
              "France     19581998-2002-2006-20101978-1982-19861998-2002...  "
            ],
            "text/html": [
              "\n",
              "  <div id=\"df-f06a7a59-18ab-488c-85ef-cf28f7fab2b3\" class=\"colab-df-container\">\n",
              "    <div>\n",
              "<style scoped>\n",
              "    .dataframe tbody tr th:only-of-type {\n",
              "        vertical-align: middle;\n",
              "    }\n",
              "\n",
              "    .dataframe tbody tr th {\n",
              "        vertical-align: top;\n",
              "    }\n",
              "\n",
              "    .dataframe thead th {\n",
              "        text-align: right;\n",
              "    }\n",
              "</style>\n",
              "<table border=\"1\" class=\"dataframe\">\n",
              "  <thead>\n",
              "    <tr style=\"text-align: right;\">\n",
              "      <th></th>\n",
              "      <th>Player</th>\n",
              "      <th>Goals</th>\n",
              "      <th>Years</th>\n",
              "    </tr>\n",
              "    <tr>\n",
              "      <th>Country</th>\n",
              "      <th></th>\n",
              "      <th></th>\n",
              "      <th></th>\n",
              "    </tr>\n",
              "  </thead>\n",
              "  <tbody>\n",
              "    <tr>\n",
              "      <th>Brazil</th>\n",
              "      <td>RonaldoPeleAdemirJairzinhoVavaLeonidasRivaldoC...</td>\n",
              "      <td>228</td>\n",
              "      <td>1998-2002-20061958-1962-1966-197019501966-1970...</td>\n",
              "    </tr>\n",
              "    <tr>\n",
              "      <th>Germany</th>\n",
              "      <td>Miroslav KloseGerd MullerJurgen KlinsmannThoma...</td>\n",
              "      <td>226</td>\n",
              "      <td>2002-2006-2010-20141970-19741990-1994-19982010...</td>\n",
              "    </tr>\n",
              "    <tr>\n",
              "      <th>Argentina</th>\n",
              "      <td>Gabriel BatistutaDiego MaradonaGuillermo Stabi...</td>\n",
              "      <td>135</td>\n",
              "      <td>1994-1998-20021982-1986-1990-199419301974-1978...</td>\n",
              "    </tr>\n",
              "    <tr>\n",
              "      <th>Italy</th>\n",
              "      <td>Roberto BaggioPaolo RossiChristian VieriSalvat...</td>\n",
              "      <td>123</td>\n",
              "      <td>1990-1994-19981978-19821998-2002199019381982-1...</td>\n",
              "    </tr>\n",
              "    <tr>\n",
              "      <th>France</th>\n",
              "      <td>Just FontaineThierry HenryMichel PlatiniZinedi...</td>\n",
              "      <td>115</td>\n",
              "      <td>19581998-2002-2006-20101978-1982-19861998-2002...</td>\n",
              "    </tr>\n",
              "  </tbody>\n",
              "</table>\n",
              "</div>\n",
              "    <div class=\"colab-df-buttons\">\n",
              "\n",
              "  <div class=\"colab-df-container\">\n",
              "    <button class=\"colab-df-convert\" onclick=\"convertToInteractive('df-f06a7a59-18ab-488c-85ef-cf28f7fab2b3')\"\n",
              "            title=\"Convert this dataframe to an interactive table.\"\n",
              "            style=\"display:none;\">\n",
              "\n",
              "  <svg xmlns=\"http://www.w3.org/2000/svg\" height=\"24px\" viewBox=\"0 -960 960 960\">\n",
              "    <path d=\"M120-120v-720h720v720H120Zm60-500h600v-160H180v160Zm220 220h160v-160H400v160Zm0 220h160v-160H400v160ZM180-400h160v-160H180v160Zm440 0h160v-160H620v160ZM180-180h160v-160H180v160Zm440 0h160v-160H620v160Z\"/>\n",
              "  </svg>\n",
              "    </button>\n",
              "\n",
              "  <style>\n",
              "    .colab-df-container {\n",
              "      display:flex;\n",
              "      gap: 12px;\n",
              "    }\n",
              "\n",
              "    .colab-df-convert {\n",
              "      background-color: #E8F0FE;\n",
              "      border: none;\n",
              "      border-radius: 50%;\n",
              "      cursor: pointer;\n",
              "      display: none;\n",
              "      fill: #1967D2;\n",
              "      height: 32px;\n",
              "      padding: 0 0 0 0;\n",
              "      width: 32px;\n",
              "    }\n",
              "\n",
              "    .colab-df-convert:hover {\n",
              "      background-color: #E2EBFA;\n",
              "      box-shadow: 0px 1px 2px rgba(60, 64, 67, 0.3), 0px 1px 3px 1px rgba(60, 64, 67, 0.15);\n",
              "      fill: #174EA6;\n",
              "    }\n",
              "\n",
              "    .colab-df-buttons div {\n",
              "      margin-bottom: 4px;\n",
              "    }\n",
              "\n",
              "    [theme=dark] .colab-df-convert {\n",
              "      background-color: #3B4455;\n",
              "      fill: #D2E3FC;\n",
              "    }\n",
              "\n",
              "    [theme=dark] .colab-df-convert:hover {\n",
              "      background-color: #434B5C;\n",
              "      box-shadow: 0px 1px 3px 1px rgba(0, 0, 0, 0.15);\n",
              "      filter: drop-shadow(0px 1px 2px rgba(0, 0, 0, 0.3));\n",
              "      fill: #FFFFFF;\n",
              "    }\n",
              "  </style>\n",
              "\n",
              "    <script>\n",
              "      const buttonEl =\n",
              "        document.querySelector('#df-f06a7a59-18ab-488c-85ef-cf28f7fab2b3 button.colab-df-convert');\n",
              "      buttonEl.style.display =\n",
              "        google.colab.kernel.accessAllowed ? 'block' : 'none';\n",
              "\n",
              "      async function convertToInteractive(key) {\n",
              "        const element = document.querySelector('#df-f06a7a59-18ab-488c-85ef-cf28f7fab2b3');\n",
              "        const dataTable =\n",
              "          await google.colab.kernel.invokeFunction('convertToInteractive',\n",
              "                                                    [key], {});\n",
              "        if (!dataTable) return;\n",
              "\n",
              "        const docLinkHtml = 'Like what you see? Visit the ' +\n",
              "          '<a target=\"_blank\" href=https://colab.research.google.com/notebooks/data_table.ipynb>data table notebook</a>'\n",
              "          + ' to learn more about interactive tables.';\n",
              "        element.innerHTML = '';\n",
              "        dataTable['output_type'] = 'display_data';\n",
              "        await google.colab.output.renderOutput(dataTable, element);\n",
              "        const docLink = document.createElement('div');\n",
              "        docLink.innerHTML = docLinkHtml;\n",
              "        element.appendChild(docLink);\n",
              "      }\n",
              "    </script>\n",
              "  </div>\n",
              "\n",
              "\n",
              "<div id=\"df-96ae196b-1a15-49c1-86f9-71c57ac15abc\">\n",
              "  <button class=\"colab-df-quickchart\" onclick=\"quickchart('df-96ae196b-1a15-49c1-86f9-71c57ac15abc')\"\n",
              "            title=\"Suggest charts\"\n",
              "            style=\"display:none;\">\n",
              "\n",
              "<svg xmlns=\"http://www.w3.org/2000/svg\" height=\"24px\"viewBox=\"0 0 24 24\"\n",
              "     width=\"24px\">\n",
              "    <g>\n",
              "        <path d=\"M19 3H5c-1.1 0-2 .9-2 2v14c0 1.1.9 2 2 2h14c1.1 0 2-.9 2-2V5c0-1.1-.9-2-2-2zM9 17H7v-7h2v7zm4 0h-2V7h2v10zm4 0h-2v-4h2v4z\"/>\n",
              "    </g>\n",
              "</svg>\n",
              "  </button>\n",
              "\n",
              "<style>\n",
              "  .colab-df-quickchart {\n",
              "      --bg-color: #E8F0FE;\n",
              "      --fill-color: #1967D2;\n",
              "      --hover-bg-color: #E2EBFA;\n",
              "      --hover-fill-color: #174EA6;\n",
              "      --disabled-fill-color: #AAA;\n",
              "      --disabled-bg-color: #DDD;\n",
              "  }\n",
              "\n",
              "  [theme=dark] .colab-df-quickchart {\n",
              "      --bg-color: #3B4455;\n",
              "      --fill-color: #D2E3FC;\n",
              "      --hover-bg-color: #434B5C;\n",
              "      --hover-fill-color: #FFFFFF;\n",
              "      --disabled-bg-color: #3B4455;\n",
              "      --disabled-fill-color: #666;\n",
              "  }\n",
              "\n",
              "  .colab-df-quickchart {\n",
              "    background-color: var(--bg-color);\n",
              "    border: none;\n",
              "    border-radius: 50%;\n",
              "    cursor: pointer;\n",
              "    display: none;\n",
              "    fill: var(--fill-color);\n",
              "    height: 32px;\n",
              "    padding: 0;\n",
              "    width: 32px;\n",
              "  }\n",
              "\n",
              "  .colab-df-quickchart:hover {\n",
              "    background-color: var(--hover-bg-color);\n",
              "    box-shadow: 0 1px 2px rgba(60, 64, 67, 0.3), 0 1px 3px 1px rgba(60, 64, 67, 0.15);\n",
              "    fill: var(--button-hover-fill-color);\n",
              "  }\n",
              "\n",
              "  .colab-df-quickchart-complete:disabled,\n",
              "  .colab-df-quickchart-complete:disabled:hover {\n",
              "    background-color: var(--disabled-bg-color);\n",
              "    fill: var(--disabled-fill-color);\n",
              "    box-shadow: none;\n",
              "  }\n",
              "\n",
              "  .colab-df-spinner {\n",
              "    border: 2px solid var(--fill-color);\n",
              "    border-color: transparent;\n",
              "    border-bottom-color: var(--fill-color);\n",
              "    animation:\n",
              "      spin 1s steps(1) infinite;\n",
              "  }\n",
              "\n",
              "  @keyframes spin {\n",
              "    0% {\n",
              "      border-color: transparent;\n",
              "      border-bottom-color: var(--fill-color);\n",
              "      border-left-color: var(--fill-color);\n",
              "    }\n",
              "    20% {\n",
              "      border-color: transparent;\n",
              "      border-left-color: var(--fill-color);\n",
              "      border-top-color: var(--fill-color);\n",
              "    }\n",
              "    30% {\n",
              "      border-color: transparent;\n",
              "      border-left-color: var(--fill-color);\n",
              "      border-top-color: var(--fill-color);\n",
              "      border-right-color: var(--fill-color);\n",
              "    }\n",
              "    40% {\n",
              "      border-color: transparent;\n",
              "      border-right-color: var(--fill-color);\n",
              "      border-top-color: var(--fill-color);\n",
              "    }\n",
              "    60% {\n",
              "      border-color: transparent;\n",
              "      border-right-color: var(--fill-color);\n",
              "    }\n",
              "    80% {\n",
              "      border-color: transparent;\n",
              "      border-right-color: var(--fill-color);\n",
              "      border-bottom-color: var(--fill-color);\n",
              "    }\n",
              "    90% {\n",
              "      border-color: transparent;\n",
              "      border-bottom-color: var(--fill-color);\n",
              "    }\n",
              "  }\n",
              "</style>\n",
              "\n",
              "  <script>\n",
              "    async function quickchart(key) {\n",
              "      const quickchartButtonEl =\n",
              "        document.querySelector('#' + key + ' button');\n",
              "      quickchartButtonEl.disabled = true;  // To prevent multiple clicks.\n",
              "      quickchartButtonEl.classList.add('colab-df-spinner');\n",
              "      try {\n",
              "        const charts = await google.colab.kernel.invokeFunction(\n",
              "            'suggestCharts', [key], {});\n",
              "      } catch (error) {\n",
              "        console.error('Error during call to suggestCharts:', error);\n",
              "      }\n",
              "      quickchartButtonEl.classList.remove('colab-df-spinner');\n",
              "      quickchartButtonEl.classList.add('colab-df-quickchart-complete');\n",
              "    }\n",
              "    (() => {\n",
              "      let quickchartButtonEl =\n",
              "        document.querySelector('#df-96ae196b-1a15-49c1-86f9-71c57ac15abc button');\n",
              "      quickchartButtonEl.style.display =\n",
              "        google.colab.kernel.accessAllowed ? 'block' : 'none';\n",
              "    })();\n",
              "  </script>\n",
              "</div>\n",
              "\n",
              "  <div id=\"id_66e60fd3-da06-4ec1-9ecc-8324e02ad4cd\">\n",
              "    <style>\n",
              "      .colab-df-generate {\n",
              "        background-color: #E8F0FE;\n",
              "        border: none;\n",
              "        border-radius: 50%;\n",
              "        cursor: pointer;\n",
              "        display: none;\n",
              "        fill: #1967D2;\n",
              "        height: 32px;\n",
              "        padding: 0 0 0 0;\n",
              "        width: 32px;\n",
              "      }\n",
              "\n",
              "      .colab-df-generate:hover {\n",
              "        background-color: #E2EBFA;\n",
              "        box-shadow: 0px 1px 2px rgba(60, 64, 67, 0.3), 0px 1px 3px 1px rgba(60, 64, 67, 0.15);\n",
              "        fill: #174EA6;\n",
              "      }\n",
              "\n",
              "      [theme=dark] .colab-df-generate {\n",
              "        background-color: #3B4455;\n",
              "        fill: #D2E3FC;\n",
              "      }\n",
              "\n",
              "      [theme=dark] .colab-df-generate:hover {\n",
              "        background-color: #434B5C;\n",
              "        box-shadow: 0px 1px 3px 1px rgba(0, 0, 0, 0.15);\n",
              "        filter: drop-shadow(0px 1px 2px rgba(0, 0, 0, 0.3));\n",
              "        fill: #FFFFFF;\n",
              "      }\n",
              "    </style>\n",
              "    <button class=\"colab-df-generate\" onclick=\"generateWithVariable('result')\"\n",
              "            title=\"Generate code using this dataframe.\"\n",
              "            style=\"display:none;\">\n",
              "\n",
              "  <svg xmlns=\"http://www.w3.org/2000/svg\" height=\"24px\"viewBox=\"0 0 24 24\"\n",
              "       width=\"24px\">\n",
              "    <path d=\"M7,19H8.4L18.45,9,17,7.55,7,17.6ZM5,21V16.75L18.45,3.32a2,2,0,0,1,2.83,0l1.4,1.43a1.91,1.91,0,0,1,.58,1.4,1.91,1.91,0,0,1-.58,1.4L9.25,21ZM18.45,9,17,7.55Zm-12,3A5.31,5.31,0,0,0,4.9,8.1,5.31,5.31,0,0,0,1,6.5,5.31,5.31,0,0,0,4.9,4.9,5.31,5.31,0,0,0,6.5,1,5.31,5.31,0,0,0,8.1,4.9,5.31,5.31,0,0,0,12,6.5,5.46,5.46,0,0,0,6.5,12Z\"/>\n",
              "  </svg>\n",
              "    </button>\n",
              "    <script>\n",
              "      (() => {\n",
              "      const buttonEl =\n",
              "        document.querySelector('#id_66e60fd3-da06-4ec1-9ecc-8324e02ad4cd button.colab-df-generate');\n",
              "      buttonEl.style.display =\n",
              "        google.colab.kernel.accessAllowed ? 'block' : 'none';\n",
              "\n",
              "      buttonEl.onclick = () => {\n",
              "        google.colab.notebook.generateWithVariable('result');\n",
              "      }\n",
              "      })();\n",
              "    </script>\n",
              "  </div>\n",
              "\n",
              "    </div>\n",
              "  </div>\n"
            ],
            "application/vnd.google.colaboratory.intrinsic+json": {
              "type": "dataframe",
              "variable_name": "result",
              "summary": "{\n  \"name\": \"result\",\n  \"rows\": 5,\n  \"fields\": [\n    {\n      \"column\": \"Country\",\n      \"properties\": {\n        \"dtype\": \"string\",\n        \"num_unique_values\": 5,\n        \"samples\": [\n          \"Germany\",\n          \"France\",\n          \"Argentina\"\n        ],\n        \"semantic_type\": \"\",\n        \"description\": \"\"\n      }\n    },\n    {\n      \"column\": \"Player\",\n      \"properties\": {\n        \"dtype\": \"string\",\n        \"num_unique_values\": 5,\n        \"samples\": [\n          \"Miroslav KloseGerd MullerJurgen KlinsmannThomas MullerHelmut RahnKarl Heinz RummeniggeUwe SeelerRudi VollerHans SchaferHelmut HallerLothar MatthausMax MorlockFranz BeckenbauerLukas PodolskiOliver BierhoffAndreas BrehmePaul BreitnerEdmund ConenOttmar WalterMichael BallackToni KroosPierre LittbarskiWolfgang OverathAndre SchuerrleFritz WalterKlaus AllofsKlaus FischerHeinz FloheMario GoetzeKarl HohmannMats HummelsSami KhediraErnest LehnerDieter MullerOliver NeuvilleMesut OzilBastian SchweinsteigerJoachim StreichRuediger AbramczikUwe BeinMarco BodeRainer BonhofAlbert BrullsCacauHans CiesclarczykBernd CullmannLothar EmmerichArne FriedrichTorsten FringsJosef GauchelJuergen GrabowskiWillhelm HahnemannSigi HeldRichard HerrmannMartin HoffmannBernd HolzenbeinUli HonessHorst HrubeschCarsten JanckerMarcell JansenBerni KlodtStanislaus KobierskiPhilipp LahmStan LibudaThomas LinkeAndreas MollerHansi MullerRudolf NoackAlfred PfaffUwe ReindersMarco ReusKarlheinz RiedleBernd SchneiderKarl Heinz SchnellingerOtto SifflingJuergen SparwasserHorst SzymaniakWolfgang Weber\",\n          \"Just FontaineThierry HenryMichel PlatiniZinedine ZidaneAntoine GriezmannKylian MbappeRoger PiantoniDominique RocheteauKarim BenzemaBernard GenghiniAlain GiresseRaymond KopaJean NicolasAndre MaschinotJean Pierre PapinEmmanuel PetitPaul PogbaDidier SixYannick StopyraLilian ThuramPatrick VieiraJean VincentMaryan WisnieskiManuel AmorosMarc BerdollLaurent BlancMaxime BossisAlain CouriolHector De BourgoingYouri DjorkaeffYvon DouisChristophe DugarryLeroy FerLuis FernandezJean Marc FerreriRene GirardOlivier GiroudGerard HausserOscar HeissererBernard LacombeMarcel LangillerLucien LaurentBixente LizarazuChristian LopezFlorent MaloudaBlaise MatuidiBenjamin PavardFranck RiberyMoussa SissokoGerard SolerJean TiganaMarius TresorDavid TrezeguetSamuel UmtitiMathieu ValbuenaRaphael VaraneEmile VeinanteGeorges Verriest\",\n          \"Gabriel BatistutaDiego MaradonaGuillermo StabileMario KempesLionel MessiGonzalo HiguainDaniel BertoniClaudio CaniggiaHernan CrespoRene HousemanLeopoldo LuqueJorge ValdanoLuis ArtimeJorge BurruchagaOrestes CorbattaDaniel PassarellaCarlos PeucelleMaxi RodriguezCarlos TevezSergio AgueroAngel Di MariaLuis MontiAriel OrtegaMarcos RojoHector YazaldeAdolfo ZumelzuOsvaldo ArdilesLudovico AvioRuben AyalaRoberto AyalaCarlos BabingtonAbel BalboErnesto BelisMiguel BrindisiJose BrownEsteban CambiassoMartin DemichelisRamon DiazMario EvaristoHector FacundoAlberto GalateoGabriel HeinzeRamon HerediaClaudio LopezNorberto MenendezGabriel MercadoPedro MonzonErminio OnegaMartin PalermoPedro PasculliMauricio PinedaOscar RuggeriJose SanfilippoJavier SaviolaAlejandro ScopelliAlberto TarantiniPedro TroglioFrancisco VaralloJavier Zanetti\"\n        ],\n        \"semantic_type\": \"\",\n        \"description\": \"\"\n      }\n    },\n    {\n      \"column\": \"Goals\",\n      \"properties\": {\n        \"dtype\": \"number\",\n        \"std\": 56,\n        \"min\": 115,\n        \"max\": 228,\n        \"num_unique_values\": 5,\n        \"samples\": [\n          226,\n          115,\n          135\n        ],\n        \"semantic_type\": \"\",\n        \"description\": \"\"\n      }\n    },\n    {\n      \"column\": \"Years\",\n      \"properties\": {\n        \"dtype\": \"string\",\n        \"num_unique_values\": 5,\n        \"samples\": [\n          \"2002-2006-2010-20141970-19741990-1994-19982010-20141954-19581978-1982-19861958-1962-1966-19701986-1990-19941954-1958-19621962-1966-19701986-1990-1994-199819541966-1970-19742006-20101998-20021986-1990-19941974-1982193419542002-20062014-20181982-1986-19901966-1970-197420141954-195819861978-19821974-19782014193420142010-20141934-193819782002-20062010-20142006-201019741978199020021974-19781962-196620101958197419662006-20102002-200619381970-197419381966-1970195419741974-19781974198220022006-20101954-195819342006-20101970200201978-198219341954020181990-19942002-20061958-1962-1966-1970193419741958-19621966-1970\",\n          \"19581998-2002-2006-20101978-1982-19861998-2002-20062018201819581978-1982-198620141982-19861982-19861954-19581934-1938193019861998-20022014-20181978-198219861998-2002-20061998-2002-20061954-195819581982-1986197819981978-1982-1986198219661998-20021958020141986198619822014196619381978-1982193019301998-20021978-19822006-2010201420182006-2010201419821982-19861978-19821998-2002-20062018201420181930-19381934\",\n          \"1994-1998-20021982-1986-1990-199419301974-1978-19822006-2010-2014-20182010-20141978-19821990-1994-20021998-2002-20061974-197819781982-198619661986-199019581978-198219302006-20102006-201020182014-20181930-19341994-1998-20022014-2018197419301978-1982195819741998-200619741990-19941934197419862006201019821930196219342006-201019741998-200219582018199019662010198619981986-1990-19941962200619301978-1982199019301998-2002\"\n        ],\n        \"semantic_type\": \"\",\n        \"description\": \"\"\n      }\n    }\n  ]\n}"
            }
          },
          "metadata": {}
        }
      ]
    },
    {
      "cell_type": "code",
      "source": [
        "# 주어진 전체기간동안 골득점을 한 선수가 가장 많은 나라 상위 5개 국가와\n",
        "# 그 선수 숫자를 데이터 프레임 형식으로  출력하라\n",
        "\n",
        "result = df.groupby('Country').size().sort_values(ascending=False).head(5)\n",
        "display(result)"
      ],
      "metadata": {
        "colab": {
          "base_uri": "https://localhost:8080/",
          "height": 142
        },
        "id": "O0lX-nJVJYIq",
        "outputId": "0025a94d-c66b-4301-e902-d61dae4609ca"
      },
      "execution_count": 109,
      "outputs": [
        {
          "output_type": "display_data",
          "data": {
            "text/plain": [
              "Country\n",
              "Brazil       81\n",
              "Germany      78\n",
              "Italy        60\n",
              "Argentina    59\n",
              "France       58\n",
              "dtype: int64"
            ]
          },
          "metadata": {}
        }
      ]
    },
    {
      "cell_type": "code",
      "source": [
        "# Years 컬럼은 년도-년도 형식으로 구성되어있고, 각 년도는 4자리 숫자이다.\n",
        "# 년도 표기가 4자리 숫자로 안된 케이스가 존재한다. 해당 건은 몇건인지 출력하라\n",
        "\n",
        "df['YearLst'] = df.Years.str.split('-')\n",
        "\n",
        "def check(x):\n",
        "  for value in x:\n",
        "    if len(value) != 4:\n",
        "      return False\n",
        "    return True\n",
        "\n",
        "df['check'] = df['yearLst'].apply(check)\n",
        "result = len(df[df.check==False])\n",
        "print(result)"
      ],
      "metadata": {
        "colab": {
          "base_uri": "https://localhost:8080/"
        },
        "id": "Qr1naYoxJYJy",
        "outputId": "cb3f85a4-255e-4d99-d0db-0fae83880661"
      },
      "execution_count": 110,
      "outputs": [
        {
          "output_type": "stream",
          "name": "stdout",
          "text": [
            "45\n"
          ]
        }
      ]
    },
    {
      "cell_type": "code",
      "source": [
        "# **Q3에서 발생한 예외 케이스를 제외한 데이터프레임을 df2라고 정의하고\n",
        "# 데이터의 행의 숫자를 출력하라 (아래 문제부터는 df2로 풀이하겠습니다) **\n",
        "\n",
        "df2 = df[df.check==True].reset_index(drop=True)\n",
        "print(df2.shape[0])"
      ],
      "metadata": {
        "colab": {
          "base_uri": "https://localhost:8080/"
        },
        "id": "kQKHo2UyJYOR",
        "outputId": "27a2fc4d-eba3-42ae-c1ce-d9094741234c"
      },
      "execution_count": 113,
      "outputs": [
        {
          "output_type": "stream",
          "name": "stdout",
          "text": [
            "1250\n"
          ]
        }
      ]
    },
    {
      "cell_type": "code",
      "source": [
        "# 월드컵 출전횟수를 나타내는 ‘LenCup’ 컬럼을 추가하고 4회 출전한 선수의 숫자를 구하여라\n",
        "\n",
        "df2['LenCup'] = df2['YearLst'].str.len()\n",
        "result = df2['LenCup'].value_counts()[4]\n",
        "print(result)"
      ],
      "metadata": {
        "colab": {
          "base_uri": "https://localhost:8080/"
        },
        "id": "KYrMmtACJYQz",
        "outputId": "28ff4b2f-fb1c-4476-ac18-42e0b83c302e"
      },
      "execution_count": 114,
      "outputs": [
        {
          "output_type": "stream",
          "name": "stdout",
          "text": [
            "16\n"
          ]
        }
      ]
    },
    {
      "cell_type": "code",
      "source": [
        "# Yugoslavia 국가의 월드컵 출전횟수가 2회인 선수들의 숫자를 구하여라\n",
        "\n",
        "result = len(df2[(df2.LenCup == 2)&(df2.Country=='Yugoslavia')])\n",
        "print(result)"
      ],
      "metadata": {
        "colab": {
          "base_uri": "https://localhost:8080/"
        },
        "id": "yjp5lYykJYTg",
        "outputId": "a538fe41-b1d7-4e4a-b855-265856271a45"
      },
      "execution_count": 115,
      "outputs": [
        {
          "output_type": "stream",
          "name": "stdout",
          "text": [
            "7\n"
          ]
        }
      ]
    },
    {
      "cell_type": "code",
      "source": [
        "# 2002년도에 출전한 전체 선수는 몇명인가?\n",
        "\n",
        "result = len(df2[df2.Years.str.contains('2002')])\n",
        "print(result)"
      ],
      "metadata": {
        "colab": {
          "base_uri": "https://localhost:8080/"
        },
        "id": "aY-6Ae9WJYW3",
        "outputId": "75fba7f1-407d-4d32-8f3b-601dbfeca12c"
      },
      "execution_count": 116,
      "outputs": [
        {
          "output_type": "stream",
          "name": "stdout",
          "text": [
            "156\n"
          ]
        }
      ]
    },
    {
      "cell_type": "code",
      "source": [
        "# 이름에 ‘carlos’ 단어가 들어가는 선수의 숫자는 몇 명인가? (대, 소문자 구분 x)\n",
        "\n",
        "result = len(df2[df2.Player.str.lower().str.contains('carlos')])\n",
        "print(result)"
      ],
      "metadata": {
        "colab": {
          "base_uri": "https://localhost:8080/"
        },
        "id": "TP9SPU6JJkI8",
        "outputId": "3eadafb1-ae93-4cb9-ac63-b972c2d856fe"
      },
      "execution_count": 118,
      "outputs": [
        {
          "output_type": "stream",
          "name": "stdout",
          "text": [
            "13\n"
          ]
        }
      ]
    },
    {
      "cell_type": "code",
      "source": [
        "# 월드컵 출전 횟수가 1회뿐인 선수들 중에서 가장 많은 득점을 올렸던 선수는 누구인가?\n",
        "\n",
        "result = df2[df2.LenCup == 1].sort_values('Goals', ascending=False).Player.values[0]\n",
        "print(result)"
      ],
      "metadata": {
        "colab": {
          "base_uri": "https://localhost:8080/"
        },
        "id": "2hb1bONuJoAj",
        "outputId": "786457ce-1a38-4d28-ba88-d7e5383a58a3"
      },
      "execution_count": 119,
      "outputs": [
        {
          "output_type": "stream",
          "name": "stdout",
          "text": [
            "Just Fontaine\n"
          ]
        }
      ]
    },
    {
      "cell_type": "code",
      "source": [
        "# 월드컵 출전횟수가 1회 뿐인 선수들이 가장 많은 국가는 어디인가?\n",
        "\n",
        "result = df2[df2.LenCup==1].Country.value_counts().index[0]\n",
        "print(result)"
      ],
      "metadata": {
        "colab": {
          "base_uri": "https://localhost:8080/"
        },
        "id": "DIu1sjrRJoDF",
        "outputId": "3fb7ec87-2c3e-48a6-8967-7e4a76ac0a0d"
      },
      "execution_count": 121,
      "outputs": [
        {
          "output_type": "stream",
          "name": "stdout",
          "text": [
            "Brazil\n"
          ]
        }
      ]
    },
    {
      "cell_type": "code",
      "source": [
        "import pandas as pd\n",
        "df =pd.read_csv('https://raw.githubusercontent.com/Datamanim/datarepo/main/bicycle/seoul_bi.csv')"
      ],
      "metadata": {
        "id": "2ymAtZvhJoFi"
      },
      "execution_count": 32,
      "outputs": []
    },
    {
      "cell_type": "code",
      "source": [
        "# 대여일자별 데이터의 수를 데이터프레임으로 출력하고, 가장 많은 데이터가 있는 날짜를 출력하라\n",
        "\n",
        "result = df['대여일자'].value_counts().sort_index().to_frame(name='count')\n",
        "answer = result[result['count'] == result['count'].max()].index[0]\n",
        "print(answer)\n",
        "display(result)"
      ],
      "metadata": {
        "colab": {
          "base_uri": "https://localhost:8080/",
          "height": 538
        },
        "id": "pDnorfBJRGQ1",
        "outputId": "e4b3a7f9-b4f8-4301-f792-df176254e1e1"
      },
      "execution_count": 5,
      "outputs": [
        {
          "output_type": "stream",
          "name": "stdout",
          "text": [
            "2021-06-04\n"
          ]
        },
        {
          "output_type": "display_data",
          "data": {
            "text/plain": [
              "            count\n",
              "대여일자             \n",
              "2021-06-01  48081\n",
              "2021-06-02  56100\n",
              "2021-06-03  18985\n",
              "2021-06-04  56788\n",
              "2021-06-05  52730\n",
              "2021-06-06  47787\n",
              "2021-06-07  52623\n",
              "2021-06-08  55623\n",
              "2021-06-09  54507\n",
              "2021-06-10  36992\n",
              "2021-06-11  52089\n",
              "2021-06-12  48569\n",
              "2021-06-13  43131\n",
              "2021-06-14  54945"
            ],
            "text/html": [
              "\n",
              "  <div id=\"df-1741cb94-b1ff-48fa-9935-aa78b92a933d\" class=\"colab-df-container\">\n",
              "    <div>\n",
              "<style scoped>\n",
              "    .dataframe tbody tr th:only-of-type {\n",
              "        vertical-align: middle;\n",
              "    }\n",
              "\n",
              "    .dataframe tbody tr th {\n",
              "        vertical-align: top;\n",
              "    }\n",
              "\n",
              "    .dataframe thead th {\n",
              "        text-align: right;\n",
              "    }\n",
              "</style>\n",
              "<table border=\"1\" class=\"dataframe\">\n",
              "  <thead>\n",
              "    <tr style=\"text-align: right;\">\n",
              "      <th></th>\n",
              "      <th>count</th>\n",
              "    </tr>\n",
              "    <tr>\n",
              "      <th>대여일자</th>\n",
              "      <th></th>\n",
              "    </tr>\n",
              "  </thead>\n",
              "  <tbody>\n",
              "    <tr>\n",
              "      <th>2021-06-01</th>\n",
              "      <td>48081</td>\n",
              "    </tr>\n",
              "    <tr>\n",
              "      <th>2021-06-02</th>\n",
              "      <td>56100</td>\n",
              "    </tr>\n",
              "    <tr>\n",
              "      <th>2021-06-03</th>\n",
              "      <td>18985</td>\n",
              "    </tr>\n",
              "    <tr>\n",
              "      <th>2021-06-04</th>\n",
              "      <td>56788</td>\n",
              "    </tr>\n",
              "    <tr>\n",
              "      <th>2021-06-05</th>\n",
              "      <td>52730</td>\n",
              "    </tr>\n",
              "    <tr>\n",
              "      <th>2021-06-06</th>\n",
              "      <td>47787</td>\n",
              "    </tr>\n",
              "    <tr>\n",
              "      <th>2021-06-07</th>\n",
              "      <td>52623</td>\n",
              "    </tr>\n",
              "    <tr>\n",
              "      <th>2021-06-08</th>\n",
              "      <td>55623</td>\n",
              "    </tr>\n",
              "    <tr>\n",
              "      <th>2021-06-09</th>\n",
              "      <td>54507</td>\n",
              "    </tr>\n",
              "    <tr>\n",
              "      <th>2021-06-10</th>\n",
              "      <td>36992</td>\n",
              "    </tr>\n",
              "    <tr>\n",
              "      <th>2021-06-11</th>\n",
              "      <td>52089</td>\n",
              "    </tr>\n",
              "    <tr>\n",
              "      <th>2021-06-12</th>\n",
              "      <td>48569</td>\n",
              "    </tr>\n",
              "    <tr>\n",
              "      <th>2021-06-13</th>\n",
              "      <td>43131</td>\n",
              "    </tr>\n",
              "    <tr>\n",
              "      <th>2021-06-14</th>\n",
              "      <td>54945</td>\n",
              "    </tr>\n",
              "  </tbody>\n",
              "</table>\n",
              "</div>\n",
              "    <div class=\"colab-df-buttons\">\n",
              "\n",
              "  <div class=\"colab-df-container\">\n",
              "    <button class=\"colab-df-convert\" onclick=\"convertToInteractive('df-1741cb94-b1ff-48fa-9935-aa78b92a933d')\"\n",
              "            title=\"Convert this dataframe to an interactive table.\"\n",
              "            style=\"display:none;\">\n",
              "\n",
              "  <svg xmlns=\"http://www.w3.org/2000/svg\" height=\"24px\" viewBox=\"0 -960 960 960\">\n",
              "    <path d=\"M120-120v-720h720v720H120Zm60-500h600v-160H180v160Zm220 220h160v-160H400v160Zm0 220h160v-160H400v160ZM180-400h160v-160H180v160Zm440 0h160v-160H620v160ZM180-180h160v-160H180v160Zm440 0h160v-160H620v160Z\"/>\n",
              "  </svg>\n",
              "    </button>\n",
              "\n",
              "  <style>\n",
              "    .colab-df-container {\n",
              "      display:flex;\n",
              "      gap: 12px;\n",
              "    }\n",
              "\n",
              "    .colab-df-convert {\n",
              "      background-color: #E8F0FE;\n",
              "      border: none;\n",
              "      border-radius: 50%;\n",
              "      cursor: pointer;\n",
              "      display: none;\n",
              "      fill: #1967D2;\n",
              "      height: 32px;\n",
              "      padding: 0 0 0 0;\n",
              "      width: 32px;\n",
              "    }\n",
              "\n",
              "    .colab-df-convert:hover {\n",
              "      background-color: #E2EBFA;\n",
              "      box-shadow: 0px 1px 2px rgba(60, 64, 67, 0.3), 0px 1px 3px 1px rgba(60, 64, 67, 0.15);\n",
              "      fill: #174EA6;\n",
              "    }\n",
              "\n",
              "    .colab-df-buttons div {\n",
              "      margin-bottom: 4px;\n",
              "    }\n",
              "\n",
              "    [theme=dark] .colab-df-convert {\n",
              "      background-color: #3B4455;\n",
              "      fill: #D2E3FC;\n",
              "    }\n",
              "\n",
              "    [theme=dark] .colab-df-convert:hover {\n",
              "      background-color: #434B5C;\n",
              "      box-shadow: 0px 1px 3px 1px rgba(0, 0, 0, 0.15);\n",
              "      filter: drop-shadow(0px 1px 2px rgba(0, 0, 0, 0.3));\n",
              "      fill: #FFFFFF;\n",
              "    }\n",
              "  </style>\n",
              "\n",
              "    <script>\n",
              "      const buttonEl =\n",
              "        document.querySelector('#df-1741cb94-b1ff-48fa-9935-aa78b92a933d button.colab-df-convert');\n",
              "      buttonEl.style.display =\n",
              "        google.colab.kernel.accessAllowed ? 'block' : 'none';\n",
              "\n",
              "      async function convertToInteractive(key) {\n",
              "        const element = document.querySelector('#df-1741cb94-b1ff-48fa-9935-aa78b92a933d');\n",
              "        const dataTable =\n",
              "          await google.colab.kernel.invokeFunction('convertToInteractive',\n",
              "                                                    [key], {});\n",
              "        if (!dataTable) return;\n",
              "\n",
              "        const docLinkHtml = 'Like what you see? Visit the ' +\n",
              "          '<a target=\"_blank\" href=https://colab.research.google.com/notebooks/data_table.ipynb>data table notebook</a>'\n",
              "          + ' to learn more about interactive tables.';\n",
              "        element.innerHTML = '';\n",
              "        dataTable['output_type'] = 'display_data';\n",
              "        await google.colab.output.renderOutput(dataTable, element);\n",
              "        const docLink = document.createElement('div');\n",
              "        docLink.innerHTML = docLinkHtml;\n",
              "        element.appendChild(docLink);\n",
              "      }\n",
              "    </script>\n",
              "  </div>\n",
              "\n",
              "\n",
              "<div id=\"df-7780314c-3956-46de-a0c8-5150f601698c\">\n",
              "  <button class=\"colab-df-quickchart\" onclick=\"quickchart('df-7780314c-3956-46de-a0c8-5150f601698c')\"\n",
              "            title=\"Suggest charts\"\n",
              "            style=\"display:none;\">\n",
              "\n",
              "<svg xmlns=\"http://www.w3.org/2000/svg\" height=\"24px\"viewBox=\"0 0 24 24\"\n",
              "     width=\"24px\">\n",
              "    <g>\n",
              "        <path d=\"M19 3H5c-1.1 0-2 .9-2 2v14c0 1.1.9 2 2 2h14c1.1 0 2-.9 2-2V5c0-1.1-.9-2-2-2zM9 17H7v-7h2v7zm4 0h-2V7h2v10zm4 0h-2v-4h2v4z\"/>\n",
              "    </g>\n",
              "</svg>\n",
              "  </button>\n",
              "\n",
              "<style>\n",
              "  .colab-df-quickchart {\n",
              "      --bg-color: #E8F0FE;\n",
              "      --fill-color: #1967D2;\n",
              "      --hover-bg-color: #E2EBFA;\n",
              "      --hover-fill-color: #174EA6;\n",
              "      --disabled-fill-color: #AAA;\n",
              "      --disabled-bg-color: #DDD;\n",
              "  }\n",
              "\n",
              "  [theme=dark] .colab-df-quickchart {\n",
              "      --bg-color: #3B4455;\n",
              "      --fill-color: #D2E3FC;\n",
              "      --hover-bg-color: #434B5C;\n",
              "      --hover-fill-color: #FFFFFF;\n",
              "      --disabled-bg-color: #3B4455;\n",
              "      --disabled-fill-color: #666;\n",
              "  }\n",
              "\n",
              "  .colab-df-quickchart {\n",
              "    background-color: var(--bg-color);\n",
              "    border: none;\n",
              "    border-radius: 50%;\n",
              "    cursor: pointer;\n",
              "    display: none;\n",
              "    fill: var(--fill-color);\n",
              "    height: 32px;\n",
              "    padding: 0;\n",
              "    width: 32px;\n",
              "  }\n",
              "\n",
              "  .colab-df-quickchart:hover {\n",
              "    background-color: var(--hover-bg-color);\n",
              "    box-shadow: 0 1px 2px rgba(60, 64, 67, 0.3), 0 1px 3px 1px rgba(60, 64, 67, 0.15);\n",
              "    fill: var(--button-hover-fill-color);\n",
              "  }\n",
              "\n",
              "  .colab-df-quickchart-complete:disabled,\n",
              "  .colab-df-quickchart-complete:disabled:hover {\n",
              "    background-color: var(--disabled-bg-color);\n",
              "    fill: var(--disabled-fill-color);\n",
              "    box-shadow: none;\n",
              "  }\n",
              "\n",
              "  .colab-df-spinner {\n",
              "    border: 2px solid var(--fill-color);\n",
              "    border-color: transparent;\n",
              "    border-bottom-color: var(--fill-color);\n",
              "    animation:\n",
              "      spin 1s steps(1) infinite;\n",
              "  }\n",
              "\n",
              "  @keyframes spin {\n",
              "    0% {\n",
              "      border-color: transparent;\n",
              "      border-bottom-color: var(--fill-color);\n",
              "      border-left-color: var(--fill-color);\n",
              "    }\n",
              "    20% {\n",
              "      border-color: transparent;\n",
              "      border-left-color: var(--fill-color);\n",
              "      border-top-color: var(--fill-color);\n",
              "    }\n",
              "    30% {\n",
              "      border-color: transparent;\n",
              "      border-left-color: var(--fill-color);\n",
              "      border-top-color: var(--fill-color);\n",
              "      border-right-color: var(--fill-color);\n",
              "    }\n",
              "    40% {\n",
              "      border-color: transparent;\n",
              "      border-right-color: var(--fill-color);\n",
              "      border-top-color: var(--fill-color);\n",
              "    }\n",
              "    60% {\n",
              "      border-color: transparent;\n",
              "      border-right-color: var(--fill-color);\n",
              "    }\n",
              "    80% {\n",
              "      border-color: transparent;\n",
              "      border-right-color: var(--fill-color);\n",
              "      border-bottom-color: var(--fill-color);\n",
              "    }\n",
              "    90% {\n",
              "      border-color: transparent;\n",
              "      border-bottom-color: var(--fill-color);\n",
              "    }\n",
              "  }\n",
              "</style>\n",
              "\n",
              "  <script>\n",
              "    async function quickchart(key) {\n",
              "      const quickchartButtonEl =\n",
              "        document.querySelector('#' + key + ' button');\n",
              "      quickchartButtonEl.disabled = true;  // To prevent multiple clicks.\n",
              "      quickchartButtonEl.classList.add('colab-df-spinner');\n",
              "      try {\n",
              "        const charts = await google.colab.kernel.invokeFunction(\n",
              "            'suggestCharts', [key], {});\n",
              "      } catch (error) {\n",
              "        console.error('Error during call to suggestCharts:', error);\n",
              "      }\n",
              "      quickchartButtonEl.classList.remove('colab-df-spinner');\n",
              "      quickchartButtonEl.classList.add('colab-df-quickchart-complete');\n",
              "    }\n",
              "    (() => {\n",
              "      let quickchartButtonEl =\n",
              "        document.querySelector('#df-7780314c-3956-46de-a0c8-5150f601698c button');\n",
              "      quickchartButtonEl.style.display =\n",
              "        google.colab.kernel.accessAllowed ? 'block' : 'none';\n",
              "    })();\n",
              "  </script>\n",
              "</div>\n",
              "\n",
              "  <div id=\"id_55d43f78-14ce-4fab-ae53-5ed80af89aec\">\n",
              "    <style>\n",
              "      .colab-df-generate {\n",
              "        background-color: #E8F0FE;\n",
              "        border: none;\n",
              "        border-radius: 50%;\n",
              "        cursor: pointer;\n",
              "        display: none;\n",
              "        fill: #1967D2;\n",
              "        height: 32px;\n",
              "        padding: 0 0 0 0;\n",
              "        width: 32px;\n",
              "      }\n",
              "\n",
              "      .colab-df-generate:hover {\n",
              "        background-color: #E2EBFA;\n",
              "        box-shadow: 0px 1px 2px rgba(60, 64, 67, 0.3), 0px 1px 3px 1px rgba(60, 64, 67, 0.15);\n",
              "        fill: #174EA6;\n",
              "      }\n",
              "\n",
              "      [theme=dark] .colab-df-generate {\n",
              "        background-color: #3B4455;\n",
              "        fill: #D2E3FC;\n",
              "      }\n",
              "\n",
              "      [theme=dark] .colab-df-generate:hover {\n",
              "        background-color: #434B5C;\n",
              "        box-shadow: 0px 1px 3px 1px rgba(0, 0, 0, 0.15);\n",
              "        filter: drop-shadow(0px 1px 2px rgba(0, 0, 0, 0.3));\n",
              "        fill: #FFFFFF;\n",
              "      }\n",
              "    </style>\n",
              "    <button class=\"colab-df-generate\" onclick=\"generateWithVariable('result')\"\n",
              "            title=\"Generate code using this dataframe.\"\n",
              "            style=\"display:none;\">\n",
              "\n",
              "  <svg xmlns=\"http://www.w3.org/2000/svg\" height=\"24px\"viewBox=\"0 0 24 24\"\n",
              "       width=\"24px\">\n",
              "    <path d=\"M7,19H8.4L18.45,9,17,7.55,7,17.6ZM5,21V16.75L18.45,3.32a2,2,0,0,1,2.83,0l1.4,1.43a1.91,1.91,0,0,1,.58,1.4,1.91,1.91,0,0,1-.58,1.4L9.25,21ZM18.45,9,17,7.55Zm-12,3A5.31,5.31,0,0,0,4.9,8.1,5.31,5.31,0,0,0,1,6.5,5.31,5.31,0,0,0,4.9,4.9,5.31,5.31,0,0,0,6.5,1,5.31,5.31,0,0,0,8.1,4.9,5.31,5.31,0,0,0,12,6.5,5.46,5.46,0,0,0,6.5,12Z\"/>\n",
              "  </svg>\n",
              "    </button>\n",
              "    <script>\n",
              "      (() => {\n",
              "      const buttonEl =\n",
              "        document.querySelector('#id_55d43f78-14ce-4fab-ae53-5ed80af89aec button.colab-df-generate');\n",
              "      buttonEl.style.display =\n",
              "        google.colab.kernel.accessAllowed ? 'block' : 'none';\n",
              "\n",
              "      buttonEl.onclick = () => {\n",
              "        google.colab.notebook.generateWithVariable('result');\n",
              "      }\n",
              "      })();\n",
              "    </script>\n",
              "  </div>\n",
              "\n",
              "    </div>\n",
              "  </div>\n"
            ],
            "application/vnd.google.colaboratory.intrinsic+json": {
              "type": "dataframe",
              "variable_name": "result",
              "summary": "{\n  \"name\": \"result\",\n  \"rows\": 14,\n  \"fields\": [\n    {\n      \"column\": \"\\ub300\\uc5ec\\uc77c\\uc790\",\n      \"properties\": {\n        \"dtype\": \"object\",\n        \"num_unique_values\": 14,\n        \"samples\": [\n          \"2021-06-10\",\n          \"2021-06-12\",\n          \"2021-06-01\"\n        ],\n        \"semantic_type\": \"\",\n        \"description\": \"\"\n      }\n    },\n    {\n      \"column\": \"count\",\n      \"properties\": {\n        \"dtype\": \"number\",\n        \"std\": 10136,\n        \"min\": 18985,\n        \"max\": 56788,\n        \"num_unique_values\": 14,\n        \"samples\": [\n          36992,\n          48569,\n          48081\n        ],\n        \"semantic_type\": \"\",\n        \"description\": \"\"\n      }\n    }\n  ]\n}"
            }
          },
          "metadata": {}
        }
      ]
    },
    {
      "cell_type": "code",
      "source": [
        "# 각 일자의 요일을 표기하고 (‘Monday’ ~’Sunday’) ‘day_name’컬럼을 추가하고\n",
        "# 이를 이용하여 각 요일별 이용 횟수의 총합을 데이터 프레임으로  출력하라\n",
        "\n",
        "df['대여일자'] = pd.to_datetime(df['대여일자'])\n",
        "df['day_name'] = df['대여일자'].dt.day_name()\n",
        "result = df.day_name.value_counts().to_frame()\n",
        "print(result)"
      ],
      "metadata": {
        "colab": {
          "base_uri": "https://localhost:8080/"
        },
        "id": "7x3ul-UYRGWA",
        "outputId": "56520e95-3789-4bb1-9bbf-ef333a8002a5"
      },
      "execution_count": 7,
      "outputs": [
        {
          "output_type": "stream",
          "name": "stdout",
          "text": [
            "            count\n",
            "day_name         \n",
            "Wednesday  110607\n",
            "Friday     108877\n",
            "Monday     107568\n",
            "Tuesday    103704\n",
            "Saturday   101299\n",
            "Sunday      90918\n",
            "Thursday    55977\n"
          ]
        }
      ]
    },
    {
      "cell_type": "code",
      "source": [
        "# 각 요일별 가장 많이 이용한 대여소의 이용횟수와 대여소 번호를 데이터 프레임으로 출력하라\n",
        "\n",
        "result = df.groupby(['day_name', '대여소번호']).size().to_frame('size').sort_values(['day_name','size'], ascending=False).reset_index()\n",
        "result = result.drop_duplicates('day_name', keep='first').reset_index(drop=True)\n",
        "print(result)"
      ],
      "metadata": {
        "colab": {
          "base_uri": "https://localhost:8080/"
        },
        "id": "bY_z9Nh7RGba",
        "outputId": "374d77b5-d25a-4799-d086-ac1e2f193d5a"
      },
      "execution_count": 9,
      "outputs": [
        {
          "output_type": "stream",
          "name": "stdout",
          "text": [
            "    day_name  대여소번호  size\n",
            "0  Wednesday    502   282\n",
            "1    Tuesday    502   267\n",
            "2   Thursday   2715   137\n",
            "3     Sunday    502   372\n",
            "4   Saturday    502   378\n",
            "5     Monday    502   242\n",
            "6     Friday    502   277\n"
          ]
        }
      ]
    },
    {
      "cell_type": "code",
      "source": [
        "# 나이대별 대여구분 코드의 (일일권/전체횟수) 비율을 구한 후\n",
        "# 가장 높은 비율을 가지는 나이대를 확인하라.\n",
        "# 일일권의 경우 일일권 과 일일권(비회원)을 모두 포함하라\n",
        "\n",
        "daily = df[df.대여구분코드.isin(['일일권','일일권(비회원)'])].연령대코드.value_counts().sort_index()\n",
        "total = df.연령대코드.value_counts().sort_index()\n",
        "ratio = (daily/total).sort_values(ascending=False)\n",
        "print(ratio)\n",
        "print('max',ratio.index[0])"
      ],
      "metadata": {
        "colab": {
          "base_uri": "https://localhost:8080/"
        },
        "id": "t4KkWcflRGeH",
        "outputId": "e7aadf0c-83fc-474b-a9e6-94b6d2ebcab6"
      },
      "execution_count": 10,
      "outputs": [
        {
          "output_type": "stream",
          "name": "stdout",
          "text": [
            "연령대코드\n",
            "~10대    0.312525\n",
            "20대     0.239913\n",
            "30대     0.166702\n",
            "40대     0.110585\n",
            "50대     0.065414\n",
            "70대~    0.048962\n",
            "60대     0.042462\n",
            "Name: count, dtype: float64\n",
            "max ~10대\n"
          ]
        }
      ]
    },
    {
      "cell_type": "code",
      "source": [
        "# 연령대별 평균 이동거리를 구하여라\n",
        "\n",
        "result = df[['연령대코드','이동거리']].groupby(['연령대코드']).mean()\n",
        "print(result)"
      ],
      "metadata": {
        "colab": {
          "base_uri": "https://localhost:8080/"
        },
        "id": "so5Xi_mARGg8",
        "outputId": "06ebaeb6-c331-4aaa-ec7b-16fb45832308"
      },
      "execution_count": 12,
      "outputs": [
        {
          "output_type": "stream",
          "name": "stdout",
          "text": [
            "              이동거리\n",
            "연령대코드             \n",
            "20대    3211.890552\n",
            "30대    3341.443859\n",
            "40대    3514.857416\n",
            "50대    3593.668100\n",
            "60대    3538.145737\n",
            "70대~   3085.039641\n",
            "~10대   2634.426279\n"
          ]
        }
      ]
    },
    {
      "cell_type": "code",
      "source": [
        "# 연령대 코드가 20대인 데이터를 추출하고,\n",
        "# 이동거리값이 추출한 데이터의 이동거리값의 평균 이상인 데이터를 추출한다.\n",
        "# 최종 추출된 데이터를 대여일자, 대여소 번호 순서로\n",
        "# 내림차순 정렬 후 1행부터 200행까지의 탄소량의 평균을 소숫점 3째 자리까지 구하여라\n",
        "\n",
        "tw = df[df['연령대코드']=='20대'].reset_index(drop=True)\n",
        "tw_mean = tw[tw.이동거리 >= tw.이동거리.mean()].reset_index(drop=True)\n",
        "tw_mean['탄소량'] = tw_mean['탄소량'].astype('float')\n",
        "target = tw_mean.sort_values(['대여일자','대여소번호'],ascending=False).reset_index(drop=True).iloc[:200].탄소량\n",
        "result = round(target.sum()/len(target),3)\n",
        "print(result)"
      ],
      "metadata": {
        "colab": {
          "base_uri": "https://localhost:8080/"
        },
        "id": "PaLWY3tNRGko",
        "outputId": "b023099e-ff45-4b8f-aaae-2e2e07b5b476"
      },
      "execution_count": 16,
      "outputs": [
        {
          "output_type": "stream",
          "name": "stdout",
          "text": [
            "1.613\n"
          ]
        }
      ]
    },
    {
      "cell_type": "code",
      "source": [
        "# 6월 7일 ~10대의 “이용건수”의 중앙값은?\n",
        "\n",
        "df['대여일자'] = pd.to_datetime(df['대여일자'])\n",
        "result = df[(df.대여일자=='2021-06-07')&(df.연령대코드 == '~10대')].이용건수.median()\n",
        "print(result)"
      ],
      "metadata": {
        "colab": {
          "base_uri": "https://localhost:8080/"
        },
        "id": "P3DiOKaLRGm8",
        "outputId": "b1432d08-a0ae-4fa5-d2d0-4baa64ae8922"
      },
      "execution_count": 19,
      "outputs": [
        {
          "output_type": "stream",
          "name": "stdout",
          "text": [
            "1.0\n"
          ]
        }
      ]
    },
    {
      "cell_type": "code",
      "source": [
        "# 평일 (월~금) 출근 시간대(오전 6,7,8시)의 대여소별 이용 횟수를 구해서\n",
        "# 데이터 프레임 형태로 표현한 후 각 대여시간별 이용 횟수의 상위 3개 대여소와 이용횟수를 출력하라\n",
        "\n",
        "target = df[(df.day_name.isin(['Tuesday', 'Wednesday', 'Thursday', 'Friday','Monday']))&(df.대여시간.isin([6,7,8]))]\n",
        "result = target.groupby(['대여시간','대여소번호']).size().to_frame('이용횟수')\n",
        "result = result.sort_values(['대여시간','이용횟수'], ascending=False).groupby('대여시간').head(3)\n",
        "print(result)"
      ],
      "metadata": {
        "colab": {
          "base_uri": "https://localhost:8080/"
        },
        "id": "KJUltiIQRGqD",
        "outputId": "ec78d1a0-f43d-465d-fc96-37744d8762f5"
      },
      "execution_count": 23,
      "outputs": [
        {
          "output_type": "stream",
          "name": "stdout",
          "text": [
            "            이용횟수\n",
            "대여시간 대여소번호      \n",
            "8    2701    119\n",
            "     646     115\n",
            "     1152     92\n",
            "7    259     104\n",
            "     230      77\n",
            "     726      77\n",
            "6    2744     45\n",
            "     1125     40\n",
            "     1028     36\n"
          ]
        }
      ]
    },
    {
      "cell_type": "code",
      "source": [
        "# 이동거리의 평균 이상의 이동거리 값을 가지는 데이터를 추출하여\n",
        "# 추출데이터의 이동거리의 표본표준편차 값을 구하여라\n",
        "\n",
        "result = df[df.이동거리 >= df.이동거리.mean()].reset_index(drop=True).이동거리.std()\n",
        "print(result)"
      ],
      "metadata": {
        "colab": {
          "base_uri": "https://localhost:8080/"
        },
        "id": "LwPO0cGWRGs3",
        "outputId": "87925a73-695c-4c4f-bad8-a290acd547a8"
      },
      "execution_count": 24,
      "outputs": [
        {
          "output_type": "stream",
          "name": "stdout",
          "text": [
            "5092.139707505356\n"
          ]
        }
      ]
    },
    {
      "cell_type": "code",
      "source": [
        "# 남성(‘M’ or ‘m’)과 여성(‘F’ or ‘f’)의 이동거리값의 평균값을 구하여라\n",
        "\n",
        "df['sex'] = df['성별'].map(lambda x: '남' if x in ['M','m'] else '여')\n",
        "result = df[['sex','이동거리']].groupby('sex').mean()\n",
        "display(result)"
      ],
      "metadata": {
        "colab": {
          "base_uri": "https://localhost:8080/",
          "height": 143
        },
        "id": "xaoUxRX5RGwT",
        "outputId": "2539aa0f-ba95-4a9b-cb31-899ad3239fb2"
      },
      "execution_count": 33,
      "outputs": [
        {
          "output_type": "display_data",
          "data": {
            "text/plain": [
              "            이동거리\n",
              "sex             \n",
              "남    3209.110871\n",
              "여    3468.575025"
            ],
            "text/html": [
              "\n",
              "  <div id=\"df-acf2d29a-daf9-47b8-87c8-ac897c0e6140\" class=\"colab-df-container\">\n",
              "    <div>\n",
              "<style scoped>\n",
              "    .dataframe tbody tr th:only-of-type {\n",
              "        vertical-align: middle;\n",
              "    }\n",
              "\n",
              "    .dataframe tbody tr th {\n",
              "        vertical-align: top;\n",
              "    }\n",
              "\n",
              "    .dataframe thead th {\n",
              "        text-align: right;\n",
              "    }\n",
              "</style>\n",
              "<table border=\"1\" class=\"dataframe\">\n",
              "  <thead>\n",
              "    <tr style=\"text-align: right;\">\n",
              "      <th></th>\n",
              "      <th>이동거리</th>\n",
              "    </tr>\n",
              "    <tr>\n",
              "      <th>sex</th>\n",
              "      <th></th>\n",
              "    </tr>\n",
              "  </thead>\n",
              "  <tbody>\n",
              "    <tr>\n",
              "      <th>남</th>\n",
              "      <td>3209.110871</td>\n",
              "    </tr>\n",
              "    <tr>\n",
              "      <th>여</th>\n",
              "      <td>3468.575025</td>\n",
              "    </tr>\n",
              "  </tbody>\n",
              "</table>\n",
              "</div>\n",
              "    <div class=\"colab-df-buttons\">\n",
              "\n",
              "  <div class=\"colab-df-container\">\n",
              "    <button class=\"colab-df-convert\" onclick=\"convertToInteractive('df-acf2d29a-daf9-47b8-87c8-ac897c0e6140')\"\n",
              "            title=\"Convert this dataframe to an interactive table.\"\n",
              "            style=\"display:none;\">\n",
              "\n",
              "  <svg xmlns=\"http://www.w3.org/2000/svg\" height=\"24px\" viewBox=\"0 -960 960 960\">\n",
              "    <path d=\"M120-120v-720h720v720H120Zm60-500h600v-160H180v160Zm220 220h160v-160H400v160Zm0 220h160v-160H400v160ZM180-400h160v-160H180v160Zm440 0h160v-160H620v160ZM180-180h160v-160H180v160Zm440 0h160v-160H620v160Z\"/>\n",
              "  </svg>\n",
              "    </button>\n",
              "\n",
              "  <style>\n",
              "    .colab-df-container {\n",
              "      display:flex;\n",
              "      gap: 12px;\n",
              "    }\n",
              "\n",
              "    .colab-df-convert {\n",
              "      background-color: #E8F0FE;\n",
              "      border: none;\n",
              "      border-radius: 50%;\n",
              "      cursor: pointer;\n",
              "      display: none;\n",
              "      fill: #1967D2;\n",
              "      height: 32px;\n",
              "      padding: 0 0 0 0;\n",
              "      width: 32px;\n",
              "    }\n",
              "\n",
              "    .colab-df-convert:hover {\n",
              "      background-color: #E2EBFA;\n",
              "      box-shadow: 0px 1px 2px rgba(60, 64, 67, 0.3), 0px 1px 3px 1px rgba(60, 64, 67, 0.15);\n",
              "      fill: #174EA6;\n",
              "    }\n",
              "\n",
              "    .colab-df-buttons div {\n",
              "      margin-bottom: 4px;\n",
              "    }\n",
              "\n",
              "    [theme=dark] .colab-df-convert {\n",
              "      background-color: #3B4455;\n",
              "      fill: #D2E3FC;\n",
              "    }\n",
              "\n",
              "    [theme=dark] .colab-df-convert:hover {\n",
              "      background-color: #434B5C;\n",
              "      box-shadow: 0px 1px 3px 1px rgba(0, 0, 0, 0.15);\n",
              "      filter: drop-shadow(0px 1px 2px rgba(0, 0, 0, 0.3));\n",
              "      fill: #FFFFFF;\n",
              "    }\n",
              "  </style>\n",
              "\n",
              "    <script>\n",
              "      const buttonEl =\n",
              "        document.querySelector('#df-acf2d29a-daf9-47b8-87c8-ac897c0e6140 button.colab-df-convert');\n",
              "      buttonEl.style.display =\n",
              "        google.colab.kernel.accessAllowed ? 'block' : 'none';\n",
              "\n",
              "      async function convertToInteractive(key) {\n",
              "        const element = document.querySelector('#df-acf2d29a-daf9-47b8-87c8-ac897c0e6140');\n",
              "        const dataTable =\n",
              "          await google.colab.kernel.invokeFunction('convertToInteractive',\n",
              "                                                    [key], {});\n",
              "        if (!dataTable) return;\n",
              "\n",
              "        const docLinkHtml = 'Like what you see? Visit the ' +\n",
              "          '<a target=\"_blank\" href=https://colab.research.google.com/notebooks/data_table.ipynb>data table notebook</a>'\n",
              "          + ' to learn more about interactive tables.';\n",
              "        element.innerHTML = '';\n",
              "        dataTable['output_type'] = 'display_data';\n",
              "        await google.colab.output.renderOutput(dataTable, element);\n",
              "        const docLink = document.createElement('div');\n",
              "        docLink.innerHTML = docLinkHtml;\n",
              "        element.appendChild(docLink);\n",
              "      }\n",
              "    </script>\n",
              "  </div>\n",
              "\n",
              "\n",
              "<div id=\"df-c3b9837f-8dd7-439e-879a-b712c3445b1e\">\n",
              "  <button class=\"colab-df-quickchart\" onclick=\"quickchart('df-c3b9837f-8dd7-439e-879a-b712c3445b1e')\"\n",
              "            title=\"Suggest charts\"\n",
              "            style=\"display:none;\">\n",
              "\n",
              "<svg xmlns=\"http://www.w3.org/2000/svg\" height=\"24px\"viewBox=\"0 0 24 24\"\n",
              "     width=\"24px\">\n",
              "    <g>\n",
              "        <path d=\"M19 3H5c-1.1 0-2 .9-2 2v14c0 1.1.9 2 2 2h14c1.1 0 2-.9 2-2V5c0-1.1-.9-2-2-2zM9 17H7v-7h2v7zm4 0h-2V7h2v10zm4 0h-2v-4h2v4z\"/>\n",
              "    </g>\n",
              "</svg>\n",
              "  </button>\n",
              "\n",
              "<style>\n",
              "  .colab-df-quickchart {\n",
              "      --bg-color: #E8F0FE;\n",
              "      --fill-color: #1967D2;\n",
              "      --hover-bg-color: #E2EBFA;\n",
              "      --hover-fill-color: #174EA6;\n",
              "      --disabled-fill-color: #AAA;\n",
              "      --disabled-bg-color: #DDD;\n",
              "  }\n",
              "\n",
              "  [theme=dark] .colab-df-quickchart {\n",
              "      --bg-color: #3B4455;\n",
              "      --fill-color: #D2E3FC;\n",
              "      --hover-bg-color: #434B5C;\n",
              "      --hover-fill-color: #FFFFFF;\n",
              "      --disabled-bg-color: #3B4455;\n",
              "      --disabled-fill-color: #666;\n",
              "  }\n",
              "\n",
              "  .colab-df-quickchart {\n",
              "    background-color: var(--bg-color);\n",
              "    border: none;\n",
              "    border-radius: 50%;\n",
              "    cursor: pointer;\n",
              "    display: none;\n",
              "    fill: var(--fill-color);\n",
              "    height: 32px;\n",
              "    padding: 0;\n",
              "    width: 32px;\n",
              "  }\n",
              "\n",
              "  .colab-df-quickchart:hover {\n",
              "    background-color: var(--hover-bg-color);\n",
              "    box-shadow: 0 1px 2px rgba(60, 64, 67, 0.3), 0 1px 3px 1px rgba(60, 64, 67, 0.15);\n",
              "    fill: var(--button-hover-fill-color);\n",
              "  }\n",
              "\n",
              "  .colab-df-quickchart-complete:disabled,\n",
              "  .colab-df-quickchart-complete:disabled:hover {\n",
              "    background-color: var(--disabled-bg-color);\n",
              "    fill: var(--disabled-fill-color);\n",
              "    box-shadow: none;\n",
              "  }\n",
              "\n",
              "  .colab-df-spinner {\n",
              "    border: 2px solid var(--fill-color);\n",
              "    border-color: transparent;\n",
              "    border-bottom-color: var(--fill-color);\n",
              "    animation:\n",
              "      spin 1s steps(1) infinite;\n",
              "  }\n",
              "\n",
              "  @keyframes spin {\n",
              "    0% {\n",
              "      border-color: transparent;\n",
              "      border-bottom-color: var(--fill-color);\n",
              "      border-left-color: var(--fill-color);\n",
              "    }\n",
              "    20% {\n",
              "      border-color: transparent;\n",
              "      border-left-color: var(--fill-color);\n",
              "      border-top-color: var(--fill-color);\n",
              "    }\n",
              "    30% {\n",
              "      border-color: transparent;\n",
              "      border-left-color: var(--fill-color);\n",
              "      border-top-color: var(--fill-color);\n",
              "      border-right-color: var(--fill-color);\n",
              "    }\n",
              "    40% {\n",
              "      border-color: transparent;\n",
              "      border-right-color: var(--fill-color);\n",
              "      border-top-color: var(--fill-color);\n",
              "    }\n",
              "    60% {\n",
              "      border-color: transparent;\n",
              "      border-right-color: var(--fill-color);\n",
              "    }\n",
              "    80% {\n",
              "      border-color: transparent;\n",
              "      border-right-color: var(--fill-color);\n",
              "      border-bottom-color: var(--fill-color);\n",
              "    }\n",
              "    90% {\n",
              "      border-color: transparent;\n",
              "      border-bottom-color: var(--fill-color);\n",
              "    }\n",
              "  }\n",
              "</style>\n",
              "\n",
              "  <script>\n",
              "    async function quickchart(key) {\n",
              "      const quickchartButtonEl =\n",
              "        document.querySelector('#' + key + ' button');\n",
              "      quickchartButtonEl.disabled = true;  // To prevent multiple clicks.\n",
              "      quickchartButtonEl.classList.add('colab-df-spinner');\n",
              "      try {\n",
              "        const charts = await google.colab.kernel.invokeFunction(\n",
              "            'suggestCharts', [key], {});\n",
              "      } catch (error) {\n",
              "        console.error('Error during call to suggestCharts:', error);\n",
              "      }\n",
              "      quickchartButtonEl.classList.remove('colab-df-spinner');\n",
              "      quickchartButtonEl.classList.add('colab-df-quickchart-complete');\n",
              "    }\n",
              "    (() => {\n",
              "      let quickchartButtonEl =\n",
              "        document.querySelector('#df-c3b9837f-8dd7-439e-879a-b712c3445b1e button');\n",
              "      quickchartButtonEl.style.display =\n",
              "        google.colab.kernel.accessAllowed ? 'block' : 'none';\n",
              "    })();\n",
              "  </script>\n",
              "</div>\n",
              "\n",
              "  <div id=\"id_5c0c6aeb-1045-4063-a39c-abafe44c1eb0\">\n",
              "    <style>\n",
              "      .colab-df-generate {\n",
              "        background-color: #E8F0FE;\n",
              "        border: none;\n",
              "        border-radius: 50%;\n",
              "        cursor: pointer;\n",
              "        display: none;\n",
              "        fill: #1967D2;\n",
              "        height: 32px;\n",
              "        padding: 0 0 0 0;\n",
              "        width: 32px;\n",
              "      }\n",
              "\n",
              "      .colab-df-generate:hover {\n",
              "        background-color: #E2EBFA;\n",
              "        box-shadow: 0px 1px 2px rgba(60, 64, 67, 0.3), 0px 1px 3px 1px rgba(60, 64, 67, 0.15);\n",
              "        fill: #174EA6;\n",
              "      }\n",
              "\n",
              "      [theme=dark] .colab-df-generate {\n",
              "        background-color: #3B4455;\n",
              "        fill: #D2E3FC;\n",
              "      }\n",
              "\n",
              "      [theme=dark] .colab-df-generate:hover {\n",
              "        background-color: #434B5C;\n",
              "        box-shadow: 0px 1px 3px 1px rgba(0, 0, 0, 0.15);\n",
              "        filter: drop-shadow(0px 1px 2px rgba(0, 0, 0, 0.3));\n",
              "        fill: #FFFFFF;\n",
              "      }\n",
              "    </style>\n",
              "    <button class=\"colab-df-generate\" onclick=\"generateWithVariable('result')\"\n",
              "            title=\"Generate code using this dataframe.\"\n",
              "            style=\"display:none;\">\n",
              "\n",
              "  <svg xmlns=\"http://www.w3.org/2000/svg\" height=\"24px\"viewBox=\"0 0 24 24\"\n",
              "       width=\"24px\">\n",
              "    <path d=\"M7,19H8.4L18.45,9,17,7.55,7,17.6ZM5,21V16.75L18.45,3.32a2,2,0,0,1,2.83,0l1.4,1.43a1.91,1.91,0,0,1,.58,1.4,1.91,1.91,0,0,1-.58,1.4L9.25,21ZM18.45,9,17,7.55Zm-12,3A5.31,5.31,0,0,0,4.9,8.1,5.31,5.31,0,0,0,1,6.5,5.31,5.31,0,0,0,4.9,4.9,5.31,5.31,0,0,0,6.5,1,5.31,5.31,0,0,0,8.1,4.9,5.31,5.31,0,0,0,12,6.5,5.46,5.46,0,0,0,6.5,12Z\"/>\n",
              "  </svg>\n",
              "    </button>\n",
              "    <script>\n",
              "      (() => {\n",
              "      const buttonEl =\n",
              "        document.querySelector('#id_5c0c6aeb-1045-4063-a39c-abafe44c1eb0 button.colab-df-generate');\n",
              "      buttonEl.style.display =\n",
              "        google.colab.kernel.accessAllowed ? 'block' : 'none';\n",
              "\n",
              "      buttonEl.onclick = () => {\n",
              "        google.colab.notebook.generateWithVariable('result');\n",
              "      }\n",
              "      })();\n",
              "    </script>\n",
              "  </div>\n",
              "\n",
              "    </div>\n",
              "  </div>\n"
            ],
            "application/vnd.google.colaboratory.intrinsic+json": {
              "type": "dataframe",
              "variable_name": "result",
              "summary": "{\n  \"name\": \"result\",\n  \"rows\": 2,\n  \"fields\": [\n    {\n      \"column\": \"sex\",\n      \"properties\": {\n        \"dtype\": \"string\",\n        \"num_unique_values\": 2,\n        \"samples\": [\n          \"\\uc5ec\",\n          \"\\ub0a8\"\n        ],\n        \"semantic_type\": \"\",\n        \"description\": \"\"\n      }\n    },\n    {\n      \"column\": \"\\uc774\\ub3d9\\uac70\\ub9ac\",\n      \"properties\": {\n        \"dtype\": \"number\",\n        \"std\": 183.46886265872882,\n        \"min\": 3209.1108714530546,\n        \"max\": 3468.5750252981957,\n        \"num_unique_values\": 2,\n        \"samples\": [\n          3468.5750252981957,\n          3209.1108714530546\n        ],\n        \"semantic_type\": \"\",\n        \"description\": \"\"\n      }\n    }\n  ]\n}"
            }
          },
          "metadata": {}
        }
      ]
    },
    {
      "cell_type": "code",
      "source": [
        "import pandas as pd\n",
        "df =pd.read_csv('https://raw.githubusercontent.com/Datamanim/datarepo/main/happy2/happiness.csv',encoding='utf-8')"
      ],
      "metadata": {
        "id": "xGIFS8IGRGzg"
      },
      "execution_count": 34,
      "outputs": []
    },
    {
      "cell_type": "code",
      "source": [
        "# 각 년도의 행복랭킹 10위를 차지한 나라의 행복점수의 평균을 구하여라\n",
        "\n",
        "result = df[df.행복랭킹 ==  10]['점수'].mean()\n",
        "print(result)"
      ],
      "metadata": {
        "colab": {
          "base_uri": "https://localhost:8080/"
        },
        "id": "wrPjNmEz8esk",
        "outputId": "72a9bd08-43d5-4e83-a68b-1e69daa433f7"
      },
      "execution_count": 36,
      "outputs": [
        {
          "output_type": "stream",
          "name": "stdout",
          "text": [
            "7.259\n"
          ]
        }
      ]
    },
    {
      "cell_type": "code",
      "source": [
        "# 각 년도의 행복랭킹 50위이내의 나라들의 각각의 행복점수 평균을 데이터프레임으로 표시하라\n",
        "\n",
        "result = df[df.행복랭킹 <= 50][['년도','점수']].groupby('년도').mean()\n",
        "print(result)"
      ],
      "metadata": {
        "colab": {
          "base_uri": "https://localhost:8080/"
        },
        "id": "OX6keuBo8ewl",
        "outputId": "4ae08e2b-f34f-4372-8d19-3d072fd28e7d"
      },
      "execution_count": 39,
      "outputs": [
        {
          "output_type": "stream",
          "name": "stdout",
          "text": [
            "           점수\n",
            "년도           \n",
            "2018  6.64678\n",
            "2019  6.67002\n"
          ]
        }
      ]
    },
    {
      "cell_type": "code",
      "source": [
        "# 2018년도 데이터들만 추출하여 행복점수와 부패에 대한 인식에 대한 상관계수를 구하여라\n",
        "\n",
        "result = df[df.년도 == 2018][['점수','부패에 대한인식']].corr().iloc[0,1]\n",
        "print(result)"
      ],
      "metadata": {
        "colab": {
          "base_uri": "https://localhost:8080/"
        },
        "id": "vvSUIQVQ8ezp",
        "outputId": "8caf5426-2c27-4e4d-8288-b052dfb37ff9"
      },
      "execution_count": 40,
      "outputs": [
        {
          "output_type": "stream",
          "name": "stdout",
          "text": [
            "0.40529152271510027\n"
          ]
        }
      ]
    },
    {
      "cell_type": "code",
      "source": [
        "# 2018년도와 2019년도의 행복랭킹이 변화하지 않은 나라명의 수를 구하여라\n",
        "\n",
        "result = len(df[['행복랭킹','나라명']]) - len(df[['행복랭킹','나라명']].drop_duplicates())\n",
        "print(result)"
      ],
      "metadata": {
        "colab": {
          "base_uri": "https://localhost:8080/"
        },
        "id": "1vGrUSWH8e3A",
        "outputId": "a05b2153-ae5d-4b93-93b3-531ea5b1e9c0"
      },
      "execution_count": 42,
      "outputs": [
        {
          "output_type": "stream",
          "name": "stdout",
          "text": [
            "15\n"
          ]
        }
      ]
    },
    {
      "cell_type": "code",
      "source": [
        "# 2019년도 데이터들만 추출하여 각 변수간 상관계수를 구하고\n",
        "# 내림차순으로 정렬한 후 상위 5개를 데이터 프레임으로  출력하라.\n",
        "# 컬럼명은 v1,v2,corr으로 표시하라\n",
        "\n",
        "target = df[df.년도 == 2019].select_dtypes(include=['float64','int64'])\n",
        "target = target.corr().unstack().to_frame().reset_index().dropna()\n",
        "result = target[target[0]!=0].sort_values(0,ascending=False).drop_duplicates(0).head(5).reset_index(drop=True)\n",
        "result.columns = ['v1','v2','corr']\n",
        "display(result)"
      ],
      "metadata": {
        "colab": {
          "base_uri": "https://localhost:8080/",
          "height": 206
        },
        "id": "paoMMTYG8e6i",
        "outputId": "ca6a3b56-cf50-495d-d48a-170e972d68c9"
      },
      "execution_count": 50,
      "outputs": [
        {
          "output_type": "display_data",
          "data": {
            "text/plain": [
              "      v1     v2      corr\n",
              "0   행복랭킹   행복랭킹  1.000000\n",
              "1  행복기대치  상대GDP  0.835462\n",
              "2     점수  상대GDP  0.793883\n",
              "3  행복기대치     점수  0.779883\n",
              "4     점수  사회적지원  0.777058"
            ],
            "text/html": [
              "\n",
              "  <div id=\"df-4f244d14-f478-482b-b238-7364991fb667\" class=\"colab-df-container\">\n",
              "    <div>\n",
              "<style scoped>\n",
              "    .dataframe tbody tr th:only-of-type {\n",
              "        vertical-align: middle;\n",
              "    }\n",
              "\n",
              "    .dataframe tbody tr th {\n",
              "        vertical-align: top;\n",
              "    }\n",
              "\n",
              "    .dataframe thead th {\n",
              "        text-align: right;\n",
              "    }\n",
              "</style>\n",
              "<table border=\"1\" class=\"dataframe\">\n",
              "  <thead>\n",
              "    <tr style=\"text-align: right;\">\n",
              "      <th></th>\n",
              "      <th>v1</th>\n",
              "      <th>v2</th>\n",
              "      <th>corr</th>\n",
              "    </tr>\n",
              "  </thead>\n",
              "  <tbody>\n",
              "    <tr>\n",
              "      <th>0</th>\n",
              "      <td>행복랭킹</td>\n",
              "      <td>행복랭킹</td>\n",
              "      <td>1.000000</td>\n",
              "    </tr>\n",
              "    <tr>\n",
              "      <th>1</th>\n",
              "      <td>행복기대치</td>\n",
              "      <td>상대GDP</td>\n",
              "      <td>0.835462</td>\n",
              "    </tr>\n",
              "    <tr>\n",
              "      <th>2</th>\n",
              "      <td>점수</td>\n",
              "      <td>상대GDP</td>\n",
              "      <td>0.793883</td>\n",
              "    </tr>\n",
              "    <tr>\n",
              "      <th>3</th>\n",
              "      <td>행복기대치</td>\n",
              "      <td>점수</td>\n",
              "      <td>0.779883</td>\n",
              "    </tr>\n",
              "    <tr>\n",
              "      <th>4</th>\n",
              "      <td>점수</td>\n",
              "      <td>사회적지원</td>\n",
              "      <td>0.777058</td>\n",
              "    </tr>\n",
              "  </tbody>\n",
              "</table>\n",
              "</div>\n",
              "    <div class=\"colab-df-buttons\">\n",
              "\n",
              "  <div class=\"colab-df-container\">\n",
              "    <button class=\"colab-df-convert\" onclick=\"convertToInteractive('df-4f244d14-f478-482b-b238-7364991fb667')\"\n",
              "            title=\"Convert this dataframe to an interactive table.\"\n",
              "            style=\"display:none;\">\n",
              "\n",
              "  <svg xmlns=\"http://www.w3.org/2000/svg\" height=\"24px\" viewBox=\"0 -960 960 960\">\n",
              "    <path d=\"M120-120v-720h720v720H120Zm60-500h600v-160H180v160Zm220 220h160v-160H400v160Zm0 220h160v-160H400v160ZM180-400h160v-160H180v160Zm440 0h160v-160H620v160ZM180-180h160v-160H180v160Zm440 0h160v-160H620v160Z\"/>\n",
              "  </svg>\n",
              "    </button>\n",
              "\n",
              "  <style>\n",
              "    .colab-df-container {\n",
              "      display:flex;\n",
              "      gap: 12px;\n",
              "    }\n",
              "\n",
              "    .colab-df-convert {\n",
              "      background-color: #E8F0FE;\n",
              "      border: none;\n",
              "      border-radius: 50%;\n",
              "      cursor: pointer;\n",
              "      display: none;\n",
              "      fill: #1967D2;\n",
              "      height: 32px;\n",
              "      padding: 0 0 0 0;\n",
              "      width: 32px;\n",
              "    }\n",
              "\n",
              "    .colab-df-convert:hover {\n",
              "      background-color: #E2EBFA;\n",
              "      box-shadow: 0px 1px 2px rgba(60, 64, 67, 0.3), 0px 1px 3px 1px rgba(60, 64, 67, 0.15);\n",
              "      fill: #174EA6;\n",
              "    }\n",
              "\n",
              "    .colab-df-buttons div {\n",
              "      margin-bottom: 4px;\n",
              "    }\n",
              "\n",
              "    [theme=dark] .colab-df-convert {\n",
              "      background-color: #3B4455;\n",
              "      fill: #D2E3FC;\n",
              "    }\n",
              "\n",
              "    [theme=dark] .colab-df-convert:hover {\n",
              "      background-color: #434B5C;\n",
              "      box-shadow: 0px 1px 3px 1px rgba(0, 0, 0, 0.15);\n",
              "      filter: drop-shadow(0px 1px 2px rgba(0, 0, 0, 0.3));\n",
              "      fill: #FFFFFF;\n",
              "    }\n",
              "  </style>\n",
              "\n",
              "    <script>\n",
              "      const buttonEl =\n",
              "        document.querySelector('#df-4f244d14-f478-482b-b238-7364991fb667 button.colab-df-convert');\n",
              "      buttonEl.style.display =\n",
              "        google.colab.kernel.accessAllowed ? 'block' : 'none';\n",
              "\n",
              "      async function convertToInteractive(key) {\n",
              "        const element = document.querySelector('#df-4f244d14-f478-482b-b238-7364991fb667');\n",
              "        const dataTable =\n",
              "          await google.colab.kernel.invokeFunction('convertToInteractive',\n",
              "                                                    [key], {});\n",
              "        if (!dataTable) return;\n",
              "\n",
              "        const docLinkHtml = 'Like what you see? Visit the ' +\n",
              "          '<a target=\"_blank\" href=https://colab.research.google.com/notebooks/data_table.ipynb>data table notebook</a>'\n",
              "          + ' to learn more about interactive tables.';\n",
              "        element.innerHTML = '';\n",
              "        dataTable['output_type'] = 'display_data';\n",
              "        await google.colab.output.renderOutput(dataTable, element);\n",
              "        const docLink = document.createElement('div');\n",
              "        docLink.innerHTML = docLinkHtml;\n",
              "        element.appendChild(docLink);\n",
              "      }\n",
              "    </script>\n",
              "  </div>\n",
              "\n",
              "\n",
              "<div id=\"df-1e1fae27-3b9a-4e54-b1ae-fd623d50b3e1\">\n",
              "  <button class=\"colab-df-quickchart\" onclick=\"quickchart('df-1e1fae27-3b9a-4e54-b1ae-fd623d50b3e1')\"\n",
              "            title=\"Suggest charts\"\n",
              "            style=\"display:none;\">\n",
              "\n",
              "<svg xmlns=\"http://www.w3.org/2000/svg\" height=\"24px\"viewBox=\"0 0 24 24\"\n",
              "     width=\"24px\">\n",
              "    <g>\n",
              "        <path d=\"M19 3H5c-1.1 0-2 .9-2 2v14c0 1.1.9 2 2 2h14c1.1 0 2-.9 2-2V5c0-1.1-.9-2-2-2zM9 17H7v-7h2v7zm4 0h-2V7h2v10zm4 0h-2v-4h2v4z\"/>\n",
              "    </g>\n",
              "</svg>\n",
              "  </button>\n",
              "\n",
              "<style>\n",
              "  .colab-df-quickchart {\n",
              "      --bg-color: #E8F0FE;\n",
              "      --fill-color: #1967D2;\n",
              "      --hover-bg-color: #E2EBFA;\n",
              "      --hover-fill-color: #174EA6;\n",
              "      --disabled-fill-color: #AAA;\n",
              "      --disabled-bg-color: #DDD;\n",
              "  }\n",
              "\n",
              "  [theme=dark] .colab-df-quickchart {\n",
              "      --bg-color: #3B4455;\n",
              "      --fill-color: #D2E3FC;\n",
              "      --hover-bg-color: #434B5C;\n",
              "      --hover-fill-color: #FFFFFF;\n",
              "      --disabled-bg-color: #3B4455;\n",
              "      --disabled-fill-color: #666;\n",
              "  }\n",
              "\n",
              "  .colab-df-quickchart {\n",
              "    background-color: var(--bg-color);\n",
              "    border: none;\n",
              "    border-radius: 50%;\n",
              "    cursor: pointer;\n",
              "    display: none;\n",
              "    fill: var(--fill-color);\n",
              "    height: 32px;\n",
              "    padding: 0;\n",
              "    width: 32px;\n",
              "  }\n",
              "\n",
              "  .colab-df-quickchart:hover {\n",
              "    background-color: var(--hover-bg-color);\n",
              "    box-shadow: 0 1px 2px rgba(60, 64, 67, 0.3), 0 1px 3px 1px rgba(60, 64, 67, 0.15);\n",
              "    fill: var(--button-hover-fill-color);\n",
              "  }\n",
              "\n",
              "  .colab-df-quickchart-complete:disabled,\n",
              "  .colab-df-quickchart-complete:disabled:hover {\n",
              "    background-color: var(--disabled-bg-color);\n",
              "    fill: var(--disabled-fill-color);\n",
              "    box-shadow: none;\n",
              "  }\n",
              "\n",
              "  .colab-df-spinner {\n",
              "    border: 2px solid var(--fill-color);\n",
              "    border-color: transparent;\n",
              "    border-bottom-color: var(--fill-color);\n",
              "    animation:\n",
              "      spin 1s steps(1) infinite;\n",
              "  }\n",
              "\n",
              "  @keyframes spin {\n",
              "    0% {\n",
              "      border-color: transparent;\n",
              "      border-bottom-color: var(--fill-color);\n",
              "      border-left-color: var(--fill-color);\n",
              "    }\n",
              "    20% {\n",
              "      border-color: transparent;\n",
              "      border-left-color: var(--fill-color);\n",
              "      border-top-color: var(--fill-color);\n",
              "    }\n",
              "    30% {\n",
              "      border-color: transparent;\n",
              "      border-left-color: var(--fill-color);\n",
              "      border-top-color: var(--fill-color);\n",
              "      border-right-color: var(--fill-color);\n",
              "    }\n",
              "    40% {\n",
              "      border-color: transparent;\n",
              "      border-right-color: var(--fill-color);\n",
              "      border-top-color: var(--fill-color);\n",
              "    }\n",
              "    60% {\n",
              "      border-color: transparent;\n",
              "      border-right-color: var(--fill-color);\n",
              "    }\n",
              "    80% {\n",
              "      border-color: transparent;\n",
              "      border-right-color: var(--fill-color);\n",
              "      border-bottom-color: var(--fill-color);\n",
              "    }\n",
              "    90% {\n",
              "      border-color: transparent;\n",
              "      border-bottom-color: var(--fill-color);\n",
              "    }\n",
              "  }\n",
              "</style>\n",
              "\n",
              "  <script>\n",
              "    async function quickchart(key) {\n",
              "      const quickchartButtonEl =\n",
              "        document.querySelector('#' + key + ' button');\n",
              "      quickchartButtonEl.disabled = true;  // To prevent multiple clicks.\n",
              "      quickchartButtonEl.classList.add('colab-df-spinner');\n",
              "      try {\n",
              "        const charts = await google.colab.kernel.invokeFunction(\n",
              "            'suggestCharts', [key], {});\n",
              "      } catch (error) {\n",
              "        console.error('Error during call to suggestCharts:', error);\n",
              "      }\n",
              "      quickchartButtonEl.classList.remove('colab-df-spinner');\n",
              "      quickchartButtonEl.classList.add('colab-df-quickchart-complete');\n",
              "    }\n",
              "    (() => {\n",
              "      let quickchartButtonEl =\n",
              "        document.querySelector('#df-1e1fae27-3b9a-4e54-b1ae-fd623d50b3e1 button');\n",
              "      quickchartButtonEl.style.display =\n",
              "        google.colab.kernel.accessAllowed ? 'block' : 'none';\n",
              "    })();\n",
              "  </script>\n",
              "</div>\n",
              "\n",
              "  <div id=\"id_daf163de-545e-449a-96f2-96004604c91b\">\n",
              "    <style>\n",
              "      .colab-df-generate {\n",
              "        background-color: #E8F0FE;\n",
              "        border: none;\n",
              "        border-radius: 50%;\n",
              "        cursor: pointer;\n",
              "        display: none;\n",
              "        fill: #1967D2;\n",
              "        height: 32px;\n",
              "        padding: 0 0 0 0;\n",
              "        width: 32px;\n",
              "      }\n",
              "\n",
              "      .colab-df-generate:hover {\n",
              "        background-color: #E2EBFA;\n",
              "        box-shadow: 0px 1px 2px rgba(60, 64, 67, 0.3), 0px 1px 3px 1px rgba(60, 64, 67, 0.15);\n",
              "        fill: #174EA6;\n",
              "      }\n",
              "\n",
              "      [theme=dark] .colab-df-generate {\n",
              "        background-color: #3B4455;\n",
              "        fill: #D2E3FC;\n",
              "      }\n",
              "\n",
              "      [theme=dark] .colab-df-generate:hover {\n",
              "        background-color: #434B5C;\n",
              "        box-shadow: 0px 1px 3px 1px rgba(0, 0, 0, 0.15);\n",
              "        filter: drop-shadow(0px 1px 2px rgba(0, 0, 0, 0.3));\n",
              "        fill: #FFFFFF;\n",
              "      }\n",
              "    </style>\n",
              "    <button class=\"colab-df-generate\" onclick=\"generateWithVariable('result')\"\n",
              "            title=\"Generate code using this dataframe.\"\n",
              "            style=\"display:none;\">\n",
              "\n",
              "  <svg xmlns=\"http://www.w3.org/2000/svg\" height=\"24px\"viewBox=\"0 0 24 24\"\n",
              "       width=\"24px\">\n",
              "    <path d=\"M7,19H8.4L18.45,9,17,7.55,7,17.6ZM5,21V16.75L18.45,3.32a2,2,0,0,1,2.83,0l1.4,1.43a1.91,1.91,0,0,1,.58,1.4,1.91,1.91,0,0,1-.58,1.4L9.25,21ZM18.45,9,17,7.55Zm-12,3A5.31,5.31,0,0,0,4.9,8.1,5.31,5.31,0,0,0,1,6.5,5.31,5.31,0,0,0,4.9,4.9,5.31,5.31,0,0,0,6.5,1,5.31,5.31,0,0,0,8.1,4.9,5.31,5.31,0,0,0,12,6.5,5.46,5.46,0,0,0,6.5,12Z\"/>\n",
              "  </svg>\n",
              "    </button>\n",
              "    <script>\n",
              "      (() => {\n",
              "      const buttonEl =\n",
              "        document.querySelector('#id_daf163de-545e-449a-96f2-96004604c91b button.colab-df-generate');\n",
              "      buttonEl.style.display =\n",
              "        google.colab.kernel.accessAllowed ? 'block' : 'none';\n",
              "\n",
              "      buttonEl.onclick = () => {\n",
              "        google.colab.notebook.generateWithVariable('result');\n",
              "      }\n",
              "      })();\n",
              "    </script>\n",
              "  </div>\n",
              "\n",
              "    </div>\n",
              "  </div>\n"
            ],
            "application/vnd.google.colaboratory.intrinsic+json": {
              "type": "dataframe",
              "variable_name": "result",
              "summary": "{\n  \"name\": \"result\",\n  \"rows\": 5,\n  \"fields\": [\n    {\n      \"column\": \"v1\",\n      \"properties\": {\n        \"dtype\": \"string\",\n        \"num_unique_values\": 3,\n        \"samples\": [\n          \"\\ud589\\ubcf5\\ub7ad\\ud0b9\",\n          \"\\ud589\\ubcf5\\uae30\\ub300\\uce58\",\n          \"\\uc810\\uc218\"\n        ],\n        \"semantic_type\": \"\",\n        \"description\": \"\"\n      }\n    },\n    {\n      \"column\": \"v2\",\n      \"properties\": {\n        \"dtype\": \"string\",\n        \"num_unique_values\": 4,\n        \"samples\": [\n          \"\\uc0c1\\ub300GDP\",\n          \"\\uc0ac\\ud68c\\uc801\\uc9c0\\uc6d0\",\n          \"\\ud589\\ubcf5\\ub7ad\\ud0b9\"\n        ],\n        \"semantic_type\": \"\",\n        \"description\": \"\"\n      }\n    },\n    {\n      \"column\": \"corr\",\n      \"properties\": {\n        \"dtype\": \"number\",\n        \"std\": 0.09392220832507636,\n        \"min\": 0.7770577880638648,\n        \"max\": 1.0,\n        \"num_unique_values\": 5,\n        \"samples\": [\n          0.8354621150416075,\n          0.7770577880638648,\n          0.7938828678781276\n        ],\n        \"semantic_type\": \"\",\n        \"description\": \"\"\n      }\n    }\n  ]\n}"
            }
          },
          "metadata": {}
        }
      ]
    },
    {
      "cell_type": "code",
      "source": [
        "# 각 년도별 하위 행복점수의 하위 5개 국가의 평균 행복점수를 구하여라\n",
        "\n",
        "result = df.groupby('년도').tail(5).groupby('년도')['점수'].mean().to_frame()\n",
        "print(result)"
      ],
      "metadata": {
        "colab": {
          "base_uri": "https://localhost:8080/"
        },
        "id": "peU9hpQI8e-O",
        "outputId": "8e08d6c8-2160-496a-ceb5-cb2249a74626"
      },
      "execution_count": 57,
      "outputs": [
        {
          "output_type": "stream",
          "name": "stdout",
          "text": [
            "          점수\n",
            "년도          \n",
            "2018  3.1800\n",
            "2019  3.1408\n"
          ]
        }
      ]
    },
    {
      "cell_type": "code",
      "source": [
        "# 2019년 데이터를 추출하고 해당데이터의 상대 GDP 평균 이상의 나라들과\n",
        "# 평균 이하의 나라들의 행복점수 평균을 각각 구하고 그 차이값을  출력하라\n",
        "\n",
        "over = df[(df.년도 == 2019)&(df.상대GDP >= df.상대GDP.mean())]['점수'].mean()\n",
        "under = df[(df.년도 == 2019)&(df.상대GDP <= df.상대GDP.mean())]['점수'].mean()\n",
        "\n",
        "result = over - under\n",
        "print(result)"
      ],
      "metadata": {
        "colab": {
          "base_uri": "https://localhost:8080/"
        },
        "id": "QKh1WMaW8fQQ",
        "outputId": "a1b8503e-f259-4481-d118-44969b577521"
      },
      "execution_count": 59,
      "outputs": [
        {
          "output_type": "stream",
          "name": "stdout",
          "text": [
            "1.390483957219251\n"
          ]
        }
      ]
    },
    {
      "cell_type": "code",
      "source": [
        "# 2018년도 행복랭킹 50위 이내에 포함됐다가 2019년 50위 밖으로 밀려난 국가의 숫자를 구하여라\n",
        "\n",
        "result = set(df[(df.년도 == 2018)&(df.행복랭킹 <= 50)].나라명) - set(df[(df.년도 == 2019)&(df.행복랭킹 <= 50)].나라명)\n",
        "print(len(result))"
      ],
      "metadata": {
        "colab": {
          "base_uri": "https://localhost:8080/"
        },
        "id": "8baYGdM88fXA",
        "outputId": "692dec1f-67b3-4ff1-b74d-925b3589318c"
      },
      "execution_count": 64,
      "outputs": [
        {
          "output_type": "stream",
          "name": "stdout",
          "text": [
            "4\n"
          ]
        }
      ]
    },
    {
      "cell_type": "code",
      "source": [
        "# 2018년,2019년 모두 기록이 있는 나라들 중\n",
        "# 년도별 행복점수가 가장 증가한 나라와 그 증가 수치는?\n",
        "\n",
        "count = df.나라명.value_counts()\n",
        "target = count[count>=2].index\n",
        "\n",
        "df2 = df.copy()\n",
        "multiple = df[df.나라명.isin(target)].reset_index(drop=True)\n",
        "multiple.loc[multiple['년도'] == 2018,'점수'] = multiple[multiple.년도==2018]['점수'].values*(-1)\n",
        "result = multiple.groupby('나라명').sum()['점수'].sort_values().to_frame().iloc[-1]\n",
        "print(result)"
      ],
      "metadata": {
        "colab": {
          "base_uri": "https://localhost:8080/"
        },
        "id": "jjHXVQ3A8fc4",
        "outputId": "e7c9b47a-bdb4-430a-bb0f-7fd5bedbbe17"
      },
      "execution_count": 69,
      "outputs": [
        {
          "output_type": "stream",
          "name": "stdout",
          "text": [
            "점수    0.87\n",
            "Name: Burundi, dtype: float64\n"
          ]
        }
      ]
    },
    {
      "cell_type": "code",
      "source": [
        "import pandas as pd\n",
        "df= pd.read_csv('https://raw.githubusercontent.com/Datamanim/datarepo/main/consum/Tetuan%20City%20power%20consumption.csv')"
      ],
      "metadata": {
        "id": "ly3AyfgK8fiD"
      },
      "execution_count": 2,
      "outputs": []
    },
    {
      "cell_type": "code",
      "source": [
        "# DateTime컬럼을 통해 각 월별로 몇개의 데이터가 있는지 데이터 프레임으로 구하여라\n",
        "\n",
        "df['DateTime'] = pd.to_datetime(df['DateTime'])\n",
        "result = df.DateTime.dt.month.value_counts().sort_index().to_frame()\n",
        "print(result)"
      ],
      "metadata": {
        "colab": {
          "base_uri": "https://localhost:8080/"
        },
        "id": "0sGv8D28Gm1_",
        "outputId": "c37d4ab3-e943-4bd5-f9e9-f1270615956c"
      },
      "execution_count": 4,
      "outputs": [
        {
          "output_type": "stream",
          "name": "stdout",
          "text": [
            "          count\n",
            "DateTime       \n",
            "1          4464\n",
            "2          4032\n",
            "3          4464\n",
            "4          4320\n",
            "5          4464\n",
            "6          4320\n",
            "7          4464\n",
            "8          4464\n",
            "9          4320\n",
            "10         4464\n",
            "11         4320\n",
            "12         4320\n"
          ]
        }
      ]
    },
    {
      "cell_type": "code",
      "source": [
        "# 3월 달의 각 시간대별 온도의 평균들 중 가장 낮은 시간대의 온도를  출력하라\n",
        "\n",
        "target = df[df.DateTime.dt.month == 3]\n",
        "result = target.groupby(target.DateTime.dt.hour).Temperature.mean().sort_values().values[0]\n",
        "print(result)"
      ],
      "metadata": {
        "colab": {
          "base_uri": "https://localhost:8080/"
        },
        "id": "3zUZnV9LGm6i",
        "outputId": "b40de62c-1cd3-4b78-87e5-fa5f73cfd1e9"
      },
      "execution_count": 9,
      "outputs": [
        {
          "output_type": "stream",
          "name": "stdout",
          "text": [
            "11.506612903225806\n"
          ]
        }
      ]
    },
    {
      "cell_type": "code",
      "source": [
        "# 3월 달의 각 시간대별 온도의 평균들 중 가장 높은 시간대의 온도를  출력하라\n",
        "\n",
        "target = df[df.DateTime.dt.month == 3]\n",
        "result = target.groupby(target.DateTime.dt.hour).Temperature.mean().sort_values().values[-1]\n",
        "print(result)"
      ],
      "metadata": {
        "colab": {
          "base_uri": "https://localhost:8080/"
        },
        "id": "kjKKHK6TGm-1",
        "outputId": "32792a52-f4a7-4d2a-afd3-7047c3e8da15"
      },
      "execution_count": 11,
      "outputs": [
        {
          "output_type": "stream",
          "name": "stdout",
          "text": [
            "18.393602150537635\n"
          ]
        }
      ]
    },
    {
      "cell_type": "code",
      "source": [
        "# Zone 1 Power Consumption 컬럼의 value값의 크기가\n",
        "# Zone 2 Power Consumption 컬럼의 value값의 크기보다\n",
        "# 큰 데이터들의 Humidity의 평균을 구하여라\n",
        "\n",
        "result = df[df['Zone 1 Power Consumption'] > df['Zone 2  Power Consumption']].Humidity.mean()\n",
        "print(result)"
      ],
      "metadata": {
        "colab": {
          "base_uri": "https://localhost:8080/"
        },
        "id": "5egncSAAGnDR",
        "outputId": "66ce4b1c-c22b-4804-b9df-56074f865017"
      },
      "execution_count": 12,
      "outputs": [
        {
          "output_type": "stream",
          "name": "stdout",
          "text": [
            "68.23624448055052\n"
          ]
        }
      ]
    },
    {
      "cell_type": "code",
      "source": [
        "# 각 zone의 에너지 소비량의 상관관계를 구해서 데이터 프레임으로 표기하라\n",
        "\n",
        "result = df.iloc[:,-3:].corr()\n",
        "display(result)"
      ],
      "metadata": {
        "colab": {
          "base_uri": "https://localhost:8080/",
          "height": 213
        },
        "id": "0zWxGmOEGnIk",
        "outputId": "648926ba-409b-4bbf-f474-08a11db89e3a"
      },
      "execution_count": 15,
      "outputs": [
        {
          "output_type": "display_data",
          "data": {
            "text/plain": [
              "                           Zone 1 Power Consumption  \\\n",
              "Zone 1 Power Consumption                   1.000000   \n",
              "Zone 2  Power Consumption                  0.834519   \n",
              "Zone 3  Power Consumption                  0.750733   \n",
              "\n",
              "                           Zone 2  Power Consumption  \\\n",
              "Zone 1 Power Consumption                    0.834519   \n",
              "Zone 2  Power Consumption                   1.000000   \n",
              "Zone 3  Power Consumption                   0.570932   \n",
              "\n",
              "                           Zone 3  Power Consumption  \n",
              "Zone 1 Power Consumption                    0.750733  \n",
              "Zone 2  Power Consumption                   0.570932  \n",
              "Zone 3  Power Consumption                   1.000000  "
            ],
            "text/html": [
              "\n",
              "  <div id=\"df-62566ec3-c3e9-4860-bc0a-7d33163a0905\" class=\"colab-df-container\">\n",
              "    <div>\n",
              "<style scoped>\n",
              "    .dataframe tbody tr th:only-of-type {\n",
              "        vertical-align: middle;\n",
              "    }\n",
              "\n",
              "    .dataframe tbody tr th {\n",
              "        vertical-align: top;\n",
              "    }\n",
              "\n",
              "    .dataframe thead th {\n",
              "        text-align: right;\n",
              "    }\n",
              "</style>\n",
              "<table border=\"1\" class=\"dataframe\">\n",
              "  <thead>\n",
              "    <tr style=\"text-align: right;\">\n",
              "      <th></th>\n",
              "      <th>Zone 1 Power Consumption</th>\n",
              "      <th>Zone 2  Power Consumption</th>\n",
              "      <th>Zone 3  Power Consumption</th>\n",
              "    </tr>\n",
              "  </thead>\n",
              "  <tbody>\n",
              "    <tr>\n",
              "      <th>Zone 1 Power Consumption</th>\n",
              "      <td>1.000000</td>\n",
              "      <td>0.834519</td>\n",
              "      <td>0.750733</td>\n",
              "    </tr>\n",
              "    <tr>\n",
              "      <th>Zone 2  Power Consumption</th>\n",
              "      <td>0.834519</td>\n",
              "      <td>1.000000</td>\n",
              "      <td>0.570932</td>\n",
              "    </tr>\n",
              "    <tr>\n",
              "      <th>Zone 3  Power Consumption</th>\n",
              "      <td>0.750733</td>\n",
              "      <td>0.570932</td>\n",
              "      <td>1.000000</td>\n",
              "    </tr>\n",
              "  </tbody>\n",
              "</table>\n",
              "</div>\n",
              "    <div class=\"colab-df-buttons\">\n",
              "\n",
              "  <div class=\"colab-df-container\">\n",
              "    <button class=\"colab-df-convert\" onclick=\"convertToInteractive('df-62566ec3-c3e9-4860-bc0a-7d33163a0905')\"\n",
              "            title=\"Convert this dataframe to an interactive table.\"\n",
              "            style=\"display:none;\">\n",
              "\n",
              "  <svg xmlns=\"http://www.w3.org/2000/svg\" height=\"24px\" viewBox=\"0 -960 960 960\">\n",
              "    <path d=\"M120-120v-720h720v720H120Zm60-500h600v-160H180v160Zm220 220h160v-160H400v160Zm0 220h160v-160H400v160ZM180-400h160v-160H180v160Zm440 0h160v-160H620v160ZM180-180h160v-160H180v160Zm440 0h160v-160H620v160Z\"/>\n",
              "  </svg>\n",
              "    </button>\n",
              "\n",
              "  <style>\n",
              "    .colab-df-container {\n",
              "      display:flex;\n",
              "      gap: 12px;\n",
              "    }\n",
              "\n",
              "    .colab-df-convert {\n",
              "      background-color: #E8F0FE;\n",
              "      border: none;\n",
              "      border-radius: 50%;\n",
              "      cursor: pointer;\n",
              "      display: none;\n",
              "      fill: #1967D2;\n",
              "      height: 32px;\n",
              "      padding: 0 0 0 0;\n",
              "      width: 32px;\n",
              "    }\n",
              "\n",
              "    .colab-df-convert:hover {\n",
              "      background-color: #E2EBFA;\n",
              "      box-shadow: 0px 1px 2px rgba(60, 64, 67, 0.3), 0px 1px 3px 1px rgba(60, 64, 67, 0.15);\n",
              "      fill: #174EA6;\n",
              "    }\n",
              "\n",
              "    .colab-df-buttons div {\n",
              "      margin-bottom: 4px;\n",
              "    }\n",
              "\n",
              "    [theme=dark] .colab-df-convert {\n",
              "      background-color: #3B4455;\n",
              "      fill: #D2E3FC;\n",
              "    }\n",
              "\n",
              "    [theme=dark] .colab-df-convert:hover {\n",
              "      background-color: #434B5C;\n",
              "      box-shadow: 0px 1px 3px 1px rgba(0, 0, 0, 0.15);\n",
              "      filter: drop-shadow(0px 1px 2px rgba(0, 0, 0, 0.3));\n",
              "      fill: #FFFFFF;\n",
              "    }\n",
              "  </style>\n",
              "\n",
              "    <script>\n",
              "      const buttonEl =\n",
              "        document.querySelector('#df-62566ec3-c3e9-4860-bc0a-7d33163a0905 button.colab-df-convert');\n",
              "      buttonEl.style.display =\n",
              "        google.colab.kernel.accessAllowed ? 'block' : 'none';\n",
              "\n",
              "      async function convertToInteractive(key) {\n",
              "        const element = document.querySelector('#df-62566ec3-c3e9-4860-bc0a-7d33163a0905');\n",
              "        const dataTable =\n",
              "          await google.colab.kernel.invokeFunction('convertToInteractive',\n",
              "                                                    [key], {});\n",
              "        if (!dataTable) return;\n",
              "\n",
              "        const docLinkHtml = 'Like what you see? Visit the ' +\n",
              "          '<a target=\"_blank\" href=https://colab.research.google.com/notebooks/data_table.ipynb>data table notebook</a>'\n",
              "          + ' to learn more about interactive tables.';\n",
              "        element.innerHTML = '';\n",
              "        dataTable['output_type'] = 'display_data';\n",
              "        await google.colab.output.renderOutput(dataTable, element);\n",
              "        const docLink = document.createElement('div');\n",
              "        docLink.innerHTML = docLinkHtml;\n",
              "        element.appendChild(docLink);\n",
              "      }\n",
              "    </script>\n",
              "  </div>\n",
              "\n",
              "\n",
              "<div id=\"df-ebf5c92c-8277-4333-8038-4813ea331dcb\">\n",
              "  <button class=\"colab-df-quickchart\" onclick=\"quickchart('df-ebf5c92c-8277-4333-8038-4813ea331dcb')\"\n",
              "            title=\"Suggest charts\"\n",
              "            style=\"display:none;\">\n",
              "\n",
              "<svg xmlns=\"http://www.w3.org/2000/svg\" height=\"24px\"viewBox=\"0 0 24 24\"\n",
              "     width=\"24px\">\n",
              "    <g>\n",
              "        <path d=\"M19 3H5c-1.1 0-2 .9-2 2v14c0 1.1.9 2 2 2h14c1.1 0 2-.9 2-2V5c0-1.1-.9-2-2-2zM9 17H7v-7h2v7zm4 0h-2V7h2v10zm4 0h-2v-4h2v4z\"/>\n",
              "    </g>\n",
              "</svg>\n",
              "  </button>\n",
              "\n",
              "<style>\n",
              "  .colab-df-quickchart {\n",
              "      --bg-color: #E8F0FE;\n",
              "      --fill-color: #1967D2;\n",
              "      --hover-bg-color: #E2EBFA;\n",
              "      --hover-fill-color: #174EA6;\n",
              "      --disabled-fill-color: #AAA;\n",
              "      --disabled-bg-color: #DDD;\n",
              "  }\n",
              "\n",
              "  [theme=dark] .colab-df-quickchart {\n",
              "      --bg-color: #3B4455;\n",
              "      --fill-color: #D2E3FC;\n",
              "      --hover-bg-color: #434B5C;\n",
              "      --hover-fill-color: #FFFFFF;\n",
              "      --disabled-bg-color: #3B4455;\n",
              "      --disabled-fill-color: #666;\n",
              "  }\n",
              "\n",
              "  .colab-df-quickchart {\n",
              "    background-color: var(--bg-color);\n",
              "    border: none;\n",
              "    border-radius: 50%;\n",
              "    cursor: pointer;\n",
              "    display: none;\n",
              "    fill: var(--fill-color);\n",
              "    height: 32px;\n",
              "    padding: 0;\n",
              "    width: 32px;\n",
              "  }\n",
              "\n",
              "  .colab-df-quickchart:hover {\n",
              "    background-color: var(--hover-bg-color);\n",
              "    box-shadow: 0 1px 2px rgba(60, 64, 67, 0.3), 0 1px 3px 1px rgba(60, 64, 67, 0.15);\n",
              "    fill: var(--button-hover-fill-color);\n",
              "  }\n",
              "\n",
              "  .colab-df-quickchart-complete:disabled,\n",
              "  .colab-df-quickchart-complete:disabled:hover {\n",
              "    background-color: var(--disabled-bg-color);\n",
              "    fill: var(--disabled-fill-color);\n",
              "    box-shadow: none;\n",
              "  }\n",
              "\n",
              "  .colab-df-spinner {\n",
              "    border: 2px solid var(--fill-color);\n",
              "    border-color: transparent;\n",
              "    border-bottom-color: var(--fill-color);\n",
              "    animation:\n",
              "      spin 1s steps(1) infinite;\n",
              "  }\n",
              "\n",
              "  @keyframes spin {\n",
              "    0% {\n",
              "      border-color: transparent;\n",
              "      border-bottom-color: var(--fill-color);\n",
              "      border-left-color: var(--fill-color);\n",
              "    }\n",
              "    20% {\n",
              "      border-color: transparent;\n",
              "      border-left-color: var(--fill-color);\n",
              "      border-top-color: var(--fill-color);\n",
              "    }\n",
              "    30% {\n",
              "      border-color: transparent;\n",
              "      border-left-color: var(--fill-color);\n",
              "      border-top-color: var(--fill-color);\n",
              "      border-right-color: var(--fill-color);\n",
              "    }\n",
              "    40% {\n",
              "      border-color: transparent;\n",
              "      border-right-color: var(--fill-color);\n",
              "      border-top-color: var(--fill-color);\n",
              "    }\n",
              "    60% {\n",
              "      border-color: transparent;\n",
              "      border-right-color: var(--fill-color);\n",
              "    }\n",
              "    80% {\n",
              "      border-color: transparent;\n",
              "      border-right-color: var(--fill-color);\n",
              "      border-bottom-color: var(--fill-color);\n",
              "    }\n",
              "    90% {\n",
              "      border-color: transparent;\n",
              "      border-bottom-color: var(--fill-color);\n",
              "    }\n",
              "  }\n",
              "</style>\n",
              "\n",
              "  <script>\n",
              "    async function quickchart(key) {\n",
              "      const quickchartButtonEl =\n",
              "        document.querySelector('#' + key + ' button');\n",
              "      quickchartButtonEl.disabled = true;  // To prevent multiple clicks.\n",
              "      quickchartButtonEl.classList.add('colab-df-spinner');\n",
              "      try {\n",
              "        const charts = await google.colab.kernel.invokeFunction(\n",
              "            'suggestCharts', [key], {});\n",
              "      } catch (error) {\n",
              "        console.error('Error during call to suggestCharts:', error);\n",
              "      }\n",
              "      quickchartButtonEl.classList.remove('colab-df-spinner');\n",
              "      quickchartButtonEl.classList.add('colab-df-quickchart-complete');\n",
              "    }\n",
              "    (() => {\n",
              "      let quickchartButtonEl =\n",
              "        document.querySelector('#df-ebf5c92c-8277-4333-8038-4813ea331dcb button');\n",
              "      quickchartButtonEl.style.display =\n",
              "        google.colab.kernel.accessAllowed ? 'block' : 'none';\n",
              "    })();\n",
              "  </script>\n",
              "</div>\n",
              "\n",
              "  <div id=\"id_b817ef72-d2c7-4fe9-8d8a-b11cc6aecfb5\">\n",
              "    <style>\n",
              "      .colab-df-generate {\n",
              "        background-color: #E8F0FE;\n",
              "        border: none;\n",
              "        border-radius: 50%;\n",
              "        cursor: pointer;\n",
              "        display: none;\n",
              "        fill: #1967D2;\n",
              "        height: 32px;\n",
              "        padding: 0 0 0 0;\n",
              "        width: 32px;\n",
              "      }\n",
              "\n",
              "      .colab-df-generate:hover {\n",
              "        background-color: #E2EBFA;\n",
              "        box-shadow: 0px 1px 2px rgba(60, 64, 67, 0.3), 0px 1px 3px 1px rgba(60, 64, 67, 0.15);\n",
              "        fill: #174EA6;\n",
              "      }\n",
              "\n",
              "      [theme=dark] .colab-df-generate {\n",
              "        background-color: #3B4455;\n",
              "        fill: #D2E3FC;\n",
              "      }\n",
              "\n",
              "      [theme=dark] .colab-df-generate:hover {\n",
              "        background-color: #434B5C;\n",
              "        box-shadow: 0px 1px 3px 1px rgba(0, 0, 0, 0.15);\n",
              "        filter: drop-shadow(0px 1px 2px rgba(0, 0, 0, 0.3));\n",
              "        fill: #FFFFFF;\n",
              "      }\n",
              "    </style>\n",
              "    <button class=\"colab-df-generate\" onclick=\"generateWithVariable('result')\"\n",
              "            title=\"Generate code using this dataframe.\"\n",
              "            style=\"display:none;\">\n",
              "\n",
              "  <svg xmlns=\"http://www.w3.org/2000/svg\" height=\"24px\"viewBox=\"0 0 24 24\"\n",
              "       width=\"24px\">\n",
              "    <path d=\"M7,19H8.4L18.45,9,17,7.55,7,17.6ZM5,21V16.75L18.45,3.32a2,2,0,0,1,2.83,0l1.4,1.43a1.91,1.91,0,0,1,.58,1.4,1.91,1.91,0,0,1-.58,1.4L9.25,21ZM18.45,9,17,7.55Zm-12,3A5.31,5.31,0,0,0,4.9,8.1,5.31,5.31,0,0,0,1,6.5,5.31,5.31,0,0,0,4.9,4.9,5.31,5.31,0,0,0,6.5,1,5.31,5.31,0,0,0,8.1,4.9,5.31,5.31,0,0,0,12,6.5,5.46,5.46,0,0,0,6.5,12Z\"/>\n",
              "  </svg>\n",
              "    </button>\n",
              "    <script>\n",
              "      (() => {\n",
              "      const buttonEl =\n",
              "        document.querySelector('#id_b817ef72-d2c7-4fe9-8d8a-b11cc6aecfb5 button.colab-df-generate');\n",
              "      buttonEl.style.display =\n",
              "        google.colab.kernel.accessAllowed ? 'block' : 'none';\n",
              "\n",
              "      buttonEl.onclick = () => {\n",
              "        google.colab.notebook.generateWithVariable('result');\n",
              "      }\n",
              "      })();\n",
              "    </script>\n",
              "  </div>\n",
              "\n",
              "    </div>\n",
              "  </div>\n"
            ],
            "application/vnd.google.colaboratory.intrinsic+json": {
              "type": "dataframe",
              "variable_name": "result",
              "summary": "{\n  \"name\": \"result\",\n  \"rows\": 3,\n  \"fields\": [\n    {\n      \"column\": \"Zone 1 Power Consumption\",\n      \"properties\": {\n        \"dtype\": \"number\",\n        \"std\": 0.12684491615329824,\n        \"min\": 0.7507334590621507,\n        \"max\": 1.0,\n        \"num_unique_values\": 3,\n        \"samples\": [\n          1.0,\n          0.834518939646292,\n          0.7507334590621507\n        ],\n        \"semantic_type\": \"\",\n        \"description\": \"\"\n      }\n    },\n    {\n      \"column\": \"Zone 2  Power Consumption\",\n      \"properties\": {\n        \"dtype\": \"number\",\n        \"std\": 0.21639509974865626,\n        \"min\": 0.5709322667566643,\n        \"max\": 1.0,\n        \"num_unique_values\": 3,\n        \"samples\": [\n          0.834518939646292,\n          1.0,\n          0.5709322667566643\n        ],\n        \"semantic_type\": \"\",\n        \"description\": \"\"\n      }\n    },\n    {\n      \"column\": \"Zone 3  Power Consumption\",\n      \"properties\": {\n        \"dtype\": \"number\",\n        \"std\": 0.2154690220952768,\n        \"min\": 0.5709322667566643,\n        \"max\": 1.0,\n        \"num_unique_values\": 3,\n        \"samples\": [\n          0.7507334590621507,\n          0.5709322667566643,\n          1.0\n        ],\n        \"semantic_type\": \"\",\n        \"description\": \"\"\n      }\n    }\n  ]\n}"
            }
          },
          "metadata": {}
        }
      ]
    },
    {
      "cell_type": "code",
      "source": [
        "from re import split\n",
        "# Temperature의 값이 10미만의 경우 A, 10이상 20미만의 경우 B,\n",
        "# 20이상 30미만의 경우 C, 그 외의 경우 D라고 할때 각 단계의 데이터 숫자를 구하여라\n",
        "\n",
        "def split_data(x):\n",
        "  if x < 10:\n",
        "    return 'A'\n",
        "  elif x < 20:\n",
        "    return 'B'\n",
        "  elif x < 30:\n",
        "    return \"C\"\n",
        "  else:\n",
        "    return \"D\"\n",
        "\n",
        "df['sp'] = df.Temperature.map(split_data)\n",
        "result = df['sp'].value_counts()\n",
        "display(result)"
      ],
      "metadata": {
        "colab": {
          "base_uri": "https://localhost:8080/",
          "height": 124
        },
        "id": "MMMdeVnPGnNp",
        "outputId": "8e7fbb76-f005-40c7-f513-eb2079591c14"
      },
      "execution_count": 19,
      "outputs": [
        {
          "output_type": "display_data",
          "data": {
            "text/plain": [
              "sp\n",
              "B    26993\n",
              "C    21105\n",
              "A     2874\n",
              "D     1444\n",
              "Name: count, dtype: int64"
            ]
          },
          "metadata": {}
        }
      ]
    },
    {
      "cell_type": "code",
      "source": [
        "# 6월 데이터중 12시의 Temperature의 표준편차를 구하여라\n",
        "\n",
        "result = df[(df.DateTime.dt.month == 6)&(df.DateTime.dt.hour == 12)].Temperature.std()\n",
        "print(result)"
      ],
      "metadata": {
        "colab": {
          "base_uri": "https://localhost:8080/"
        },
        "id": "7ELNSstkGnRz",
        "outputId": "5077bf3b-d6be-4d2f-c50d-2e8efe93c36e"
      },
      "execution_count": 20,
      "outputs": [
        {
          "output_type": "stream",
          "name": "stdout",
          "text": [
            "2.0499417827951025\n"
          ]
        }
      ]
    },
    {
      "cell_type": "code",
      "source": [
        "# 6월 데이터중 12시의 Temperature의 분산을 구하여라\n",
        "\n",
        "result = df[(df.DateTime.dt.month == 6)&(df.DateTime.dt.hour == 12)].Temperature.var()\n",
        "print(result)"
      ],
      "metadata": {
        "colab": {
          "base_uri": "https://localhost:8080/"
        },
        "id": "JveOyj4VGnW9",
        "outputId": "c4302d45-de3a-45e5-e52d-f11132d657f6"
      },
      "execution_count": 21,
      "outputs": [
        {
          "output_type": "stream",
          "name": "stdout",
          "text": [
            "4.202261312849163\n"
          ]
        }
      ]
    },
    {
      "cell_type": "code",
      "source": [
        "# Temperature의 평균이상의 Temperature의 값을 가지는 데이터를\n",
        "# Temperature를 기준으로 정렬 했을때 4번째 행의 Humidity 값은?\n",
        "\n",
        "result = df[df.Temperature >= df.Temperature.mean()].sort_values('Temperature').Humidity.values[3]\n",
        "print(result)"
      ],
      "metadata": {
        "colab": {
          "base_uri": "https://localhost:8080/"
        },
        "id": "zXBKToCwGncC",
        "outputId": "6897686b-12d5-43ec-d4e4-94c8f1d532ae"
      },
      "execution_count": 22,
      "outputs": [
        {
          "output_type": "stream",
          "name": "stdout",
          "text": [
            "87.9\n"
          ]
        }
      ]
    },
    {
      "cell_type": "code",
      "source": [
        "# **Temperature의 중간값 이상의 Temperature의 값을 가지는 데이터를\n",
        "# Temperature를 기준으로 정렬 했을때 4번째 행의 Humidity 값은?\n",
        "\n",
        "result = df[df.Temperature >= df.Temperature.median()].sort_values('Temperature').Humidity.values[3]\n",
        "print(result)"
      ],
      "metadata": {
        "colab": {
          "base_uri": "https://localhost:8080/"
        },
        "id": "DWt-035kGnhS",
        "outputId": "a2406f41-4cbc-47f8-86dd-268e27e7e9fa"
      },
      "execution_count": 24,
      "outputs": [
        {
          "output_type": "stream",
          "name": "stdout",
          "text": [
            "80.3\n"
          ]
        }
      ]
    },
    {
      "cell_type": "code",
      "source": [
        "import pandas as pd\n",
        "df = pd.read_csv('https://raw.githubusercontent.com/Datamanim/datarepo/main/pok/Pokemon.csv')"
      ],
      "metadata": {
        "id": "Q9x6ASqbG20y"
      },
      "execution_count": 26,
      "outputs": []
    },
    {
      "cell_type": "code",
      "source": [
        "# Type 1은 주속성 Type 2 는 부속성을 나타낸다. 가장 많은 부속성 종류는 무엇인가?\n",
        "\n",
        "result = df['Type 2'].value_counts().index[0]\n",
        "print(result)"
      ],
      "metadata": {
        "colab": {
          "base_uri": "https://localhost:8080/"
        },
        "id": "uSSfemjkG4Nt",
        "outputId": "0b93ff78-8cb0-4900-8d4b-800635ed5660"
      },
      "execution_count": 28,
      "outputs": [
        {
          "output_type": "stream",
          "name": "stdout",
          "text": [
            "Flying\n"
          ]
        }
      ]
    },
    {
      "cell_type": "code",
      "source": [
        "# 가장 많은 Type 1 의 종의 평균 Attack 을 평균 Defense로 나눈값은?\n",
        "\n",
        "target = df['Type 1'].value_counts().index[0]\n",
        "result = df[df['Type 1']==target].Attack.mean() / df[df['Type 1']==target].Defense.mean()\n",
        "print(result)"
      ],
      "metadata": {
        "colab": {
          "base_uri": "https://localhost:8080/"
        },
        "id": "cvVImkGqG6Sf",
        "outputId": "d9556ee6-0f8c-47de-c3d8-1519e8458618"
      },
      "execution_count": 34,
      "outputs": [
        {
          "output_type": "stream",
          "name": "stdout",
          "text": [
            "1.0165238678090576\n"
          ]
        }
      ]
    },
    {
      "cell_type": "code",
      "source": [
        "# 포켓몬 세대(Generation) 중 가장많은 Legendary를 보유한 세대는 몇세대인가?\n",
        "\n",
        "result = df[df.Legendary==True].Generation.value_counts().index[0]\n",
        "print(result)"
      ],
      "metadata": {
        "colab": {
          "base_uri": "https://localhost:8080/"
        },
        "id": "mZibNmblG7s9",
        "outputId": "80eb3942-4a8b-4890-92a7-0499658f4799"
      },
      "execution_count": 36,
      "outputs": [
        {
          "output_type": "stream",
          "name": "stdout",
          "text": [
            "3\n"
          ]
        }
      ]
    },
    {
      "cell_type": "code",
      "source": [
        "# ‘HP’, ‘Attack’, ‘Defense’, ‘Sp. Atk’, ‘Sp. Def’, ‘Speed’ 간의 상관 계수 중\n",
        "# 가장 절댓값이 큰 두 변수와 그 값을 구하여라\n",
        "\n",
        "target = df[[ 'HP', 'Attack', 'Defense', 'Sp. Atk', 'Sp. Def', 'Speed']].corr().unstack().reset_index().rename(columns={0:'corr'})\n",
        "result = target[target['corr']!=0].sort_values('corr', ascending=False).iloc[0]\n",
        "print(result)"
      ],
      "metadata": {
        "colab": {
          "base_uri": "https://localhost:8080/"
        },
        "id": "w9oDIVw3G9hd",
        "outputId": "9ae554c6-88ef-4842-e479-9eecdcaee506"
      },
      "execution_count": 38,
      "outputs": [
        {
          "output_type": "stream",
          "name": "stdout",
          "text": [
            "level_0     HP\n",
            "level_1     HP\n",
            "corr       1.0\n",
            "Name: 0, dtype: object\n"
          ]
        }
      ]
    },
    {
      "cell_type": "code",
      "source": [
        "# 각 Generation의 Attack으로 오름차순 정렬시\n",
        "# 상위 3개 데이터들(18개)의 Attack의 전체 평균을 구하여라\n",
        "\n",
        "result = df.sort_values(['Generation','Attack']).groupby('Generation').head(3).Attack.mean()\n",
        "print(result)"
      ],
      "metadata": {
        "colab": {
          "base_uri": "https://localhost:8080/"
        },
        "id": "edrW1fDKG--S",
        "outputId": "f43c132a-140f-47d5-b5e5-210f0a9e05b2"
      },
      "execution_count": 40,
      "outputs": [
        {
          "output_type": "stream",
          "name": "stdout",
          "text": [
            "19.5\n"
          ]
        }
      ]
    },
    {
      "cell_type": "code",
      "source": [
        "# 각 Generation의 Attack으로 내림차순 정렬시\n",
        "# 상위 5개 데이터들(30개)의 Attack의 전체 평균을 구하여라\n",
        "\n",
        "result = df.sort_values(['Generation','Attack'], ascending=False).groupby('Generation').head(5).Attack.mean()\n",
        "print(result)"
      ],
      "metadata": {
        "colab": {
          "base_uri": "https://localhost:8080/"
        },
        "id": "YzflxO59G-_k",
        "outputId": "ccfed480-c82e-4805-e116-2e829f37de1b"
      },
      "execution_count": 41,
      "outputs": [
        {
          "output_type": "stream",
          "name": "stdout",
          "text": [
            "157.23333333333332\n"
          ]
        }
      ]
    },
    {
      "cell_type": "code",
      "source": [
        "# 가장 흔하게 발견되는 (Type1 , Type2) 의 쌍은 무엇인가?\n",
        "\n",
        "result = df[['Type 1', 'Type 2']].value_counts().index[0]\n",
        "print(result)"
      ],
      "metadata": {
        "colab": {
          "base_uri": "https://localhost:8080/"
        },
        "id": "v0-Uc3u6HCHT",
        "outputId": "960cb61b-33bf-4025-ba92-2b0bf96a9312"
      },
      "execution_count": 42,
      "outputs": [
        {
          "output_type": "stream",
          "name": "stdout",
          "text": [
            "('Normal', 'Flying')\n"
          ]
        }
      ]
    },
    {
      "cell_type": "code",
      "source": [
        "# 한번씩만 존재하는 (Type1 , Type2)의 쌍의 갯수는 몇개인가?\n",
        "\n",
        "result = df[['Type 1', 'Type 2']].value_counts()\n",
        "result = len(result[result==1])\n",
        "print(result)"
      ],
      "metadata": {
        "colab": {
          "base_uri": "https://localhost:8080/"
        },
        "id": "soRTwHliHEIW",
        "outputId": "51f3e9f6-9afa-4e53-a205-0a4d35422234"
      },
      "execution_count": 43,
      "outputs": [
        {
          "output_type": "stream",
          "name": "stdout",
          "text": [
            "39\n"
          ]
        }
      ]
    },
    {
      "cell_type": "code",
      "source": [
        "import pandas as pd\n",
        "df =pd.read_csv('https://raw.githubusercontent.com/Datamanim/datarepo/main/body/body.csv')"
      ],
      "metadata": {
        "id": "vIelUWIgHIdd"
      },
      "execution_count": 55,
      "outputs": []
    },
    {
      "cell_type": "code",
      "source": [
        "# 전체데이터의 수축기혈압(최고) - 이완기혈압(최저)의 평균을 구하여라\n",
        "\n",
        "result = (df['수축기혈압(최고) : mmHg'] - df['이완기혈압(최저) : mmHg']).mean()\n",
        "print(result)"
      ],
      "metadata": {
        "colab": {
          "base_uri": "https://localhost:8080/"
        },
        "id": "NF01fQMeDgBR",
        "outputId": "c4d5e285-609b-4cc0-e7cf-a434fae0ffb5"
      },
      "execution_count": 56,
      "outputs": [
        {
          "output_type": "stream",
          "name": "stdout",
          "text": [
            "52.19539414750672\n"
          ]
        }
      ]
    },
    {
      "cell_type": "code",
      "source": [
        "# 50~59세의 신장평균을 구하여라\n",
        "\n",
        "result = df[(df.측정나이 < 60)&(df.측정나이 >= 50)]['신장 : cm'].mean()\n",
        "print(result)"
      ],
      "metadata": {
        "colab": {
          "base_uri": "https://localhost:8080/"
        },
        "id": "TtFliob6DgEG",
        "outputId": "cbcc33c6-46fa-4e4e-af26-95d19e295ab6"
      },
      "execution_count": 64,
      "outputs": [
        {
          "output_type": "stream",
          "name": "stdout",
          "text": [
            "164.07490107405314\n"
          ]
        }
      ]
    },
    {
      "cell_type": "code",
      "source": [
        "# 연령대 (20~29 : 20대 …) 별 인원수를 구하여라\n",
        "\n",
        "df['연령대'] = df['측정나이']//10*10\n",
        "result = df['연령대'].value_counts()\n",
        "print(result)"
      ],
      "metadata": {
        "colab": {
          "base_uri": "https://localhost:8080/"
        },
        "id": "NXFerwXRDgHD",
        "outputId": "fdda9dd0-c6f3-4450-9508-d811ea691d4b"
      },
      "execution_count": 65,
      "outputs": [
        {
          "output_type": "stream",
          "name": "stdout",
          "text": [
            "연령대\n",
            "20.0    5831\n",
            "30.0    2660\n",
            "40.0    1801\n",
            "50.0    1769\n",
            "60.0    1335\n",
            "Name: count, dtype: int64\n"
          ]
        }
      ]
    },
    {
      "cell_type": "code",
      "source": [
        "# 연령대 (20~29 : 20대 …) 별 등급의 숫자를 데이터 프레임으로 표현하라\n",
        "\n",
        "df['연령대'] = df['측정나이']//10*10\n",
        "result = df.groupby(['연령대','등급'],as_index=False).size()\n",
        "print(result)"
      ],
      "metadata": {
        "colab": {
          "base_uri": "https://localhost:8080/"
        },
        "id": "FDqqaqz5DgJw",
        "outputId": "32f51d9e-ed16-4f14-cce3-f2677fdd5add"
      },
      "execution_count": 66,
      "outputs": [
        {
          "output_type": "stream",
          "name": "stdout",
          "text": [
            "     연령대 등급  size\n",
            "0   20.0  A  1585\n",
            "1   20.0  B  1443\n",
            "2   20.0  C  1455\n",
            "3   20.0  D  1348\n",
            "4   30.0  A   743\n",
            "5   30.0  B   697\n",
            "6   30.0  C   626\n",
            "7   30.0  D   594\n",
            "8   40.0  A   386\n",
            "9   40.0  B   428\n",
            "10  40.0  C   455\n",
            "11  40.0  D   532\n",
            "12  50.0  A   321\n",
            "13  50.0  B   410\n",
            "14  50.0  C   474\n",
            "15  50.0  D   564\n",
            "16  60.0  A   314\n",
            "17  60.0  B   371\n",
            "18  60.0  C   339\n",
            "19  60.0  D   311\n"
          ]
        }
      ]
    },
    {
      "cell_type": "code",
      "source": [
        "# 남성 중 A등급과 D등급의 체지방률 평균의 차이(큰 값에서 작은 값의 차)를 구하여라\n",
        "\n",
        "result = abs(df[(df.측정회원성별 == 'M')&(df.등급 == 'A')].iloc[:,4].mean() - df[(df.측정회원성별 == 'M')&(df.등급 == 'D')].iloc[:,4].mean())\n",
        "print(result)"
      ],
      "metadata": {
        "colab": {
          "base_uri": "https://localhost:8080/"
        },
        "id": "4XOcJVa6DgMX",
        "outputId": "f3d06208-9b68-4ccb-bb60-ed3bf6bf3092"
      },
      "execution_count": 71,
      "outputs": [
        {
          "output_type": "stream",
          "name": "stdout",
          "text": [
            "7.932086486137521\n"
          ]
        }
      ]
    },
    {
      "cell_type": "code",
      "source": [
        "# 여성 중 A등급과 D등급의 체중의 평균의 차이(큰 값에서 작은 값의 차)를 구하여라\n",
        "\n",
        "result = abs(df[(df.측정회원성별 == 'F')&(df.등급 == 'A')].iloc[:,3].mean() - df[(df.측정회원성별 == 'F')&(df.등급 == 'D')].iloc[:,3].mean())\n",
        "print(result)"
      ],
      "metadata": {
        "colab": {
          "base_uri": "https://localhost:8080/"
        },
        "id": "pG3kVKp3DgPS",
        "outputId": "422d743c-1b80-43ab-ae83-921452b9b5d1"
      },
      "execution_count": 72,
      "outputs": [
        {
          "output_type": "stream",
          "name": "stdout",
          "text": [
            "5.176211590296504\n"
          ]
        }
      ]
    },
    {
      "cell_type": "code",
      "source": [
        "# bmi는 자신의 몸무게(kg)를 키의 제곱(m)으로 나눈값이다.\n",
        "# 데이터의 bmi 를 구한 새로운 컬럼을 만들고 남성의 bmi 평균을 구하여라\n",
        "\n",
        "df['bmi'] = df['체중 : kg'] / (df['신장 : cm']/100)**2\n",
        "result = df[df.측정회원성별 == 'M'].bmi.mean()\n",
        "print(result)"
      ],
      "metadata": {
        "colab": {
          "base_uri": "https://localhost:8080/"
        },
        "id": "reuXH7b5DgSg",
        "outputId": "c8d7b914-70b1-4559-ba86-5c7d614485ec"
      },
      "execution_count": 73,
      "outputs": [
        {
          "output_type": "stream",
          "name": "stdout",
          "text": [
            "24.46134409819308\n"
          ]
        }
      ]
    },
    {
      "cell_type": "code",
      "source": [
        "# bmi보다 체지방율이 높은 사람들의 체중평균을 구하여라\n",
        "\n",
        "df['bmi'] = df['체중 : kg'] / (df['신장 : cm']/100)**2\n",
        "result = df[df.bmi < df['체지방율 : %']]['체중 : kg'].mean()\n",
        "print(result)"
      ],
      "metadata": {
        "colab": {
          "base_uri": "https://localhost:8080/"
        },
        "id": "iy9asF-lDgWj",
        "outputId": "2e89db35-fdd9-4a23-b11f-db51fb132be3"
      },
      "execution_count": 77,
      "outputs": [
        {
          "output_type": "stream",
          "name": "stdout",
          "text": [
            "61.7408806392542\n"
          ]
        }
      ]
    },
    {
      "cell_type": "code",
      "source": [
        "# 남성과 여성의 악력 평균의 차이를 구하여라\n",
        "\n",
        "result = abs(df[df.측정회원성별 == 'M']['악력D : kg'].mean()-df[df.측정회원성별 == 'F']['악력D : kg'].mean())\n",
        "print(result)"
      ],
      "metadata": {
        "colab": {
          "base_uri": "https://localhost:8080/"
        },
        "id": "SN2BLCOhDgaY",
        "outputId": "d090ff51-1c5a-4127-852d-3c131e5a7d79"
      },
      "execution_count": 78,
      "outputs": [
        {
          "output_type": "stream",
          "name": "stdout",
          "text": [
            "17.55954185047464\n"
          ]
        }
      ]
    },
    {
      "cell_type": "code",
      "source": [
        "# 남성과 여성의 교차윗몸일으키기 횟수의 평균의 차이를 구하여라\n",
        "\n",
        "result = abs(df[df.측정회원성별 == 'M']['교차윗몸일으키기 : 회'].mean()-df[df.측정회원성별 == 'F']['교차윗몸일으키기 : 회'].mean())\n",
        "print(result)"
      ],
      "metadata": {
        "colab": {
          "base_uri": "https://localhost:8080/"
        },
        "id": "mIMQxrKnDgdW",
        "outputId": "6c7c1527-e488-4f2e-9188-9bfcfe9806a2"
      },
      "execution_count": 79,
      "outputs": [
        {
          "output_type": "stream",
          "name": "stdout",
          "text": [
            "14.243156833157627\n"
          ]
        }
      ]
    },
    {
      "cell_type": "code",
      "source": [
        "import pandas as pd\n",
        "df = pd.read_csv(\"https://raw.githubusercontent.com/Datamanim/datarepo/main/weather/weather2.csv\")"
      ],
      "metadata": {
        "id": "5liOGRUSDtd8"
      },
      "execution_count": 82,
      "outputs": []
    },
    {
      "cell_type": "code",
      "source": [
        "# 여름철(6월,7월,8월) 이화동이 수영동보다 높은 기온을 가진 시간대는 몇개인가?\n",
        "\n",
        "df.time = pd.to_datetime(df.time)\n",
        "target = df.loc[df.time.dt.month.isin([6,7,8])].reset_index(drop=True)\n",
        "result = len(target.loc[target.이화동기온 > target.수영동기온])\n",
        "print(result)"
      ],
      "metadata": {
        "colab": {
          "base_uri": "https://localhost:8080/"
        },
        "id": "zew2L-ysDvKB",
        "outputId": "71e8e7e4-164f-4ded-df71-1e564137536e"
      },
      "execution_count": 86,
      "outputs": [
        {
          "output_type": "stream",
          "name": "stdout",
          "text": [
            "1415\n"
          ]
        }
      ]
    },
    {
      "cell_type": "code",
      "source": [
        "# 이화동과 수영동의 최대강수량의 시간대를 각각 구하여라\n",
        "\n",
        "result1= df.loc[df.이화동강수 == df.이화동강수.max()].time.values\n",
        "result2= df.loc[df.수영동강수 == df.수영동강수.max()].time.values\n",
        "print(result1, result2)"
      ],
      "metadata": {
        "colab": {
          "base_uri": "https://localhost:8080/"
        },
        "id": "svC9HEkxDv2b",
        "outputId": "2f4a905f-0d2c-483a-aedf-c45ccfc9eb2d"
      },
      "execution_count": 87,
      "outputs": [
        {
          "output_type": "stream",
          "name": "stdout",
          "text": [
            "['2020-09-30T09:00:00.000000000'] ['2020-07-23T12:00:00.000000000']\n"
          ]
        }
      ]
    },
    {
      "cell_type": "code",
      "source": [
        "import pandas as pd\n",
        "df = pd.read_csv(\"https://raw.githubusercontent.com/Datamanim/datarepo/main/churn/train.csv\")"
      ],
      "metadata": {
        "id": "xs6X5rjgDv6H"
      },
      "execution_count": 95,
      "outputs": []
    },
    {
      "cell_type": "code",
      "source": [
        "# 남성 이탈(Exited)이 가장 많은 국가(Geography)는 어디이고 이탈 인원은 몇명인가?\n",
        "\n",
        "result = df.loc[df.Gender == 'Male'].groupby('Geography').sum().Exited.sort_values(ascending=False).head(1)\n",
        "print(result)"
      ],
      "metadata": {
        "colab": {
          "base_uri": "https://localhost:8080/"
        },
        "id": "z5L8RlIuDv-q",
        "outputId": "2e30ca21-23cd-4d78-e590-b58ef89be2be"
      },
      "execution_count": 92,
      "outputs": [
        {
          "output_type": "stream",
          "name": "stdout",
          "text": [
            "Geography\n",
            "Germany    287\n",
            "Name: Exited, dtype: int64\n"
          ]
        }
      ]
    },
    {
      "cell_type": "code",
      "source": [
        "# 카드를 소유(HasCrCard==1)하고 있으면서\n",
        "# 활성멤버(IsActiveMember==1) 인 고객들의 평균 나이를 소숫점이하 4자리까지 구하여라?\n",
        "\n",
        "result = df[(df.HasCrCard == 1)&(df.IsActiveMember==1)].Age.mean()\n",
        "result = round(result,4)\n",
        "print(result)"
      ],
      "metadata": {
        "colab": {
          "base_uri": "https://localhost:8080/"
        },
        "id": "kwn-w0NEDwRc",
        "outputId": "dc300e7c-d851-472b-e486-96421f3b2c89"
      },
      "execution_count": 97,
      "outputs": [
        {
          "output_type": "stream",
          "name": "stdout",
          "text": [
            "39.6102\n"
          ]
        }
      ]
    },
    {
      "cell_type": "code",
      "source": [
        "# Balance 값이 중간값 이상을 가지는 고객들의 CreditScore의 표준편차를\n",
        "# 소숫점이하 3자리까지 구하여라\n",
        "\n",
        "result = df[df.Balance >= df.Balance.median()].CreditScore.std()\n",
        "print(round(result,3))"
      ],
      "metadata": {
        "colab": {
          "base_uri": "https://localhost:8080/"
        },
        "id": "qbmpSg-tDwXi",
        "outputId": "2759a8ea-804e-44af-fd71-deb46d54c017"
      },
      "execution_count": 98,
      "outputs": [
        {
          "output_type": "stream",
          "name": "stdout",
          "text": [
            "97.295\n"
          ]
        }
      ]
    },
    {
      "cell_type": "code",
      "source": [
        "import pandas as pd\n",
        "df = pd.read_csv(\"https://raw.githubusercontent.com/Datamanim/datarepo/main/smoke/train.csv\")"
      ],
      "metadata": {
        "id": "cjaXj4oFDwcf"
      },
      "execution_count": 100,
      "outputs": []
    },
    {
      "cell_type": "code",
      "source": [
        "# 수축기혈압과 이완기 혈압기 수치의 차이를 새로운 컬럼(‘혈압차’) 으로 생성하고,\n",
        "# 연령대 코드별 각 그룹 중 ‘혈압차’ 의 분산이 5번째로 큰 연령대 코드를 구하여라\n",
        "\n",
        "df['혈압차'] = df['수축기혈압'] - df['이완기혈압']\n",
        "result = df.groupby('연령대코드(5세단위)').혈압차.var().sort_values().index[-5]\n",
        "print(result)"
      ],
      "metadata": {
        "colab": {
          "base_uri": "https://localhost:8080/"
        },
        "id": "cXoCGSxGDwg3",
        "outputId": "7f843fe6-082d-4c0e-a4c0-2eb05615447b"
      },
      "execution_count": 101,
      "outputs": [
        {
          "output_type": "stream",
          "name": "stdout",
          "text": [
            "60\n"
          ]
        }
      ]
    },
    {
      "cell_type": "code",
      "source": [
        "# 비만도를 나타내는 지표인 WHtR는 허리둘레 / 키로 표현한다.\n",
        "# 일반적으로 0.58이상이면 비만으로 분류한다.\n",
        "# 데이터중 WHtR 지표상 비만인 인원의 남/여 비율을 구하여라\n",
        "\n",
        "df['비만'] = df['허리둘레'] / df['신장(5Cm단위)']\n",
        "data = df.loc[df.비만 >= 0.58].성별코드.value_counts()\n",
        "result = data['M'] / data['F']\n",
        "print(result)"
      ],
      "metadata": {
        "colab": {
          "base_uri": "https://localhost:8080/"
        },
        "id": "ZDFzqBgSDwl7",
        "outputId": "e644e841-7d83-4a88-b8a4-9f5ca8ec1d9b"
      },
      "execution_count": 102,
      "outputs": [
        {
          "output_type": "stream",
          "name": "stdout",
          "text": [
            "1.1693877551020408\n"
          ]
        }
      ]
    },
    {
      "cell_type": "code",
      "source": [
        "import pandas as pd\n",
        "df = pd.read_csv(\"https://raw.githubusercontent.com/Datamanim/datarepo/main/insurance/train.csv\")"
      ],
      "metadata": {
        "id": "4tb21NPRDwrt"
      },
      "execution_count": 1,
      "outputs": []
    },
    {
      "cell_type": "code",
      "source": [
        "# Vehicle_Age 값이 2년 이상인 사람들만 필터링 하고 그중에서\n",
        "# Annual_Premium 값이 전체 데이터의 중간값 이상인 사람들을 찾고,\n",
        "# 그들의 Vintage값의 평균을 구하여라\n",
        "\n",
        "result = df[(df['Vehicle_Age'] == '> 2 Years')&(df.Annual_Premium>df.Annual_Premium.median())].Vintage.mean()\n",
        "print(result)"
      ],
      "metadata": {
        "colab": {
          "base_uri": "https://localhost:8080/"
        },
        "id": "Z14W7fcyD-k8",
        "outputId": "b7e8d622-bb68-41d7-f22f-8798c7ffee4b"
      },
      "execution_count": 10,
      "outputs": [
        {
          "output_type": "stream",
          "name": "stdout",
          "text": [
            "154.43647182359118\n"
          ]
        }
      ]
    },
    {
      "cell_type": "code",
      "source": [
        "# vehicle_age에 따른 각 성별(gender)그룹의 Annual_Premium값의 평균을 구하여\n",
        "# 아래 테이블과 동일하게 구현하라\n",
        "\n",
        "result = df.groupby(['Vehicle_Age','Gender'],as_index=False).Annual_Premium.mean()\n",
        "result.pivot(index='Vehicle_Age', columns = 'Gender', values = 'Annual_Premium')"
      ],
      "metadata": {
        "colab": {
          "base_uri": "https://localhost:8080/",
          "height": 175
        },
        "id": "mQ0saCmlD-nQ",
        "outputId": "36a43ea8-91bf-45d7-845b-065b7c1466d3"
      },
      "execution_count": 7,
      "outputs": [
        {
          "output_type": "execute_result",
          "data": {
            "text/plain": [
              "Gender             Female          Male\n",
              "Vehicle_Age                            \n",
              "1-2 Year     30762.245001  30413.088469\n",
              "< 1 Year     29972.286702  30310.982212\n",
              "> 2 Years    36108.366374  35303.870627"
            ],
            "text/html": [
              "\n",
              "  <div id=\"df-7adc4880-b0e0-443a-9cab-0c09b256d2c6\" class=\"colab-df-container\">\n",
              "    <div>\n",
              "<style scoped>\n",
              "    .dataframe tbody tr th:only-of-type {\n",
              "        vertical-align: middle;\n",
              "    }\n",
              "\n",
              "    .dataframe tbody tr th {\n",
              "        vertical-align: top;\n",
              "    }\n",
              "\n",
              "    .dataframe thead th {\n",
              "        text-align: right;\n",
              "    }\n",
              "</style>\n",
              "<table border=\"1\" class=\"dataframe\">\n",
              "  <thead>\n",
              "    <tr style=\"text-align: right;\">\n",
              "      <th>Gender</th>\n",
              "      <th>Female</th>\n",
              "      <th>Male</th>\n",
              "    </tr>\n",
              "    <tr>\n",
              "      <th>Vehicle_Age</th>\n",
              "      <th></th>\n",
              "      <th></th>\n",
              "    </tr>\n",
              "  </thead>\n",
              "  <tbody>\n",
              "    <tr>\n",
              "      <th>1-2 Year</th>\n",
              "      <td>30762.245001</td>\n",
              "      <td>30413.088469</td>\n",
              "    </tr>\n",
              "    <tr>\n",
              "      <th>&lt; 1 Year</th>\n",
              "      <td>29972.286702</td>\n",
              "      <td>30310.982212</td>\n",
              "    </tr>\n",
              "    <tr>\n",
              "      <th>&gt; 2 Years</th>\n",
              "      <td>36108.366374</td>\n",
              "      <td>35303.870627</td>\n",
              "    </tr>\n",
              "  </tbody>\n",
              "</table>\n",
              "</div>\n",
              "    <div class=\"colab-df-buttons\">\n",
              "\n",
              "  <div class=\"colab-df-container\">\n",
              "    <button class=\"colab-df-convert\" onclick=\"convertToInteractive('df-7adc4880-b0e0-443a-9cab-0c09b256d2c6')\"\n",
              "            title=\"Convert this dataframe to an interactive table.\"\n",
              "            style=\"display:none;\">\n",
              "\n",
              "  <svg xmlns=\"http://www.w3.org/2000/svg\" height=\"24px\" viewBox=\"0 -960 960 960\">\n",
              "    <path d=\"M120-120v-720h720v720H120Zm60-500h600v-160H180v160Zm220 220h160v-160H400v160Zm0 220h160v-160H400v160ZM180-400h160v-160H180v160Zm440 0h160v-160H620v160ZM180-180h160v-160H180v160Zm440 0h160v-160H620v160Z\"/>\n",
              "  </svg>\n",
              "    </button>\n",
              "\n",
              "  <style>\n",
              "    .colab-df-container {\n",
              "      display:flex;\n",
              "      gap: 12px;\n",
              "    }\n",
              "\n",
              "    .colab-df-convert {\n",
              "      background-color: #E8F0FE;\n",
              "      border: none;\n",
              "      border-radius: 50%;\n",
              "      cursor: pointer;\n",
              "      display: none;\n",
              "      fill: #1967D2;\n",
              "      height: 32px;\n",
              "      padding: 0 0 0 0;\n",
              "      width: 32px;\n",
              "    }\n",
              "\n",
              "    .colab-df-convert:hover {\n",
              "      background-color: #E2EBFA;\n",
              "      box-shadow: 0px 1px 2px rgba(60, 64, 67, 0.3), 0px 1px 3px 1px rgba(60, 64, 67, 0.15);\n",
              "      fill: #174EA6;\n",
              "    }\n",
              "\n",
              "    .colab-df-buttons div {\n",
              "      margin-bottom: 4px;\n",
              "    }\n",
              "\n",
              "    [theme=dark] .colab-df-convert {\n",
              "      background-color: #3B4455;\n",
              "      fill: #D2E3FC;\n",
              "    }\n",
              "\n",
              "    [theme=dark] .colab-df-convert:hover {\n",
              "      background-color: #434B5C;\n",
              "      box-shadow: 0px 1px 3px 1px rgba(0, 0, 0, 0.15);\n",
              "      filter: drop-shadow(0px 1px 2px rgba(0, 0, 0, 0.3));\n",
              "      fill: #FFFFFF;\n",
              "    }\n",
              "  </style>\n",
              "\n",
              "    <script>\n",
              "      const buttonEl =\n",
              "        document.querySelector('#df-7adc4880-b0e0-443a-9cab-0c09b256d2c6 button.colab-df-convert');\n",
              "      buttonEl.style.display =\n",
              "        google.colab.kernel.accessAllowed ? 'block' : 'none';\n",
              "\n",
              "      async function convertToInteractive(key) {\n",
              "        const element = document.querySelector('#df-7adc4880-b0e0-443a-9cab-0c09b256d2c6');\n",
              "        const dataTable =\n",
              "          await google.colab.kernel.invokeFunction('convertToInteractive',\n",
              "                                                    [key], {});\n",
              "        if (!dataTable) return;\n",
              "\n",
              "        const docLinkHtml = 'Like what you see? Visit the ' +\n",
              "          '<a target=\"_blank\" href=https://colab.research.google.com/notebooks/data_table.ipynb>data table notebook</a>'\n",
              "          + ' to learn more about interactive tables.';\n",
              "        element.innerHTML = '';\n",
              "        dataTable['output_type'] = 'display_data';\n",
              "        await google.colab.output.renderOutput(dataTable, element);\n",
              "        const docLink = document.createElement('div');\n",
              "        docLink.innerHTML = docLinkHtml;\n",
              "        element.appendChild(docLink);\n",
              "      }\n",
              "    </script>\n",
              "  </div>\n",
              "\n",
              "\n",
              "<div id=\"df-66f527b9-004d-4270-97f8-da0aba561a63\">\n",
              "  <button class=\"colab-df-quickchart\" onclick=\"quickchart('df-66f527b9-004d-4270-97f8-da0aba561a63')\"\n",
              "            title=\"Suggest charts\"\n",
              "            style=\"display:none;\">\n",
              "\n",
              "<svg xmlns=\"http://www.w3.org/2000/svg\" height=\"24px\"viewBox=\"0 0 24 24\"\n",
              "     width=\"24px\">\n",
              "    <g>\n",
              "        <path d=\"M19 3H5c-1.1 0-2 .9-2 2v14c0 1.1.9 2 2 2h14c1.1 0 2-.9 2-2V5c0-1.1-.9-2-2-2zM9 17H7v-7h2v7zm4 0h-2V7h2v10zm4 0h-2v-4h2v4z\"/>\n",
              "    </g>\n",
              "</svg>\n",
              "  </button>\n",
              "\n",
              "<style>\n",
              "  .colab-df-quickchart {\n",
              "      --bg-color: #E8F0FE;\n",
              "      --fill-color: #1967D2;\n",
              "      --hover-bg-color: #E2EBFA;\n",
              "      --hover-fill-color: #174EA6;\n",
              "      --disabled-fill-color: #AAA;\n",
              "      --disabled-bg-color: #DDD;\n",
              "  }\n",
              "\n",
              "  [theme=dark] .colab-df-quickchart {\n",
              "      --bg-color: #3B4455;\n",
              "      --fill-color: #D2E3FC;\n",
              "      --hover-bg-color: #434B5C;\n",
              "      --hover-fill-color: #FFFFFF;\n",
              "      --disabled-bg-color: #3B4455;\n",
              "      --disabled-fill-color: #666;\n",
              "  }\n",
              "\n",
              "  .colab-df-quickchart {\n",
              "    background-color: var(--bg-color);\n",
              "    border: none;\n",
              "    border-radius: 50%;\n",
              "    cursor: pointer;\n",
              "    display: none;\n",
              "    fill: var(--fill-color);\n",
              "    height: 32px;\n",
              "    padding: 0;\n",
              "    width: 32px;\n",
              "  }\n",
              "\n",
              "  .colab-df-quickchart:hover {\n",
              "    background-color: var(--hover-bg-color);\n",
              "    box-shadow: 0 1px 2px rgba(60, 64, 67, 0.3), 0 1px 3px 1px rgba(60, 64, 67, 0.15);\n",
              "    fill: var(--button-hover-fill-color);\n",
              "  }\n",
              "\n",
              "  .colab-df-quickchart-complete:disabled,\n",
              "  .colab-df-quickchart-complete:disabled:hover {\n",
              "    background-color: var(--disabled-bg-color);\n",
              "    fill: var(--disabled-fill-color);\n",
              "    box-shadow: none;\n",
              "  }\n",
              "\n",
              "  .colab-df-spinner {\n",
              "    border: 2px solid var(--fill-color);\n",
              "    border-color: transparent;\n",
              "    border-bottom-color: var(--fill-color);\n",
              "    animation:\n",
              "      spin 1s steps(1) infinite;\n",
              "  }\n",
              "\n",
              "  @keyframes spin {\n",
              "    0% {\n",
              "      border-color: transparent;\n",
              "      border-bottom-color: var(--fill-color);\n",
              "      border-left-color: var(--fill-color);\n",
              "    }\n",
              "    20% {\n",
              "      border-color: transparent;\n",
              "      border-left-color: var(--fill-color);\n",
              "      border-top-color: var(--fill-color);\n",
              "    }\n",
              "    30% {\n",
              "      border-color: transparent;\n",
              "      border-left-color: var(--fill-color);\n",
              "      border-top-color: var(--fill-color);\n",
              "      border-right-color: var(--fill-color);\n",
              "    }\n",
              "    40% {\n",
              "      border-color: transparent;\n",
              "      border-right-color: var(--fill-color);\n",
              "      border-top-color: var(--fill-color);\n",
              "    }\n",
              "    60% {\n",
              "      border-color: transparent;\n",
              "      border-right-color: var(--fill-color);\n",
              "    }\n",
              "    80% {\n",
              "      border-color: transparent;\n",
              "      border-right-color: var(--fill-color);\n",
              "      border-bottom-color: var(--fill-color);\n",
              "    }\n",
              "    90% {\n",
              "      border-color: transparent;\n",
              "      border-bottom-color: var(--fill-color);\n",
              "    }\n",
              "  }\n",
              "</style>\n",
              "\n",
              "  <script>\n",
              "    async function quickchart(key) {\n",
              "      const quickchartButtonEl =\n",
              "        document.querySelector('#' + key + ' button');\n",
              "      quickchartButtonEl.disabled = true;  // To prevent multiple clicks.\n",
              "      quickchartButtonEl.classList.add('colab-df-spinner');\n",
              "      try {\n",
              "        const charts = await google.colab.kernel.invokeFunction(\n",
              "            'suggestCharts', [key], {});\n",
              "      } catch (error) {\n",
              "        console.error('Error during call to suggestCharts:', error);\n",
              "      }\n",
              "      quickchartButtonEl.classList.remove('colab-df-spinner');\n",
              "      quickchartButtonEl.classList.add('colab-df-quickchart-complete');\n",
              "    }\n",
              "    (() => {\n",
              "      let quickchartButtonEl =\n",
              "        document.querySelector('#df-66f527b9-004d-4270-97f8-da0aba561a63 button');\n",
              "      quickchartButtonEl.style.display =\n",
              "        google.colab.kernel.accessAllowed ? 'block' : 'none';\n",
              "    })();\n",
              "  </script>\n",
              "</div>\n",
              "\n",
              "    </div>\n",
              "  </div>\n"
            ],
            "application/vnd.google.colaboratory.intrinsic+json": {
              "type": "dataframe",
              "summary": "{\n  \"name\": \"result\",\n  \"rows\": 3,\n  \"fields\": [\n    {\n      \"column\": \"Vehicle_Age\",\n      \"properties\": {\n        \"dtype\": \"string\",\n        \"num_unique_values\": 3,\n        \"samples\": [\n          \"1-2 Year\",\n          \"< 1 Year\",\n          \"> 2 Years\"\n        ],\n        \"semantic_type\": \"\",\n        \"description\": \"\"\n      }\n    },\n    {\n      \"column\": \"Female\",\n      \"properties\": {\n        \"dtype\": \"number\",\n        \"std\": 3338.0763315588397,\n        \"min\": 29972.28670246281,\n        \"max\": 36108.36637362638,\n        \"num_unique_values\": 3,\n        \"samples\": [\n          30762.245001358544,\n          29972.28670246281,\n          36108.36637362638\n        ],\n        \"semantic_type\": \"\",\n        \"description\": \"\"\n      }\n    },\n    {\n      \"column\": \"Male\",\n      \"properties\": {\n        \"dtype\": \"number\",\n        \"std\": 2853.6266553325795,\n        \"min\": 30310.98221162038,\n        \"max\": 35303.87062682216,\n        \"num_unique_values\": 3,\n        \"samples\": [\n          30413.08846916457,\n          30310.98221162038,\n          35303.87062682216\n        ],\n        \"semantic_type\": \"\",\n        \"description\": \"\"\n      }\n    }\n  ]\n}"
            }
          },
          "metadata": {},
          "execution_count": 7
        }
      ]
    },
    {
      "cell_type": "code",
      "source": [
        "import pandas as pd\n",
        "df = pd.read_csv(\"https://raw.githubusercontent.com/Datamanim/datarepo/main/mobile/train.csv\")"
      ],
      "metadata": {
        "id": "BdXW7N_dD-pt"
      },
      "execution_count": 11,
      "outputs": []
    },
    {
      "cell_type": "code",
      "source": [
        "# price_range 의 각 value를 그룹핑하여\n",
        "# 각 그룹의 n_cores 의 빈도가 가장높은 value와 그 빈도수를 구하여라\n",
        "\n",
        "result = df[['price_range','n_cores']].groupby(['price_range','n_cores']).size().sort_values(ascending=False).groupby(level=0).tail(1)\n",
        "print(result)"
      ],
      "metadata": {
        "colab": {
          "base_uri": "https://localhost:8080/"
        },
        "id": "xm8rU8fGEDYu",
        "outputId": "ed8a7262-4d5b-403d-84d9-85ba2428e86b"
      },
      "execution_count": 16,
      "outputs": [
        {
          "output_type": "stream",
          "name": "stdout",
          "text": [
            "price_range  n_cores\n",
            "3            4          58\n",
            "2            1          52\n",
            "1            5          51\n",
            "0            1          49\n",
            "dtype: int64\n"
          ]
        }
      ]
    },
    {
      "cell_type": "code",
      "source": [
        "# price_range 값이 3인 그룹에서 상관관계가 2번째로 높은 두 컬럼과 그 상관계수를 구하여라\n",
        "\n",
        "c = df.loc[df['price_range'] == 3].corr().unstack().sort_values(ascending=False)\n",
        "result = c.loc[c!=0].reset_index().iloc[2]\n",
        "print(result)"
      ],
      "metadata": {
        "colab": {
          "base_uri": "https://localhost:8080/"
        },
        "id": "ZB14yLGxEDeR",
        "outputId": "ec43d4a9-77b4-40e6-a2a0-69c5bca09110"
      },
      "execution_count": 23,
      "outputs": [
        {
          "output_type": "stream",
          "name": "stdout",
          "text": [
            "level_0    dual_sim\n",
            "level_1    dual_sim\n",
            "0               1.0\n",
            "Name: 2, dtype: object\n"
          ]
        }
      ]
    },
    {
      "cell_type": "code",
      "source": [
        "import pandas as pd\n",
        "df = pd.read_csv(\"https://raw.githubusercontent.com/Datamanim/datarepo/main/airline/train.csv\")"
      ],
      "metadata": {
        "id": "dUwpg5ojJMt8"
      },
      "execution_count": 24,
      "outputs": []
    },
    {
      "cell_type": "code",
      "source": [
        "# Arrival Delay in Minutes 컬럼이 결측치인 데이터들 중\n",
        "# ‘neutral or dissatisfied’ 보다 ‘satisfied’의 수가 더 높은 Class는 어디인가?\n",
        "\n",
        "n = df['Arrival Delay in Minutes'].isna()\n",
        "result = df.loc[n].groupby(['Class','satisfaction'], as_index=False).size().pivot(index='Class', columns='satisfaction')\n",
        "result = result[result['size']['neutral or dissatisfied'] < result['size']['satisfied']]\n",
        "print(result)"
      ],
      "metadata": {
        "colab": {
          "base_uri": "https://localhost:8080/"
        },
        "id": "4zbMYaqRJMzN",
        "outputId": "875bdd15-666e-4fff-cab4-49b04f22d4f3"
      },
      "execution_count": 25,
      "outputs": [
        {
          "output_type": "stream",
          "name": "stdout",
          "text": [
            "                                size          \n",
            "satisfaction neutral or dissatisfied satisfied\n",
            "Class                                         \n",
            "Business                          36        76\n"
          ]
        }
      ]
    },
    {
      "cell_type": "code",
      "source": [
        "import pandas as pd\n",
        "df = pd.read_csv(\"https://raw.githubusercontent.com/Datamanim/datarepo/main/waters/train.csv\")"
      ],
      "metadata": {
        "id": "l78fbq49JM3A"
      },
      "execution_count": 26,
      "outputs": []
    },
    {
      "cell_type": "code",
      "source": [
        "# ph값은 상당히 많은 결측치를 포함한다.\n",
        "# 결측치를 제외한 나머지 데이터들 중 사분위값 기준 하위 25%의 값들의 평균값은?\n",
        "\n",
        "target = df['ph'].dropna()\n",
        "result = target.loc[target <= target.quantile(0.25)].mean()\n",
        "print(result)"
      ],
      "metadata": {
        "colab": {
          "base_uri": "https://localhost:8080/"
        },
        "id": "FWYA8NsNJM4p",
        "outputId": "ed17f736-6c41-4153-e62f-600c3cb8cc61"
      },
      "execution_count": 27,
      "outputs": [
        {
          "output_type": "stream",
          "name": "stdout",
          "text": [
            "5.057093462441731\n"
          ]
        }
      ]
    },
    {
      "cell_type": "code",
      "source": [
        "import pandas as pd\n",
        "df = pd.read_csv(\"https://raw.githubusercontent.com/Datamanim/datarepo/main/MedicalCost/train.csv\")"
      ],
      "metadata": {
        "id": "W5ohEKIkJNFK"
      },
      "execution_count": 28,
      "outputs": []
    },
    {
      "cell_type": "code",
      "source": [
        "# 흡연자와 비흡연자 각각 charges의 상위 10% 그룹의 평균의 차이는?\n",
        "\n",
        "high = df.loc[df.smoker == 'yes'].charges.quantile(0.9)\n",
        "high2 = df.loc[df.smoker == 'no'].charges.quantile(0.9)\n",
        "\n",
        "yes = df.loc[(df.smoker == 'yes')&(df.charges>=high)].charges.mean()\n",
        "no = df.loc[(df.smoker == 'no')&(df.charges>=high2)].charges.mean()\n",
        "\n",
        "result = yes-no\n",
        "print(result)"
      ],
      "metadata": {
        "colab": {
          "base_uri": "https://localhost:8080/"
        },
        "id": "OgZfWmU7JNJB",
        "outputId": "7afb4b45-9298-40f6-b22b-835e031a4ed5"
      },
      "execution_count": 31,
      "outputs": [
        {
          "output_type": "stream",
          "name": "stdout",
          "text": [
            "29297.954548156144\n"
          ]
        }
      ]
    },
    {
      "cell_type": "code",
      "source": [
        "import pandas as pd\n",
        "df = pd.read_csv(\"https://raw.githubusercontent.com/Datamanim/datarepo/main/kingcountyprice//train.csv\")"
      ],
      "metadata": {
        "id": "NEq6RE40JNND"
      },
      "execution_count": 32,
      "outputs": []
    },
    {
      "cell_type": "code",
      "source": [
        "# bedrooms 의 빈도가 가장 높은 값을 가지는 데이터들의\n",
        "# price의 상위 10%와 하위 10%값의 차이를 구하여라\n",
        "\n",
        "result = df.loc[df.bedrooms==df.bedrooms.value_counts().index[0]].price.quantile(0.9)-df.loc[df.bedrooms == df.bedrooms.value_counts().index[0]].price.quantile(0.1)\n",
        "print(result)"
      ],
      "metadata": {
        "colab": {
          "base_uri": "https://localhost:8080/"
        },
        "id": "Au0bS1fDJNRP",
        "outputId": "d05d9b14-0193-4f55-c22d-09197ac074a6"
      },
      "execution_count": 33,
      "outputs": [
        {
          "output_type": "stream",
          "name": "stdout",
          "text": [
            "406500.0\n"
          ]
        }
      ]
    },
    {
      "cell_type": "code",
      "source": [
        "import pandas as pd\n",
        "df = pd.read_csv(\"https://raw.githubusercontent.com/Datamanim/datarepo/main/redwine/train.csv\")"
      ],
      "metadata": {
        "id": "q9CqswFKJkff"
      },
      "execution_count": 36,
      "outputs": []
    },
    {
      "cell_type": "code",
      "source": [
        "# quality 값이 3인 그룹과 8인 데이터그룹의\n",
        "# 각 컬럼별 독립변수의 표준편차 값의 차이를 구할때 그값이 가장 큰 컬럼명을 구하여라\n",
        "\n",
        "result = (df.loc[df.quality==8].std() - df.loc[df.quality==3].std()).sort_values().index[-1]\n",
        "print(result)"
      ],
      "metadata": {
        "colab": {
          "base_uri": "https://localhost:8080/"
        },
        "id": "CBYNlr1JJkiV",
        "outputId": "78cc4fc2-7959-49ea-9d50-590288e58d15"
      },
      "execution_count": 37,
      "outputs": [
        {
          "output_type": "stream",
          "name": "stdout",
          "text": [
            "total sulfur dioxide\n"
          ]
        }
      ]
    },
    {
      "cell_type": "code",
      "source": [
        "import pandas as pd\n",
        "df = pd.read_csv(\"https://raw.githubusercontent.com/Datamanim/datarepo/main/drug/train.csv\")"
      ],
      "metadata": {
        "id": "10DcmoyEJklC"
      },
      "execution_count": 38,
      "outputs": []
    },
    {
      "cell_type": "code",
      "source": [
        "# 남성들의 연령대별 (10살씩 구분 0~9세 10~19세 …)\n",
        "# Na_to_K값의 평균값을 구해서 데이터 프레임으로 표현하여라\n",
        "\n",
        "m = df.loc[df['Sex']=='M']\n",
        "m = m.copy()\n",
        "m['Age2'] = m['Age']//10*10\n",
        "\n",
        "m['Na_to_K'] = pd.to_numeric(m['Na_to_K'],errors='coerce')\n",
        "result = m.groupby('Age2').Na_to_K.mean().to_frame()\n",
        "print(result)"
      ],
      "metadata": {
        "colab": {
          "base_uri": "https://localhost:8080/"
        },
        "id": "dtO5CjHjJknz",
        "outputId": "e9f2663d-f94f-411f-fc14-9b171e638239"
      },
      "execution_count": 39,
      "outputs": [
        {
          "output_type": "stream",
          "name": "stdout",
          "text": [
            "        Na_to_K\n",
            "Age2           \n",
            "10    13.627000\n",
            "20    18.260769\n",
            "30    15.244143\n",
            "40    13.897273\n",
            "50    14.811273\n",
            "60    14.284308\n",
            "70    11.363857\n"
          ]
        }
      ]
    },
    {
      "cell_type": "code",
      "source": [
        "import pandas as pd\n",
        "df = pd.read_csv(\"https://raw.githubusercontent.com/Datamanim/datarepo/main/muscle/train.csv\")"
      ],
      "metadata": {
        "id": "V-gx_Mb3Jkqo"
      },
      "execution_count": 40,
      "outputs": []
    },
    {
      "cell_type": "code",
      "source": [
        "# pose값에 따른 각 motion컬럼의 중간값의 가장 큰 차이를 보이는\n",
        "# motion컬럼은 어디이며 그값은?\n",
        "\n",
        "t = df.groupby('pose').median().T\n",
        "dfs = abs(t[0]-t[1]).sort_values().reset_index()\n",
        "dfs[dfs[0]==dfs[0].max()]['index'].values"
      ],
      "metadata": {
        "colab": {
          "base_uri": "https://localhost:8080/"
        },
        "id": "lwaI2qLtJktf",
        "outputId": "f06c141f-7394-4db9-d254-2feaa2c5db5a"
      },
      "execution_count": 41,
      "outputs": [
        {
          "output_type": "execute_result",
          "data": {
            "text/plain": [
              "array(['motion_54', 'motion_62'], dtype=object)"
            ]
          },
          "metadata": {},
          "execution_count": 41
        }
      ]
    },
    {
      "cell_type": "code",
      "source": [
        "import pandas as pd\n",
        "df = pd.read_csv(\"https://raw.githubusercontent.com/Datamanim/datarepo/main/hyundai/train.csv\")"
      ],
      "metadata": {
        "id": "eAU92VitJkwb"
      },
      "execution_count": 42,
      "outputs": []
    },
    {
      "cell_type": "code",
      "source": [
        "# 정보(row수)가 가장 많은 상위 3차종의 price값의 각 평균값은?\n",
        "\n",
        "df['price'] = pd.to_numeric(df['price'], errors='coerce')\n",
        "top = df['model'].value_counts().index[:3]\n",
        "top = df[df['model'].isin(top)]\n",
        "result = top.groupby('model').price.mean().to_frame()\n",
        "print(result)"
      ],
      "metadata": {
        "colab": {
          "base_uri": "https://localhost:8080/"
        },
        "id": "SkjbO2BeJkz4",
        "outputId": "494d7887-a617-42e2-ac75-7193bf3ccb3f"
      },
      "execution_count": 45,
      "outputs": [
        {
          "output_type": "stream",
          "name": "stdout",
          "text": [
            "                price\n",
            "model                \n",
            " I10      7646.137891\n",
            " I30     11651.821759\n",
            " Tucson  15805.441373\n"
          ]
        }
      ]
    },
    {
      "cell_type": "code",
      "source": [
        "import pandas as pd\n",
        "df = pd.read_csv(\"https://raw.githubusercontent.com/Datamanim/datarepo/main/diabetes/train.csv\")"
      ],
      "metadata": {
        "id": "M0Q3LOv2Jk3U"
      },
      "execution_count": 46,
      "outputs": []
    },
    {
      "cell_type": "code",
      "source": [
        "# Outcome 값에 따른 각 그룹의 각 컬럼의 평균 차이를 구하여라\n",
        "\n",
        "result = df.groupby('Outcome').mean().diff().iloc[1,:]\n",
        "print(result)"
      ],
      "metadata": {
        "colab": {
          "base_uri": "https://localhost:8080/"
        },
        "id": "mPT7uZ5EJk6i",
        "outputId": "fe669c84-b238-4ae1-a943-3aa6c2fa00ae"
      },
      "execution_count": 47,
      "outputs": [
        {
          "output_type": "stream",
          "name": "stdout",
          "text": [
            "Pregnancies                  1.574159\n",
            "Glucose                     29.943995\n",
            "BloodPressure                3.202079\n",
            "SkinThickness                2.952033\n",
            "Insulin                     33.398645\n",
            "BMI                          4.541437\n",
            "DiabetesPedigreeFunction     0.143646\n",
            "Age                          5.866939\n",
            "Name: 1, dtype: float64\n"
          ]
        }
      ]
    },
    {
      "cell_type": "code",
      "source": [
        "import pandas as pd\n",
        "df = pd.read_csv(\"https://raw.githubusercontent.com/Datamanim/datarepo/main/nflx/NFLX.csv\")"
      ],
      "metadata": {
        "id": "UrYVBHjPJ0IC"
      },
      "execution_count": 48,
      "outputs": []
    },
    {
      "cell_type": "code",
      "source": [
        "# 매년 5월달의 open가격의 평균값을 데이터 프레임으로 표현하라\n",
        "\n",
        "df['Date'] = pd.to_datetime(df['Date'])\n",
        "target = df.groupby(df['Date'].dt.strftime('%Y-%m')).mean()\n",
        "result = target.loc[target.index.str.contains('-05')].Open\n",
        "print(result)"
      ],
      "metadata": {
        "colab": {
          "base_uri": "https://localhost:8080/"
        },
        "id": "1fPdHWEuJ0Kg",
        "outputId": "98183997-2f26-4f61-dbf7-5964f1940d74"
      },
      "execution_count": 50,
      "outputs": [
        {
          "output_type": "stream",
          "name": "stdout",
          "text": [
            "Date\n",
            "2002-05      1.155833\n",
            "2003-05      1.641497\n",
            "2004-05      4.261143\n",
            "2005-05      1.951905\n",
            "2006-05      4.163571\n",
            "2007-05      3.159351\n",
            "2008-05      4.435034\n",
            "2009-05      5.790571\n",
            "2010-05     14.417071\n",
            "2011-05     34.650272\n",
            "2012-05     10.523247\n",
            "2013-05     31.936429\n",
            "2014-05     51.121292\n",
            "2015-05     85.057429\n",
            "2016-05     92.705715\n",
            "2017-05    158.255455\n",
            "2018-05    329.779541\n",
            "2019-05    359.664548\n",
            "2020-05    433.880499\n",
            "2021-05    496.923996\n",
            "Name: Open, dtype: float64\n"
          ]
        }
      ]
    },
    {
      "cell_type": "code",
      "source": [
        "pd.set_option('display.max_columns',50)\n",
        "import pandas as pd\n",
        "df = pd.read_csv(\"https://raw.githubusercontent.com/Datamanim/datarepo/main/nba/nba.csv\",encoding='latin',sep=';')"
      ],
      "metadata": {
        "id": "_ciOH345J0NL"
      },
      "execution_count": 51,
      "outputs": []
    },
    {
      "cell_type": "code",
      "source": [
        "# Tm 컬럼은 각 팀의 이름을 의미한다. TOR팀의 평균나이를 소수 4째 자리까지 구하여라\n",
        "\n",
        "result = df[df['Tm']=='TOR'].Age.mean()\n",
        "print(round(result,4))"
      ],
      "metadata": {
        "colab": {
          "base_uri": "https://localhost:8080/"
        },
        "id": "Nshp9Wl4J0P4",
        "outputId": "84f189e2-8bc2-4f9f-c810-ee4c0f959b16"
      },
      "execution_count": 52,
      "outputs": [
        {
          "output_type": "stream",
          "name": "stdout",
          "text": [
            "24.8696\n"
          ]
        }
      ]
    },
    {
      "cell_type": "code",
      "source": [
        "# Pos 컬럼은 포지션을 의미한다.\n",
        "# 전체 선수 중 최소나이대의 선수들을 필터하고 그들 중 가장 많은 포지션은 무엇인지 확인하라\n",
        "\n",
        "result = df[df.Age == df.Age.min()].Pos.value_counts().index[0]\n",
        "print(result)"
      ],
      "metadata": {
        "colab": {
          "base_uri": "https://localhost:8080/"
        },
        "id": "chaWKb55J0TO",
        "outputId": "fcccfae1-7138-4540-d35a-fa8d6373a8b2"
      },
      "execution_count": 54,
      "outputs": [
        {
          "output_type": "stream",
          "name": "stdout",
          "text": [
            "SG\n"
          ]
        }
      ]
    },
    {
      "cell_type": "code",
      "source": [
        "# 선수들의 이름은 first_name+ 공백 + last_name으로 이루어져 있다.\n",
        "# 가장 많은 first_name은 무엇이며 몇 회 발생하는지 확인하라\n",
        "\n",
        "result = df['Player'].str.split().str[0].str.lower().value_counts().head(1)\n",
        "print(result)"
      ],
      "metadata": {
        "colab": {
          "base_uri": "https://localhost:8080/"
        },
        "id": "k9uDW16SJ0WR",
        "outputId": "3901d9a2-2352-40c0-8d14-a9b57df67364"
      },
      "execution_count": 57,
      "outputs": [
        {
          "output_type": "stream",
          "name": "stdout",
          "text": [
            "Player\n",
            "justin    14\n",
            "Name: count, dtype: int64\n"
          ]
        }
      ]
    },
    {
      "cell_type": "code",
      "source": [
        "# PTS컬럼은 경기당 평균득점수 이다. 각포지션별로 경기당 평균득점수의 평균을 구하여라\n",
        "\n",
        "result = df.groupby('Pos').PTS.mean().sort_values()\n",
        "print(result)"
      ],
      "metadata": {
        "colab": {
          "base_uri": "https://localhost:8080/"
        },
        "id": "HdOQOTf6J0Ze",
        "outputId": "74956ae1-c16c-4f7c-ddb6-b491689d49b7"
      },
      "execution_count": 60,
      "outputs": [
        {
          "output_type": "stream",
          "name": "stdout",
          "text": [
            "Pos\n",
            "SF        7.270253\n",
            "SG-SF     7.360000\n",
            "C         7.690769\n",
            "PF        7.737500\n",
            "SG        7.810553\n",
            "PG        8.325161\n",
            "PF-SF     8.500000\n",
            "SF-SG     8.660000\n",
            "SG-PG     9.525000\n",
            "C-PF     12.850000\n",
            "PG-SG    22.000000\n",
            "Name: PTS, dtype: float64\n"
          ]
        }
      ]
    },
    {
      "cell_type": "code",
      "source": [
        "# G컬럼은 참여한 경기의 숫자이다.\n",
        "# 각 팀별로 가장 높은 경기참여 수를 가진 선수들의 경기 참여 숫자의 평균을 구하여라\n",
        "\n",
        "result = df.sort_values(['Tm','G']).groupby('Tm').tail(1).G.mean()\n",
        "print(result)"
      ],
      "metadata": {
        "colab": {
          "base_uri": "https://localhost:8080/"
        },
        "id": "3jjX6nx-J0c8",
        "outputId": "b4e60d10-0cb9-40de-ecf1-ad1cafe622d6"
      },
      "execution_count": 61,
      "outputs": [
        {
          "output_type": "stream",
          "name": "stdout",
          "text": [
            "77.51612903225806\n"
          ]
        }
      ]
    },
    {
      "cell_type": "code",
      "source": [
        "# Tm의 값이 MIA이며 Pos는 C또는 PF인 선수의 MP값의 평균은?\n",
        "\n",
        "result = df[(df.Tm == 'MIA')&(df.Pos.isin(['C','PF']))].MP.mean()\n",
        "print(result)"
      ],
      "metadata": {
        "colab": {
          "base_uri": "https://localhost:8080/"
        },
        "id": "0xkjRA_OJ0gh",
        "outputId": "4807d52d-d302-42b8-9093-e49adfbdca52"
      },
      "execution_count": 63,
      "outputs": [
        {
          "output_type": "stream",
          "name": "stdout",
          "text": [
            "16.7875\n"
          ]
        }
      ]
    },
    {
      "cell_type": "code",
      "source": [
        "# 전체 데이터중 G의 평균값의 1.5배 이상인 데이터들만 추출했을때 3P값의 평균은?\n",
        "\n",
        "result = df[df.G > df.G.mean()*1.5]['3P'].mean()\n",
        "print(result)"
      ],
      "metadata": {
        "colab": {
          "base_uri": "https://localhost:8080/"
        },
        "id": "MXgOTVY2J0js",
        "outputId": "a392def0-075c-4398-cf21-334993e72e01"
      },
      "execution_count": 65,
      "outputs": [
        {
          "output_type": "stream",
          "name": "stdout",
          "text": [
            "1.3853658536585365\n"
          ]
        }
      ]
    },
    {
      "cell_type": "code",
      "source": [
        "# Age의 평균 이상인 그룹과 평균 미만인 그룹간의 G값의 평균의 차이는?\n",
        "\n",
        "up = df[df.Age >= df.Age.mean()].G.mean()\n",
        "down = df[df.Age < df.Age.mean()].G.mean()\n",
        "\n",
        "result = up - down\n",
        "print(result)"
      ],
      "metadata": {
        "colab": {
          "base_uri": "https://localhost:8080/"
        },
        "id": "jgyCuJu-KBdz",
        "outputId": "de1d4d25-da2f-4496-83b6-50f3f946da92"
      },
      "execution_count": 66,
      "outputs": [
        {
          "output_type": "stream",
          "name": "stdout",
          "text": [
            "3.787674551781862\n"
          ]
        }
      ]
    },
    {
      "cell_type": "code",
      "source": [
        "# 평균나이가 가장 젊은 팀은 어디인가\n",
        "\n",
        "result = df.groupby('Tm')['Age'].mean().sort_values().index[0]\n",
        "print(result)"
      ],
      "metadata": {
        "colab": {
          "base_uri": "https://localhost:8080/"
        },
        "id": "Vx2bf244KBgo",
        "outputId": "6fbe9180-1c58-45a1-8a5e-e723948a6843"
      },
      "execution_count": 67,
      "outputs": [
        {
          "output_type": "stream",
          "name": "stdout",
          "text": [
            "MEM\n"
          ]
        }
      ]
    },
    {
      "cell_type": "code",
      "source": [
        "# Pos그룹별 평균 MP값을 구하여라\n",
        "\n",
        "result = df.groupby('Pos').MP.mean()\n",
        "print(result)"
      ],
      "metadata": {
        "colab": {
          "base_uri": "https://localhost:8080/"
        },
        "id": "I_zmjwOCKDt7",
        "outputId": "b598d732-696a-4f85-ea41-46c7a6f10cf1"
      },
      "execution_count": 68,
      "outputs": [
        {
          "output_type": "stream",
          "name": "stdout",
          "text": [
            "Pos\n",
            "C        16.990000\n",
            "C-PF     25.350000\n",
            "PF       17.937500\n",
            "PF-SF    27.300000\n",
            "PG       19.547742\n",
            "PG-SG    37.200000\n",
            "SF       17.514557\n",
            "SF-SG    20.340000\n",
            "SG       18.554271\n",
            "SG-PG    22.950000\n",
            "SG-SF    19.620000\n",
            "Name: MP, dtype: float64\n"
          ]
        }
      ]
    }
  ]
}