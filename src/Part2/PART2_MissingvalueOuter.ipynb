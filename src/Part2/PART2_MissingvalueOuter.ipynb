{
  "nbformat": 4,
  "nbformat_minor": 0,
  "metadata": {
    "colab": {
      "provenance": [],
      "authorship_tag": "ABX9TyMxpMNGDVFldaJnFupItzBJ",
      "include_colab_link": true
    },
    "kernelspec": {
      "name": "python3",
      "display_name": "Python 3"
    },
    "language_info": {
      "name": "python"
    }
  },
  "cells": [
    {
      "cell_type": "markdown",
      "metadata": {
        "id": "view-in-github",
        "colab_type": "text"
      },
      "source": [
        "<a href=\"https://colab.research.google.com/github/xxoznge/Bigdata_Analyst_Certificate_Korean/blob/main/PART2_MissingvalueOuter.ipynb\" target=\"_parent\"><img src=\"https://colab.research.google.com/assets/colab-badge.svg\" alt=\"Open In Colab\"/></a>"
      ]
    },
    {
      "cell_type": "code",
      "execution_count": 2,
      "metadata": {
        "id": "PxLtAnjSxfkh"
      },
      "outputs": [],
      "source": [
        "# 5. 결측치와 이상치\n",
        "\n",
        "import pandas as pd"
      ]
    },
    {
      "cell_type": "code",
      "source": [
        "# 5-1. 결측치"
      ],
      "metadata": {
        "id": "HIslqTq6xm5y"
      },
      "execution_count": null,
      "outputs": []
    },
    {
      "cell_type": "code",
      "source": [
        "# 1. 결측치 인식\n",
        "\n",
        "obj = {'student_id' : ['s1', 's2', 's3', 's4', 's5', 's6'],\n",
        "       'score' : [55, 90, 85, 10, 88, 99],\n",
        "       'math_score' : [55, 90, 85, 71, 63, 99],\n",
        "       'sex' : ['f', 'f', 'f', 'm', 'm', 'm'],\n",
        "       'pre_level' : ['B', 'A', 'B', 'B', 'C', None]\n",
        "       }\n",
        "df = pd.DataFrame(obj)\n",
        "\n",
        "print(df.isnull())\n",
        "print(df.isna())\n",
        "print(df.isnull().sum())\n",
        "print(df.isnull().sum(axis=1))"
      ],
      "metadata": {
        "colab": {
          "base_uri": "https://localhost:8080/"
        },
        "id": "NZ12E7EexpQj",
        "outputId": "45cf7a01-4d33-4250-bb6f-fd88df79c071"
      },
      "execution_count": 15,
      "outputs": [
        {
          "output_type": "stream",
          "name": "stdout",
          "text": [
            "   student_id  score  math_score    sex  pre_level\n",
            "0       False  False       False  False      False\n",
            "1       False  False       False  False      False\n",
            "2       False  False       False  False      False\n",
            "3       False  False       False  False      False\n",
            "4       False  False       False  False      False\n",
            "5       False  False       False  False       True\n",
            "   student_id  score  math_score    sex  pre_level\n",
            "0       False  False       False  False      False\n",
            "1       False  False       False  False      False\n",
            "2       False  False       False  False      False\n",
            "3       False  False       False  False      False\n",
            "4       False  False       False  False      False\n",
            "5       False  False       False  False       True\n",
            "student_id    0\n",
            "score         0\n",
            "math_score    0\n",
            "sex           0\n",
            "pre_level     1\n",
            "dtype: int64\n",
            "0    0\n",
            "1    0\n",
            "2    0\n",
            "3    0\n",
            "4    0\n",
            "5    1\n",
            "dtype: int64\n"
          ]
        }
      ]
    },
    {
      "cell_type": "code",
      "source": [
        "# 2. 결측치 처리\n",
        "\n",
        "print(df.dropna())\n",
        "print(df.dropna(axis=1))\n",
        "\n",
        "# 선택한 컬럼에서 결측인 요소 제거\n",
        "print(df['score'].dropna())\n",
        "print(df[['score', 'math_score']].dropna())\n",
        "\n",
        "# 숫자형 컬럼만 추출\n",
        "df1 = df['score'].copy()\n",
        "print(df1)\n",
        "\n",
        "# 결측치 0으로\n",
        "print(df1.fillna(0))\n",
        "\n",
        "# 결측치를 평균으로 대치\n",
        "print(df1.fillna(df1.mean()))"
      ],
      "metadata": {
        "colab": {
          "base_uri": "https://localhost:8080/"
        },
        "id": "e4rc_V7cErBQ",
        "outputId": "024d5af4-5fcb-414b-8f1e-deeb173508bc"
      },
      "execution_count": 7,
      "outputs": [
        {
          "output_type": "stream",
          "name": "stdout",
          "text": [
            "  student_id  score  math_score sex pre_level\n",
            "0         s1   55.0          55   f         B\n",
            "1         s2   90.0          90   f         A\n",
            "2         s3   85.0          85   f         B\n",
            "3         s4   71.0          71   m         B\n",
            "4         s5   63.0          63   m         C\n",
            "  student_id  math_score sex\n",
            "0         s1          55   f\n",
            "1         s2          90   f\n",
            "2         s3          85   f\n",
            "3         s4          71   m\n",
            "4         s5          63   m\n",
            "5         s6          99   m\n",
            "0    55.0\n",
            "1    90.0\n",
            "2    85.0\n",
            "3    71.0\n",
            "4    63.0\n",
            "Name: score, dtype: float64\n",
            "   score  math_score\n",
            "0   55.0          55\n",
            "1   90.0          90\n",
            "2   85.0          85\n",
            "3   71.0          71\n",
            "4   63.0          63\n",
            "0    55.0\n",
            "1    90.0\n",
            "2    85.0\n",
            "3    71.0\n",
            "4    63.0\n",
            "5     NaN\n",
            "Name: score, dtype: float64\n",
            "0    55.0\n",
            "1    90.0\n",
            "2    85.0\n",
            "3    71.0\n",
            "4    63.0\n",
            "5     0.0\n",
            "Name: score, dtype: float64\n",
            "0    55.0\n",
            "1    90.0\n",
            "2    85.0\n",
            "3    71.0\n",
            "4    63.0\n",
            "5    72.8\n",
            "Name: score, dtype: float64\n"
          ]
        }
      ]
    },
    {
      "cell_type": "code",
      "source": [
        "# 5-2. 이상치"
      ],
      "metadata": {
        "id": "10abblOpFwZE"
      },
      "execution_count": null,
      "outputs": []
    },
    {
      "cell_type": "code",
      "source": [
        "# 1. 이상치 인식과 제거\n",
        "\n",
        "# 사분위수를 이용하여 한 컬럼에 대해 이상치 판별하고 행 제거\n",
        "\n",
        "q1 = df['score'].quantile(0.25)\n",
        "q3 = df['score'].quantile(0.75)\n",
        "\n",
        "iqr = q3 - q1\n",
        "lower = q1 - 1.5*iqr\n",
        "upper = q3 + 1.5*iqr\n",
        "\n",
        "print(df[(df['score'] < lower) | (df['score'] > upper)])\n",
        "\n",
        "print(df[(df['score'] < lower) & (df['score'] > upper)])"
      ],
      "metadata": {
        "colab": {
          "base_uri": "https://localhost:8080/"
        },
        "id": "n2OQxZxPFzGn",
        "outputId": "0e42d84a-a877-4416-8353-c48d4bca4612"
      },
      "execution_count": 16,
      "outputs": [
        {
          "output_type": "stream",
          "name": "stdout",
          "text": [
            "  student_id  score  math_score sex pre_level\n",
            "3         s4     10          71   m         B\n",
            "Empty DataFrame\n",
            "Columns: [student_id, score, math_score, sex, pre_level]\n",
            "Index: []\n"
          ]
        }
      ]
    }
  ]
}